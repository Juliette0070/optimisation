{
 "cells": [
  {
   "attachments": {},
   "cell_type": "markdown",
   "id": "organizational-termination",
   "metadata": {},
   "source": [
    "# Opérations mathématiques sur les tableaux NumPy"
   ]
  },
  {
   "attachments": {},
   "cell_type": "markdown",
   "id": "750bd6b5",
   "metadata": {},
   "source": [
    "## A. Compléments sur les tableaux NumPy"
   ]
  },
  {
   "attachments": {},
   "cell_type": "markdown",
   "id": "03cb81f2",
   "metadata": {},
   "source": [
    "Voici quelques méthodes bien utiles dans la manipulation de tableaux NumPy.\n",
    "\n",
    "Soit $M$ une matrice NumPy de *shape* `(n, m)`:\n",
    "\n",
    "- `M.ravel()` **retourne** (sans modifier `M`) le tableau \"aplati\" (vecteur) de *shape* `(n+m, 1)` (ou plus simplement `(n+m,)`)\n",
    "\n",
    "\n",
    "- `M.sum([axis])` **retourne** le scalaire ou tableau contenant la/les somme(s) des éléments [selon l'axe `axis`]:\n",
    "    \n",
    "    - `M.sum()` pour faire la somme de tous les élémnts de $M$ (scalaire)\n",
    "\n",
    "    - `M.sum(axis=0)` pour faire la somme des colonnes (vecteur de *shape* `(m,)`)\n",
    "    \n",
    "    - `M.sum(axis=1)` pour faire la somme des lignes (vecteur de *shape* `(n,)`)\n",
    "\n",
    "- `M.prod([axis])` **retourne** le scalaire ou tableau contenant le(s) produit(s) des éléments [selon l'axe `axis`]\n",
    "\n",
    "- `M.mean([axis])` **retourne** le scalaire ou tableau contenant la/les moyenne(s) des éléments [selon l'axe `axis`]\n",
    "\n",
    "- `M.min([axis])` **retourne** le scalaire ou tableau contenant le(s) minimum(s) des éléments [selon l'axe `axis`] (idem pour `M.max([axis])`)\n",
    "\n",
    "- `M.argmin([axis])` **retourne** le scalaire ou tableau contenant le/les indice(s) du (premier) minimum des éléments [selon l'axe `axis`] (idem pour `M.argmax([axis])`)\n",
    "\n",
    "- `M.sort(axis=-1)`**retourne** le tableau $M$ trié selon l'axe `axis` (par défaut selon la dernière dimension) :\n",
    "\n",
    "    - `M.sort()` (ou `M.sort(axis=1)` ou `M.sort(axis=-1)`) pour trier les éléments de chaque ligne\n",
    "    \n",
    "    - `M.sort(axis=0)` pour trier les éléments de chaque colonne\n",
    "\n",
    "- `M.argsort(axis=-1)`**retourne** le tableau (même *shape* que $M$) des indices des éléments triés selon l'axe `axis` (par défaut selon la dernière dimension)\n"
   ]
  },
  {
   "attachments": {},
   "cell_type": "markdown",
   "id": "7ab0161c",
   "metadata": {},
   "source": [
    "Commencez par tester chacune de ces méthodes sur une matrice $M$ `(3, 4)` composée d'entiers tirés aléatoirement dans $\\{0,9\\}$ :"
   ]
  },
  {
   "cell_type": "code",
   "execution_count": null,
   "id": "94899263",
   "metadata": {},
   "outputs": [],
   "source": [
    "import numpy as np\n",
    "M = np.random.randint(0,10, (3,4))\n",
    "print(M)"
   ]
  },
  {
   "attachments": {},
   "cell_type": "markdown",
   "id": "c593efa8",
   "metadata": {},
   "source": [
    "### Exercice 1 : encore des notes...\n",
    "\n",
    "Soit `N` un tableau `(10, 6)` composé des notes simulées de 10 étudiants à chacune des 6 compétences du BUT Informatique pour le semestre 3."
   ]
  },
  {
   "cell_type": "code",
   "execution_count": null,
   "id": "2258e18d",
   "metadata": {},
   "outputs": [],
   "source": [
    "N = np.array([[13.3, 16., 13.4, 3.4, 8.6, 8.9],\n",
    " [13.4, 15.4, 18.2, 18.9, 16.6, 10.2],\n",
    " [4.2, 14.2, 1.8, 7.3, 18., 6.6],\n",
    " [9.5, 11.9, 1., 14., 14.3, 9.7],\n",
    " [13.9, 13.9, 12.,  3.5, 7.2, 6.8],\n",
    " [2.5, 16.2, 10.9, 0.3, 4.3, 14.],\n",
    " [8.7, 7.6, 4.2, 11.5, 5.4, 2.4],\n",
    " [9.1, 10.8, 14.2, 8.1, 6.5, 7.2],\n",
    " [13.7, 9.1, 14.2, 7.8, 16.5, 9.],\n",
    " [12.3, 17., 9.9, 8.5, 11.4, 4.8]])"
   ]
  },
  {
   "attachments": {},
   "cell_type": "markdown",
   "id": "1586703a",
   "metadata": {},
   "source": [
    "\n",
    "Pour chaque question ci-après, proposez une (séquence d') instruction(s) permettant d'y répondre."
   ]
  },
  {
   "attachments": {},
   "cell_type": "markdown",
   "id": "c3976a84",
   "metadata": {},
   "source": [
    "1. Quelle est la moyenne générale de chaque étudiant?"
   ]
  },
  {
   "cell_type": "code",
   "execution_count": null,
   "id": "8bd0822f",
   "metadata": {},
   "outputs": [],
   "source": []
  },
  {
   "attachments": {},
   "cell_type": "markdown",
   "id": "60dcba58",
   "metadata": {},
   "source": [
    "2. Quelle est la moyenne du meilleur étudiant?"
   ]
  },
  {
   "cell_type": "code",
   "execution_count": null,
   "id": "38b603d3",
   "metadata": {},
   "outputs": [],
   "source": []
  },
  {
   "attachments": {},
   "cell_type": "markdown",
   "id": "4a72b352",
   "metadata": {},
   "source": [
    "3. Quel est le numéro du meilleur étudiant?"
   ]
  },
  {
   "cell_type": "code",
   "execution_count": null,
   "id": "ae488d57",
   "metadata": {},
   "outputs": [],
   "source": []
  },
  {
   "attachments": {},
   "cell_type": "markdown",
   "id": "c8173b38",
   "metadata": {},
   "source": [
    "4. Quel est le classement des étudiants?"
   ]
  },
  {
   "cell_type": "code",
   "execution_count": null,
   "id": "3f0b24d3",
   "metadata": {},
   "outputs": [],
   "source": []
  },
  {
   "attachments": {},
   "cell_type": "markdown",
   "id": "66b2334d",
   "metadata": {},
   "source": [
    "Voici la liste des noms des compétences :"
   ]
  },
  {
   "cell_type": "code",
   "execution_count": null,
   "id": "46bc778c",
   "metadata": {},
   "outputs": [],
   "source": [
    "competences = np.array([\"Réaliser un développement d'application\",\n",
    "               \"Optimiser des applications informatiques\",\n",
    "               \"Administrer des systèmes informatiques communicants complexes\",\n",
    "               \"Gérer des données de l'information\",\n",
    "               \"Conduire un projet\",\n",
    "               \"Travailler dans une équipe informatique\"])"
   ]
  },
  {
   "attachments": {},
   "cell_type": "markdown",
   "id": "fcc1133f",
   "metadata": {},
   "source": [
    "5. Quelle est (le nom de) la compétence la moins bien réussie?"
   ]
  },
  {
   "cell_type": "code",
   "execution_count": null,
   "id": "2bfe3c11",
   "metadata": {},
   "outputs": [],
   "source": []
  },
  {
   "attachments": {},
   "cell_type": "markdown",
   "id": "4df5d57d",
   "metadata": {},
   "source": [
    "6. Affichez les (noms des) compétences par ordre de réussite décroissante?"
   ]
  },
  {
   "cell_type": "code",
   "execution_count": null,
   "id": "e95fb4a9",
   "metadata": {},
   "outputs": [],
   "source": []
  },
  {
   "attachments": {},
   "cell_type": "markdown",
   "id": "3c794a93",
   "metadata": {},
   "source": [
    "7. Quels sont les numéros des étudiants ayant validé toutes les compétences au semestre? (moyenne>10)\n",
    "\n",
    "NB. la fonction [`numpy.where(`*condition*`)`](https://numpy.org/doc/stable/reference/generated/numpy.where.html#numpy.where) vous sera utile pour cette question."
   ]
  },
  {
   "cell_type": "code",
   "execution_count": null,
   "id": "335e6cb7",
   "metadata": {},
   "outputs": [],
   "source": []
  },
  {
   "attachments": {},
   "cell_type": "markdown",
   "id": "b7350a14",
   "metadata": {},
   "source": [
    "Au delà des méthodes propres aux objets `ndarray`, NumPy offre une multitude de [routines mathématiques](https://numpy.org/doc/stable/reference/routines.math.html).\n",
    "\n",
    "Par exemple, pour appliquer la fonction exponentielle sur chaque élément d'une matrice $M$ on écrira `np.exp(M)` (et non `M.exp()` car `exp()` n'est pas une méthode définie sur les objets `ndarray`).\n",
    "\n",
    "Entraînez-vous à utiliser ces routines sur votre tableau de notes."
   ]
  },
  {
   "cell_type": "code",
   "execution_count": null,
   "id": "344dfcb0",
   "metadata": {},
   "outputs": [],
   "source": []
  },
  {
   "attachments": {},
   "cell_type": "markdown",
   "id": "b28faeb0",
   "metadata": {},
   "source": [
    "---"
   ]
  },
  {
   "attachments": {},
   "cell_type": "markdown",
   "id": "2a78085c",
   "metadata": {},
   "source": [
    "## B. NumPy : Vectorisation et Broadcasting"
   ]
  },
  {
   "attachments": {},
   "cell_type": "markdown",
   "id": "74573b22",
   "metadata": {},
   "source": [
    "La **<font color='red'>Vectorisation</font>** est un principe de calcul essentiel proposé par la librairie NumPy. Il vous permet de réaliser une opération sur chaque élément d'un tableau NumPy sans écrire de boucle Python. La vectorisation présente un double avantage :\n",
    "\n",
    "- une **<font color='red'>simplification</font>** considérable de votre code\n",
    "\n",
    "- une **<font color='red'>efficacité</font>** remarquable (code C optimisé)\n",
    "\n",
    "Pour vous faire découvrir l'intérêt de la vectorisation, commencez par écrire (avec des boucles) une fonction Python qui somme terme à terme deux matrices de mêmes tailles : "
   ]
  },
  {
   "cell_type": "code",
   "execution_count": null,
   "id": "76c0cc9c",
   "metadata": {},
   "outputs": [],
   "source": [
    "def somme(M1, M2):\n",
    "    ..."
   ]
  },
  {
   "attachments": {},
   "cell_type": "markdown",
   "id": "160a85b0",
   "metadata": {},
   "source": [
    "A l'aide du code ci-après, mesurez le temps d'exécution de votre fonction `somme(M1, M2)` sur des matrices aléatoires de tailles $(10,000 \\times 10,000)$"
   ]
  },
  {
   "cell_type": "code",
   "execution_count": null,
   "id": "506b4a82",
   "metadata": {},
   "outputs": [],
   "source": [
    "import time\n",
    "debut = time.time()\n",
    "\n",
    "# votre code ici\n",
    "\n",
    "fin = time.time()\n",
    "print(\"Temps d'exécution :\", fin-debut)"
   ]
  },
  {
   "attachments": {},
   "cell_type": "markdown",
   "id": "3409cbc1",
   "metadata": {},
   "source": [
    "Remplacez l'appel `somme(M1, M2)` par l'opération NumPy `M1 + M2` et comparez. Alors...??? Simple et efficace!\n",
    "\n"
   ]
  },
  {
   "attachments": {},
   "cell_type": "markdown",
   "id": "2832bb17",
   "metadata": {},
   "source": [
    "Le principe de vectorisation vous permet donc d'additionner, soustraitre, multiplier, etc. deux tableaux NumPy **de mêmes tailles** en réalisant l'opération terme à terme :\n",
    "\n",
    "- sur des vecteurs <img src=\"images/vectorisation_vecteurs.jpg\" alt=\"Somme terme à terme de 2 vecteurs\" height=\"150\" style=\"display: block; margin: 0 auto\"/>\n",
    "\n",
    "- sur des matrices <img src=\"images/vectorisation_matrices.jpg\" alt=\"Somme terme à terme de 2 matrices\" height=\"150\" style=\"display: block; margin: 0 auto\"/>\n",
    "\n",
    "\n",
    "- sur des tenseurs <img src=\"images/vectorisation_tenseurs.jpg\" alt=\"Somme terme à terme de 2 tenseurs\" height=\"150\" style=\"display: block; margin: 0 auto\"/> "
   ]
  },
  {
   "attachments": {},
   "cell_type": "markdown",
   "id": "401576dc",
   "metadata": {},
   "source": [
    "### Exercice 2 : les années bissextiles... encore!\n",
    "\n",
    "En fait, vous avez (sans doutes) déjà utilisé le principe de vectorisation dans le TP précédent. Reprenez votre solution à l'exerice 3 du TP1 et identifiez les opérations mettant en oeuvre le principe de vectorisation."
   ]
  },
  {
   "attachments": {},
   "cell_type": "markdown",
   "id": "fad1c181",
   "metadata": {},
   "source": [
    "Remarquez enfin qu'il est également possible d'appliquer ce principe sur des tableaux (NumPy) qui cette fois ne sont pas toujours de mêmes tailles. Par exemple dans la construction de masques pour l'indexation booléenne :"
   ]
  },
  {
   "cell_type": "code",
   "execution_count": null,
   "id": "c0c46f38",
   "metadata": {},
   "outputs": [],
   "source": [
    "t = np.random.randint(0, 10, (5,))\n",
    "print(t)\n",
    "masque = t > 5\n",
    "t[masque]  # renvoie le sous-tableau des valeurs satisfaisant au masque"
   ]
  },
  {
   "attachments": {},
   "cell_type": "markdown",
   "id": "6ce4dcfe",
   "metadata": {},
   "source": [
    "Dans cet exemple, l'opération `t > 5` ressemble à de la vectorisation entre un tableau `t` de dimension $(5,)$ et un scalaire (simple valeur numérique). En effet, l'opération `> 5` est bien réalisée sur chaque élément du tableau `t`.\n",
    "\n",
    "C'est le principe de **<font color='red'>Broadcasting</font>** qui est utilisé ici pour réaliser une opération sur des tableaux NumPy de tailles différentes. Mais attention, pour qu'une telle opération puisse être réalisée, **<font color='red'>les tableaux doivent avoir des tailles COMPATIBLES!</font>**\n",
    "\n",
    "Essayons d'identifier ensemble ce que l'on entend par \"tailles compatibles\"..."
   ]
  },
  {
   "attachments": {},
   "cell_type": "markdown",
   "id": "b8c73062",
   "metadata": {},
   "source": [
    "### Exercice 3 : les dimensions compatibles pour le Broadcasting"
   ]
  },
  {
   "attachments": {},
   "cell_type": "markdown",
   "id": "a64ff442",
   "metadata": {},
   "source": [
    "Pour chaque opération ci-après, essayez de deviner d'abord si l'opération sera permise (tailles compatibles) puis le résultat de l'opération."
   ]
  },
  {
   "cell_type": "code",
   "execution_count": null,
   "id": "1ccaeaed",
   "metadata": {},
   "outputs": [],
   "source": [
    "A = np.arange(0, 6).reshape((3,2))\n",
    "B = np.arange(1, 7).reshape((3,2))\n",
    "print(\"A =\\n\", A)\n",
    "print(\"B =\\n\", B)\n",
    "print(\"A + B =\\n\", A + B)"
   ]
  },
  {
   "cell_type": "code",
   "execution_count": null,
   "id": "8e70ecb9",
   "metadata": {},
   "outputs": [],
   "source": [
    "A = np.arange(0, 6).reshape((3,2))\n",
    "B = np.arange(1, 7).reshape((2,3))\n",
    "print(\"A =\\n\", A)\n",
    "print(\"B =\\n\", B)\n",
    "print(\"A + B =\\n\", A + B)"
   ]
  },
  {
   "cell_type": "code",
   "execution_count": null,
   "id": "d23478ba",
   "metadata": {},
   "outputs": [],
   "source": [
    "A = np.arange(0, 6).reshape((3,2))\n",
    "B = np.arange(1, 2).reshape((1,1))\n",
    "print(\"A =\\n\", A)\n",
    "print(\"B =\\n\", B)\n",
    "print(\"A + B =\\n\", A + B)"
   ]
  },
  {
   "cell_type": "code",
   "execution_count": null,
   "id": "576037d9",
   "metadata": {},
   "outputs": [],
   "source": [
    "A = np.arange(0, 6).reshape((3,2))\n",
    "B = np.arange(1, 4).reshape((3,1))\n",
    "print(\"A =\\n\", A)\n",
    "print(\"B =\\n\", B)\n",
    "print(\"A + B =\\n\", A + B)"
   ]
  },
  {
   "cell_type": "code",
   "execution_count": null,
   "id": "c9e8ce9a",
   "metadata": {},
   "outputs": [],
   "source": [
    "A = np.arange(0, 6).reshape((3,2))\n",
    "B = np.arange(1, 3).reshape((2,1))\n",
    "print(\"A =\\n\", A)\n",
    "print(\"B =\\n\", B)\n",
    "print(\"A + B =\\n\", A + B)"
   ]
  },
  {
   "cell_type": "code",
   "execution_count": null,
   "id": "0eb84844",
   "metadata": {},
   "outputs": [],
   "source": [
    "A = np.arange(0, 6).reshape((3,2))\n",
    "B = np.arange(1, 3).reshape((1,2))\n",
    "print(\"A =\\n\", A)\n",
    "print(\"B =\\n\", B)\n",
    "print(\"A + B =\\n\", A + B)"
   ]
  },
  {
   "cell_type": "code",
   "execution_count": null,
   "id": "d6989269",
   "metadata": {},
   "outputs": [],
   "source": [
    "A = np.arange(0, 3).reshape((3,1))\n",
    "B = np.arange(1, 3).reshape((1,2))\n",
    "print(\"A =\\n\", A)\n",
    "print(\"B =\\n\", B)\n",
    "print(\"A + B =\\n\", A + B)"
   ]
  },
  {
   "attachments": {},
   "cell_type": "markdown",
   "id": "6df3aed2",
   "metadata": {},
   "source": [
    "Deux matrices $A$ et $B$ ont des tailles compatibles pour le broadcasting si elles vérifient l'une des propriétés suivantes :\n",
    "\n",
    "- $A$ et $B$ sont de mêmes tailles (elles sont superposables, on parle alors de vectorisation)\n",
    "\n",
    "- $A$ et $B$ ont le même nombre de lignes et l'une des deux matrices n'a qu'une seule colonne\n",
    "\n",
    "- $A$ et $B$ ont le même nombre de colonnes et l'une des deux matrices n'a qu'une seule ligne\n",
    "\n",
    "- l'une des matrices n'a qu'une ligne et l'autre n'a qu'une colonne\n",
    "\n",
    "\n",
    "Généralisons : deux tableaux $A$ et $B$ $n$-dimensionnels sont compatibles pour le broadcasting si $$\\forall k \\in \\{1, n\\},~ dim_k(A)\\neq dim_k(B) \\Rightarrow min\\{dim_k(A), dim_k(B)\\}=1$$\n",
    "\n",
    "Autrement dit, pour chaque axe :\n",
    "\n",
    "- soit les deux tableaux ont la même taille\n",
    "\n",
    "- soit l'un des deux est de taille de 1"
   ]
  },
  {
   "attachments": {},
   "cell_type": "markdown",
   "id": "49138883",
   "metadata": {},
   "source": [
    "### Exercice 4 : l'occasion est trop belle\n",
    "\n",
    "Ecrire une fonction `compatibles(A, B)` indiquant si deux tableaux sont compatibles pour le broadcasting"
   ]
  },
  {
   "cell_type": "code",
   "execution_count": null,
   "id": "091f2b64",
   "metadata": {},
   "outputs": [],
   "source": [
    "def compatibles(A, B):\n",
    "    ..."
   ]
  },
  {
   "attachments": {},
   "cell_type": "markdown",
   "id": "01802187",
   "metadata": {},
   "source": [
    "Testez votre fonction :"
   ]
  },
  {
   "cell_type": "code",
   "execution_count": null,
   "id": "6e3ca4ab",
   "metadata": {},
   "outputs": [],
   "source": [
    "assert compatibles(np.ones((3,2)), np.ones((3,2)))\n",
    "assert compatibles(np.ones((3,1)), np.ones((3,2)))\n",
    "assert compatibles(np.ones((3,2)), np.ones((1,2)))\n",
    "assert compatibles(np.ones((1,2)), np.ones((3,1)))\n",
    "assert not compatibles(np.ones((3,2,4)), np.ones((3,2)))\n",
    "assert not compatibles(np.ones((1,2,1)), np.ones((1,1)))\n",
    "assert not compatibles(np.ones((3,2)), np.ones((2,3)))"
   ]
  },
  {
   "attachments": {},
   "cell_type": "markdown",
   "id": "2832bb17",
   "metadata": {},
   "source": [
    "Lors d'une opération entre deux tableaux de `shape` différentes (mais compatibles), le broadcasting est le processus (automatique) qui va consister à étendre les dimensions d'un tableau (voire des deux tableaux) par recopie des valeurs, de sorte à les ramener à deux tableaux de même `shape` et ainsi pouvoir réaliser l'opération par vectorisation :\n",
    "\n",
    "- matrice + colonne <img src=\"images/Broadcasting1.jpg\" alt=\"Broadcasting : matrice + colonne\" height=\"200\" style=\"display: block; margin: 0 auto\"/>\n",
    "\n",
    "- matrice + ligne <img src=\"images/Broadcasting2.jpg\" alt=\"Broadcasting : matrice + ligne\" height=\"150\" style=\"display: block; margin: 0 auto\"/>\n",
    "\n",
    "\n",
    "- ligne + colonne <img src=\"images/Broadcasting3.jpg\" alt=\"Broadcasting : ligne + colonne\" height=\"200\" style=\"display: block; margin: 0 auto\"/>"
   ]
  },
  {
   "attachments": {},
   "cell_type": "markdown",
   "id": "722bba31",
   "metadata": {},
   "source": [
    "### Exercice 5 : reprise de notes\n",
    "\n",
    "Le tableau `Notes` ci-après correspond aux moyennes de 10 étudiants aux 15 ressources et SAE du semestre 4 du BUT Informatique.\n",
    "\n",
    "Le tableau `Coefs` quant à lui contient les coefficients de chaque ressource (12 premières lignes) ou SAE (3 dernières lignes) pour chaque compétence (`Coef[i,j]` contient le coefficient de la ressource `i` dans le calcul de la moyenne de la compétence `j`). "
   ]
  },
  {
   "cell_type": "code",
   "execution_count": null,
   "id": "24a3f26b",
   "metadata": {},
   "outputs": [],
   "source": [
    "Notes = np.array([[11.5, 12.5, 11.2, 13.7,  8.3,  4.8,  9. ,  4.1, 11.3, 10.4, 11.5,\n",
    "        11.3,  0.7, 14.1, 13.6],\n",
    "       [12.6,  7.9, 14.2, 10.3,  7.5, 10.6,  8.6, 14.6, 13.5,  8.8, 13.3,\n",
    "        14.9, 14.1,  5.9,  9. ],\n",
    "       [ 9.5,  0.3,  7.4,  5.8, 11.7, 19.6,  6.3, 12.8, 12.1, 16.2,  7.8,\n",
    "         9.9,  6.7,  9.2, 10.4],\n",
    "       [ 8.9, 12.9,  7.3, 10.7, 13.7,  9.4, 12.9, 13.8, 14.6, 12. , 17.9,\n",
    "        11.4, 13.2,  9.2, 11.3],\n",
    "       [10.8,  9.5, 14.6,  9.1, 15.7,  1.9, 14.1, 12.4, 10.7, 16. , 12.2,\n",
    "         8.1,  8. , 14.1,  7. ],\n",
    "       [15.8, 10.3, 17.5,  9.4, 10. , 10.1, 11.9,  9.6,  7.3,  9.9, 11.4,\n",
    "         6.7, 13.5, 18.7,  8.3],\n",
    "       [ 9.3,  2.7,  3.3, 11.7, 16.3,  5.3, 10.6, 13.8,  4.8,  7.2,  8.4,\n",
    "         9.2,  6.7, 14. , 10.8],\n",
    "       [13.7, 12.3,  8.8,  7.6, 11.7, 12.2, 13.3, 11.8, 14. ,  6. , 11.3,\n",
    "         9.1,  9.4,  9.7,  7.1],\n",
    "       [13.7,  8.9,  8.5,  7.2,  9.2,  5.8, 11.9,  8.9,  7.2, 11.4,  9.3,\n",
    "         7.1,  3.4, 18.3, 12.3],\n",
    "       [ 2.4,  7.7, 15.6, 14.4,  8.1, 10.9,  8.8,  9.7,  5.4, 13.2, 14.1,\n",
    "        10.9,  5.4,  3. ,  7.4]])\n",
    "Coefs = np.array([[16,  0, 12,  0,  0,  4],\n",
    "       [ 8,  0,  0,  0, 10,  0],\n",
    "       [ 0,  0,  0, 18,  0,  0],\n",
    "       [ 0, 12,  0,  0,  0,  0],\n",
    "       [ 0,  4,  0,  0,  0, 13],\n",
    "       [ 0,  0,  0,  6,  0, 13],\n",
    "       [ 0,  0,  0,  0,  0, 10],\n",
    "       [ 0,  0, 28,  0,  0,  0],\n",
    "       [ 0,  4,  0,  0, 22,  0],\n",
    "       [ 8,  4,  0,  8,  4,  0],\n",
    "       [ 8,  4,  0,  8,  4,  0],\n",
    "       [ 0, 12,  0,  0,  0,  0],\n",
    "       [15, 15, 15, 15, 15, 15],\n",
    "       [40, 40, 40, 40, 40, 40],\n",
    "       [ 5,  5,  5,  5,  5,  5]])"
   ]
  },
  {
   "attachments": {},
   "cell_type": "markdown",
   "id": "1142aa1e",
   "metadata": {},
   "source": [
    "1. Vérifiez que pour chaque compétence du semestre 4 : les ressources ont un poids de 40% et les SAE ont un poids de 60%."
   ]
  },
  {
   "cell_type": "code",
   "execution_count": null,
   "id": "ba41131d",
   "metadata": {},
   "outputs": [],
   "source": []
  },
  {
   "attachments": {},
   "cell_type": "markdown",
   "id": "6cb1213d",
   "metadata": {},
   "source": [
    "\n",
    "2. Calculez la moyenne du 1er étudiant à la 1ère compétence "
   ]
  },
  {
   "cell_type": "code",
   "execution_count": null,
   "id": "2f3cc1ca",
   "metadata": {},
   "outputs": [],
   "source": []
  },
  {
   "attachments": {},
   "cell_type": "markdown",
   "id": "b3ac7edf",
   "metadata": {},
   "source": [
    "3. Calculez la moyenne de chaque étudiant à la 1ère compétence"
   ]
  },
  {
   "cell_type": "code",
   "execution_count": null,
   "id": "e263982e",
   "metadata": {},
   "outputs": [],
   "source": []
  },
  {
   "attachments": {},
   "cell_type": "markdown",
   "id": "9ddd8512",
   "metadata": {},
   "source": [
    "4. Calculez le tableau des moyennes de chaque étudiant à chaque compétence"
   ]
  },
  {
   "cell_type": "code",
   "execution_count": null,
   "id": "3c90e834",
   "metadata": {},
   "outputs": [],
   "source": []
  },
  {
   "attachments": {},
   "cell_type": "markdown",
   "id": "a50613ef",
   "metadata": {},
   "source": [
    "5. Stockez le tableau des moyennes dans une variable `M` puis visualisez les résultats des 10 étudiants sur un graphique à l'aide des instructions ci-après."
   ]
  },
  {
   "cell_type": "code",
   "execution_count": null,
   "id": "e851f37b",
   "metadata": {},
   "outputs": [],
   "source": [
    "import matplotlib.pyplot as plt\n",
    "x = np.arange(1,7)\n",
    "plt.plot(x, M[:,:].T)\n",
    "plt.axis([1, 6, 0, 20])\n",
    "plt.xlabel('Compétences du semestre 4')\n",
    "plt.ylabel('Moyennes')\n",
    "plt.legend(np.char.add(np.array(['Etu']), np.arange(10).astype(str)), loc='lower center', ncol=5)\n",
    "plt.show()"
   ]
  },
  {
   "attachments": {},
   "cell_type": "markdown",
   "id": "0ea72312",
   "metadata": {},
   "source": [
    "### Exercice 6 : Distances entre images"
   ]
  },
  {
   "attachments": {},
   "cell_type": "markdown",
   "id": "ce73dfad",
   "metadata": {},
   "source": [
    "On rappelle qu'une image peut être stockée sous la forme d'un tableau à trois dimensions (R, G, B) ou *tenseur*. Ainsi une manière naïve de comparer deux images (de mêmes tailles) consiste à calculer la distance $L_2$ entre les deux tenseurs associés par l'expression suivante $$L_2(I_1, I_2) = \\left(\\sum_x \\sum_y \\sum_z (I_1[x,y,z]-I_2[x,y,z])^2\\right)^{1/2}$$\n",
    "\n",
    "1. Ecrire une fonction `distance(...)` qui calcule et renvoie la distance $L_2$ entre deux images "
   ]
  },
  {
   "cell_type": "code",
   "execution_count": null,
   "id": "6a452ac3",
   "metadata": {},
   "outputs": [],
   "source": [
    "def distance(image1, image2):\n",
    "    ..."
   ]
  },
  {
   "attachments": {},
   "cell_type": "markdown",
   "id": "1d61beb8",
   "metadata": {},
   "source": [
    "Vous trouverez dans le répertoire `images/DallE_Images/` un échantillon d'images générées par l'IA [DALL-E](https://openai.com/dall-e-2/) (Open AI).\n",
    "\n",
    "2. Quelles sont les deux images les plus proches selon la distance $L_2$? (les instructions ci-dessous vous aideront à importer une image dans un tableau NumPy)"
   ]
  },
  {
   "cell_type": "code",
   "execution_count": null,
   "id": "5e1593d8",
   "metadata": {},
   "outputs": [],
   "source": [
    "from PIL import Image\n",
    "\n",
    "# import de l'image\n",
    "image = Image.open(\"images/DallE_Images/DALL·E 2023-01-22 15.53.09 - an oil painting by van gogh of a bird working on a laptop.png\")\n",
    "\n",
    "# représentation de l'image sous forme d'un tableau NumPy\n",
    "array = np.array(image, dtype=np.int32)\n",
    "print(array.shape)\n",
    "\n",
    "# visualisation de l'image (à partir du tableau)\n",
    "plt.imshow(array)\n",
    "plt.show()"
   ]
  },
  {
   "attachments": {},
   "cell_type": "markdown",
   "id": "3c730d9e",
   "metadata": {},
   "source": [
    "3. Définissez une nouvelle fonction pour le calcul de la distance mais cette fois sans vectorisation, sans broadcasting et sans utiliser les méthodes définies sur les tableaux NumPy (bref à l'ancienne avec des boucles!). Comparez le temps d'exécution..."
   ]
  },
  {
   "cell_type": "code",
   "execution_count": null,
   "id": "67badf53",
   "metadata": {},
   "outputs": [],
   "source": [
    "def distance2(image1, image2):\n",
    "    ..."
   ]
  },
  {
   "cell_type": "code",
   "execution_count": null,
   "id": "eec11d71",
   "metadata": {},
   "outputs": [],
   "source": []
  },
  {
   "attachments": {},
   "cell_type": "markdown",
   "id": "c6ffb40c",
   "metadata": {},
   "source": [
    "4. Générez de nouvelles images sur [DALL-E](https://openai.com/dall-e-2/) et amusez-vous à comparer les distances..."
   ]
  }
 ],
 "metadata": {
  "kernelspec": {
   "display_name": "Python 3",
   "language": "python",
   "name": "python3"
  },
  "language_info": {
   "codemirror_mode": {
    "name": "ipython",
    "version": 3
   },
   "file_extension": ".py",
   "mimetype": "text/x-python",
   "name": "python",
   "nbconvert_exporter": "python",
   "pygments_lexer": "ipython3",
   "version": "3.9.13 (main, May 19 2022, 14:13:13) \n[Clang 13.0.0 (clang-1300.0.29.30)]"
  },
  "vscode": {
   "interpreter": {
    "hash": "aee8b7b246df8f9039afb4144a1f6fd8d2ca17a180786b69acc140d282b71a49"
   }
  }
 },
 "nbformat": 4,
 "nbformat_minor": 5
}
