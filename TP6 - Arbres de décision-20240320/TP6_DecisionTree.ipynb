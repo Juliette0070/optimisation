{
 "cells": [
  {
   "attachments": {},
   "cell_type": "markdown",
   "id": "53de3c09",
   "metadata": {},
   "source": [
    "# Introduction aux arbres de décision"
   ]
  },
  {
   "attachments": {},
   "cell_type": "markdown",
   "id": "4db635e1",
   "metadata": {},
   "source": [
    "Comme étudié dans la feuille de TD2, les arbres de décisions structurent un ensemble de règles de décisions sous la forme d'un arbre. Dans ce TP, nous allons utiliser des algorithmes d'apprentissage d'arbres de décision sur des données réelles et étudier leur capacité à prédire la classe de nouvelles données. Cette étude nous permettra d'appréhender le concept d'**over-fitting**."
   ]
  },
  {
   "attachments": {},
   "cell_type": "markdown",
   "id": "0de292fb",
   "metadata": {},
   "source": [
    "## A. Préparation du dataset"
   ]
  },
  {
   "attachments": {},
   "cell_type": "markdown",
   "id": "3ded0e13",
   "metadata": {},
   "source": [
    "Le dataset `breast-cancer.data` comporte la description de près de 300 patientes atteintes d'un cancer du sein et examinées dans un institut d'oncologie en Slovénie. La tâche consiste à prédire le risque de récidive pour la patiente à partir des 9 descripteurs catégoriels suivants :\n",
    "\n",
    "|  Type  |    Catégorie    |\n",
    "| :---------:|---------|\n",
    "| age | âge de la patiente|\n",
    "| menopause | statut ménopausal |\n",
    "| tumor-size | taille de la tumeur|\n",
    "| inv-nodes | nombre de ganglions invasifs |\n",
    "| node-caps | capsule ganglionnaire |\n",
    "| deg-malig | Degré de malignité |\n",
    "| breast | sein (gauche ou droit) |\n",
    "| breast-quad | quadrant mammaire |\n",
    "| irradiat | radiothérapie |"
   ]
  },
  {
   "attachments": {},
   "cell_type": "markdown",
   "id": "86a82feb",
   "metadata": {},
   "source": [
    "Chargez le dataset dans un dataframe `patient` et vérifiez les données récupérées (taille, valeurs manquantes, nature des descripteurs, déséquilibre des classes, etc.)"
   ]
  },
  {
   "cell_type": "code",
   "execution_count": 9,
   "id": "29aaece2",
   "metadata": {},
   "outputs": [
    {
     "name": "stdout",
     "output_type": "stream",
     "text": [
      "taille du dataframe: (286, 10)\n",
      "Valeurs manquantes:\n",
      " class          0\n",
      "age            0\n",
      "menopause      0\n",
      "tumor-size     0\n",
      "inv-nodes      0\n",
      "node-caps      0\n",
      "deg-malig      0\n",
      "breast         0\n",
      "breast-quad    0\n",
      "irradiat       0\n",
      "dtype: int64\n",
      "Nature:\n",
      " class          object\n",
      "age            object\n",
      "menopause      object\n",
      "tumor-size     object\n",
      "inv-nodes      object\n",
      "node-caps      object\n",
      "deg-malig       int64\n",
      "breast         object\n",
      "breast-quad    object\n",
      "irradiat       object\n",
      "dtype: object\n",
      "Classes:\n",
      " class\n",
      "no-recurrence-events    201\n",
      "recurrence-events        85\n",
      "Name: count, dtype: int64\n"
     ]
    }
   ],
   "source": [
    "import pandas as pd\n",
    "import numpy as np\n",
    "import matplotlib.pyplot as plt\n",
    "\n",
    "patient = pd.read_csv('donnees/breast-cancer.data')\n",
    "\n",
    "print(\"taille du dataframe:\", patient.shape)\n",
    "print(\"Valeurs manquantes:\\n\", patient.isnull().sum())\n",
    "print(\"Nature:\\n\", patient.dtypes)\n",
    "print(\"Classes:\\n\", patient['class'].value_counts())\n"
   ]
  },
  {
   "attachments": {},
   "cell_type": "markdown",
   "id": "7eee0414",
   "metadata": {},
   "source": [
    "Procédez à l'extraction des descriptions et des labels de classes dans deux tableaux Numpy :\n",
    "- `X` pour la matrice des descriptions (286 x 9)\n",
    "- `y` pour le vecteur des labels de classes"
   ]
  },
  {
   "cell_type": "code",
   "execution_count": 22,
   "id": "4192a840",
   "metadata": {},
   "outputs": [
    {
     "name": "stdout",
     "output_type": "stream",
     "text": [
      "X: (286, 9)\n",
      "y: (286,)\n"
     ]
    }
   ],
   "source": [
    "X = patient.iloc[:, 1:].values\n",
    "y = patient.iloc[:, 0].values\n",
    "\n",
    "print(\"X:\", X.shape)\n",
    "print(\"y:\", y.shape)"
   ]
  },
  {
   "attachments": {},
   "cell_type": "markdown",
   "id": "ab0411a0",
   "metadata": {},
   "source": [
    "## B. One-hot encoding"
   ]
  },
  {
   "attachments": {},
   "cell_type": "markdown",
   "id": "a82cadce",
   "metadata": {},
   "source": [
    "Utilisez le [`OneHotEncoder`](https://scikit-learn.org/stable/modules/generated/sklearn.preprocessing.OneHotEncoder.html) de Scikit-learn pour transformer votre matrice `X` en une matrice binaire `Xbin` où une variable catégorielle initiale avec $k$ modalités sera décomposée en $k$ variables binaires."
   ]
  },
  {
   "cell_type": "code",
   "execution_count": 32,
   "id": "c7a5e506",
   "metadata": {},
   "outputs": [],
   "source": [
    "from sklearn.preprocessing import OneHotEncoder\n",
    "\n",
    "encoder = OneHotEncoder()\n",
    "encoder.fit(X)\n",
    "Xbin = encoder.transform(X)"
   ]
  },
  {
   "attachments": {},
   "cell_type": "markdown",
   "id": "5554d8d4",
   "metadata": {},
   "source": [
    "Observez la forme de la matrice récupérée (nombre de variables) et le type particulier de cette matrice. Documentez-vous. "
   ]
  },
  {
   "cell_type": "code",
   "execution_count": 33,
   "id": "2033ac81",
   "metadata": {},
   "outputs": [
    {
     "name": "stdout",
     "output_type": "stream",
     "text": [
      "(286, 43)\n",
      "<class 'scipy.sparse._csr.csr_matrix'>\n"
     ]
    },
    {
     "data": {
      "text/plain": [
       "matrix([[0., 1., 0., ..., 0., 1., 0.],\n",
       "        [0., 0., 1., ..., 1., 1., 0.],\n",
       "        [0., 0., 1., ..., 0., 1., 0.],\n",
       "        ...,\n",
       "        [0., 0., 0., ..., 0., 1., 0.],\n",
       "        [0., 0., 1., ..., 0., 1., 0.],\n",
       "        [0., 0., 0., ..., 0., 1., 0.]])"
      ]
     },
     "execution_count": 33,
     "metadata": {},
     "output_type": "execute_result"
    }
   ],
   "source": [
    "print(Xbin.shape)\n",
    "print(type(Xbin))\n",
    "Xbin.todense()"
   ]
  },
  {
   "attachments": {},
   "cell_type": "markdown",
   "id": "2a1f64dc",
   "metadata": {},
   "source": [
    "Vérfiez la transformation opérée sur la première variable catégorielle `age` :\n",
    "- observez le nombre $k$ de modalités (valeurs) pour cette variable\n",
    "- vérifiez que chaque ligne de `Xbin` contient exactement une composante à 1 (et toutes les autres à 0) sur les $k$ premières composantes"
   ]
  },
  {
   "cell_type": "code",
   "execution_count": 34,
   "id": "3dc1d3e3",
   "metadata": {},
   "outputs": [
    {
     "name": "stdout",
     "output_type": "stream",
     "text": [
      "['20-29' '30-39' '40-49' '50-59' '60-69' '70-79']\n"
     ]
    },
    {
     "data": {
      "text/plain": [
       "matrix([[0]])"
      ]
     },
     "execution_count": 34,
     "metadata": {},
     "output_type": "execute_result"
    }
   ],
   "source": [
    "print(np.unique(X[:,0]))\n",
    "sum(Xbin[:,:6].sum(axis=1)!=1)"
   ]
  },
  {
   "attachments": {},
   "cell_type": "markdown",
   "id": "c729cb83",
   "metadata": {},
   "source": [
    "## C. Apprentissage d'un arbre de décision"
   ]
  },
  {
   "attachments": {},
   "cell_type": "markdown",
   "id": "be6c6962",
   "metadata": {},
   "source": [
    "Utilisez la librairie Scikit-learn pour découper `Xbin` (et `y`) en deux sous-ensembles (`X_train`, `y_train`) et (`X_test`, `y_test`). On procèdera pour ce TP à un découpage en sous-ensembles de mêmes tailles (50/50)."
   ]
  },
  {
   "cell_type": "code",
   "execution_count": 36,
   "id": "2583fd5f",
   "metadata": {},
   "outputs": [
    {
     "name": "stdout",
     "output_type": "stream",
     "text": [
      "X_train: (143, 43)\n",
      "X_test: (143, 43)\n",
      "y_train: (143,)\n",
      "y_test: (143,)\n"
     ]
    }
   ],
   "source": [
    "from sklearn.model_selection import train_test_split\n",
    "\n",
    "X_train, X_test, y_train, y_test = train_test_split(Xbin, y, test_size=0.5, random_state=0)\n",
    "\n",
    "print(\"X_train:\", X_train.shape)\n",
    "print(\"X_test:\", X_test.shape)\n",
    "print(\"y_train:\", y_train.shape)\n",
    "print(\"y_test:\", y_test.shape)"
   ]
  },
  {
   "attachments": {},
   "cell_type": "markdown",
   "id": "d9689008",
   "metadata": {},
   "source": [
    "> <br/>Scikit-learn propose une implémentation assez générique des arbres de décision. Le constructeur d'un [`DecisionTreeClassifier`](https://scikit-learn.org/stable/modules/generated/sklearn.tree.DecisionTreeClassifier.html#sklearn.tree.DecisionTreeClassifier) permet de paramétrer la méthode d'apprentissage ainsi que certaines propriétés attendues sur la structure de l'arbre. Notamment :\n",
    "> - le paramètre `criterion` definit la mesure de qualité utilisée pour le découpage : `'gini'` (par défaut), `'entropy'` (vu en TD) ou `'log_loss'`\n",
    "> - le paramètre `min_sample_leaf` definit le nombre minimum d'individus autorisés dans les feuilles de l'arbre (1 par défaut) <br/><br/>\n",
    ">\n",
    "> Un arbre de décision (`DecisionTreeClassifier`) peut ensuite être manipulé à partir de deux méthodes :\n",
    "> - `.fit(X, y)` qui permet d'apprendre un arbre de décision à partir d'un dataset d'entraînement `(X, y)` où <br/> <br/>\n",
    ">   - `X` contient des descriptions (numériques ou binaires)\n",
    ">   - `y` contient les labels de classes associés.<br/> <br/>\n",
    "> - `.predict(X)` qui permet de prédire la classe de chaque individu du dataset `X` <br/>  <br/>"
   ]
  },
  {
   "attachments": {},
   "cell_type": "markdown",
   "id": "d56cb511",
   "metadata": {},
   "source": [
    "Apprendre un arbre de décision sur les données d'entraînement en utilisant l'entropie comme critère de découpage et en conservant les propriétés structurelles par défaut. Stockez votre modèle de prédiction (arbre de décision) dans une variable `dtree`. "
   ]
  },
  {
   "cell_type": "code",
   "execution_count": 46,
   "id": "c8d81095",
   "metadata": {},
   "outputs": [],
   "source": [
    "from sklearn import tree\n",
    "\n",
    "dtree = tree.DecisionTreeClassifier(criterion='entropy')\n",
    "dtree = dtree.fit(X_train, y_train)\n",
    "\n",
    "y_pred = dtree.predict(X_test)"
   ]
  },
  {
   "attachments": {},
   "cell_type": "markdown",
   "id": "5d64e9c1",
   "metadata": {},
   "source": [
    "La commande suivante vous offre une visualisation du modèle appris."
   ]
  },
  {
   "cell_type": "code",
   "execution_count": 47,
   "id": "4845f3ce",
   "metadata": {},
   "outputs": [
    {
     "data": {
      "image/png": "[encoded data removed]",
      "text/plain": [
       "<Figure size 1080x1080 with 1 Axes>"
      ]
     },
     "metadata": {
      "needs_background": "light"
     },
     "output_type": "display_data"
    }
   ],
   "source": [
    "plt.figure(figsize=(15,15))\n",
    "tree.plot_tree(dtree, fontsize=6)\n",
    "plt.show()"
   ]
  },
  {
   "attachments": {},
   "cell_type": "markdown",
   "id": "0a0fb1d8",
   "metadata": {},
   "source": [
    "Utilisez les paramètres de votre `OneHotEncoder` pour donner du sens aux descripteurs utilisés dans les noeuds de l'arbre de décision :\n",
    "- l'attribut `categories_` décrit les nouvelles variables binaires construites à partir de chaque variables catégorielle initiale\n",
    "- la méthode `.get_feature_names_out()` retourne la liste de toutes les variables binaires"
   ]
  },
  {
   "cell_type": "code",
   "execution_count": 55,
   "id": "9923fede",
   "metadata": {},
   "outputs": [
    {
     "name": "stdout",
     "output_type": "stream",
     "text": [
      "['x0_20-29' 'x0_30-39' 'x0_40-49' 'x0_50-59' 'x0_60-69' 'x0_70-79'\n",
      " 'x1_ge40' 'x1_lt40' 'x1_premeno' 'x2_0-4' 'x2_10-14' 'x2_15-19'\n",
      " 'x2_20-24' 'x2_25-29' 'x2_30-34' 'x2_35-39' 'x2_40-44' 'x2_45-49'\n",
      " 'x2_5-9' 'x2_50-54' 'x3_0-2' 'x3_12-14' 'x3_15-17' 'x3_24-26' 'x3_3-5'\n",
      " 'x3_6-8' 'x3_9-11' 'x4_?' 'x4_no' 'x4_yes' 'x5_1' 'x5_2' 'x5_3' 'x6_left'\n",
      " 'x6_right' 'x7_?' 'x7_central' 'x7_left_low' 'x7_left_up' 'x7_right_low'\n",
      " 'x7_right_up' 'x8_no' 'x8_yes']\n",
      "[array(['20-29', '30-39', '40-49', '50-59', '60-69', '70-79'], dtype=object), array(['ge40', 'lt40', 'premeno'], dtype=object), array(['0-4', '10-14', '15-19', '20-24', '25-29', '30-34', '35-39',\n",
      "       '40-44', '45-49', '5-9', '50-54'], dtype=object), array(['0-2', '12-14', '15-17', '24-26', '3-5', '6-8', '9-11'],\n",
      "      dtype=object), array(['?', 'no', 'yes'], dtype=object), array([1, 2, 3], dtype=object), array(['left', 'right'], dtype=object), array(['?', 'central', 'left_low', 'left_up', 'right_low', 'right_up'],\n",
      "      dtype=object), array(['no', 'yes'], dtype=object)]\n"
     ]
    }
   ],
   "source": [
    "print(encoder.get_feature_names_out())\n",
    "print(encoder.categories_)"
   ]
  },
  {
   "attachments": {},
   "cell_type": "markdown",
   "id": "14afd0af",
   "metadata": {},
   "source": [
    "Observez quelques propriétés structurelles de l'arbre de décision :\n",
    "- nombre de feuilles (sont-elles toutes pures?)\n",
    "- profondeur de l'arbre "
   ]
  },
  {
   "attachments": {},
   "cell_type": "markdown",
   "id": "7dcff5a1",
   "metadata": {},
   "source": [
    "Vérifiez ces propriétés en utilisant les attributs de votre objet `dtree` (`.get_n_leaves()`, `.get_depth()`)"
   ]
  },
  {
   "cell_type": "code",
   "execution_count": 56,
   "id": "bb9b38d5",
   "metadata": {},
   "outputs": [
    {
     "data": {
      "text/plain": [
       "(42, 14)"
      ]
     },
     "execution_count": 56,
     "metadata": {},
     "output_type": "execute_result"
    }
   ],
   "source": [
    "dtree.get_n_leaves(), dtree.get_depth()"
   ]
  },
  {
   "attachments": {},
   "cell_type": "markdown",
   "id": "63616505",
   "metadata": {},
   "source": [
    "## D. Over-fitting"
   ]
  },
  {
   "attachments": {},
   "cell_type": "markdown",
   "id": "a5dcfa21",
   "metadata": {},
   "source": [
    "Calculez et comparer les taux d'erreurs de prédiction sur :\n",
    "- les données d'entraînement `X_train` qui ont servi à construire l'arbre de décision\n",
    "- les données de test `X_test` qui n'ont jamais été utilisées"
   ]
  },
  {
   "cell_type": "code",
   "execution_count": 54,
   "id": "af532d31",
   "metadata": {},
   "outputs": [
    {
     "name": "stdout",
     "output_type": "stream",
     "text": [
      "Taux d'erreur d'apprentissage: 0.0\n",
      "Taux d'erreur de test: 0.32167832167832167\n"
     ]
    }
   ],
   "source": [
    "train_error = 1 - dtree.score(X_train, y_train)\n",
    "test_error = 1 - dtree.score(X_test, y_test)\n",
    "\n",
    "print(\"Taux d'erreur d'apprentissage:\", train_error)\n",
    "print(\"Taux d'erreur de test:\", test_error)\n"
   ]
  },
  {
   "attachments": {},
   "cell_type": "markdown",
   "id": "6b7586a2",
   "metadata": {},
   "source": [
    "Comment expliquez-vous cette différence?"
   ]
  },
  {
   "attachments": {},
   "cell_type": "markdown",
   "id": "3808aabf",
   "metadata": {},
   "source": [
    "Apprenez un nouvel arbre de décision moins profond à partir de `X_train` toujours (par exemple avec `min_sample_leaf=5`). Observez ses propriétés structurelles puis ses performances (taux d'erreur sur `X_train` puis sur `X_test`)."
   ]
  },
  {
   "cell_type": "code",
   "execution_count": null,
   "id": "97a0c593",
   "metadata": {},
   "outputs": [],
   "source": []
  },
  {
   "attachments": {},
   "cell_type": "markdown",
   "id": "3704a0fd",
   "metadata": {},
   "source": [
    "> On parle d'<font color='red'>over-fitting</font> (sur-adéquation aux données) lorsqu'un modèle $f$ appris est très performant sur les données utilisées pour l'apprentissage mais n'ai pas suffisamment générique pour prédire sur de nouvelles données (données de test).\n",
    "> Pour détecter l'over-fitting on compare :\n",
    "> - l'<font color='red'>erreur d'apprentissage</font> $e_{train}(f)$: taux d'erreur sur les données d'entraînement (`X_train`)\n",
    "> - l'<font color='red'>erreur de généralisation</font> $e_{test}(f)$: taux d'erreur sur les données de test (`X_test`)\n",
    ">\n",
    "> Le modèle $f$ est sujet à over-fitting si $e_{test}(f) \\gg e_{train}(f)$\n",
    "> <br><br>"
   ]
  },
  {
   "attachments": {},
   "cell_type": "markdown",
   "id": "921c492c",
   "metadata": {},
   "source": [
    "> Une manière de réduire l'over-fitting des arbres de décision consiste à limiter la taille des règles de décision (et donc la profondeur de l'arbre) :\n",
    "> - des règles de décision trop longues ont peu de chance d'être satisfaites par de nouveaux exemples (règles trop spécifiques)\n",
    "> - des règles de décision courtes ont plus de chance d'être satisfaite par de nouveaux exemples (règles plus générales) <br/><br/>"
   ]
  },
  {
   "attachments": {},
   "cell_type": "markdown",
   "id": "b5ce0ef4",
   "metadata": {},
   "source": [
    "Ecrire un fonction `eval_DT(X_train, y_train, X_test, y_test, min_samples_leaf)` qui retourne l'erreur d'apprentissage et l'erreur de généralisation d'un arbre de décision de profonduer contrôlée par `min_samples_leaf`, appris sur `X_train` et testé sur `X_test`."
   ]
  },
  {
   "cell_type": "code",
   "execution_count": null,
   "id": "cbb11a05",
   "metadata": {},
   "outputs": [],
   "source": [
    "def eval_DT(X_train, y_train, X_test, y_test, min_samples_leaf):\n",
    "    ..."
   ]
  },
  {
   "attachments": {},
   "cell_type": "markdown",
   "id": "a449d1e7",
   "metadata": {},
   "source": [
    "Etudiez le phénomène d'over-fitting sur les données `breast-cancer`. Pour cela :\n",
    "- calculez les erreurs d'apprentissage et de généralisation en faisant évoluer la profondeur de l'arbre (ex. `min_samples_leaf` variant de 1 à 50)\n",
    "- tracez les courbes associées"
   ]
  },
  {
   "cell_type": "code",
   "execution_count": null,
   "id": "5ddab8f4",
   "metadata": {},
   "outputs": [],
   "source": []
  },
  {
   "attachments": {},
   "cell_type": "markdown",
   "id": "2b4bbb64",
   "metadata": {},
   "source": [
    "Ré-executez votre notebook pour voir dans quelle mesure le phénomène d'over-fitting est sensible au (découpage du) dataset. Faites également évoluer la proportion d'exemples utilisés pour apprendre l'arbre de décision."
   ]
  }
 ],
 "metadata": {
  "kernelspec": {
   "display_name": "Python 3",
   "language": "python",
   "name": "python3"
  },
  "language_info": {
   "codemirror_mode": {
    "name": "ipython",
    "version": 3
   },
   "file_extension": ".py",
   "mimetype": "text/x-python",
   "name": "python",
   "nbconvert_exporter": "python",
   "pygments_lexer": "ipython3",
   "version": "3.10.12"
  },
  "vscode": {
   "interpreter": {
    "hash": "aee8b7b246df8f9039afb4144a1f6fd8d2ca17a180786b69acc140d282b71a49"
   }
  }
 },
 "nbformat": 4,
 "nbformat_minor": 5
}
