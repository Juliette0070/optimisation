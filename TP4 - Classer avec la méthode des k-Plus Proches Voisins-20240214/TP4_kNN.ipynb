{
 "cells": [
  {
   "attachments": {},
   "cell_type": "markdown",
   "id": "0e89b5c8",
   "metadata": {},
   "source": [
    "# Classer avec la méthode des k-Plus Proches Voisins"
   ]
  },
  {
   "attachments": {},
   "cell_type": "markdown",
   "id": "0ef48153",
   "metadata": {},
   "source": [
    "Dans ce TP nous allons implémenter notre première Intelligence Artificielle à partir de la méthode des k-Plus Proches Voisins étudiée en TD. Nous allons implémenter, tester, évaluer et étudier cette méthode de classification sur un jeu de données réelles."
   ]
  },
  {
   "attachments": {},
   "cell_type": "markdown",
   "id": "654024ae",
   "metadata": {},
   "source": [
    "## A. Charger, explorer puis préparer le tableau de données"
   ]
  },
  {
   "attachments": {},
   "cell_type": "markdown",
   "id": "10531ce6",
   "metadata": {},
   "source": [
    "Commencez par importer dans un Dataframe `zoo` les données du fichier `zoo.csv`."
   ]
  },
  {
   "cell_type": "code",
   "execution_count": 2,
   "id": "ff2955e4",
   "metadata": {},
   "outputs": [
    {
     "name": "stdout",
     "output_type": "stream",
     "text": [
      "        Name  hair  feathers  eggs  milk  airbone  aquatic  predator  toothed  \\\n",
      "0   aardvark     1         0     0     1        0        0         1        1   \n",
      "1   antelope     1         0     0     1        0        0         0        1   \n",
      "2       bass     0         0     1     0        0        1         1        1   \n",
      "3       bear     1         0     0     1        0        0         1        1   \n",
      "4       boar     1         0     0     1        0        0         1        1   \n",
      "..       ...   ...       ...   ...   ...      ...      ...       ...      ...   \n",
      "95   wallaby     1         0     0     1        0        0         0        1   \n",
      "96      wasp     1         0     1     0        1        0         0        0   \n",
      "97      wolf     1         0     0     1        0        0         1        1   \n",
      "98      worm     0         0     1     0        0        0         0        0   \n",
      "99      wren     0         1     1     0        1        0         0        0   \n",
      "\n",
      "    backbone  breathes  venomous  fins  legs  tail  domestic   size  type  \n",
      "0          1         1         0     0     4     0         0  115.0     1  \n",
      "1          1         1         0     0     4     1         0   75.0     1  \n",
      "2          1         0         0     1     0     1         0   40.0     4  \n",
      "3          1         1         0     0     4     0         0  210.0     1  \n",
      "4          1         1         0     0     4     1         0  120.0     1  \n",
      "..       ...       ...       ...   ...   ...   ...       ...    ...   ...  \n",
      "95         1         1         0     0     2     1         0  105.0     1  \n",
      "96         0         1         1     0     6     0         0    0.9     6  \n",
      "97         1         1         0     0     4     1         0   75.0     1  \n",
      "98         0         1         0     0     0     0         0   35.0     7  \n",
      "99         1         1         0     0     2     1         0   14.0     2  \n",
      "\n",
      "[100 rows x 18 columns]\n"
     ]
    },
    {
     "name": "stderr",
     "output_type": "stream",
     "text": [
      "/tmp/ipykernel_22314/1197839191.py:1: DeprecationWarning: \n",
      "Pyarrow will become a required dependency of pandas in the next major release of pandas (pandas 3.0),\n",
      "(to allow more performant data types, such as the Arrow string type, and better interoperability with other libraries)\n",
      "but was not found to be installed on your system.\n",
      "If this would cause problems for you,\n",
      "please provide us feedback at https://github.com/pandas-dev/pandas/issues/54466\n",
      "        \n",
      "  import pandas as pd\n"
     ]
    }
   ],
   "source": [
    "import pandas as pd\n",
    "import numpy as np\n",
    "zoo = pd.read_csv('donnees/zoo.csv')\n",
    "print(zoo)"
   ]
  },
  {
   "attachments": {},
   "cell_type": "markdown",
   "id": "da85323a",
   "metadata": {},
   "source": [
    "Explorez le dataset `zoo`: Combien d'individus? Combien de descripteurs? Quelle est la nature (type) des descripteurs? Y-a-t'il des valeurs manquantes?"
   ]
  },
  {
   "cell_type": "code",
   "execution_count": 3,
   "id": "2063c96e",
   "metadata": {},
   "outputs": [
    {
     "name": "stdout",
     "output_type": "stream",
     "text": [
      "(100, 18)\n",
      "Name         object\n",
      "hair          int64\n",
      "feathers      int64\n",
      "eggs          int64\n",
      "milk          int64\n",
      "airbone       int64\n",
      "aquatic       int64\n",
      "predator      int64\n",
      "toothed       int64\n",
      "backbone      int64\n",
      "breathes      int64\n",
      "venomous      int64\n",
      "fins          int64\n",
      "legs          int64\n",
      "tail          int64\n",
      "domestic      int64\n",
      "size        float64\n",
      "type          int64\n",
      "dtype: object\n"
     ]
    },
    {
     "data": {
      "text/html": [
       "<div>\n",
       "<style scoped>\n",
       "    .dataframe tbody tr th:only-of-type {\n",
       "        vertical-align: middle;\n",
       "    }\n",
       "\n",
       "    .dataframe tbody tr th {\n",
       "        vertical-align: top;\n",
       "    }\n",
       "\n",
       "    .dataframe thead th {\n",
       "        text-align: right;\n",
       "    }\n",
       "</style>\n",
       "<table border=\"1\" class=\"dataframe\">\n",
       "  <thead>\n",
       "    <tr style=\"text-align: right;\">\n",
       "      <th></th>\n",
       "      <th>hair</th>\n",
       "      <th>feathers</th>\n",
       "      <th>eggs</th>\n",
       "      <th>milk</th>\n",
       "      <th>airbone</th>\n",
       "      <th>aquatic</th>\n",
       "      <th>predator</th>\n",
       "      <th>toothed</th>\n",
       "      <th>backbone</th>\n",
       "      <th>breathes</th>\n",
       "      <th>venomous</th>\n",
       "      <th>fins</th>\n",
       "      <th>legs</th>\n",
       "      <th>tail</th>\n",
       "      <th>domestic</th>\n",
       "      <th>size</th>\n",
       "      <th>type</th>\n",
       "    </tr>\n",
       "  </thead>\n",
       "  <tbody>\n",
       "    <tr>\n",
       "      <th>count</th>\n",
       "      <td>100.00000</td>\n",
       "      <td>100.000000</td>\n",
       "      <td>100.000000</td>\n",
       "      <td>100.000000</td>\n",
       "      <td>100.000000</td>\n",
       "      <td>100.000000</td>\n",
       "      <td>100.00</td>\n",
       "      <td>100.000000</td>\n",
       "      <td>100.000000</td>\n",
       "      <td>100.00000</td>\n",
       "      <td>100.000000</td>\n",
       "      <td>100.000000</td>\n",
       "      <td>100.000000</td>\n",
       "      <td>100.000000</td>\n",
       "      <td>100.000000</td>\n",
       "      <td>100.000000</td>\n",
       "      <td>100.000000</td>\n",
       "    </tr>\n",
       "    <tr>\n",
       "      <th>mean</th>\n",
       "      <td>0.43000</td>\n",
       "      <td>0.200000</td>\n",
       "      <td>0.580000</td>\n",
       "      <td>0.410000</td>\n",
       "      <td>0.240000</td>\n",
       "      <td>0.350000</td>\n",
       "      <td>0.55</td>\n",
       "      <td>0.600000</td>\n",
       "      <td>0.820000</td>\n",
       "      <td>0.79000</td>\n",
       "      <td>0.070000</td>\n",
       "      <td>0.170000</td>\n",
       "      <td>2.830000</td>\n",
       "      <td>0.750000</td>\n",
       "      <td>0.130000</td>\n",
       "      <td>91.728500</td>\n",
       "      <td>2.810000</td>\n",
       "    </tr>\n",
       "    <tr>\n",
       "      <th>std</th>\n",
       "      <td>0.49757</td>\n",
       "      <td>0.402015</td>\n",
       "      <td>0.496045</td>\n",
       "      <td>0.494311</td>\n",
       "      <td>0.429235</td>\n",
       "      <td>0.479372</td>\n",
       "      <td>0.50</td>\n",
       "      <td>0.492366</td>\n",
       "      <td>0.386123</td>\n",
       "      <td>0.40936</td>\n",
       "      <td>0.256432</td>\n",
       "      <td>0.377525</td>\n",
       "      <td>2.040276</td>\n",
       "      <td>0.435194</td>\n",
       "      <td>0.337998</td>\n",
       "      <td>105.726317</td>\n",
       "      <td>2.101923</td>\n",
       "    </tr>\n",
       "    <tr>\n",
       "      <th>min</th>\n",
       "      <td>0.00000</td>\n",
       "      <td>0.000000</td>\n",
       "      <td>0.000000</td>\n",
       "      <td>0.000000</td>\n",
       "      <td>0.000000</td>\n",
       "      <td>0.000000</td>\n",
       "      <td>0.00</td>\n",
       "      <td>0.000000</td>\n",
       "      <td>0.000000</td>\n",
       "      <td>0.00000</td>\n",
       "      <td>0.000000</td>\n",
       "      <td>0.000000</td>\n",
       "      <td>0.000000</td>\n",
       "      <td>0.000000</td>\n",
       "      <td>0.000000</td>\n",
       "      <td>0.250000</td>\n",
       "      <td>1.000000</td>\n",
       "    </tr>\n",
       "    <tr>\n",
       "      <th>25%</th>\n",
       "      <td>0.00000</td>\n",
       "      <td>0.000000</td>\n",
       "      <td>0.000000</td>\n",
       "      <td>0.000000</td>\n",
       "      <td>0.000000</td>\n",
       "      <td>0.000000</td>\n",
       "      <td>0.00</td>\n",
       "      <td>0.000000</td>\n",
       "      <td>1.000000</td>\n",
       "      <td>1.00000</td>\n",
       "      <td>0.000000</td>\n",
       "      <td>0.000000</td>\n",
       "      <td>2.000000</td>\n",
       "      <td>0.750000</td>\n",
       "      <td>0.000000</td>\n",
       "      <td>17.875000</td>\n",
       "      <td>1.000000</td>\n",
       "    </tr>\n",
       "    <tr>\n",
       "      <th>50%</th>\n",
       "      <td>0.00000</td>\n",
       "      <td>0.000000</td>\n",
       "      <td>1.000000</td>\n",
       "      <td>0.000000</td>\n",
       "      <td>0.000000</td>\n",
       "      <td>0.000000</td>\n",
       "      <td>1.00</td>\n",
       "      <td>1.000000</td>\n",
       "      <td>1.000000</td>\n",
       "      <td>1.00000</td>\n",
       "      <td>0.000000</td>\n",
       "      <td>0.000000</td>\n",
       "      <td>3.000000</td>\n",
       "      <td>1.000000</td>\n",
       "      <td>0.000000</td>\n",
       "      <td>55.000000</td>\n",
       "      <td>2.000000</td>\n",
       "    </tr>\n",
       "    <tr>\n",
       "      <th>75%</th>\n",
       "      <td>1.00000</td>\n",
       "      <td>0.000000</td>\n",
       "      <td>1.000000</td>\n",
       "      <td>1.000000</td>\n",
       "      <td>0.000000</td>\n",
       "      <td>1.000000</td>\n",
       "      <td>1.00</td>\n",
       "      <td>1.000000</td>\n",
       "      <td>1.000000</td>\n",
       "      <td>1.00000</td>\n",
       "      <td>0.000000</td>\n",
       "      <td>0.000000</td>\n",
       "      <td>4.000000</td>\n",
       "      <td>1.000000</td>\n",
       "      <td>0.000000</td>\n",
       "      <td>127.500000</td>\n",
       "      <td>4.000000</td>\n",
       "    </tr>\n",
       "    <tr>\n",
       "      <th>max</th>\n",
       "      <td>1.00000</td>\n",
       "      <td>1.000000</td>\n",
       "      <td>1.000000</td>\n",
       "      <td>1.000000</td>\n",
       "      <td>1.000000</td>\n",
       "      <td>1.000000</td>\n",
       "      <td>1.00</td>\n",
       "      <td>1.000000</td>\n",
       "      <td>1.000000</td>\n",
       "      <td>1.00000</td>\n",
       "      <td>1.000000</td>\n",
       "      <td>1.000000</td>\n",
       "      <td>8.000000</td>\n",
       "      <td>1.000000</td>\n",
       "      <td>1.000000</td>\n",
       "      <td>600.000000</td>\n",
       "      <td>7.000000</td>\n",
       "    </tr>\n",
       "  </tbody>\n",
       "</table>\n",
       "</div>"
      ],
      "text/plain": [
       "            hair    feathers        eggs        milk     airbone     aquatic  \\\n",
       "count  100.00000  100.000000  100.000000  100.000000  100.000000  100.000000   \n",
       "mean     0.43000    0.200000    0.580000    0.410000    0.240000    0.350000   \n",
       "std      0.49757    0.402015    0.496045    0.494311    0.429235    0.479372   \n",
       "min      0.00000    0.000000    0.000000    0.000000    0.000000    0.000000   \n",
       "25%      0.00000    0.000000    0.000000    0.000000    0.000000    0.000000   \n",
       "50%      0.00000    0.000000    1.000000    0.000000    0.000000    0.000000   \n",
       "75%      1.00000    0.000000    1.000000    1.000000    0.000000    1.000000   \n",
       "max      1.00000    1.000000    1.000000    1.000000    1.000000    1.000000   \n",
       "\n",
       "       predator     toothed    backbone   breathes    venomous        fins  \\\n",
       "count    100.00  100.000000  100.000000  100.00000  100.000000  100.000000   \n",
       "mean       0.55    0.600000    0.820000    0.79000    0.070000    0.170000   \n",
       "std        0.50    0.492366    0.386123    0.40936    0.256432    0.377525   \n",
       "min        0.00    0.000000    0.000000    0.00000    0.000000    0.000000   \n",
       "25%        0.00    0.000000    1.000000    1.00000    0.000000    0.000000   \n",
       "50%        1.00    1.000000    1.000000    1.00000    0.000000    0.000000   \n",
       "75%        1.00    1.000000    1.000000    1.00000    0.000000    0.000000   \n",
       "max        1.00    1.000000    1.000000    1.00000    1.000000    1.000000   \n",
       "\n",
       "             legs        tail    domestic        size        type  \n",
       "count  100.000000  100.000000  100.000000  100.000000  100.000000  \n",
       "mean     2.830000    0.750000    0.130000   91.728500    2.810000  \n",
       "std      2.040276    0.435194    0.337998  105.726317    2.101923  \n",
       "min      0.000000    0.000000    0.000000    0.250000    1.000000  \n",
       "25%      2.000000    0.750000    0.000000   17.875000    1.000000  \n",
       "50%      3.000000    1.000000    0.000000   55.000000    2.000000  \n",
       "75%      4.000000    1.000000    0.000000  127.500000    4.000000  \n",
       "max      8.000000    1.000000    1.000000  600.000000    7.000000  "
      ]
     },
     "execution_count": 3,
     "metadata": {},
     "output_type": "execute_result"
    }
   ],
   "source": [
    "print(zoo.shape)\n",
    "print(zoo.dtypes)\n",
    "zoo.describe()"
   ]
  },
  {
   "attachments": {},
   "cell_type": "markdown",
   "id": "1106c329",
   "metadata": {},
   "source": [
    "Dans ce dataset, la dernière colonne `type` correspond à la catégorie de l'animal :\n",
    "|  Type  |    Catégorie    |\n",
    "| :---------:|---------|\n",
    "| 1 |Mammifères|\n",
    "| 2 |Oiseaux|\n",
    "| 3 |Reptiles|\n",
    "| 4 |Poissons|\n",
    "| 5 |Amphibiens|\n",
    "| 6 |Insectes|\n",
    "| 7 |Invertébrés|\n",
    "\n",
    "Notre IA devra prédire la catégorie d'un animal à partir de sa description (sans le `Name`). Il s'agit donc d'une tâche de prédiction à **7 classes**."
   ]
  },
  {
   "attachments": {},
   "cell_type": "markdown",
   "id": "bf7f141e",
   "metadata": {},
   "source": [
    "Observez la distribution des individus selon la variable de classe (`type`) et constatez le déséquilibre des classes. Cela aura-t'il une incidence sur la méthode de k-PPV?"
   ]
  },
  {
   "cell_type": "code",
   "execution_count": 4,
   "id": "7f9a0e44",
   "metadata": {},
   "outputs": [
    {
     "data": {
      "image/png": "[encoded data removed]",
      "text/plain": [
       "<Figure size 432x288 with 1 Axes>"
      ]
     },
     "metadata": {},
     "output_type": "display_data"
    }
   ],
   "source": [
    "import matplotlib.pyplot as plt\n",
    "labels, sizes = np.unique(zoo['type'], return_counts=True)\n",
    "plt.pie(sizes, labels=labels)\n",
    "plt.show()"
   ]
  },
  {
   "attachments": {},
   "cell_type": "markdown",
   "id": "3e79c8e8",
   "metadata": {},
   "source": [
    "A partir du dataframe `zoo`, vous allez construire deux tableaux Numpy :\n",
    "- `X` est la matrice (100x16) des descriptions des individus\n",
    "- `y` est le vecteur contenant les (100) catégories d'animaux "
   ]
  },
  {
   "cell_type": "code",
   "execution_count": 5,
   "id": "7155e66a",
   "metadata": {},
   "outputs": [],
   "source": [
    "X = np.array(zoo.iloc[:, 1:-1])\n",
    "y = np.array(zoo[\"type\"])"
   ]
  },
  {
   "attachments": {},
   "cell_type": "markdown",
   "id": "c8169074",
   "metadata": {},
   "source": [
    "Nous allons à présent découper `X` et `y` en deux sous-ensembles :\n",
    "- `X_train` : qui contient des individus que la méthode k-PPV utilisera pour prédire\n",
    "- `X_test`  : qui contient des individus que nous utiliserons pour évaluer notre IA (et ainsi ajuster le paramètre k)\n",
    "- `y_train` : qui contient les labels des individus de `X_train`\n",
    "- `y_test`  : qui contient les labels des individus de `X_test`\n",
    "\n",
    "Ecrire une fonction (générique) `train_test_split(X, y, train_ratio)` qui réalise un tel découpage :"
   ]
  },
  {
   "cell_type": "code",
   "execution_count": 6,
   "id": "0187d83a",
   "metadata": {},
   "outputs": [
    {
     "name": "stdout",
     "output_type": "stream",
     "text": [
      "(70, 16)\n",
      "(30, 16)\n",
      "(70,)\n",
      "(30,)\n"
     ]
    }
   ],
   "source": [
    "import random\n",
    "\n",
    "def train_test_split(X, y, train_ratio):\n",
    "    \"\"\"découpe un dataset X en deux ensembles d'entraînement (train) et de test ainsi que les labels associés\n",
    "\n",
    "    Args:\n",
    "        X (matrice Numpy): le dataset à découper\n",
    "        y (vecteur Numpy): le vecteur des labels à découper\n",
    "        train_ratio (float): entre 0.0 et 1.0 = proportion du dataset à inclure dans l'ensemble d'entraînement (train)\n",
    "\n",
    "    Returns:\n",
    "        X_train (matrice Numpy): le sous-ensemble d'entraînement\n",
    "        X_test (matrice Numpy):  le sous-ensemble de test\n",
    "        y_train (vecteur Numpy): les labels données d'entraînement\n",
    "        y_test (vecteur Numpy):  les labels données de test\n",
    "\n",
    "    \"\"\"\n",
    "    N = X.shape[0]\n",
    "    if N != y.shape[0]:\n",
    "        return None\n",
    "    \n",
    "    ids = np.arange(N)\n",
    "    np.random.shuffle(ids)\n",
    "    nb_train = int(N * train_ratio)\n",
    "    train_ids, test_ids = ids[:nb_train], ids[nb_train:]\n",
    "    return X[train_ids, :], X[test_ids, :], y[train_ids], y[test_ids]\n",
    "\n",
    "X_train, X_test, y_train, y_test = train_test_split(X, y, 0.7)\n",
    "print(X_train.shape)\n",
    "print(X_test.shape)\n",
    "print(y_train.shape)\n",
    "print(y_test.shape)"
   ]
  },
  {
   "attachments": {},
   "cell_type": "markdown",
   "id": "834cfd92",
   "metadata": {},
   "source": [
    "Utilisez votre fonction pour découper notre dataset `X` en deux sous-ensembles de mêmes tailles.\n",
    "\n",
    "Vérifiez que les déséquilibres des classes sont globalement respectés (relancez le découpage si certaines classes sont absentes dans l'un des deux sous-ensembles)."
   ]
  },
  {
   "cell_type": "code",
   "execution_count": 7,
   "id": "3d42b684",
   "metadata": {},
   "outputs": [
    {
     "name": "stdout",
     "output_type": "stream",
     "text": [
      "(array([1, 2, 3, 4, 5, 6, 7]), array([13, 14,  3,  6,  3,  6,  5]))\n",
      "(array([1, 2, 3, 4, 6, 7]), array([28,  6,  2,  7,  2,  5]))\n"
     ]
    }
   ],
   "source": [
    "X_train, X_test, y_train, y_test = train_test_split(X, y, 0.5)\n",
    "print(np.unique(y_train, return_counts=True))\n",
    "print(np.unique(y_test, return_counts=True))"
   ]
  },
  {
   "attachments": {},
   "cell_type": "markdown",
   "id": "71997f89",
   "metadata": {},
   "source": [
    "---"
   ]
  },
  {
   "attachments": {},
   "cell_type": "markdown",
   "id": "9e305b1d",
   "metadata": {},
   "source": [
    "## B. Implémenter et évaluer la méthode k-PPV (non-pondérée)"
   ]
  },
  {
   "attachments": {},
   "cell_type": "markdown",
   "id": "66c18c2e",
   "metadata": {},
   "source": [
    "Définissez une fonction `predict_kNN(k, X, y, x_new)` qui prédit la classe d'une description `x_new` par la méthodes k-PPV non-pondérée utilisée sur les données `X` de ayant pour labels `y` avec la distance Euclidienne."
   ]
  },
  {
   "cell_type": "code",
   "execution_count": 8,
   "id": "fcf443e8",
   "metadata": {},
   "outputs": [],
   "source": [
    "def predict_kNN(k, X, y, x_new):\n",
    "    \"\"\"implémente le classifieur du k-Plus Proches Voisins \n",
    "\n",
    "    Args:\n",
    "        k (int): nombre de voisins à utiliser pour prédire\n",
    "        X (matrice Numpy): le dataset des données d'entraînement\n",
    "        y (vecteur Numpy): le vecteur des labels des données d'entraînement\n",
    "        x_new (vecteur Numpy) : le vecteur de description d'une nouvelle donnée à classer\n",
    "\n",
    "    Returns:\n",
    "        y_new (label):  le label prédit\n",
    "\n",
    "    \"\"\"\n",
    "    distances = np.linalg.norm(X - x_new, axis=1)\n",
    "    nearest_neighbor_ids = distances.argsort()[:k]\n",
    "    nearest_neighbor_class = y[nearest_neighbor_ids]\n",
    "    labels, counts = np.unique(nearest_neighbor_class, return_counts=True)\n",
    "    return labels[counts.argsort()[-1]]"
   ]
  },
  {
   "attachments": {},
   "cell_type": "markdown",
   "id": "457fb490",
   "metadata": {},
   "source": [
    "Utilisez la fonction `predict_kNN` pour prédire la classe de l'individu situé à l'indice 23 dans `X_test` à partir des données d'entraînement (`X_train`, `y_train`). Affichez la classe prédite selon différentes valeurs de `k` et comparez avec la vraie classe de l'individu (`y_test[23]`). "
   ]
  },
  {
   "cell_type": "code",
   "execution_count": 9,
   "id": "92876e7c",
   "metadata": {},
   "outputs": [
    {
     "name": "stdout",
     "output_type": "stream",
     "text": [
      "[1, 7, 1, 1, 1, 1, 1, 1, 1, 1, 1, 1, 1, 1, 1, 1, 1, 1, 1]\n"
     ]
    },
    {
     "data": {
      "text/plain": [
       "1"
      ]
     },
     "execution_count": 9,
     "metadata": {},
     "output_type": "execute_result"
    }
   ],
   "source": [
    "i = 46\n",
    "print([predict_kNN(k, X_train, y_train, X_test[i,:]) for k in range(1, 20)])\n",
    "y_test[i]"
   ]
  },
  {
   "attachments": {},
   "cell_type": "markdown",
   "id": "2e3838f7",
   "metadata": {},
   "source": [
    "Définissez une fonction `error_kNN(k, X_train, y_train, X_test, y_test)` qui renvoie le taux d'erreur de prédiction de la méthode k-PPV sur des données de test. "
   ]
  },
  {
   "cell_type": "code",
   "execution_count": 10,
   "id": "708c13e3",
   "metadata": {},
   "outputs": [],
   "source": [
    "def error_kNN(k, X_train, y_train, X_test, y_test,):\n",
    "    \"\"\"calcule le taux d'erreur de prédiction par k-PPV sur les données de test \n",
    "\n",
    "    Args:\n",
    "        k (int): nombre de voisins à utiliser pour prédire\n",
    "        X_train (matrice Numpy): le dataset des données d'entraînement\n",
    "        y_train (vecteur Numpy): le vecteur des labels des données d'entraînement\n",
    "        X_test (vecteur Numpy) : le dataset des données de test\n",
    "        y_test (vecteur Numpy): le vecteur des labels des données de test\n",
    "\n",
    "\n",
    "    Returns:\n",
    "        error_rate (float):  le taux d'erreur de prédiciton (Nb. mauvaises prédictions / Nb. prédictions)\n",
    "\n",
    "    \"\"\"\n",
    "    y_pred = np.array([predict_kNN(k, X_train, y_train, x) for x in X_test])\n",
    "    return 1 - np.mean(y_pred == y_test)"
   ]
  },
  {
   "attachments": {},
   "cell_type": "markdown",
   "id": "681e0848",
   "metadata": {},
   "source": [
    "Tracez la courbe du taux d'erreur en fonction du paramètre `k`. Quelle valeur choisirez-vous pour `k`? Est-ce que votre classifieur vous semble performant?"
   ]
  },
  {
   "cell_type": "code",
   "execution_count": 11,
   "id": "4fcc8116",
   "metadata": {},
   "outputs": [
    {
     "name": "stdout",
     "output_type": "stream",
     "text": [
      "[0.54, 0.8200000000000001, 0.54, 0.54, 0.56, 0.54, 0.5, 0.54, 0.56, 0.54, 0.54, 0.54, 0.54, 0.5800000000000001, 0.54, 0.5800000000000001, 0.5800000000000001, 0.54, 0.54, 0.54, 0.54, 0.56, 0.56, 0.56, 0.5800000000000001, 0.6, 0.5800000000000001, 0.6, 0.6]\n"
     ]
    },
    {
     "data": {
      "text/plain": [
       "[<matplotlib.lines.Line2D at 0x7f0d8b9803d0>]"
      ]
     },
     "execution_count": 11,
     "metadata": {},
     "output_type": "execute_result"
    },
    {
     "data": {
      "image/png": "[encoded data removed]",
      "text/plain": [
       "<Figure size 432x288 with 1 Axes>"
      ]
     },
     "metadata": {
      "needs_background": "light"
     },
     "output_type": "display_data"
    }
   ],
   "source": [
    "print([error_kNN(k, X_train, y_train, X_test, y_test) for k in range(1, 30)])\n",
    "plt.plot(range(1, 30), [error_kNN(k, X_train, y_train, X_test, y_test) for k in range(1, 30)])"
   ]
  },
  {
   "attachments": {},
   "cell_type": "markdown",
   "id": "02e15347",
   "metadata": {},
   "source": [
    "Avant de conclure (trop vite!)... quel serait le taux d'erreur d'un classifieur k-PPV qui fonderait ses prédictions sur la taille des animaux uniquement (descripteur `size`)?"
   ]
  },
  {
   "cell_type": "code",
   "execution_count": 12,
   "id": "cafdfe3d",
   "metadata": {},
   "outputs": [
    {
     "name": "stdout",
     "output_type": "stream",
     "text": [
      "[0.45, 0.6, 0.6499999999999999, 0.6, 0.63, 0.56, 0.51, 0.5800000000000001, 0.54, 0.57, 0.5599999999999999, 0.54, 0.5, 0.5800000000000001, 0.52, 0.54, 0.52, 0.63, 0.6100000000000001, 0.5900000000000001, 0.6000000000000001, 0.5800000000000001, 0.5900000000000001, 0.6599999999999999, 0.6399999999999999, 0.61, 0.61, 0.7, 0.64]\n"
     ]
    },
    {
     "data": {
      "text/plain": [
       "[<matplotlib.lines.Line2D at 0x7f0d8da72ce0>]"
      ]
     },
     "execution_count": 12,
     "metadata": {},
     "output_type": "execute_result"
    },
    {
     "data": {
      "image/png": "[encoded data removed]",
      "text/plain": [
       "<Figure size 432x288 with 1 Axes>"
      ]
     },
     "metadata": {
      "needs_background": "light"
     },
     "output_type": "display_data"
    }
   ],
   "source": [
    "\n",
    "def cross_validation_error(k, X, y, n_folds=5):\n",
    "    \"\"\"calcule le taux d'erreur de prédiction par k-PPV sur les données de test \n",
    "\n",
    "    Args:\n",
    "        k (int): nombre de voisins à utiliser pour prédire\n",
    "        X (matrice Numpy): le dataset des données\n",
    "        y (vecteur Numpy): le vecteur des labels des données\n",
    "        n_folds (int): nombre de folds à utiliser pour la validation croisée\n",
    "\n",
    "    Returns:\n",
    "        error_rate (float):  le taux d'erreur de prédiciton (Nb. mauvaises prédictions / Nb. prédictions)\n",
    "\n",
    "    \"\"\"\n",
    "    N = X.shape[0]\n",
    "    fold_size = N // n_folds\n",
    "    errors = []\n",
    "    for fold in range(n_folds):\n",
    "        ids = np.arange(N)\n",
    "        np.random.shuffle(ids)\n",
    "        train_ids = np.concatenate([ids[:fold*fold_size], ids[(fold+1)*fold_size:]])\n",
    "        test_ids = ids[fold*fold_size:(fold+1)*fold_size]\n",
    "        error = error_kNN(k, X[train_ids], y[train_ids], X[test_ids], y[test_ids])\n",
    "        errors.append(error)\n",
    "    return np.mean(errors)\n",
    "\n",
    "print([cross_validation_error(k, X, y) for k in range(1, 30)])\n",
    "plt.plot(range(1, 30), [cross_validation_error(k, X, y) for k in range(1, 30)])"
   ]
  },
  {
   "attachments": {},
   "cell_type": "markdown",
   "id": "ecbafa59",
   "metadata": {},
   "source": [
    "## C. Normaliser les données"
   ]
  },
  {
   "attachments": {},
   "cell_type": "markdown",
   "id": "a9d9d581",
   "metadata": {},
   "source": [
    "Vous avez constaté que tous les descriteurs n'ont pas la même influence dans le calcul des distances entre individus, du fait de l'amplitude des valeurs associée à chaque descripteurs.\n",
    "\n",
    "Pour faire en sorte que chaque descripteur ait la même influence dans le traitement du tableau de données, on procède à une **normalisation** des données. \n",
    "\n",
    "> Normaliser un ensemble $Z$ consiste à ramener toutes ses valeurs dans l'intervalle $[0,1]$ par l'opération : $$\\tilde{z}_{i}=\\frac{z_{i}-min_Z}{max_Z-min_Z}$$\n",
    ">"
   ]
  },
  {
   "attachments": {},
   "cell_type": "markdown",
   "id": "dc43420a",
   "metadata": {},
   "source": [
    "Complétez la classe `Normalizer` ci-dessous qui définit un **outil** de normalisation d'un jeu de données. La normalisation d'un jeu de données procédera en deux temps :\n",
    "- calcul des paramètres de la fonction de normalisation sur des données (méthode `.fit()`)\n",
    "- application de la fonction de normalisation sur des données (méthode `.transform()`)"
   ]
  },
  {
   "cell_type": "code",
   "execution_count": 14,
   "id": "04d0a423",
   "metadata": {},
   "outputs": [],
   "source": [
    "class Normalizer:\n",
    "    \n",
    "    min = None\n",
    "    max = None\n",
    "    \n",
    "    def fit(self, X):\n",
    "        \"\"\"calcule les min et max de chaque colonne de X\"\"\"\n",
    "        self.min = np.min(X, axis=0)\n",
    "        self.max = np.max(X, axis=0)\n",
    "    \n",
    "    def transform(self, X):\n",
    "        \"\"\"renvoie X normalisé\"\"\"\n",
    "        return (X - self.min) / (self.max - self.min)\n",
    "        "
   ]
  },
  {
   "attachments": {},
   "cell_type": "markdown",
   "id": "94e0bceb",
   "metadata": {},
   "source": [
    "Appliquez la normalisation sur l'ensemble des individus (100 descriptions) puis comparez l'erreur faite par la méthode des k-PPV avant et après normalisation. Concluez sur l'utilité de cette étape de normalisation."
   ]
  },
  {
   "cell_type": "code",
   "execution_count": 16,
   "id": "65bcbbcc",
   "metadata": {},
   "outputs": [
    {
     "name": "stdout",
     "output_type": "stream",
     "text": [
      "[[1.         0.         0.         1.         0.         0.\n",
      "  0.         1.         1.         1.         0.         0.\n",
      "  0.5        1.         0.         0.62466488]\n",
      " [1.         0.         0.         1.         0.         0.\n",
      "  0.         1.         1.         1.         0.         0.\n",
      "  0.5        1.         0.         0.67828418]\n",
      " [1.         0.         0.         1.         0.         0.\n",
      "  1.         1.         1.         1.         0.         0.\n",
      "  0.5        1.         0.         0.33869526]\n",
      " [0.         1.         1.         0.         1.         0.\n",
      "  1.         0.         1.         1.         0.         0.\n",
      "  0.25       1.         0.         0.07774799]\n",
      " [0.         1.         1.         0.         1.         0.\n",
      "  0.         0.         1.         1.         0.         0.\n",
      "  0.25       1.         0.         0.06344951]\n",
      " [0.         1.         1.         0.         0.         1.\n",
      "  1.         0.         1.         1.         0.         0.\n",
      "  0.25       1.         0.         0.22788204]\n",
      " [0.         1.         1.         0.         1.         0.\n",
      "  0.         0.         1.         1.         0.         0.\n",
      "  0.25       1.         0.         0.24218052]\n",
      " [1.         0.         0.         1.         0.         0.\n",
      "  0.         1.         1.         1.         0.         0.\n",
      "  0.5        1.         0.         1.        ]\n",
      " [1.         0.         0.         1.         0.         0.\n",
      "  0.         1.         1.         1.         0.         0.\n",
      "  0.25       1.         0.         0.37444147]\n",
      " [0.         0.         1.         0.         0.         1.\n",
      "  1.         1.         1.         0.         0.         1.\n",
      "  0.         1.         0.         0.14209115]\n",
      " [0.         0.         1.         0.         0.         0.\n",
      "  0.         0.         0.         1.         0.         0.\n",
      "  0.         0.         0.         0.05272565]\n",
      " [0.         1.         1.         0.         1.         1.\n",
      "  0.         0.         1.         1.         0.         0.\n",
      "  0.25       1.         0.         0.12421805]\n",
      " [0.         0.         1.         0.         0.         0.\n",
      "  1.         1.         1.         1.         0.         0.\n",
      "  0.5        1.         0.         0.26720286]\n",
      " [0.         0.         1.         0.         0.         1.\n",
      "  0.         1.         1.         0.         0.         1.\n",
      "  0.         1.         1.         0.21358356]\n",
      " [0.         0.         0.         0.         0.         0.\n",
      "  1.         0.         0.         1.         1.         0.\n",
      "  1.         1.         0.         0.05630027]\n",
      " [0.         0.         1.         0.         0.         1.\n",
      "  1.         1.         1.         0.         0.         1.\n",
      "  0.         1.         0.         0.04200179]\n",
      " [0.         0.         1.         0.         0.         1.\n",
      "  1.         1.         1.         0.         0.         1.\n",
      "  0.         1.         0.         0.03485255]\n",
      " [1.         0.         0.         1.         0.         0.\n",
      "  0.         1.         1.         1.         0.         0.\n",
      "  0.5        1.         1.         0.33869526]\n",
      " [1.         0.         0.         1.         0.         0.\n",
      "  1.         1.         1.         1.         0.         0.\n",
      "  0.5        1.         1.         0.12421805]\n",
      " [0.         0.         1.         0.         0.         0.\n",
      "  1.         1.         1.         1.         0.         0.\n",
      "  0.         1.         0.         0.12421805]\n",
      " [1.         0.         1.         0.         1.         0.\n",
      "  0.         0.         0.         1.         0.         0.\n",
      "  0.75       0.         0.         0.00303843]\n",
      " [0.         1.         1.         0.         1.         1.\n",
      "  1.         0.         1.         1.         0.         0.\n",
      "  0.25       1.         0.         0.19928508]\n",
      " [1.         0.         1.         0.         1.         0.\n",
      "  0.         0.         0.         1.         1.         0.\n",
      "  0.75       0.         0.         0.0023235 ]\n",
      " [0.         0.         1.         0.         0.         1.\n",
      "  1.         0.         0.         0.         1.         0.\n",
      "  0.         0.         0.         0.53529937]\n",
      " [1.         0.         0.         1.         0.         0.\n",
      "  1.         1.         1.         1.         0.         0.\n",
      "  0.5        0.         0.         0.41018767]\n",
      " [0.         0.         1.         0.         0.         1.\n",
      "  0.         1.         1.         0.         0.         1.\n",
      "  0.         1.         0.         0.10634495]\n",
      " [0.         0.         1.         0.         1.         0.\n",
      "  0.         0.         0.         1.         0.         0.\n",
      "  0.75       0.         0.         0.00339589]\n",
      " [0.         1.         1.         0.         1.         0.\n",
      "  1.         0.         1.         1.         0.         0.\n",
      "  0.25       1.         0.         0.256479  ]\n",
      " [0.         0.         1.         0.         0.         0.\n",
      "  0.         0.         1.         1.         0.         0.\n",
      "  0.5        1.         0.         0.22430742]\n",
      " [0.         1.         1.         0.         1.         0.\n",
      "  0.         0.         1.         1.         0.         0.\n",
      "  0.25       1.         0.         0.05272565]\n",
      " [1.         0.         0.         1.         0.         0.\n",
      "  1.         1.         1.         1.         0.         0.\n",
      "  0.5        1.         0.         0.55317248]\n",
      " [0.         0.         1.         0.         0.         1.\n",
      "  1.         0.         0.         0.         0.         0.\n",
      "  1.         0.         0.         0.71403038]\n",
      " [1.         0.         0.         1.         0.         0.\n",
      "  1.         1.         1.         1.         0.         0.\n",
      "  0.5        1.         0.         0.19571046]\n",
      " [1.         0.         0.         1.         0.         0.\n",
      "  0.         1.         1.         1.         0.         0.\n",
      "  0.5        1.         0.         0.26720286]\n",
      " [0.         1.         1.         0.         1.         0.\n",
      "  0.         0.         1.         1.         0.         0.\n",
      "  0.25       1.         1.         0.10634495]\n",
      " [1.         0.         1.         0.         1.         0.\n",
      "  0.         0.         0.         1.         0.         0.\n",
      "  0.75       0.         0.         0.05272565]\n",
      " [1.         0.         0.         1.         1.         0.\n",
      "  0.         1.         1.         1.         0.         0.\n",
      "  0.25       1.         0.         0.02770331]\n",
      " [0.         1.         1.         0.         1.         1.\n",
      "  1.         0.         1.         1.         0.         0.\n",
      "  0.25       1.         0.         0.19213584]\n",
      " [0.         0.         1.         0.         0.         1.\n",
      "  1.         1.         1.         0.         0.         1.\n",
      "  0.         1.         0.         0.35656836]\n",
      " [0.         1.         1.         0.         1.         0.\n",
      "  0.         0.         1.         1.         0.         0.\n",
      "  0.25       1.         0.         0.04915103]\n",
      " [1.         0.         0.         1.         0.         0.\n",
      "  0.         1.         1.         1.         0.         0.\n",
      "  0.5        0.         1.         0.15996425]\n",
      " [0.         1.         1.         0.         1.         1.\n",
      "  0.         0.         1.         1.         0.         0.\n",
      "  0.25       1.         0.         0.44593387]\n",
      " [0.         0.         1.         0.         0.         0.\n",
      "  0.         0.         0.         1.         0.         0.\n",
      "  0.75       0.         0.         0.        ]\n",
      " [1.         0.         1.         0.         1.         0.\n",
      "  0.         0.         0.         1.         1.         0.\n",
      "  0.75       0.         1.         0.0023235 ]\n",
      " [0.         1.         1.         0.         0.         0.\n",
      "  1.         0.         1.         1.         0.         0.\n",
      "  0.25       1.         0.         0.64253798]\n",
      " [0.         0.         1.         0.         0.         1.\n",
      "  0.         1.         1.         1.         0.         0.\n",
      "  0.5        0.         0.         0.04915103]\n",
      " [0.         0.         1.         0.         0.         1.\n",
      "  1.         1.         1.         1.         0.         0.\n",
      "  0.5        1.         0.         0.04200179]\n",
      " [0.         0.         1.         0.         0.         1.\n",
      "  1.         1.         1.         1.         0.         0.\n",
      "  0.5        0.         0.         0.04915103]\n",
      " [0.         0.         1.         0.         0.         1.\n",
      "  1.         0.         0.         0.         0.         0.\n",
      "  0.625      0.         0.         0.04200179]\n",
      " [0.         1.         1.         0.         1.         0.\n",
      "  1.         0.         1.         1.         0.         0.\n",
      "  0.25       1.         0.         0.14566577]]\n",
      "[[1.00000000e+00 0.00000000e+00 0.00000000e+00 1.00000000e+00\n",
      "  0.00000000e+00 0.00000000e+00 1.00000000e+00 1.00000000e+00\n",
      "  1.00000000e+00 1.00000000e+00 0.00000000e+00 0.00000000e+00\n",
      "  5.00000000e-01 1.00000000e+00 0.00000000e+00 4.91510277e-02]\n",
      " [1.00000000e+00 0.00000000e+00 0.00000000e+00 1.00000000e+00\n",
      "  0.00000000e+00 0.00000000e+00 1.00000000e+00 1.00000000e+00\n",
      "  1.00000000e+00 1.00000000e+00 0.00000000e+00 0.00000000e+00\n",
      "  5.00000000e-01 1.00000000e+00 0.00000000e+00 2.17158177e-01]\n",
      " [0.00000000e+00 0.00000000e+00 1.00000000e+00 0.00000000e+00\n",
      "  0.00000000e+00 0.00000000e+00 1.00000000e+00 1.00000000e+00\n",
      "  1.00000000e+00 1.00000000e+00 1.00000000e+00 0.00000000e+00\n",
      "  0.00000000e+00 1.00000000e+00 0.00000000e+00 7.14030384e-01]\n",
      " [0.00000000e+00 0.00000000e+00 1.00000000e+00 0.00000000e+00\n",
      "  0.00000000e+00 1.00000000e+00 1.00000000e+00 1.00000000e+00\n",
      "  1.00000000e+00 0.00000000e+00 0.00000000e+00 1.00000000e+00\n",
      "  0.00000000e+00 1.00000000e+00 0.00000000e+00 1.34941912e-01]\n",
      " [0.00000000e+00 1.00000000e+00 1.00000000e+00 0.00000000e+00\n",
      "  0.00000000e+00 0.00000000e+00 0.00000000e+00 0.00000000e+00\n",
      "  1.00000000e+00 1.00000000e+00 0.00000000e+00 0.00000000e+00\n",
      "  2.50000000e-01 1.00000000e+00 0.00000000e+00 8.21268990e-01]\n",
      " [1.00000000e+00 0.00000000e+00 0.00000000e+00 1.00000000e+00\n",
      "  0.00000000e+00 0.00000000e+00 0.00000000e+00 1.00000000e+00\n",
      "  1.00000000e+00 1.00000000e+00 0.00000000e+00 0.00000000e+00\n",
      "  5.00000000e-01 1.00000000e+00 0.00000000e+00 6.34495085e-02]\n",
      " [1.00000000e+00 0.00000000e+00 0.00000000e+00 1.00000000e+00\n",
      "  0.00000000e+00 0.00000000e+00 0.00000000e+00 1.00000000e+00\n",
      "  1.00000000e+00 1.00000000e+00 0.00000000e+00 0.00000000e+00\n",
      "  5.00000000e-01 1.00000000e+00 1.00000000e+00 4.28060769e-01]\n",
      " [1.00000000e+00 0.00000000e+00 0.00000000e+00 1.00000000e+00\n",
      "  0.00000000e+00 0.00000000e+00 1.00000000e+00 1.00000000e+00\n",
      "  1.00000000e+00 1.00000000e+00 0.00000000e+00 0.00000000e+00\n",
      "  5.00000000e-01 1.00000000e+00 0.00000000e+00 5.71045576e-01]\n",
      " [0.00000000e+00 0.00000000e+00 1.00000000e+00 0.00000000e+00\n",
      "  0.00000000e+00 1.00000000e+00 1.00000000e+00 0.00000000e+00\n",
      "  0.00000000e+00 0.00000000e+00 0.00000000e+00 0.00000000e+00\n",
      "  5.00000000e-01 0.00000000e+00 0.00000000e+00 4.91510277e-02]\n",
      " [1.00000000e+00 0.00000000e+00 0.00000000e+00 1.00000000e+00\n",
      "  0.00000000e+00 0.00000000e+00 1.00000000e+00 1.00000000e+00\n",
      "  1.00000000e+00 1.00000000e+00 0.00000000e+00 0.00000000e+00\n",
      "  2.50000000e-01 0.00000000e+00 1.00000000e+00 5.88918677e-01]\n",
      " [0.00000000e+00 0.00000000e+00 1.00000000e+00 0.00000000e+00\n",
      "  0.00000000e+00 1.00000000e+00 1.00000000e+00 1.00000000e+00\n",
      "  1.00000000e+00 0.00000000e+00 0.00000000e+00 1.00000000e+00\n",
      "  0.00000000e+00 1.00000000e+00 0.00000000e+00 7.14030384e-01]\n",
      " [1.00000000e+00 0.00000000e+00 0.00000000e+00 1.00000000e+00\n",
      "  0.00000000e+00 0.00000000e+00 1.00000000e+00 1.00000000e+00\n",
      "  1.00000000e+00 1.00000000e+00 0.00000000e+00 0.00000000e+00\n",
      "  5.00000000e-01 1.00000000e+00 0.00000000e+00 4.99553172e-01]\n",
      " [0.00000000e+00 0.00000000e+00 1.00000000e+00 0.00000000e+00\n",
      "  0.00000000e+00 0.00000000e+00 1.00000000e+00 0.00000000e+00\n",
      "  0.00000000e+00 0.00000000e+00 0.00000000e+00 0.00000000e+00\n",
      "  0.00000000e+00 0.00000000e+00 0.00000000e+00 2.41286863e-02]\n",
      " [1.00000000e+00 0.00000000e+00 0.00000000e+00 1.00000000e+00\n",
      "  0.00000000e+00 0.00000000e+00 0.00000000e+00 1.00000000e+00\n",
      "  1.00000000e+00 1.00000000e+00 0.00000000e+00 0.00000000e+00\n",
      "  5.00000000e-01 1.00000000e+00 1.00000000e+00 6.60411081e-01]\n",
      " [0.00000000e+00 1.00000000e+00 1.00000000e+00 0.00000000e+00\n",
      "  1.00000000e+00 1.00000000e+00 1.00000000e+00 0.00000000e+00\n",
      "  1.00000000e+00 1.00000000e+00 0.00000000e+00 0.00000000e+00\n",
      "  2.50000000e-01 1.00000000e+00 0.00000000e+00 1.78731010e-04]\n",
      " [0.00000000e+00 0.00000000e+00 1.00000000e+00 0.00000000e+00\n",
      "  0.00000000e+00 0.00000000e+00 0.00000000e+00 0.00000000e+00\n",
      "  0.00000000e+00 1.00000000e+00 0.00000000e+00 0.00000000e+00\n",
      "  7.50000000e-01 0.00000000e+00 0.00000000e+00 2.32350313e-03]\n",
      " [0.00000000e+00 0.00000000e+00 1.00000000e+00 0.00000000e+00\n",
      "  0.00000000e+00 1.00000000e+00 1.00000000e+00 0.00000000e+00\n",
      "  0.00000000e+00 0.00000000e+00 0.00000000e+00 0.00000000e+00\n",
      "  7.50000000e-01 0.00000000e+00 0.00000000e+00 6.16621984e-02]\n",
      " [1.00000000e+00 0.00000000e+00 0.00000000e+00 1.00000000e+00\n",
      "  0.00000000e+00 0.00000000e+00 0.00000000e+00 1.00000000e+00\n",
      "  1.00000000e+00 1.00000000e+00 0.00000000e+00 0.00000000e+00\n",
      "  5.00000000e-01 1.00000000e+00 0.00000000e+00 1.96514745e+00]\n",
      " [1.00000000e+00 0.00000000e+00 0.00000000e+00 1.00000000e+00\n",
      "  0.00000000e+00 0.00000000e+00 0.00000000e+00 1.00000000e+00\n",
      "  1.00000000e+00 1.00000000e+00 0.00000000e+00 0.00000000e+00\n",
      "  2.50000000e-01 1.00000000e+00 0.00000000e+00 7.77479893e-02]\n",
      " [1.00000000e+00 0.00000000e+00 0.00000000e+00 1.00000000e+00\n",
      "  0.00000000e+00 0.00000000e+00 0.00000000e+00 1.00000000e+00\n",
      "  1.00000000e+00 1.00000000e+00 0.00000000e+00 0.00000000e+00\n",
      "  5.00000000e-01 1.00000000e+00 0.00000000e+00 1.95710456e-01]\n",
      " [0.00000000e+00 0.00000000e+00 1.00000000e+00 0.00000000e+00\n",
      "  0.00000000e+00 1.00000000e+00 1.00000000e+00 1.00000000e+00\n",
      "  1.00000000e+00 0.00000000e+00 0.00000000e+00 1.00000000e+00\n",
      "  0.00000000e+00 1.00000000e+00 0.00000000e+00 4.28060769e-01]\n",
      " [0.00000000e+00 0.00000000e+00 1.00000000e+00 0.00000000e+00\n",
      "  0.00000000e+00 1.00000000e+00 0.00000000e+00 1.00000000e+00\n",
      "  1.00000000e+00 0.00000000e+00 0.00000000e+00 1.00000000e+00\n",
      "  0.00000000e+00 1.00000000e+00 0.00000000e+00 5.63002681e-02]\n",
      " [0.00000000e+00 0.00000000e+00 0.00000000e+00 1.00000000e+00\n",
      "  0.00000000e+00 1.00000000e+00 1.00000000e+00 1.00000000e+00\n",
      "  1.00000000e+00 1.00000000e+00 0.00000000e+00 1.00000000e+00\n",
      "  0.00000000e+00 1.00000000e+00 0.00000000e+00 6.24664879e-01]\n",
      " [1.00000000e+00 0.00000000e+00 0.00000000e+00 1.00000000e+00\n",
      "  0.00000000e+00 0.00000000e+00 1.00000000e+00 1.00000000e+00\n",
      "  1.00000000e+00 1.00000000e+00 0.00000000e+00 0.00000000e+00\n",
      "  5.00000000e-01 1.00000000e+00 0.00000000e+00 7.49776586e-01]\n",
      " [1.00000000e+00 0.00000000e+00 0.00000000e+00 1.00000000e+00\n",
      "  0.00000000e+00 0.00000000e+00 1.00000000e+00 1.00000000e+00\n",
      "  1.00000000e+00 1.00000000e+00 0.00000000e+00 0.00000000e+00\n",
      "  5.00000000e-01 1.00000000e+00 0.00000000e+00 4.28060769e-01]\n",
      " [0.00000000e+00 0.00000000e+00 1.00000000e+00 0.00000000e+00\n",
      "  0.00000000e+00 1.00000000e+00 0.00000000e+00 1.00000000e+00\n",
      "  1.00000000e+00 0.00000000e+00 0.00000000e+00 1.00000000e+00\n",
      "  0.00000000e+00 1.00000000e+00 0.00000000e+00 3.56568365e-01]\n",
      " [1.00000000e+00 0.00000000e+00 0.00000000e+00 1.00000000e+00\n",
      "  0.00000000e+00 0.00000000e+00 0.00000000e+00 1.00000000e+00\n",
      "  1.00000000e+00 1.00000000e+00 0.00000000e+00 0.00000000e+00\n",
      "  5.00000000e-01 1.00000000e+00 1.00000000e+00 7.41733691e-02]\n",
      " [0.00000000e+00 1.00000000e+00 1.00000000e+00 0.00000000e+00\n",
      "  1.00000000e+00 0.00000000e+00 0.00000000e+00 0.00000000e+00\n",
      "  1.00000000e+00 1.00000000e+00 0.00000000e+00 0.00000000e+00\n",
      "  2.50000000e-01 1.00000000e+00 1.00000000e+00 8.48972297e-02]\n",
      " [1.00000000e+00 0.00000000e+00 0.00000000e+00 1.00000000e+00\n",
      "  0.00000000e+00 1.00000000e+00 1.00000000e+00 1.00000000e+00\n",
      "  1.00000000e+00 1.00000000e+00 0.00000000e+00 1.00000000e+00\n",
      "  2.50000000e-01 1.00000000e+00 0.00000000e+00 1.07149240e+00]\n",
      " [1.00000000e+00 0.00000000e+00 0.00000000e+00 1.00000000e+00\n",
      "  0.00000000e+00 1.00000000e+00 1.00000000e+00 1.00000000e+00\n",
      "  1.00000000e+00 1.00000000e+00 0.00000000e+00 1.00000000e+00\n",
      "  0.00000000e+00 0.00000000e+00 0.00000000e+00 1.35746202e+00]\n",
      " [0.00000000e+00 1.00000000e+00 1.00000000e+00 0.00000000e+00\n",
      "  1.00000000e+00 0.00000000e+00 0.00000000e+00 0.00000000e+00\n",
      "  1.00000000e+00 1.00000000e+00 0.00000000e+00 0.00000000e+00\n",
      "  2.50000000e-01 1.00000000e+00 1.00000000e+00 1.06344951e-01]\n",
      " [0.00000000e+00 0.00000000e+00 0.00000000e+00 1.00000000e+00\n",
      "  0.00000000e+00 1.00000000e+00 1.00000000e+00 1.00000000e+00\n",
      "  1.00000000e+00 1.00000000e+00 0.00000000e+00 1.00000000e+00\n",
      "  0.00000000e+00 1.00000000e+00 0.00000000e+00 2.14387846e+00]\n",
      " [0.00000000e+00 0.00000000e+00 1.00000000e+00 0.00000000e+00\n",
      "  0.00000000e+00 1.00000000e+00 1.00000000e+00 0.00000000e+00\n",
      "  0.00000000e+00 0.00000000e+00 0.00000000e+00 0.00000000e+00\n",
      "  7.50000000e-01 0.00000000e+00 0.00000000e+00 1.77837355e-01]\n",
      " [1.00000000e+00 0.00000000e+00 0.00000000e+00 1.00000000e+00\n",
      "  0.00000000e+00 0.00000000e+00 1.00000000e+00 1.00000000e+00\n",
      "  1.00000000e+00 1.00000000e+00 0.00000000e+00 0.00000000e+00\n",
      "  5.00000000e-01 1.00000000e+00 0.00000000e+00 2.67202860e-01]\n",
      " [1.00000000e+00 0.00000000e+00 0.00000000e+00 1.00000000e+00\n",
      "  1.00000000e+00 0.00000000e+00 0.00000000e+00 1.00000000e+00\n",
      "  1.00000000e+00 1.00000000e+00 0.00000000e+00 0.00000000e+00\n",
      "  2.50000000e-01 1.00000000e+00 0.00000000e+00 4.28060769e-01]\n",
      " [1.00000000e+00 0.00000000e+00 0.00000000e+00 1.00000000e+00\n",
      "  0.00000000e+00 0.00000000e+00 1.00000000e+00 1.00000000e+00\n",
      "  1.00000000e+00 1.00000000e+00 0.00000000e+00 0.00000000e+00\n",
      "  5.00000000e-01 0.00000000e+00 0.00000000e+00 7.49776586e-01]\n",
      " [0.00000000e+00 0.00000000e+00 1.00000000e+00 0.00000000e+00\n",
      "  1.00000000e+00 0.00000000e+00 1.00000000e+00 0.00000000e+00\n",
      "  0.00000000e+00 1.00000000e+00 0.00000000e+00 0.00000000e+00\n",
      "  7.50000000e-01 0.00000000e+00 0.00000000e+00 1.96604111e-03]\n",
      " [1.00000000e+00 0.00000000e+00 0.00000000e+00 1.00000000e+00\n",
      "  0.00000000e+00 0.00000000e+00 1.00000000e+00 1.00000000e+00\n",
      "  1.00000000e+00 1.00000000e+00 0.00000000e+00 0.00000000e+00\n",
      "  5.00000000e-01 1.00000000e+00 0.00000000e+00 1.06344951e-01]\n",
      " [0.00000000e+00 0.00000000e+00 1.00000000e+00 0.00000000e+00\n",
      "  0.00000000e+00 0.00000000e+00 0.00000000e+00 0.00000000e+00\n",
      "  0.00000000e+00 1.00000000e+00 0.00000000e+00 0.00000000e+00\n",
      "  0.00000000e+00 0.00000000e+00 0.00000000e+00 1.24218052e-01]\n",
      " [1.00000000e+00 0.00000000e+00 0.00000000e+00 1.00000000e+00\n",
      "  0.00000000e+00 0.00000000e+00 0.00000000e+00 1.00000000e+00\n",
      "  1.00000000e+00 1.00000000e+00 0.00000000e+00 0.00000000e+00\n",
      "  5.00000000e-01 1.00000000e+00 1.00000000e+00 3.56568365e-01]\n",
      " [1.00000000e+00 0.00000000e+00 0.00000000e+00 1.00000000e+00\n",
      "  0.00000000e+00 0.00000000e+00 0.00000000e+00 1.00000000e+00\n",
      "  1.00000000e+00 1.00000000e+00 0.00000000e+00 0.00000000e+00\n",
      "  2.50000000e-01 0.00000000e+00 0.00000000e+00 5.71045576e-01]\n",
      " [1.00000000e+00 0.00000000e+00 1.00000000e+00 1.00000000e+00\n",
      "  0.00000000e+00 1.00000000e+00 1.00000000e+00 0.00000000e+00\n",
      "  1.00000000e+00 1.00000000e+00 0.00000000e+00 0.00000000e+00\n",
      "  5.00000000e-01 1.00000000e+00 0.00000000e+00 1.77837355e-01]\n",
      " [1.00000000e+00 0.00000000e+00 0.00000000e+00 1.00000000e+00\n",
      "  0.00000000e+00 1.00000000e+00 1.00000000e+00 1.00000000e+00\n",
      "  1.00000000e+00 1.00000000e+00 0.00000000e+00 0.00000000e+00\n",
      "  5.00000000e-01 1.00000000e+00 0.00000000e+00 1.42091153e-01]\n",
      " [0.00000000e+00 0.00000000e+00 1.00000000e+00 0.00000000e+00\n",
      "  0.00000000e+00 1.00000000e+00 1.00000000e+00 1.00000000e+00\n",
      "  1.00000000e+00 0.00000000e+00 0.00000000e+00 1.00000000e+00\n",
      "  0.00000000e+00 1.00000000e+00 0.00000000e+00 1.59964254e-01]\n",
      " [0.00000000e+00 1.00000000e+00 1.00000000e+00 0.00000000e+00\n",
      "  0.00000000e+00 0.00000000e+00 1.00000000e+00 0.00000000e+00\n",
      "  1.00000000e+00 1.00000000e+00 0.00000000e+00 0.00000000e+00\n",
      "  2.50000000e-01 1.00000000e+00 0.00000000e+00 1.42091153e-01]\n",
      " [0.00000000e+00 1.00000000e+00 1.00000000e+00 0.00000000e+00\n",
      "  1.00000000e+00 0.00000000e+00 0.00000000e+00 0.00000000e+00\n",
      "  1.00000000e+00 1.00000000e+00 0.00000000e+00 0.00000000e+00\n",
      "  2.50000000e-01 1.00000000e+00 0.00000000e+00 6.42537980e-01]\n",
      " [1.00000000e+00 0.00000000e+00 0.00000000e+00 1.00000000e+00\n",
      "  0.00000000e+00 0.00000000e+00 0.00000000e+00 1.00000000e+00\n",
      "  1.00000000e+00 1.00000000e+00 0.00000000e+00 0.00000000e+00\n",
      "  5.00000000e-01 1.00000000e+00 0.00000000e+00 1.14298481e+00]\n",
      " [1.00000000e+00 0.00000000e+00 0.00000000e+00 1.00000000e+00\n",
      "  0.00000000e+00 0.00000000e+00 1.00000000e+00 1.00000000e+00\n",
      "  1.00000000e+00 1.00000000e+00 0.00000000e+00 0.00000000e+00\n",
      "  5.00000000e-01 1.00000000e+00 0.00000000e+00 2.45755139e-01]\n",
      " [0.00000000e+00 0.00000000e+00 1.00000000e+00 0.00000000e+00\n",
      "  0.00000000e+00 1.00000000e+00 1.00000000e+00 1.00000000e+00\n",
      "  1.00000000e+00 0.00000000e+00 1.00000000e+00 1.00000000e+00\n",
      "  0.00000000e+00 1.00000000e+00 0.00000000e+00 4.28060769e-01]\n",
      " [0.00000000e+00 0.00000000e+00 0.00000000e+00 0.00000000e+00\n",
      "  0.00000000e+00 1.00000000e+00 1.00000000e+00 1.00000000e+00\n",
      "  1.00000000e+00 0.00000000e+00 1.00000000e+00 0.00000000e+00\n",
      "  0.00000000e+00 1.00000000e+00 0.00000000e+00 4.81680071e-01]]\n"
     ]
    }
   ],
   "source": [
    "normalizer = Normalizer()\n",
    "normalizer.fit(X_train)\n",
    "X_train_normalized = normalizer.transform(X_train)\n",
    "X_test_normalized = normalizer.transform(X_test)\n",
    "\n",
    "print(X_train_normalized)\n",
    "print(X_test_normalized)"
   ]
  },
  {
   "attachments": {},
   "cell_type": "markdown",
   "id": "44f2c3b9",
   "metadata": {},
   "source": [
    "## D. Implémenter et évaluer la méthode k-PPV pondérée"
   ]
  },
  {
   "attachments": {},
   "cell_type": "markdown",
   "id": "e102f2b6",
   "metadata": {},
   "source": [
    "Implémentez la variante pondérée de la méthode k-PPV dans une version généralisée de la fonction `predict_kNN(k, X, y, x_new, weights)`"
   ]
  },
  {
   "cell_type": "code",
   "execution_count": 17,
   "id": "9dd119bd",
   "metadata": {},
   "outputs": [
    {
     "name": "stdout",
     "output_type": "stream",
     "text": [
      "[1, 1, 1, 1, 1, 1, 1, 1, 1, 1, 1, 1, 1, 1, 1, 1, 1, 1, 1]\n"
     ]
    }
   ],
   "source": [
    "def predict_kNN(k, X, y, x_new, weights='uniform'):\n",
    "    \"\"\"implémente le classifieur du k-Plus Proches Voisins \n",
    "\n",
    "    Args:\n",
    "        k (int): nombre de voisins à utiliser pour prédire\n",
    "        X (matrice Numpy): le dataset des données d'entraînement\n",
    "        y (vecteur Numpy): le vecteur des labels des données d'entraînement\n",
    "        x_new (vecteur Numpy) : le vecteur de description d'une nouvelle donnée à classer\n",
    "        weights ('uniform', 'distance') : méthode de pondération utilisée pour la prédiction\n",
    "\n",
    "    Returns:\n",
    "        y_new (label):  le label prédit\n",
    "\n",
    "    \"\"\"\n",
    "    distances = np.linalg.norm(X - x_new, axis=1)\n",
    "    nearest_neighbor_ids = distances.argsort()[:k]\n",
    "    nearest_neighbor_class = y[nearest_neighbor_ids]\n",
    "    if weights == 'uniform':\n",
    "        labels, counts = np.unique(nearest_neighbor_class, return_counts=True)\n",
    "        return labels[counts.argsort()[-1]]\n",
    "    elif weights == 'distance':\n",
    "        return nearest_neighbor_class[np.argmin(distances[nearest_neighbor_ids])]\n",
    "    \n",
    "print([predict_kNN(k, X_train_normalized, y_train, X_test_normalized[i,:], weights='distance') for k in range(1, 20)])"
   ]
  },
  {
   "attachments": {},
   "cell_type": "markdown",
   "id": "e2d64239",
   "metadata": {},
   "source": [
    "Généralisez également la fonction d'évaluation `error_kNN(k, X_train, y_train, X_test, y_test, weights)` avec l'argument supplémentaire `weights`"
   ]
  },
  {
   "cell_type": "code",
   "execution_count": null,
   "id": "092161c6",
   "metadata": {},
   "outputs": [],
   "source": [
    "def error_kNN(k, X_train, y_train, X_test, y_test, weights='uniform'):\n",
    "    \"\"\"calcule le taux d'erreur de prédiction par k-PPV sur les données de test \n",
    "\n",
    "    Args:\n",
    "        k (int): nombre de voisins à utiliser pour prédire\n",
    "        X_train (matrice Numpy): le dataset des données d'entraînement\n",
    "        y_train (vecteur Numpy): le vecteur des labels des données d'entraînement\n",
    "        X_test (vecteur Numpy) : le dataset des données de test\n",
    "        y_test (vecteur Numpy): le vecteur des labels des données de test\n",
    "        weights ('uniform', 'distance') : méthode de pondération utilisée dans k-PPV\n",
    "\n",
    "\n",
    "    Returns:\n",
    "        error_rate (float):  le taux d'erreur de prédiciton (Nb. mauvaises prédictions / Nb. prédictions)\n",
    "\n",
    "    \"\"\"\n",
    "    ..."
   ]
  },
  {
   "attachments": {},
   "cell_type": "markdown",
   "id": "8d030161",
   "metadata": {},
   "source": [
    "Enfin, comparez l'erreur faite par chacune des deux versions de la méthode k-PPV (pondérée ou non)."
   ]
  },
  {
   "cell_type": "code",
   "execution_count": null,
   "id": "ea833347",
   "metadata": {},
   "outputs": [],
   "source": []
  }
 ],
 "metadata": {
  "kernelspec": {
   "display_name": "Python 3",
   "language": "python",
   "name": "python3"
  },
  "language_info": {
   "codemirror_mode": {
    "name": "ipython",
    "version": 3
   },
   "file_extension": ".py",
   "mimetype": "text/x-python",
   "name": "python",
   "nbconvert_exporter": "python",
   "pygments_lexer": "ipython3",
   "version": "3.10.12"
  },
  "vscode": {
   "interpreter": {
    "hash": "aee8b7b246df8f9039afb4144a1f6fd8d2ca17a180786b69acc140d282b71a49"
   }
  }
 },
 "nbformat": 4,
 "nbformat_minor": 5
}
