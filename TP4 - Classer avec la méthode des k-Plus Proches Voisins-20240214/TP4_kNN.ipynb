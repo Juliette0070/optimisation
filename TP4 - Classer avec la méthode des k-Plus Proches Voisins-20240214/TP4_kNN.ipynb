{
 "cells": [
  {
   "attachments": {},
   "cell_type": "markdown",
   "id": "0e89b5c8",
   "metadata": {},
   "source": [
    "# Classer avec la méthode des k-Plus Proches Voisins"
   ]
  },
  {
   "attachments": {},
   "cell_type": "markdown",
   "id": "0ef48153",
   "metadata": {},
   "source": [
    "Dans ce TP nous allons implémenter notre première Intelligence Artificielle à partir de la méthode des k-Plus Proches Voisins étudiée en TD. Nous allons implémenter, tester, évaluer et étudier cette méthode de classification sur un jeu de données réelles."
   ]
  },
  {
   "attachments": {},
   "cell_type": "markdown",
   "id": "654024ae",
   "metadata": {},
   "source": [
    "## A. Charger, explorer puis préparer le tableau de données"
   ]
  },
  {
   "attachments": {},
   "cell_type": "markdown",
   "id": "10531ce6",
   "metadata": {},
   "source": [
    "Commencez par importer dans un Dataframe `zoo` les données du fichier `zoo.csv`."
   ]
  },
  {
   "cell_type": "code",
   "execution_count": 2,
   "id": "ff2955e4",
   "metadata": {},
   "outputs": [
    {
     "name": "stdout",
     "output_type": "stream",
     "text": [
      "        Name  hair  feathers  eggs  milk  airbone  aquatic  predator  toothed  \\\n",
      "0   aardvark     1         0     0     1        0        0         1        1   \n",
      "1   antelope     1         0     0     1        0        0         0        1   \n",
      "2       bass     0         0     1     0        0        1         1        1   \n",
      "3       bear     1         0     0     1        0        0         1        1   \n",
      "4       boar     1         0     0     1        0        0         1        1   \n",
      "..       ...   ...       ...   ...   ...      ...      ...       ...      ...   \n",
      "95   wallaby     1         0     0     1        0        0         0        1   \n",
      "96      wasp     1         0     1     0        1        0         0        0   \n",
      "97      wolf     1         0     0     1        0        0         1        1   \n",
      "98      worm     0         0     1     0        0        0         0        0   \n",
      "99      wren     0         1     1     0        1        0         0        0   \n",
      "\n",
      "    backbone  breathes  venomous  fins  legs  tail  domestic   size  type  \n",
      "0          1         1         0     0     4     0         0  115.0     1  \n",
      "1          1         1         0     0     4     1         0   75.0     1  \n",
      "2          1         0         0     1     0     1         0   40.0     4  \n",
      "3          1         1         0     0     4     0         0  210.0     1  \n",
      "4          1         1         0     0     4     1         0  120.0     1  \n",
      "..       ...       ...       ...   ...   ...   ...       ...    ...   ...  \n",
      "95         1         1         0     0     2     1         0  105.0     1  \n",
      "96         0         1         1     0     6     0         0    0.9     6  \n",
      "97         1         1         0     0     4     1         0   75.0     1  \n",
      "98         0         1         0     0     0     0         0   35.0     7  \n",
      "99         1         1         0     0     2     1         0   14.0     2  \n",
      "\n",
      "[100 rows x 18 columns]\n"
     ]
    }
   ],
   "source": [
    "import pandas as pd\n",
    "import numpy as np\n",
    "zoo = pd.read_csv('donnees/zoo.csv')\n",
    "print(zoo)"
   ]
  },
  {
   "attachments": {},
   "cell_type": "markdown",
   "id": "da85323a",
   "metadata": {},
   "source": [
    "Explorez le dataset `zoo`: Combien d'individus? Combien de descripteurs? Quelle est la nature (type) des descripteurs? Y-a-t'il des valeurs manquantes?"
   ]
  },
  {
   "cell_type": "code",
   "execution_count": 3,
   "id": "2063c96e",
   "metadata": {},
   "outputs": [
    {
     "name": "stdout",
     "output_type": "stream",
     "text": [
      "(100, 18)\n",
      "Name         object\n",
      "hair          int64\n",
      "feathers      int64\n",
      "eggs          int64\n",
      "milk          int64\n",
      "airbone       int64\n",
      "aquatic       int64\n",
      "predator      int64\n",
      "toothed       int64\n",
      "backbone      int64\n",
      "breathes      int64\n",
      "venomous      int64\n",
      "fins          int64\n",
      "legs          int64\n",
      "tail          int64\n",
      "domestic      int64\n",
      "size        float64\n",
      "type          int64\n",
      "dtype: object\n"
     ]
    },
    {
     "data": {
      "text/html": [
       "<div>\n",
       "<style scoped>\n",
       "    .dataframe tbody tr th:only-of-type {\n",
       "        vertical-align: middle;\n",
       "    }\n",
       "\n",
       "    .dataframe tbody tr th {\n",
       "        vertical-align: top;\n",
       "    }\n",
       "\n",
       "    .dataframe thead th {\n",
       "        text-align: right;\n",
       "    }\n",
       "</style>\n",
       "<table border=\"1\" class=\"dataframe\">\n",
       "  <thead>\n",
       "    <tr style=\"text-align: right;\">\n",
       "      <th></th>\n",
       "      <th>hair</th>\n",
       "      <th>feathers</th>\n",
       "      <th>eggs</th>\n",
       "      <th>milk</th>\n",
       "      <th>airbone</th>\n",
       "      <th>aquatic</th>\n",
       "      <th>predator</th>\n",
       "      <th>toothed</th>\n",
       "      <th>backbone</th>\n",
       "      <th>breathes</th>\n",
       "      <th>venomous</th>\n",
       "      <th>fins</th>\n",
       "      <th>legs</th>\n",
       "      <th>tail</th>\n",
       "      <th>domestic</th>\n",
       "      <th>size</th>\n",
       "      <th>type</th>\n",
       "    </tr>\n",
       "  </thead>\n",
       "  <tbody>\n",
       "    <tr>\n",
       "      <th>count</th>\n",
       "      <td>100.00000</td>\n",
       "      <td>100.000000</td>\n",
       "      <td>100.000000</td>\n",
       "      <td>100.000000</td>\n",
       "      <td>100.000000</td>\n",
       "      <td>100.000000</td>\n",
       "      <td>100.00</td>\n",
       "      <td>100.000000</td>\n",
       "      <td>100.000000</td>\n",
       "      <td>100.00000</td>\n",
       "      <td>100.000000</td>\n",
       "      <td>100.000000</td>\n",
       "      <td>100.000000</td>\n",
       "      <td>100.000000</td>\n",
       "      <td>100.000000</td>\n",
       "      <td>100.000000</td>\n",
       "      <td>100.000000</td>\n",
       "    </tr>\n",
       "    <tr>\n",
       "      <th>mean</th>\n",
       "      <td>0.43000</td>\n",
       "      <td>0.200000</td>\n",
       "      <td>0.580000</td>\n",
       "      <td>0.410000</td>\n",
       "      <td>0.240000</td>\n",
       "      <td>0.350000</td>\n",
       "      <td>0.55</td>\n",
       "      <td>0.600000</td>\n",
       "      <td>0.820000</td>\n",
       "      <td>0.79000</td>\n",
       "      <td>0.070000</td>\n",
       "      <td>0.170000</td>\n",
       "      <td>2.830000</td>\n",
       "      <td>0.750000</td>\n",
       "      <td>0.130000</td>\n",
       "      <td>91.728500</td>\n",
       "      <td>2.810000</td>\n",
       "    </tr>\n",
       "    <tr>\n",
       "      <th>std</th>\n",
       "      <td>0.49757</td>\n",
       "      <td>0.402015</td>\n",
       "      <td>0.496045</td>\n",
       "      <td>0.494311</td>\n",
       "      <td>0.429235</td>\n",
       "      <td>0.479372</td>\n",
       "      <td>0.50</td>\n",
       "      <td>0.492366</td>\n",
       "      <td>0.386123</td>\n",
       "      <td>0.40936</td>\n",
       "      <td>0.256432</td>\n",
       "      <td>0.377525</td>\n",
       "      <td>2.040276</td>\n",
       "      <td>0.435194</td>\n",
       "      <td>0.337998</td>\n",
       "      <td>105.726317</td>\n",
       "      <td>2.101923</td>\n",
       "    </tr>\n",
       "    <tr>\n",
       "      <th>min</th>\n",
       "      <td>0.00000</td>\n",
       "      <td>0.000000</td>\n",
       "      <td>0.000000</td>\n",
       "      <td>0.000000</td>\n",
       "      <td>0.000000</td>\n",
       "      <td>0.000000</td>\n",
       "      <td>0.00</td>\n",
       "      <td>0.000000</td>\n",
       "      <td>0.000000</td>\n",
       "      <td>0.00000</td>\n",
       "      <td>0.000000</td>\n",
       "      <td>0.000000</td>\n",
       "      <td>0.000000</td>\n",
       "      <td>0.000000</td>\n",
       "      <td>0.000000</td>\n",
       "      <td>0.250000</td>\n",
       "      <td>1.000000</td>\n",
       "    </tr>\n",
       "    <tr>\n",
       "      <th>25%</th>\n",
       "      <td>0.00000</td>\n",
       "      <td>0.000000</td>\n",
       "      <td>0.000000</td>\n",
       "      <td>0.000000</td>\n",
       "      <td>0.000000</td>\n",
       "      <td>0.000000</td>\n",
       "      <td>0.00</td>\n",
       "      <td>0.000000</td>\n",
       "      <td>1.000000</td>\n",
       "      <td>1.00000</td>\n",
       "      <td>0.000000</td>\n",
       "      <td>0.000000</td>\n",
       "      <td>2.000000</td>\n",
       "      <td>0.750000</td>\n",
       "      <td>0.000000</td>\n",
       "      <td>17.875000</td>\n",
       "      <td>1.000000</td>\n",
       "    </tr>\n",
       "    <tr>\n",
       "      <th>50%</th>\n",
       "      <td>0.00000</td>\n",
       "      <td>0.000000</td>\n",
       "      <td>1.000000</td>\n",
       "      <td>0.000000</td>\n",
       "      <td>0.000000</td>\n",
       "      <td>0.000000</td>\n",
       "      <td>1.00</td>\n",
       "      <td>1.000000</td>\n",
       "      <td>1.000000</td>\n",
       "      <td>1.00000</td>\n",
       "      <td>0.000000</td>\n",
       "      <td>0.000000</td>\n",
       "      <td>3.000000</td>\n",
       "      <td>1.000000</td>\n",
       "      <td>0.000000</td>\n",
       "      <td>55.000000</td>\n",
       "      <td>2.000000</td>\n",
       "    </tr>\n",
       "    <tr>\n",
       "      <th>75%</th>\n",
       "      <td>1.00000</td>\n",
       "      <td>0.000000</td>\n",
       "      <td>1.000000</td>\n",
       "      <td>1.000000</td>\n",
       "      <td>0.000000</td>\n",
       "      <td>1.000000</td>\n",
       "      <td>1.00</td>\n",
       "      <td>1.000000</td>\n",
       "      <td>1.000000</td>\n",
       "      <td>1.00000</td>\n",
       "      <td>0.000000</td>\n",
       "      <td>0.000000</td>\n",
       "      <td>4.000000</td>\n",
       "      <td>1.000000</td>\n",
       "      <td>0.000000</td>\n",
       "      <td>127.500000</td>\n",
       "      <td>4.000000</td>\n",
       "    </tr>\n",
       "    <tr>\n",
       "      <th>max</th>\n",
       "      <td>1.00000</td>\n",
       "      <td>1.000000</td>\n",
       "      <td>1.000000</td>\n",
       "      <td>1.000000</td>\n",
       "      <td>1.000000</td>\n",
       "      <td>1.000000</td>\n",
       "      <td>1.00</td>\n",
       "      <td>1.000000</td>\n",
       "      <td>1.000000</td>\n",
       "      <td>1.00000</td>\n",
       "      <td>1.000000</td>\n",
       "      <td>1.000000</td>\n",
       "      <td>8.000000</td>\n",
       "      <td>1.000000</td>\n",
       "      <td>1.000000</td>\n",
       "      <td>600.000000</td>\n",
       "      <td>7.000000</td>\n",
       "    </tr>\n",
       "  </tbody>\n",
       "</table>\n",
       "</div>"
      ],
      "text/plain": [
       "            hair    feathers        eggs        milk     airbone     aquatic  \\\n",
       "count  100.00000  100.000000  100.000000  100.000000  100.000000  100.000000   \n",
       "mean     0.43000    0.200000    0.580000    0.410000    0.240000    0.350000   \n",
       "std      0.49757    0.402015    0.496045    0.494311    0.429235    0.479372   \n",
       "min      0.00000    0.000000    0.000000    0.000000    0.000000    0.000000   \n",
       "25%      0.00000    0.000000    0.000000    0.000000    0.000000    0.000000   \n",
       "50%      0.00000    0.000000    1.000000    0.000000    0.000000    0.000000   \n",
       "75%      1.00000    0.000000    1.000000    1.000000    0.000000    1.000000   \n",
       "max      1.00000    1.000000    1.000000    1.000000    1.000000    1.000000   \n",
       "\n",
       "       predator     toothed    backbone   breathes    venomous        fins  \\\n",
       "count    100.00  100.000000  100.000000  100.00000  100.000000  100.000000   \n",
       "mean       0.55    0.600000    0.820000    0.79000    0.070000    0.170000   \n",
       "std        0.50    0.492366    0.386123    0.40936    0.256432    0.377525   \n",
       "min        0.00    0.000000    0.000000    0.00000    0.000000    0.000000   \n",
       "25%        0.00    0.000000    1.000000    1.00000    0.000000    0.000000   \n",
       "50%        1.00    1.000000    1.000000    1.00000    0.000000    0.000000   \n",
       "75%        1.00    1.000000    1.000000    1.00000    0.000000    0.000000   \n",
       "max        1.00    1.000000    1.000000    1.00000    1.000000    1.000000   \n",
       "\n",
       "             legs        tail    domestic        size        type  \n",
       "count  100.000000  100.000000  100.000000  100.000000  100.000000  \n",
       "mean     2.830000    0.750000    0.130000   91.728500    2.810000  \n",
       "std      2.040276    0.435194    0.337998  105.726317    2.101923  \n",
       "min      0.000000    0.000000    0.000000    0.250000    1.000000  \n",
       "25%      2.000000    0.750000    0.000000   17.875000    1.000000  \n",
       "50%      3.000000    1.000000    0.000000   55.000000    2.000000  \n",
       "75%      4.000000    1.000000    0.000000  127.500000    4.000000  \n",
       "max      8.000000    1.000000    1.000000  600.000000    7.000000  "
      ]
     },
     "execution_count": 3,
     "metadata": {},
     "output_type": "execute_result"
    }
   ],
   "source": [
    "print(zoo.shape)\n",
    "print(zoo.dtypes)\n",
    "zoo.describe()"
   ]
  },
  {
   "attachments": {},
   "cell_type": "markdown",
   "id": "1106c329",
   "metadata": {},
   "source": [
    "Dans ce dataset, la dernière colonne `type` correspond à la catégorie de l'animal :\n",
    "|  Type  |    Catégorie    |\n",
    "| :---------:|---------|\n",
    "| 1 |Mammifères|\n",
    "| 2 |Oiseaux|\n",
    "| 3 |Reptiles|\n",
    "| 4 |Poissons|\n",
    "| 5 |Amphibiens|\n",
    "| 6 |Insectes|\n",
    "| 7 |Invertébrés|\n",
    "\n",
    "Notre IA devra prédire la catégorie d'un animal à partir de sa description (sans le `Name`). Il s'agit donc d'une tâche de prédiction à **7 classes**."
   ]
  },
  {
   "attachments": {},
   "cell_type": "markdown",
   "id": "bf7f141e",
   "metadata": {},
   "source": [
    "Observez la distribution des individus selon la variable de classe (`type`) et constatez le déséquilibre des classes. Cela aura-t'il une incidence sur la méthode de k-PPV?"
   ]
  },
  {
   "cell_type": "code",
   "execution_count": 4,
   "id": "7f9a0e44",
   "metadata": {},
   "outputs": [
    {
     "data": {
      "image/png": "[encoded data removed]",
      "text/plain": [
       "<Figure size 432x288 with 1 Axes>"
      ]
     },
     "metadata": {},
     "output_type": "display_data"
    }
   ],
   "source": [
    "import matplotlib.pyplot as plt\n",
    "labels, sizes = np.unique(zoo['type'], return_counts=True)\n",
    "plt.pie(sizes, labels=labels)\n",
    "plt.show()"
   ]
  },
  {
   "attachments": {},
   "cell_type": "markdown",
   "id": "3e79c8e8",
   "metadata": {},
   "source": [
    "A partir du dataframe `zoo`, vous allez construire deux tableaux Numpy :\n",
    "- `X` est la matrice (100x16) des descriptions des individus\n",
    "- `y` est le vecteur contenant les (100) catégories d'animaux "
   ]
  },
  {
   "cell_type": "code",
   "execution_count": 5,
   "id": "7155e66a",
   "metadata": {},
   "outputs": [],
   "source": [
    "X = np.array(zoo.iloc[:, 1:-1])\n",
    "y = np.array(zoo[\"type\"])"
   ]
  },
  {
   "attachments": {},
   "cell_type": "markdown",
   "id": "c8169074",
   "metadata": {},
   "source": [
    "Nous allons à présent découper `X` et `y` en deux sous-ensembles :\n",
    "- `X_train` : qui contient des individus que la méthode k-PPV utilisera pour prédire\n",
    "- `X_test`  : qui contient des individus que nous utiliserons pour évaluer notre IA (et ainsi ajuster le paramètre k)\n",
    "- `y_train` : qui contient les labels des individus de `X_train`\n",
    "- `y_test`  : qui contient les labels des individus de `X_test`\n",
    "\n",
    "Ecrire une fonction (générique) `train_test_split(X, y, train_ratio)` qui réalise un tel découpage :"
   ]
  },
  {
   "cell_type": "code",
   "execution_count": 6,
   "id": "0187d83a",
   "metadata": {},
   "outputs": [
    {
     "name": "stdout",
     "output_type": "stream",
     "text": [
      "(70, 16)\n",
      "(30, 16)\n",
      "(70,)\n",
      "(30,)\n"
     ]
    }
   ],
   "source": [
    "import random\n",
    "\n",
    "def train_test_split(X, y, train_ratio):\n",
    "    \"\"\"découpe un dataset X en deux ensembles d'entraînement (train) et de test ainsi que les labels associés\n",
    "\n",
    "    Args:\n",
    "        X (matrice Numpy): le dataset à découper\n",
    "        y (vecteur Numpy): le vecteur des labels à découper\n",
    "        train_ratio (float): entre 0.0 et 1.0 = proportion du dataset à inclure dans l'ensemble d'entraînement (train)\n",
    "\n",
    "    Returns:\n",
    "        X_train (matrice Numpy): le sous-ensemble d'entraînement\n",
    "        X_test (matrice Numpy):  le sous-ensemble de test\n",
    "        y_train (vecteur Numpy): les labels données d'entraînement\n",
    "        y_test (vecteur Numpy):  les labels données de test\n",
    "\n",
    "    \"\"\"\n",
    "    N = X.shape[0]\n",
    "    if N != y.shape[0]:\n",
    "        return None\n",
    "    \n",
    "    ids = np.arange(N)\n",
    "    np.random.shuffle(ids)\n",
    "    nb_train = int(N * train_ratio)\n",
    "    train_ids, test_ids = ids[:nb_train], ids[nb_train:]\n",
    "    return X[train_ids, :], X[test_ids, :], y[train_ids], y[test_ids]\n",
    "\n",
    "X_train, X_test, y_train, y_test = train_test_split(X, y, 0.7)\n",
    "print(X_train.shape)\n",
    "print(X_test.shape)\n",
    "print(y_train.shape)\n",
    "print(y_test.shape)"
   ]
  },
  {
   "attachments": {},
   "cell_type": "markdown",
   "id": "834cfd92",
   "metadata": {},
   "source": [
    "Utilisez votre fonction pour découper notre dataset `X` en deux sous-ensembles de mêmes tailles.\n",
    "\n",
    "Vérifiez que les déséquilibres des classes sont globalement respectés (relancez le découpage si certaines classes sont absentes dans l'un des deux sous-ensembles)."
   ]
  },
  {
   "cell_type": "code",
   "execution_count": 7,
   "id": "3d42b684",
   "metadata": {},
   "outputs": [
    {
     "name": "stdout",
     "output_type": "stream",
     "text": [
      "(array([1, 2, 3, 4, 5, 6, 7], dtype=int64), array([23, 11,  3,  6,  1,  1,  5], dtype=int64))\n",
      "(array([1, 2, 3, 4, 5, 6, 7], dtype=int64), array([18,  9,  2,  7,  2,  7,  5], dtype=int64))\n"
     ]
    }
   ],
   "source": [
    "X_train, X_test, y_train, y_test = train_test_split(X, y, 0.5)\n",
    "print(np.unique(y_train, return_counts=True))\n",
    "print(np.unique(y_test, return_counts=True))"
   ]
  },
  {
   "attachments": {},
   "cell_type": "markdown",
   "id": "71997f89",
   "metadata": {},
   "source": [
    "---"
   ]
  },
  {
   "attachments": {},
   "cell_type": "markdown",
   "id": "9e305b1d",
   "metadata": {},
   "source": [
    "## B. Implémenter et évaluer la méthode k-PPV (non-pondérée)"
   ]
  },
  {
   "attachments": {},
   "cell_type": "markdown",
   "id": "66c18c2e",
   "metadata": {},
   "source": [
    "Définissez une fonction `predict_kNN(k, X, y, x_new)` qui prédit la classe d'une description `x_new` par la méthodes k-PPV non-pondérée utilisée sur les données `X` de ayant pour labels `y` avec la distance Euclidienne."
   ]
  },
  {
   "cell_type": "code",
   "execution_count": 8,
   "id": "fcf443e8",
   "metadata": {},
   "outputs": [],
   "source": [
    "def predict_kNN(k, X, y, x_new):\n",
    "    \"\"\"implémente le classifieur du k-Plus Proches Voisins \n",
    "\n",
    "    Args:\n",
    "        k (int): nombre de voisins à utiliser pour prédire\n",
    "        X (matrice Numpy): le dataset des données d'entraînement\n",
    "        y (vecteur Numpy): le vecteur des labels des données d'entraînement\n",
    "        x_new (vecteur Numpy) : le vecteur de description d'une nouvelle donnée à classer\n",
    "\n",
    "    Returns:\n",
    "        y_new (label):  le label prédit\n",
    "\n",
    "    \"\"\"\n",
    "    distances = np.linalg.norm(X - x_new, axis=1)\n",
    "    nearest_neighbor_ids = distances.argsort()[:k]\n",
    "    nearest_neighbor_class = y[nearest_neighbor_ids]\n",
    "    labels, counts = np.unique(nearest_neighbor_class, return_counts=True)\n",
    "    return labels[counts.argsort()[-1]]"
   ]
  },
  {
   "attachments": {},
   "cell_type": "markdown",
   "id": "457fb490",
   "metadata": {},
   "source": [
    "Utilisez la fonction `predict_kNN` pour prédire la classe de l'individu situé à l'indice 23 dans `X_test` à partir des données d'entraînement (`X_train`, `y_train`). Affichez la classe prédite selon différentes valeurs de `k` et comparez avec la vraie classe de l'individu (`y_test[23]`). "
   ]
  },
  {
   "cell_type": "code",
   "execution_count": 9,
   "id": "92876e7c",
   "metadata": {},
   "outputs": [
    {
     "name": "stdout",
     "output_type": "stream",
     "text": [
      "[1, 2, 2, 2, 2, 2, 2, 2, 2, 2, 2, 2, 2, 2, 2, 2, 2, 2, 2]\n"
     ]
    },
    {
     "data": {
      "text/plain": [
       "1"
      ]
     },
     "execution_count": 9,
     "metadata": {},
     "output_type": "execute_result"
    }
   ],
   "source": [
    "i = 46\n",
    "print([predict_kNN(k, X_train, y_train, X_test[i,:]) for k in range(1, 20)])\n",
    "y_test[i]"
   ]
  },
  {
   "attachments": {},
   "cell_type": "markdown",
   "id": "2e3838f7",
   "metadata": {},
   "source": [
    "Définissez une fonction `error_kNN(k, X_train, y_train, X_test, y_test)` qui renvoie le taux d'erreur de prédiction de la méthode k-PPV sur des données de test. "
   ]
  },
  {
   "cell_type": "code",
   "execution_count": 10,
   "id": "708c13e3",
   "metadata": {},
   "outputs": [],
   "source": [
    "def error_kNN(k, X_train, y_train, X_test, y_test,):\n",
    "    \"\"\"calcule le taux d'erreur de prédiction par k-PPV sur les données de test \n",
    "\n",
    "    Args:\n",
    "        k (int): nombre de voisins à utiliser pour prédire\n",
    "        X_train (matrice Numpy): le dataset des données d'entraînement\n",
    "        y_train (vecteur Numpy): le vecteur des labels des données d'entraînement\n",
    "        X_test (vecteur Numpy) : le dataset des données de test\n",
    "        y_test (vecteur Numpy): le vecteur des labels des données de test\n",
    "\n",
    "\n",
    "    Returns:\n",
    "        error_rate (float):  le taux d'erreur de prédiciton (Nb. mauvaises prédictions / Nb. prédictions)\n",
    "\n",
    "    \"\"\"\n",
    "    y_pred = np.array([predict_kNN(k, X_train, y_train, x) for x in X_test])\n",
    "    return 1 - np.mean(y_pred == y_test)"
   ]
  },
  {
   "attachments": {},
   "cell_type": "markdown",
   "id": "681e0848",
   "metadata": {},
   "source": [
    "Tracez la courbe du taux d'erreur en fonction du paramètre `k`. Quelle valeur choisirez-vous pour `k`? Est-ce que votre classifieur vous semble performant?"
   ]
  },
  {
   "cell_type": "code",
   "execution_count": 11,
   "id": "4fcc8116",
   "metadata": {},
   "outputs": [
    {
     "name": "stdout",
     "output_type": "stream",
     "text": [
      "[0.48, 0.6, 0.62, 0.48, 0.6799999999999999, 0.62, 0.5800000000000001, 0.6, 0.5800000000000001, 0.64, 0.62, 0.62, 0.64, 0.64, 0.64, 0.64, 0.62, 0.64, 0.64, 0.62, 0.62, 0.62, 0.62, 0.6, 0.62, 0.6599999999999999, 0.6599999999999999, 0.6799999999999999, 0.6599999999999999]\n"
     ]
    },
    {
     "data": {
      "text/plain": [
       "[<matplotlib.lines.Line2D at 0x1d0bf5c5150>]"
      ]
     },
     "execution_count": 11,
     "metadata": {},
     "output_type": "execute_result"
    },
    {
     "data": {
      "image/png": "[encoded data removed]",
      "text/plain": [
       "<Figure size 432x288 with 1 Axes>"
      ]
     },
     "metadata": {
      "needs_background": "light"
     },
     "output_type": "display_data"
    }
   ],
   "source": [
    "print([error_kNN(k, X_train, y_train, X_test, y_test) for k in range(1, 30)])\n",
    "plt.plot(range(1, 30), [error_kNN(k, X_train, y_train, X_test, y_test) for k in range(1, 30)])"
   ]
  },
  {
   "attachments": {},
   "cell_type": "markdown",
   "id": "02e15347",
   "metadata": {},
   "source": [
    "Avant de conclure (trop vite!)... quel serait le taux d'erreur d'un classifieur k-PPV qui fonderait ses prédictions sur la taille des animaux uniquement (descripteur `size`)?"
   ]
  },
  {
   "cell_type": "code",
   "execution_count": 12,
   "id": "cafdfe3d",
   "metadata": {},
   "outputs": [
    {
     "name": "stdout",
     "output_type": "stream",
     "text": [
      "[0.54, 0.4800000000000001, 0.6900000000000001, 0.5900000000000001, 0.5599999999999999, 0.6199999999999999, 0.5800000000000001, 0.59, 0.6, 0.45999999999999996, 0.54, 0.57, 0.5299999999999999, 0.55, 0.5700000000000001, 0.5200000000000001, 0.52, 0.61, 0.62, 0.55, 0.58, 0.61, 0.5599999999999999, 0.6300000000000001, 0.57, 0.68, 0.62, 0.5599999999999999, 0.6900000000000001]\n"
     ]
    },
    {
     "data": {
      "text/plain": [
       "[<matplotlib.lines.Line2D at 0x1d0c262a200>]"
      ]
     },
     "execution_count": 12,
     "metadata": {},
     "output_type": "execute_result"
    },
    {
     "data": {
      "image/png": "[encoded data removed]",
      "text/plain": [
       "<Figure size 432x288 with 1 Axes>"
      ]
     },
     "metadata": {
      "needs_background": "light"
     },
     "output_type": "display_data"
    }
   ],
   "source": [
    "\n",
    "def cross_validation_error(k, X, y, n_folds=5):\n",
    "    \"\"\"calcule le taux d'erreur de prédiction par k-PPV sur les données de test \n",
    "\n",
    "    Args:\n",
    "        k (int): nombre de voisins à utiliser pour prédire\n",
    "        X (matrice Numpy): le dataset des données\n",
    "        y (vecteur Numpy): le vecteur des labels des données\n",
    "        n_folds (int): nombre de folds à utiliser pour la validation croisée\n",
    "\n",
    "    Returns:\n",
    "        error_rate (float):  le taux d'erreur de prédiciton (Nb. mauvaises prédictions / Nb. prédictions)\n",
    "\n",
    "    \"\"\"\n",
    "    N = X.shape[0]\n",
    "    fold_size = N // n_folds\n",
    "    errors = []\n",
    "    for fold in range(n_folds):\n",
    "        ids = np.arange(N)\n",
    "        np.random.shuffle(ids)\n",
    "        train_ids = np.concatenate([ids[:fold*fold_size], ids[(fold+1)*fold_size:]])\n",
    "        test_ids = ids[fold*fold_size:(fold+1)*fold_size]\n",
    "        error = error_kNN(k, X[train_ids], y[train_ids], X[test_ids], y[test_ids])\n",
    "        errors.append(error)\n",
    "    return np.mean(errors)\n",
    "\n",
    "print([cross_validation_error(k, X, y) for k in range(1, 30)])\n",
    "plt.plot(range(1, 30), [cross_validation_error(k, X, y) for k in range(1, 30)])"
   ]
  },
  {
   "attachments": {},
   "cell_type": "markdown",
   "id": "ecbafa59",
   "metadata": {},
   "source": [
    "## C. Normaliser les données"
   ]
  },
  {
   "attachments": {},
   "cell_type": "markdown",
   "id": "a9d9d581",
   "metadata": {},
   "source": [
    "Vous avez constaté que tous les descriteurs n'ont pas la même influence dans le calcul des distances entre individus, du fait de l'amplitude des valeurs associée à chaque descripteurs.\n",
    "\n",
    "Pour faire en sorte que chaque descripteur ait la même influence dans le traitement du tableau de données, on procède à une **normalisation** des données. \n",
    "\n",
    "> Normaliser un ensemble $Z$ consiste à ramener toutes ses valeurs dans l'intervalle $[0,1]$ par l'opération : $$\\tilde{z}_{i}=\\frac{z_{i}-min_Z}{max_Z-min_Z}$$\n",
    ">"
   ]
  },
  {
   "attachments": {},
   "cell_type": "markdown",
   "id": "dc43420a",
   "metadata": {},
   "source": [
    "Complétez la classe `Normalizer` ci-dessous qui définit un **outil** de normalisation d'un jeu de données. La normalisation d'un jeu de données procédera en deux temps :\n",
    "- calcul des paramètres de la fonction de normalisation sur des données (méthode `.fit()`)\n",
    "- application de la fonction de normalisation sur des données (méthode `.transform()`)"
   ]
  },
  {
   "cell_type": "code",
   "execution_count": 13,
   "id": "04d0a423",
   "metadata": {},
   "outputs": [],
   "source": [
    "class Normalizer:\n",
    "    \n",
    "    min = None\n",
    "    max = None\n",
    "    \n",
    "    def fit(self, X):\n",
    "        \"\"\"calcule les min et max de chaque colonne de X\"\"\"\n",
    "        self.min = np.min(X, axis=0)\n",
    "        self.max = np.max(X, axis=0)\n",
    "    \n",
    "    def transform(self, X):\n",
    "        \"\"\"renvoie X normalisé\"\"\"\n",
    "        return (X - self.min) / (self.max - self.min)\n",
    "        "
   ]
  },
  {
   "attachments": {},
   "cell_type": "markdown",
   "id": "94e0bceb",
   "metadata": {},
   "source": [
    "Appliquez la normalisation sur l'ensemble des individus (100 descriptions) puis comparez l'erreur faite par la méthode des k-PPV avant et après normalisation. Concluez sur l'utilité de cette étape de normalisation."
   ]
  },
  {
   "cell_type": "code",
   "execution_count": 14,
   "id": "65bcbbcc",
   "metadata": {},
   "outputs": [
    {
     "name": "stdout",
     "output_type": "stream",
     "text": [
      "[[0.         0.         1.         0.         0.         0.\n",
      "  1.         1.         1.         1.         1.         0.\n",
      "  0.         1.         0.         0.52594153]\n",
      " [0.         0.         1.         0.         0.         0.\n",
      "  1.         1.         1.         1.         0.         0.\n",
      "  0.5        1.         0.         0.19673426]\n",
      " [0.         0.         1.         0.         0.         1.\n",
      "  0.         1.         1.         0.         0.         1.\n",
      "  0.         1.         0.         0.04134843]\n",
      " [0.         1.         1.         0.         1.         1.\n",
      "  1.         0.         1.         1.         0.         0.\n",
      "  0.25       1.         0.         0.14669476]\n",
      " [0.         1.         1.         0.         1.         0.\n",
      "  0.         0.         1.         1.         0.         0.\n",
      "  0.25       1.         0.         0.03871477]\n",
      " [1.         0.         0.         1.         0.         0.\n",
      "  0.         1.         1.         1.         0.         0.\n",
      "  0.5        1.         1.         0.05451672]\n",
      " [1.         0.         1.         1.         0.         1.\n",
      "  1.         0.         1.         1.         0.         0.\n",
      "  0.5        1.         0.         0.13089281]\n",
      " [0.         0.         1.         0.         0.         1.\n",
      "  1.         1.         1.         0.         0.         1.\n",
      "  0.         1.         0.         0.09928891]\n",
      " [0.         0.         1.         0.         0.         1.\n",
      "  1.         1.         1.         1.         0.         0.\n",
      "  0.5        0.         0.         0.03608112]\n",
      " [1.         0.         0.         1.         0.         0.\n",
      "  1.         1.         1.         1.         0.         0.\n",
      "  0.5        0.         0.         0.30208059]\n",
      " [0.         1.         1.         0.         1.         0.\n",
      "  0.         0.         1.         1.         0.         0.\n",
      "  0.25       1.         1.         0.0624177 ]\n",
      " [0.         1.         1.         0.         1.         1.\n",
      "  1.         0.         1.         1.         0.         0.\n",
      "  0.25       1.         0.         0.        ]\n",
      " [1.         0.         0.         1.         0.         1.\n",
      "  1.         1.         1.         1.         0.         1.\n",
      "  0.25       1.         0.         0.78930735]\n",
      " [0.         1.         1.         0.         1.         0.\n",
      "  0.         0.         1.         1.         0.         0.\n",
      "  0.25       1.         1.         0.07821965]\n",
      " [1.         0.         0.         1.         0.         0.\n",
      "  1.         1.         1.         1.         0.         0.\n",
      "  0.5        1.         0.         0.03608112]\n",
      " [0.         1.         1.         0.         0.         0.\n",
      "  1.         0.         1.         1.         0.         0.\n",
      "  0.25       1.         0.         0.47326837]\n",
      " [1.         0.         0.         1.         0.         0.\n",
      "  0.         1.         1.         1.         0.         0.\n",
      "  0.5        1.         1.         0.26257572]\n",
      " [1.         0.         0.         1.         0.         0.\n",
      "  1.         1.         1.         1.         0.         0.\n",
      "  0.5        1.         0.         0.18093231]\n",
      " [0.         0.         1.         0.         0.         1.\n",
      "  1.         1.         1.         0.         0.         1.\n",
      "  0.         1.         0.         0.02554648]\n",
      " [0.         0.         1.         0.         0.         1.\n",
      "  1.         0.         0.         0.         1.         0.\n",
      "  0.         0.         0.         0.39425863]\n",
      " [1.         0.         0.         1.         0.         0.\n",
      "  1.         1.         1.         1.         0.         0.\n",
      "  0.5        1.         1.         0.09138794]\n",
      " [1.         0.         0.         1.         0.         0.\n",
      "  1.         1.         1.         1.         0.         0.\n",
      "  0.5        0.         0.         0.55227811]\n",
      " [1.         0.         0.         1.         0.         0.\n",
      "  1.         1.         1.         1.         0.         0.\n",
      "  0.5        1.         0.         0.40742692]\n",
      " [0.         0.         1.         0.         0.         1.\n",
      "  1.         0.         0.         0.         0.         0.\n",
      "  1.         0.         0.         0.52594153]\n",
      " [1.         0.         0.         1.         0.         0.\n",
      "  0.         1.         1.         1.         0.         0.\n",
      "  0.5        1.         1.         0.48643666]\n",
      " [1.         0.         0.         1.         0.         0.\n",
      "  0.         1.         1.         1.         0.         0.\n",
      "  0.5        1.         0.         0.04661575]\n",
      " [1.         0.         0.         1.         1.         0.\n",
      "  0.         1.         1.         1.         0.         0.\n",
      "  0.25       1.         0.         0.02027917]\n",
      " [0.         0.         1.         0.         0.         1.\n",
      "  1.         0.         0.         0.         0.         0.\n",
      "  0.75       0.         0.         0.04529892]\n",
      " [0.         0.         1.         0.         0.         1.\n",
      "  1.         1.         1.         0.         1.         1.\n",
      "  0.         1.         0.         0.31524888]\n",
      " [0.         1.         1.         0.         1.         0.\n",
      "  0.         0.         1.         1.         0.         0.\n",
      "  0.25       1.         1.         0.07821965]\n",
      " [0.         0.         1.         0.         0.         1.\n",
      "  1.         1.         1.         0.         0.         1.\n",
      "  0.         1.         0.         0.0308138 ]\n",
      " [1.         0.         0.         1.         0.         0.\n",
      "  0.         1.         1.         1.         0.         0.\n",
      "  0.5        1.         0.         0.73663418]\n",
      " [0.         1.         1.         0.         1.         0.\n",
      "  1.         0.         1.         1.         0.         0.\n",
      "  0.25       1.         0.         0.10718989]\n",
      " [0.         1.         1.         0.         1.         0.\n",
      "  1.         0.         1.         1.         0.         0.\n",
      "  0.25       1.         0.         0.05715038]\n",
      " [0.         0.         1.         0.         0.         1.\n",
      "  1.         0.         0.         0.         0.         0.\n",
      "  0.5        0.         0.         0.03608112]\n",
      " [0.         1.         1.         0.         1.         0.\n",
      "  0.         0.         1.         1.         0.         0.\n",
      "  0.25       1.         0.         0.17829866]\n",
      " [1.         0.         0.         1.         0.         0.\n",
      "  1.         1.         1.         1.         0.         0.\n",
      "  0.5        1.         0.         0.1440611 ]\n",
      " [1.         0.         0.         1.         0.         0.\n",
      "  1.         1.         1.         1.         0.         0.\n",
      "  0.5        1.         0.         0.55227811]\n",
      " [1.         0.         0.         1.         0.         0.\n",
      "  1.         1.         1.         1.         0.         0.\n",
      "  0.5        1.         0.         0.15986305]\n",
      " [0.         0.         1.         0.         0.         0.\n",
      "  0.         0.         0.         1.         0.         0.\n",
      "  0.         0.         0.         0.03871477]\n",
      " [1.         0.         0.         1.         0.         0.\n",
      "  1.         1.         1.         1.         0.         0.\n",
      "  0.5        1.         0.         0.36792204]\n",
      " [1.         0.         1.         0.         1.         0.\n",
      "  0.         0.         0.         1.         1.         0.\n",
      "  0.75       0.         1.         0.00158019]\n",
      " [1.         0.         0.         1.         0.         0.\n",
      "  0.         1.         1.         1.         0.         0.\n",
      "  0.5        1.         0.         0.49960495]\n",
      " [0.         0.         1.         0.         0.         1.\n",
      "  1.         1.         1.         0.         0.         1.\n",
      "  0.         1.         0.         0.10455623]\n",
      " [1.         0.         0.         1.         0.         1.\n",
      "  1.         1.         1.         1.         0.         1.\n",
      "  0.         0.         0.         1.        ]\n",
      " [0.         0.         0.         0.         0.         1.\n",
      "  1.         1.         1.         0.         1.         0.\n",
      "  0.         1.         0.         0.35475375]\n",
      " [1.         0.         0.         1.         0.         0.\n",
      "  1.         1.         1.         1.         0.         0.\n",
      "  0.5        1.         0.         0.24940743]\n",
      " [0.         0.         0.         1.         0.         1.\n",
      "  1.         1.         1.         1.         0.         1.\n",
      "  0.         1.         0.         0.46010008]\n",
      " [0.         1.         1.         0.         1.         0.\n",
      "  0.         0.         1.         1.         0.         0.\n",
      "  0.25       1.         0.         0.03608112]\n",
      " [1.         0.         0.         1.         0.         0.\n",
      "  0.         1.         1.         1.         0.         0.\n",
      "  0.5        1.         0.         0.1440611 ]]\n",
      "[[ 0.00000000e+00  0.00000000e+00  1.00000000e+00  0.00000000e+00\n",
      "   0.00000000e+00  1.00000000e+00  1.00000000e+00  1.00000000e+00\n",
      "   1.00000000e+00  1.00000000e+00  0.00000000e+00  0.00000000e+00\n",
      "   5.00000000e-01  1.00000000e+00  0.00000000e+00  3.08138004e-02]\n",
      " [ 1.00000000e+00  0.00000000e+00  0.00000000e+00  1.00000000e+00\n",
      "   1.00000000e+00  0.00000000e+00  0.00000000e+00  1.00000000e+00\n",
      "   1.00000000e+00  1.00000000e+00  0.00000000e+00  0.00000000e+00\n",
      "   2.50000000e-01  1.00000000e+00  0.00000000e+00  3.15248881e-01]\n",
      " [ 1.00000000e+00  0.00000000e+00  0.00000000e+00  1.00000000e+00\n",
      "   0.00000000e+00  0.00000000e+00  0.00000000e+00  1.00000000e+00\n",
      "   1.00000000e+00  1.00000000e+00  0.00000000e+00  0.00000000e+00\n",
      "   5.00000000e-01  1.00000000e+00  0.00000000e+00  1.96734264e-01]\n",
      " [ 1.00000000e+00  0.00000000e+00  0.00000000e+00  1.00000000e+00\n",
      "   0.00000000e+00  0.00000000e+00  1.00000000e+00  1.00000000e+00\n",
      "   1.00000000e+00  1.00000000e+00  0.00000000e+00  0.00000000e+00\n",
      "   2.50000000e-01  0.00000000e+00  1.00000000e+00  4.33763497e-01]\n",
      " [ 0.00000000e+00  1.00000000e+00  1.00000000e+00  0.00000000e+00\n",
      "   1.00000000e+00  1.00000000e+00  1.00000000e+00  0.00000000e+00\n",
      "   1.00000000e+00  1.00000000e+00  0.00000000e+00  0.00000000e+00\n",
      "   2.50000000e-01  1.00000000e+00  0.00000000e+00  1.41427443e-01]\n",
      " [ 0.00000000e+00  0.00000000e+00  1.00000000e+00  0.00000000e+00\n",
      "   0.00000000e+00  1.00000000e+00  1.00000000e+00  1.00000000e+00\n",
      "   1.00000000e+00  0.00000000e+00  0.00000000e+00  1.00000000e+00\n",
      "   0.00000000e+00  1.00000000e+00  0.00000000e+00  2.62575718e-01]\n",
      " [ 1.00000000e+00  0.00000000e+00  0.00000000e+00  1.00000000e+00\n",
      "   0.00000000e+00  0.00000000e+00  0.00000000e+00  1.00000000e+00\n",
      "   1.00000000e+00  1.00000000e+00  0.00000000e+00  0.00000000e+00\n",
      "   2.50000000e-01  1.00000000e+00  0.00000000e+00  2.75744008e-01]\n",
      " [ 0.00000000e+00  0.00000000e+00  1.00000000e+00  0.00000000e+00\n",
      "   0.00000000e+00  1.00000000e+00  1.00000000e+00  1.00000000e+00\n",
      "   1.00000000e+00  0.00000000e+00  0.00000000e+00  1.00000000e+00\n",
      "   0.00000000e+00  1.00000000e+00  0.00000000e+00  5.25941533e-01]\n",
      " [ 0.00000000e+00  0.00000000e+00  1.00000000e+00  0.00000000e+00\n",
      "   0.00000000e+00  1.00000000e+00  0.00000000e+00  1.00000000e+00\n",
      "   1.00000000e+00  1.00000000e+00  0.00000000e+00  0.00000000e+00\n",
      "   5.00000000e-01  0.00000000e+00  0.00000000e+00  3.60811167e-02]\n",
      " [ 0.00000000e+00  1.00000000e+00  1.00000000e+00  0.00000000e+00\n",
      "   1.00000000e+00  0.00000000e+00  0.00000000e+00  0.00000000e+00\n",
      "   1.00000000e+00  1.00000000e+00  0.00000000e+00  0.00000000e+00\n",
      "   2.50000000e-01  1.00000000e+00  0.00000000e+00  4.66157493e-02]\n",
      " [ 0.00000000e+00  1.00000000e+00  1.00000000e+00  0.00000000e+00\n",
      "   1.00000000e+00  1.00000000e+00  0.00000000e+00  0.00000000e+00\n",
      "   1.00000000e+00  1.00000000e+00  0.00000000e+00  0.00000000e+00\n",
      "   2.50000000e-01  1.00000000e+00  0.00000000e+00  3.28417171e-01]\n",
      " [ 1.00000000e+00  0.00000000e+00  1.00000000e+00  0.00000000e+00\n",
      "   1.00000000e+00  0.00000000e+00  0.00000000e+00  0.00000000e+00\n",
      "   0.00000000e+00  1.00000000e+00  0.00000000e+00  0.00000000e+00\n",
      "   7.50000000e-01  0.00000000e+00  0.00000000e+00  2.10692652e-03]\n",
      " [ 0.00000000e+00  0.00000000e+00  1.00000000e+00  0.00000000e+00\n",
      "   0.00000000e+00  0.00000000e+00  0.00000000e+00  0.00000000e+00\n",
      "   0.00000000e+00  1.00000000e+00  0.00000000e+00  0.00000000e+00\n",
      "   0.00000000e+00  0.00000000e+00  0.00000000e+00  9.13879378e-02]\n",
      " [ 0.00000000e+00  0.00000000e+00  1.00000000e+00  0.00000000e+00\n",
      "   0.00000000e+00  1.00000000e+00  1.00000000e+00  0.00000000e+00\n",
      "   0.00000000e+00  0.00000000e+00  0.00000000e+00  0.00000000e+00\n",
      "   6.25000000e-01  0.00000000e+00  0.00000000e+00  3.08138004e-02]\n",
      " [ 0.00000000e+00  1.00000000e+00  1.00000000e+00  0.00000000e+00\n",
      "   1.00000000e+00  0.00000000e+00  0.00000000e+00  0.00000000e+00\n",
      "   1.00000000e+00  1.00000000e+00  0.00000000e+00  0.00000000e+00\n",
      "   2.50000000e-01  1.00000000e+00  0.00000000e+00  4.73268370e-01]\n",
      " [ 0.00000000e+00  0.00000000e+00  1.00000000e+00  0.00000000e+00\n",
      "   0.00000000e+00  1.00000000e+00  1.00000000e+00  1.00000000e+00\n",
      "   1.00000000e+00  0.00000000e+00  0.00000000e+00  1.00000000e+00\n",
      "   0.00000000e+00  1.00000000e+00  0.00000000e+00  1.17724519e-01]\n",
      " [ 1.00000000e+00  0.00000000e+00  0.00000000e+00  1.00000000e+00\n",
      "   0.00000000e+00  0.00000000e+00  0.00000000e+00  1.00000000e+00\n",
      "   1.00000000e+00  1.00000000e+00  0.00000000e+00  0.00000000e+00\n",
      "   5.00000000e-01  1.00000000e+00  1.00000000e+00  2.49407427e-01]\n",
      " [ 0.00000000e+00  1.00000000e+00  1.00000000e+00  0.00000000e+00\n",
      "   0.00000000e+00  1.00000000e+00  1.00000000e+00  0.00000000e+00\n",
      "   1.00000000e+00  1.00000000e+00  0.00000000e+00  0.00000000e+00\n",
      "   2.50000000e-01  1.00000000e+00  0.00000000e+00  1.67764024e-01]\n",
      " [ 1.00000000e+00  0.00000000e+00  0.00000000e+00  1.00000000e+00\n",
      "   0.00000000e+00  0.00000000e+00  0.00000000e+00  1.00000000e+00\n",
      "   1.00000000e+00  1.00000000e+00  0.00000000e+00  0.00000000e+00\n",
      "   5.00000000e-01  1.00000000e+00  0.00000000e+00  4.60100079e-01]\n",
      " [ 1.00000000e+00  0.00000000e+00  0.00000000e+00  1.00000000e+00\n",
      "   0.00000000e+00  1.00000000e+00  1.00000000e+00  1.00000000e+00\n",
      "   1.00000000e+00  1.00000000e+00  0.00000000e+00  0.00000000e+00\n",
      "   5.00000000e-01  1.00000000e+00  0.00000000e+00  1.04556229e-01]\n",
      " [ 1.00000000e+00  0.00000000e+00  0.00000000e+00  1.00000000e+00\n",
      "   0.00000000e+00  0.00000000e+00  1.00000000e+00  1.00000000e+00\n",
      "   1.00000000e+00  1.00000000e+00  0.00000000e+00  0.00000000e+00\n",
      "   5.00000000e-01  1.00000000e+00  0.00000000e+00  7.82196471e-02]\n",
      " [ 0.00000000e+00  0.00000000e+00  1.00000000e+00  0.00000000e+00\n",
      "   0.00000000e+00  0.00000000e+00  0.00000000e+00  0.00000000e+00\n",
      "   0.00000000e+00  1.00000000e+00  0.00000000e+00  0.00000000e+00\n",
      "   7.50000000e-01  0.00000000e+00  0.00000000e+00  1.58019489e-03]\n",
      " [ 1.00000000e+00  0.00000000e+00  1.00000000e+00  0.00000000e+00\n",
      "   1.00000000e+00  0.00000000e+00  0.00000000e+00  0.00000000e+00\n",
      "   0.00000000e+00  1.00000000e+00  1.00000000e+00  0.00000000e+00\n",
      "   7.50000000e-01  0.00000000e+00  0.00000000e+00  1.58019489e-03]\n",
      " [ 0.00000000e+00  0.00000000e+00  0.00000000e+00  0.00000000e+00\n",
      "   0.00000000e+00  0.00000000e+00  1.00000000e+00  0.00000000e+00\n",
      "   0.00000000e+00  1.00000000e+00  1.00000000e+00  0.00000000e+00\n",
      "   1.00000000e+00  1.00000000e+00  0.00000000e+00  4.13484330e-02]\n",
      " [ 0.00000000e+00  0.00000000e+00  1.00000000e+00  0.00000000e+00\n",
      "   0.00000000e+00  1.00000000e+00  0.00000000e+00  1.00000000e+00\n",
      "   1.00000000e+00  0.00000000e+00  0.00000000e+00  1.00000000e+00\n",
      "   0.00000000e+00  1.00000000e+00  0.00000000e+00  2.62575718e-01]\n",
      " [ 0.00000000e+00  0.00000000e+00  1.00000000e+00  0.00000000e+00\n",
      "   1.00000000e+00  0.00000000e+00  1.00000000e+00  0.00000000e+00\n",
      "   0.00000000e+00  1.00000000e+00  0.00000000e+00  0.00000000e+00\n",
      "   7.50000000e-01  0.00000000e+00  0.00000000e+00  1.31682908e-03]\n",
      " [ 0.00000000e+00  1.00000000e+00  1.00000000e+00  0.00000000e+00\n",
      "   1.00000000e+00  1.00000000e+00  0.00000000e+00  0.00000000e+00\n",
      "   1.00000000e+00  1.00000000e+00  0.00000000e+00  0.00000000e+00\n",
      "   2.50000000e-01  1.00000000e+00  0.00000000e+00  9.13879378e-02]\n",
      " [ 1.00000000e+00  0.00000000e+00  0.00000000e+00  1.00000000e+00\n",
      "   0.00000000e+00  0.00000000e+00  1.00000000e+00  1.00000000e+00\n",
      "   1.00000000e+00  1.00000000e+00  0.00000000e+00  0.00000000e+00\n",
      "   5.00000000e-01  1.00000000e+00  0.00000000e+00  1.96734264e-01]\n",
      " [ 1.00000000e+00  0.00000000e+00  0.00000000e+00  1.00000000e+00\n",
      "   0.00000000e+00  0.00000000e+00  1.00000000e+00  1.00000000e+00\n",
      "   1.00000000e+00  1.00000000e+00  0.00000000e+00  0.00000000e+00\n",
      "   5.00000000e-01  1.00000000e+00  0.00000000e+00  4.20595207e-01]\n",
      " [ 1.00000000e+00  0.00000000e+00  0.00000000e+00  1.00000000e+00\n",
      "   0.00000000e+00  0.00000000e+00  1.00000000e+00  1.00000000e+00\n",
      "   1.00000000e+00  1.00000000e+00  0.00000000e+00  0.00000000e+00\n",
      "   5.00000000e-01  1.00000000e+00  0.00000000e+00  3.15248881e-01]\n",
      " [ 0.00000000e+00  0.00000000e+00  1.00000000e+00  0.00000000e+00\n",
      "   0.00000000e+00  0.00000000e+00  0.00000000e+00  0.00000000e+00\n",
      "   1.00000000e+00  1.00000000e+00  0.00000000e+00  0.00000000e+00\n",
      "   5.00000000e-01  1.00000000e+00  0.00000000e+00  1.65130366e-01]\n",
      " [ 1.00000000e+00  0.00000000e+00  1.00000000e+00  0.00000000e+00\n",
      "   1.00000000e+00  0.00000000e+00  0.00000000e+00  0.00000000e+00\n",
      "   0.00000000e+00  1.00000000e+00  0.00000000e+00  0.00000000e+00\n",
      "   7.50000000e-01  0.00000000e+00  0.00000000e+00  3.87147748e-02]\n",
      " [ 0.00000000e+00  1.00000000e+00  1.00000000e+00  0.00000000e+00\n",
      "   0.00000000e+00  0.00000000e+00  1.00000000e+00  0.00000000e+00\n",
      "   1.00000000e+00  1.00000000e+00  0.00000000e+00  0.00000000e+00\n",
      "   2.50000000e-01  1.00000000e+00  0.00000000e+00  1.04556229e-01]\n",
      " [ 0.00000000e+00  0.00000000e+00  1.00000000e+00  0.00000000e+00\n",
      "   1.00000000e+00  0.00000000e+00  0.00000000e+00  0.00000000e+00\n",
      "   0.00000000e+00  1.00000000e+00  0.00000000e+00  0.00000000e+00\n",
      "   7.50000000e-01  0.00000000e+00  0.00000000e+00  2.37029234e-03]\n",
      " [ 0.00000000e+00  0.00000000e+00  1.00000000e+00  0.00000000e+00\n",
      "   0.00000000e+00  0.00000000e+00  1.00000000e+00  1.00000000e+00\n",
      "   1.00000000e+00  1.00000000e+00  0.00000000e+00  0.00000000e+00\n",
      "   0.00000000e+00  1.00000000e+00  0.00000000e+00  9.13879378e-02]\n",
      " [ 0.00000000e+00  0.00000000e+00  1.00000000e+00  0.00000000e+00\n",
      "   0.00000000e+00  0.00000000e+00  1.00000000e+00  0.00000000e+00\n",
      "   0.00000000e+00  0.00000000e+00  0.00000000e+00  0.00000000e+00\n",
      "   0.00000000e+00  0.00000000e+00  0.00000000e+00  1.76455096e-02]\n",
      " [ 0.00000000e+00  0.00000000e+00  1.00000000e+00  0.00000000e+00\n",
      "   0.00000000e+00  1.00000000e+00  1.00000000e+00  1.00000000e+00\n",
      "   1.00000000e+00  0.00000000e+00  0.00000000e+00  1.00000000e+00\n",
      "   0.00000000e+00  1.00000000e+00  0.00000000e+00  3.15248881e-01]\n",
      " [ 1.00000000e+00  0.00000000e+00  0.00000000e+00  1.00000000e+00\n",
      "   0.00000000e+00  0.00000000e+00  0.00000000e+00  1.00000000e+00\n",
      "   1.00000000e+00  1.00000000e+00  0.00000000e+00  0.00000000e+00\n",
      "   5.00000000e-01  0.00000000e+00  1.00000000e+00  1.17724519e-01]\n",
      " [ 0.00000000e+00  0.00000000e+00  1.00000000e+00  0.00000000e+00\n",
      "   0.00000000e+00  1.00000000e+00  1.00000000e+00  0.00000000e+00\n",
      "   0.00000000e+00  0.00000000e+00  0.00000000e+00  0.00000000e+00\n",
      "   7.50000000e-01  0.00000000e+00  0.00000000e+00  1.30892810e-01]\n",
      " [ 0.00000000e+00  1.00000000e+00  1.00000000e+00  0.00000000e+00\n",
      "   1.00000000e+00  0.00000000e+00  1.00000000e+00  0.00000000e+00\n",
      "   1.00000000e+00  1.00000000e+00  0.00000000e+00  0.00000000e+00\n",
      "   2.50000000e-01  1.00000000e+00  0.00000000e+00  1.88833289e-01]\n",
      " [ 0.00000000e+00  0.00000000e+00  1.00000000e+00  0.00000000e+00\n",
      "   0.00000000e+00  1.00000000e+00  0.00000000e+00  1.00000000e+00\n",
      "   1.00000000e+00  0.00000000e+00  0.00000000e+00  1.00000000e+00\n",
      "   0.00000000e+00  1.00000000e+00  1.00000000e+00  1.57229392e-01]\n",
      " [ 0.00000000e+00  0.00000000e+00  0.00000000e+00  1.00000000e+00\n",
      "   0.00000000e+00  1.00000000e+00  1.00000000e+00  1.00000000e+00\n",
      "   1.00000000e+00  1.00000000e+00  0.00000000e+00  1.00000000e+00\n",
      "   0.00000000e+00  1.00000000e+00  0.00000000e+00  1.57940479e+00]\n",
      " [ 1.00000000e+00  0.00000000e+00  0.00000000e+00  1.00000000e+00\n",
      "   0.00000000e+00  0.00000000e+00  0.00000000e+00  1.00000000e+00\n",
      "   1.00000000e+00  1.00000000e+00  0.00000000e+00  0.00000000e+00\n",
      "   5.00000000e-01  1.00000000e+00  0.00000000e+00  1.44772189e+00]\n",
      " [ 0.00000000e+00  0.00000000e+00  1.00000000e+00  0.00000000e+00\n",
      "   0.00000000e+00  0.00000000e+00  0.00000000e+00  0.00000000e+00\n",
      "   0.00000000e+00  1.00000000e+00  0.00000000e+00  0.00000000e+00\n",
      "   7.50000000e-01  0.00000000e+00  0.00000000e+00 -1.31682908e-04]\n",
      " [ 1.00000000e+00  0.00000000e+00  0.00000000e+00  1.00000000e+00\n",
      "   0.00000000e+00  0.00000000e+00  0.00000000e+00  1.00000000e+00\n",
      "   1.00000000e+00  1.00000000e+00  0.00000000e+00  0.00000000e+00\n",
      "   5.00000000e-01  1.00000000e+00  1.00000000e+00  3.15248881e-01]\n",
      " [ 0.00000000e+00  0.00000000e+00  1.00000000e+00  0.00000000e+00\n",
      "   0.00000000e+00  1.00000000e+00  0.00000000e+00  1.00000000e+00\n",
      "   1.00000000e+00  0.00000000e+00  0.00000000e+00  1.00000000e+00\n",
      "   0.00000000e+00  1.00000000e+00  0.00000000e+00  7.82196471e-02]\n",
      " [ 1.00000000e+00  0.00000000e+00  0.00000000e+00  1.00000000e+00\n",
      "   0.00000000e+00  0.00000000e+00  0.00000000e+00  1.00000000e+00\n",
      "   1.00000000e+00  1.00000000e+00  0.00000000e+00  0.00000000e+00\n",
      "   2.50000000e-01  1.00000000e+00  0.00000000e+00  5.71503819e-02]\n",
      " [ 1.00000000e+00  0.00000000e+00  0.00000000e+00  1.00000000e+00\n",
      "   0.00000000e+00  0.00000000e+00  0.00000000e+00  1.00000000e+00\n",
      "   1.00000000e+00  1.00000000e+00  0.00000000e+00  0.00000000e+00\n",
      "   2.50000000e-01  0.00000000e+00  0.00000000e+00  4.20595207e-01]\n",
      " [ 1.00000000e+00  0.00000000e+00  0.00000000e+00  1.00000000e+00\n",
      "   0.00000000e+00  0.00000000e+00  0.00000000e+00  1.00000000e+00\n",
      "   1.00000000e+00  1.00000000e+00  0.00000000e+00  0.00000000e+00\n",
      "   5.00000000e-01  1.00000000e+00  0.00000000e+00  8.41980511e-01]\n",
      " [ 0.00000000e+00  1.00000000e+00  1.00000000e+00  0.00000000e+00\n",
      "   0.00000000e+00  0.00000000e+00  0.00000000e+00  0.00000000e+00\n",
      "   1.00000000e+00  1.00000000e+00  0.00000000e+00  0.00000000e+00\n",
      "   2.50000000e-01  1.00000000e+00  0.00000000e+00  6.04951277e-01]]\n"
     ]
    }
   ],
   "source": [
    "normalizer = Normalizer()\n",
    "normalizer.fit(X_train)\n",
    "X_train_normalized = normalizer.transform(X_train)\n",
    "X_test_normalized = normalizer.transform(X_test)\n",
    "\n",
    "print(X_train_normalized)\n",
    "print(X_test_normalized)"
   ]
  },
  {
   "attachments": {},
   "cell_type": "markdown",
   "id": "44f2c3b9",
   "metadata": {},
   "source": [
    "## D. Implémenter et évaluer la méthode k-PPV pondérée"
   ]
  },
  {
   "attachments": {},
   "cell_type": "markdown",
   "id": "e102f2b6",
   "metadata": {},
   "source": [
    "Implémentez la variante pondérée de la méthode k-PPV dans une version généralisée de la fonction `predict_kNN(k, X, y, x_new, weights)`"
   ]
  },
  {
   "cell_type": "code",
   "execution_count": 15,
   "id": "9dd119bd",
   "metadata": {},
   "outputs": [
    {
     "name": "stdout",
     "output_type": "stream",
     "text": [
      "[1, 1, 1, 1, 1, 1, 1, 1, 1, 1, 1, 1, 1, 1, 1, 1, 1, 1, 1]\n"
     ]
    }
   ],
   "source": [
    "def predict_kNN(k, X, y, x_new, weights='uniform'):\n",
    "    \"\"\"implémente le classifieur du k-Plus Proches Voisins \n",
    "\n",
    "    Args:\n",
    "        k (int): nombre de voisins à utiliser pour prédire\n",
    "        X (matrice Numpy): le dataset des données d'entraînement\n",
    "        y (vecteur Numpy): le vecteur des labels des données d'entraînement\n",
    "        x_new (vecteur Numpy) : le vecteur de description d'une nouvelle donnée à classer\n",
    "        weights ('uniform', 'distance') : méthode de pondération utilisée pour la prédiction\n",
    "\n",
    "    Returns:\n",
    "        y_new (label):  le label prédit\n",
    "\n",
    "    \"\"\"\n",
    "    distances = np.linalg.norm(X - x_new, axis=1)\n",
    "    nearest_neighbor_ids = distances.argsort()[:k]\n",
    "    nearest_neighbor_class = y[nearest_neighbor_ids]\n",
    "    if weights == 'uniform':\n",
    "        labels, counts = np.unique(nearest_neighbor_class, return_counts=True)\n",
    "        return labels[counts.argsort()[-1]]\n",
    "    elif weights == 'distance':\n",
    "        return nearest_neighbor_class[np.argmin(distances[nearest_neighbor_ids])]\n",
    "    \n",
    "print([predict_kNN(k, X_train_normalized, y_train, X_test_normalized[i,:], weights='distance') for k in range(1, 20)])"
   ]
  },
  {
   "attachments": {},
   "cell_type": "markdown",
   "id": "e2d64239",
   "metadata": {},
   "source": [
    "Généralisez également la fonction d'évaluation `error_kNN(k, X_train, y_train, X_test, y_test, weights)` avec l'argument supplémentaire `weights`"
   ]
  },
  {
   "cell_type": "code",
   "execution_count": 17,
   "id": "092161c6",
   "metadata": {},
   "outputs": [
    {
     "name": "stdout",
     "output_type": "stream",
     "text": [
      "[0.1, 0.1, 0.1, 0.1, 0.1, 0.1, 0.1, 0.1, 0.1, 0.1, 0.1, 0.1, 0.1, 0.1, 0.1, 0.1, 0.1, 0.1, 0.1, 0.1, 0.1, 0.1, 0.1, 0.1, 0.1, 0.1, 0.1, 0.1, 0.1]\n"
     ]
    },
    {
     "data": {
      "text/plain": [
       "[<matplotlib.lines.Line2D at 0x1d0c27403d0>]"
      ]
     },
     "execution_count": 17,
     "metadata": {},
     "output_type": "execute_result"
    },
    {
     "data": {
      "image/png": "[encoded data removed]",
      "text/plain": [
       "<Figure size 432x288 with 1 Axes>"
      ]
     },
     "metadata": {
      "needs_background": "light"
     },
     "output_type": "display_data"
    }
   ],
   "source": [
    "def error_kNN(k, X_train, y_train, X_test, y_test, weights='uniform'):\n",
    "    \"\"\"calcule le taux d'erreur de prédiction par k-PPV sur les données de test \n",
    "\n",
    "    Args:\n",
    "        k (int): nombre de voisins à utiliser pour prédire\n",
    "        X_train (matrice Numpy): le dataset des données d'entraînement\n",
    "        y_train (vecteur Numpy): le vecteur des labels des données d'entraînement\n",
    "        X_test (vecteur Numpy) : le dataset des données de test\n",
    "        y_test (vecteur Numpy): le vecteur des labels des données de test\n",
    "        weights ('uniform', 'distance') : méthode de pondération utilisée dans k-PPV\n",
    "\n",
    "\n",
    "    Returns:\n",
    "        error_rate (float):  le taux d'erreur de prédiciton (Nb. mauvaises prédictions / Nb. prédictions)\n",
    "\n",
    "    \"\"\"\n",
    "    y_pred = np.array([predict_kNN(k, X_train, y_train, x, weights) for x in X_test])\n",
    "    return 1 - np.mean(y_pred == y_test)\n",
    "\n",
    "print([error_kNN(k, X_train_normalized, y_train, X_test_normalized, y_test, weights='distance') for k in range(1, 30)])\n",
    "plt.plot(range(1, 30), [error_kNN(k, X_train_normalized, y_train, X_test_normalized, y_test, weights='distance') for k in range(1, 30)])"
   ]
  },
  {
   "attachments": {},
   "cell_type": "markdown",
   "id": "8d030161",
   "metadata": {},
   "source": [
    "Enfin, comparez l'erreur faite par chacune des deux versions de la méthode k-PPV (pondérée ou non)."
   ]
  },
  {
   "cell_type": "code",
   "execution_count": 18,
   "id": "ea833347",
   "metadata": {},
   "outputs": [
    {
     "name": "stdout",
     "output_type": "stream",
     "text": [
      "[0.43000000000000005, 0.45, 0.4600000000000001, 0.36, 0.52, 0.48, 0.39, 0.42000000000000004, 0.51, 0.45, 0.43999999999999995, 0.41000000000000003, 0.5, 0.47000000000000003, 0.5199999999999999, 0.4600000000000001, 0.43999999999999995, 0.49000000000000005, 0.45, 0.44000000000000006, 0.4600000000000001, 0.47000000000000003, 0.4800000000000001, 0.49000000000000005, 0.44000000000000006, 0.45999999999999996, 0.44000000000000006, 0.4, 0.47000000000000003]\n"
     ]
    },
    {
     "data": {
      "text/plain": [
       "[<matplotlib.lines.Line2D at 0x1d0c27aa170>]"
      ]
     },
     "execution_count": 18,
     "metadata": {},
     "output_type": "execute_result"
    },
    {
     "data": {
      "image/png": "[encoded data removed]",
      "text/plain": [
       "<Figure size 432x288 with 1 Axes>"
      ]
     },
     "metadata": {
      "needs_background": "light"
     },
     "output_type": "display_data"
    }
   ],
   "source": [
    "\n",
    "def cross_validation_error(k, X, y, n_folds=5, weights='uniform'):\n",
    "    \"\"\"calcule le taux d'erreur de prédiction par k-PPV sur les données de test \n",
    "\n",
    "    Args:\n",
    "        k (int): nombre de voisins à utiliser pour prédire\n",
    "        X (matrice Numpy): le dataset des données\n",
    "        y (vecteur Numpy): le vecteur des labels des données\n",
    "        n_folds (int): nombre de folds à utiliser pour la validation croisée\n",
    "        weights ('uniform', 'distance') : méthode de pondération utilisée dans k-PPV\n",
    "\n",
    "    Returns:\n",
    "        error_rate (float):  le taux d'erreur de prédiciton (Nb. mauvaises prédictions / Nb. prédictions)\n",
    "\n",
    "    \"\"\"\n",
    "    N = X.shape[0]\n",
    "    fold_size = N // n_folds\n",
    "    errors = []\n",
    "    for fold in range(n_folds):\n",
    "        ids = np.arange(N)\n",
    "        np.random.shuffle(ids)\n",
    "        train_ids = np.concatenate([ids[:fold*fold_size], ids[(fold+1)*fold_size:]])\n",
    "        test_ids = ids[fold*fold_size:(fold+1)*fold_size]\n",
    "        error = error_kNN(k, X[train_ids], y[train_ids], X[test_ids], y[test_ids], weights)\n",
    "        errors.append(error)\n",
    "    return np.mean(errors)\n",
    "\n",
    "print([cross_validation_error(k, X, y, weights='distance') for k in range(1, 30)])\n",
    "plt.plot(range(1, 30), [cross_validation_error(k, X, y, weights='distance') for k in range(1, 30)])"
   ]
  }
 ],
 "metadata": {
  "kernelspec": {
   "display_name": "Python 3",
   "language": "python",
   "name": "python3"
  },
  "language_info": {
   "codemirror_mode": {
    "name": "ipython",
    "version": 3
   },
   "file_extension": ".py",
   "mimetype": "text/x-python",
   "name": "python",
   "nbconvert_exporter": "python",
   "pygments_lexer": "ipython3",
   "version": "3.10.2"
  },
  "vscode": {
   "interpreter": {
    "hash": "aee8b7b246df8f9039afb4144a1f6fd8d2ca17a180786b69acc140d282b71a49"
   }
  }
 },
 "nbformat": 4,
 "nbformat_minor": 5
}
