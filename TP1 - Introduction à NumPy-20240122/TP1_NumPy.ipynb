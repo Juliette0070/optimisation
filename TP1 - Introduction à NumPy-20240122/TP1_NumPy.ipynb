{
 "cells": [
  {
   "cell_type": "markdown",
   "id": "organizational-termination",
   "metadata": {},
   "source": [
    "# Introduction à la librairie NumPy"
   ]
  },
  {
   "cell_type": "markdown",
   "id": "proved-rubber",
   "metadata": {},
   "source": [
    "## A. Les tableaux NumPy"
   ]
  },
  {
   "cell_type": "markdown",
   "id": "pleasant-jaguar",
   "metadata": {},
   "source": [
    "[NumPy (Numerical Python)](https://numpy.org/doc/stable/index.html) est une librairie open source utilisée pour traiter en Python des données numériques de manière simple et efficace. Elle s'appuie principalement sur la définition d'une nouvelle structure de données : **<font color='red'>le tableau multi-dimensionnel *ndarray* (ou N-dimensional array)</font>**.\n",
    "\n",
    "Vous commencerez par importer la librairie NumPy en lui donnant l'alias `np` par convention"
   ]
  },
  {
   "cell_type": "code",
   "execution_count": 1,
   "id": "chubby-medicaid",
   "metadata": {},
   "outputs": [],
   "source": [
    "import numpy as np"
   ]
  },
  {
   "cell_type": "markdown",
   "id": "geological-consultation",
   "metadata": {},
   "source": [
    "Un tableau NumPy est caractérisé par :\n",
    "- ses éléments : **tous de même type!**\n",
    "- le type de ses éléments (`dtype`): par défaut int64 ou float64\n",
    "- sa dimensionalité (`ndim`): 1 (vecteur), 2 (matrice) ou plus (tenseur)\n",
    "- sa forme (`shape`): taille du tableau selon chaque dimension (nb. lignes, nb. colonnes, etc.)\n",
    "- sa taille (`size`): le nombre total d'éléments dans le tableau\n",
    "\n",
    "On peut initialiser un tableau NumPy à partir d'une liste Python puis vérifier ses prorpiétés à l'aide des attributs `dtype`, `ndim` et `shape`. Testez différentes configurations à partir du code ci-dessous :"
   ]
  },
  {
   "cell_type": "code",
   "execution_count": 2,
   "id": "elect-opera",
   "metadata": {},
   "outputs": [
    {
     "name": "stdout",
     "output_type": "stream",
     "text": [
      "[1 2 3 4 5 6]\n",
      "Type des éléments: int64\n",
      "Dimensionalité:    1\n",
      "Forme du tableau:  (6,)\n",
      "Taille du tableau:  6\n"
     ]
    }
   ],
   "source": [
    "v = np.array([1, 2, 3, 4, 5, 6], dtype=np.int64) # l'argument dtype est optionel\n",
    "\n",
    "print(v)\n",
    "print(\"Type des éléments:\", v.dtype)\n",
    "print(\"Dimensionalité:   \",v.ndim)\n",
    "print(\"Forme du tableau: \",v.shape)\n",
    "print(\"Taille du tableau: \",v.size)"
   ]
  },
  {
   "cell_type": "markdown",
   "id": "electronic-pierre",
   "metadata": {},
   "source": [
    "### Exercice 1 : votre premier tableau NumPy"
   ]
  },
  {
   "cell_type": "markdown",
   "id": "rapid-guarantee",
   "metadata": {},
   "source": [
    "1. Construisez un tableau NumPy contenant vos moyennes à chaque compétence du semestre 1 (1ère ligne) et du semestre 2 (2ème ligne) du BUT1 :"
   ]
  },
  {
   "cell_type": "code",
   "execution_count": 3,
   "id": "unusual-approval",
   "metadata": {},
   "outputs": [],
   "source": [
    "notes = np.array([[15,17,13,12,16,14], [16,16,14,12,15,13]], dtype=np.int64)"
   ]
  },
  {
   "cell_type": "markdown",
   "id": "pretty-break",
   "metadata": {},
   "source": [
    "2. Vérifiez (affichez) chacune des propriétés de votre tableau :"
   ]
  },
  {
   "cell_type": "code",
   "execution_count": 4,
   "id": "individual-vocabulary",
   "metadata": {},
   "outputs": [
    {
     "name": "stdout",
     "output_type": "stream",
     "text": [
      "[[15 17 13 12 16 14]\n",
      " [16 16 14 12 15 13]]\n",
      "Type des éléments: int64\n",
      "Dimensionalité:    2\n",
      "Forme du tableau:  (2, 6)\n",
      "Taille du tableau:  12\n"
     ]
    }
   ],
   "source": [
    "print(notes)\n",
    "print(\"Type des éléments:\", notes.dtype)\n",
    "print(\"Dimensionalité:   \",notes.ndim)\n",
    "print(\"Forme du tableau: \",notes.shape)\n",
    "print(\"Taille du tableau: \",notes.size)"
   ]
  },
  {
   "cell_type": "markdown",
   "id": "elder-chuck",
   "metadata": {},
   "source": [
    "3. Quelle(s) structure(s) de tableau(x) NumPy proposeriez-vous pour stocker vos notes aux compétences du BUT1, du BUT2 et du BUT3? Construisez ce tableau avec des notes fictives."
   ]
  },
  {
   "cell_type": "code",
   "execution_count": 11,
   "id": "geographic-wisconsin",
   "metadata": {},
   "outputs": [
    {
     "name": "stdout",
     "output_type": "stream",
     "text": [
      "[[[15 17 13 12 16 14]\n",
      "  [15 17 13 12 16 14]]\n",
      "\n",
      " [[16 16 14 12 15 13]\n",
      "  [16 16 14 12 15 13]]\n",
      "\n",
      " [[16 17 14 12 15 14]\n",
      "  [16 17 14 12 15 14]]]\n"
     ]
    }
   ],
   "source": [
    "notes = np.array([[[15,17,13,12,16,14], [15,17,13,12,16,14]], [[16,16,14,12,15,13], [16,16,14,12,15,13]], [[16,17,14,12,15,14], [16,17,14,12,15,14]]], dtype=np.int64)\n",
    "print(notes)"
   ]
  },
  {
   "cell_type": "markdown",
   "id": "prostate-amateur",
   "metadata": {},
   "source": [
    "Il existe d'autres méthodes (constructeurs) pour initialiser un tableau NumPy :\n",
    "- `np.array(liste)` déjà vu\n",
    "- `np.zeros(shape)` initialise avec des 0\n",
    "- `np.ones(shape)` intialise avec des 1\n",
    "- `np.full(shape, value)` intialise avec des *value*<!--- `np.empty(shape)` création du tableau sans initialiser (valeurs arbitraires) -->\n",
    "- `np.arange([start], stop, [step])` initialise avec une suite de valeurs (*range*)\n",
    "- `np.linspace(start, stop, num=50])` initialise avec une suite de *num* valeurs réparties de façon égale sur l'intervalle [start, stop]\n",
    "- [`np.random.randn(dim0, dim1, ...)`](https://numpy.org/doc/1.16/reference/generated/numpy.random.randn.html#numpy.random.randn) initialise avec des valeurs tirées aléatoirement selon une loi normale centrée en 0 ($\\mu = 0$) et de variance 1 ($\\sigma^2=1$) : ${\\cal N}(0,1)$"
   ]
  },
  {
   "cell_type": "markdown",
   "id": "conventional-award",
   "metadata": {},
   "source": [
    "### Exercice 2 : différentes initialisations"
   ]
  },
  {
   "cell_type": "markdown",
   "id": "biological-google",
   "metadata": {},
   "source": [
    "Utilisez les différentes méthodes d'initialisation de tableaux NumPy afin de construire :\n",
    "1. un vecteur de 10 zéros"
   ]
  },
  {
   "cell_type": "code",
   "execution_count": 6,
   "id": "satisfactory-juice",
   "metadata": {},
   "outputs": [
    {
     "name": "stdout",
     "output_type": "stream",
     "text": [
      "[0. 0. 0. 0. 0. 0. 0. 0. 0. 0.]\n"
     ]
    }
   ],
   "source": [
    "v = np.zeros(10)\n",
    "print(v)"
   ]
  },
  {
   "cell_type": "markdown",
   "id": "sacred-iceland",
   "metadata": {},
   "source": [
    "2. une matrice 1 ligne x 10 colonnes contenant uniquement des 1 "
   ]
  },
  {
   "cell_type": "code",
   "execution_count": 8,
   "id": "vital-young",
   "metadata": {},
   "outputs": [
    {
     "name": "stdout",
     "output_type": "stream",
     "text": [
      "[1. 1. 1. 1. 1. 1. 1. 1. 1. 1.]\n"
     ]
    }
   ],
   "source": [
    "v = np.ones(10)\n",
    "print(v)"
   ]
  },
  {
   "cell_type": "markdown",
   "id": "expressed-apollo",
   "metadata": {},
   "source": [
    "3. un cube de taille 3x3x3 d'entiers tous initialisés à 10"
   ]
  },
  {
   "cell_type": "code",
   "execution_count": 9,
   "id": "joint-jaguar",
   "metadata": {},
   "outputs": [
    {
     "name": "stdout",
     "output_type": "stream",
     "text": [
      "[[[10 10 10]\n",
      "  [10 10 10]\n",
      "  [10 10 10]]\n",
      "\n",
      " [[10 10 10]\n",
      "  [10 10 10]\n",
      "  [10 10 10]]\n",
      "\n",
      " [[10 10 10]\n",
      "  [10 10 10]\n",
      "  [10 10 10]]]\n"
     ]
    }
   ],
   "source": [
    "v = np.full((3,3,3), 10)\n",
    "print(v)"
   ]
  },
  {
   "attachments": {},
   "cell_type": "markdown",
   "id": "62ae70e6",
   "metadata": {},
   "source": [
    "4. une matrice des températures mensuelles des 4 dernières années en Mongolie, simulées par un distribution ${\\cal N}(0,1)$ *(et oui, il fait froid en Mongolie!)*"
   ]
  },
  {
   "cell_type": "code",
   "execution_count": 15,
   "id": "d1c383fe",
   "metadata": {},
   "outputs": [
    {
     "name": "stdout",
     "output_type": "stream",
     "text": [
      "[[ 0.99612611 -0.83815961 -0.26003382  1.96912399 -1.06447571  0.47892836\n",
      "   0.62925866  0.1576236   1.32002987 -1.51204014  2.23380732 -0.99697655]\n",
      " [-0.0731938   1.30971374 -0.60557782 -0.5688885  -0.05837225  2.1199172\n",
      "  -0.28953274 -1.17307468 -1.66266159 -1.62162331 -0.04782316 -1.05222645]\n",
      " [ 0.00810145  0.82516563 -1.23982833 -1.19007416 -0.12730847 -0.23888228\n",
      "   1.15200653 -1.15425208  0.1655947   0.28970273  1.37141387  0.58002739]\n",
      " [-0.79185431 -2.40050509 -0.95300009 -0.99905776 -1.37013131 -0.97741377\n",
      "  -0.55332265 -0.70959991 -3.01961027 -0.0422219   1.27566587  0.6044497 ]]\n"
     ]
    }
   ],
   "source": [
    "v = np.random.randn(4,12)\n",
    "print(v)"
   ]
  },
  {
   "cell_type": "markdown",
   "id": "5d83669c",
   "metadata": {},
   "source": [
    "5. Une séries de 100 valeurs régulièrement espacées dans l'intervalle [-1, 2]"
   ]
  },
  {
   "cell_type": "code",
   "execution_count": 18,
   "id": "d2ad67ac",
   "metadata": {},
   "outputs": [
    {
     "name": "stdout",
     "output_type": "stream",
     "text": [
      "[-1.         -0.96969697 -0.93939394 -0.90909091 -0.87878788 -0.84848485\n",
      " -0.81818182 -0.78787879 -0.75757576 -0.72727273 -0.6969697  -0.66666667\n",
      " -0.63636364 -0.60606061 -0.57575758 -0.54545455 -0.51515152 -0.48484848\n",
      " -0.45454545 -0.42424242 -0.39393939 -0.36363636 -0.33333333 -0.3030303\n",
      " -0.27272727 -0.24242424 -0.21212121 -0.18181818 -0.15151515 -0.12121212\n",
      " -0.09090909 -0.06060606 -0.03030303  0.          0.03030303  0.06060606\n",
      "  0.09090909  0.12121212  0.15151515  0.18181818  0.21212121  0.24242424\n",
      "  0.27272727  0.3030303   0.33333333  0.36363636  0.39393939  0.42424242\n",
      "  0.45454545  0.48484848  0.51515152  0.54545455  0.57575758  0.60606061\n",
      "  0.63636364  0.66666667  0.6969697   0.72727273  0.75757576  0.78787879\n",
      "  0.81818182  0.84848485  0.87878788  0.90909091  0.93939394  0.96969697\n",
      "  1.          1.03030303  1.06060606  1.09090909  1.12121212  1.15151515\n",
      "  1.18181818  1.21212121  1.24242424  1.27272727  1.3030303   1.33333333\n",
      "  1.36363636  1.39393939  1.42424242  1.45454545  1.48484848  1.51515152\n",
      "  1.54545455  1.57575758  1.60606061  1.63636364  1.66666667  1.6969697\n",
      "  1.72727273  1.75757576  1.78787879  1.81818182  1.84848485  1.87878788\n",
      "  1.90909091  1.93939394  1.96969697  2.        ]\n"
     ]
    }
   ],
   "source": [
    "v = np.linspace(-1, 2, 100)\n",
    "print(v)"
   ]
  },
  {
   "cell_type": "markdown",
   "id": "1640e772",
   "metadata": {},
   "source": [
    "... profitons-en pour tracer le graphe de la fonction $f(x)=x^2$ sur ce même intervalle :"
   ]
  },
  {
   "cell_type": "code",
   "execution_count": 19,
   "id": "a732674a",
   "metadata": {},
   "outputs": [
    {
     "data": {
      "text/plain": [
       "[<matplotlib.lines.Line2D at 0x1a8b730a0b0>]"
      ]
     },
     "execution_count": 19,
     "metadata": {},
     "output_type": "execute_result"
    },
    {
     "data": {
      "image/png": "[encoded data removed]",
      "text/plain": [
       "<Figure size 432x288 with 1 Axes>"
      ]
     },
     "metadata": {
      "needs_background": "light"
     },
     "output_type": "display_data"
    }
   ],
   "source": [
    "from matplotlib import pyplot as plt\n",
    "plt.plot(v, v**2)"
   ]
  },
  {
   "cell_type": "markdown",
   "id": "controversial-shoot",
   "metadata": {},
   "source": [
    "6. un vecteur constitué de la suite des entiers naturels impairs plus petits que 20"
   ]
  },
  {
   "cell_type": "code",
   "execution_count": 20,
   "id": "decent-proof",
   "metadata": {},
   "outputs": [
    {
     "name": "stdout",
     "output_type": "stream",
     "text": [
      "[ 1  3  5  7  9 11 13 15 17 19]\n"
     ]
    }
   ],
   "source": [
    "v = np.arange(1, 20, 2)\n",
    "print(v)"
   ]
  },
  {
   "cell_type": "markdown",
   "id": "parental-hundred",
   "metadata": {},
   "source": [
    "Utiliser la méthode [`np.reshape()`](https://numpy.org/doc/stable/reference/generated/numpy.reshape.html#numpy-reshape) pour tranformer le vecteur précédent en une matrice (2x5)"
   ]
  },
  {
   "cell_type": "code",
   "execution_count": 21,
   "id": "suited-possession",
   "metadata": {},
   "outputs": [
    {
     "data": {
      "text/plain": [
       "array([[ 1,  3,  5,  7,  9],\n",
       "       [11, 13, 15, 17, 19]])"
      ]
     },
     "execution_count": 21,
     "metadata": {},
     "output_type": "execute_result"
    }
   ],
   "source": [
    "np.reshape(v, (2, 5))"
   ]
  },
  {
   "cell_type": "markdown",
   "id": "4237f235",
   "metadata": {},
   "source": [
    "Utiliser la méthode [`np.ravel()`](https://numpy.org/doc/stable/reference/generated/numpy.ravel.html) afin d'\"applatir\" le tableau des températures construit plus haut en un tableau à une seule dimension composé de toutes les valeurs"
   ]
  },
  {
   "cell_type": "code",
   "execution_count": 22,
   "id": "24d5801b",
   "metadata": {},
   "outputs": [
    {
     "data": {
      "text/plain": [
       "array([ 1,  3,  5,  7,  9, 11, 13, 15, 17, 19])"
      ]
     },
     "execution_count": 22,
     "metadata": {},
     "output_type": "execute_result"
    }
   ],
   "source": [
    "np.ravel(v)"
   ]
  },
  {
   "cell_type": "markdown",
   "id": "1dddd30c",
   "metadata": {},
   "source": [
    "La méthode `np.concatenate((ArrayA, ArrayB), axis=0)` permet de concaténer deux tableaux Numpy (de formes compatibles) selon un axe :\n",
    "\n",
    "![Axes dans un tableau Numpy](images/ndarray_axis.jpg)\n",
    "\n",
    "Ainsi :\n",
    "- si l'on souhaite assembler **verticalement** deux matrices M1 et M2 (ayant le même nombre de colonnes) on écrira"
   ]
  },
  {
   "cell_type": "code",
   "execution_count": 23,
   "id": "c6827040",
   "metadata": {},
   "outputs": [
    {
     "data": {
      "text/plain": [
       "array([[0., 0.],\n",
       "       [0., 0.],\n",
       "       [0., 0.],\n",
       "       [1., 1.],\n",
       "       [1., 1.]])"
      ]
     },
     "execution_count": 23,
     "metadata": {},
     "output_type": "execute_result"
    }
   ],
   "source": [
    "M1 = np.zeros((3,2))\n",
    "M2 = np.ones((2,2))\n",
    "M3 = np.concatenate((M1, M2), axis=0)\n",
    "M3"
   ]
  },
  {
   "cell_type": "markdown",
   "id": "de542680",
   "metadata": {},
   "source": [
    "- si l'on souhaite assembler **horizontalement** deux matrices M1 et M2 (ayant le même nombre de lignes) on écrira"
   ]
  },
  {
   "cell_type": "code",
   "execution_count": 24,
   "id": "a6078028",
   "metadata": {},
   "outputs": [
    {
     "data": {
      "text/plain": [
       "array([[0., 0., 0., 0., 1., 1.],\n",
       "       [0., 0., 0., 0., 1., 1.],\n",
       "       [0., 0., 0., 0., 1., 1.]])"
      ]
     },
     "execution_count": 24,
     "metadata": {},
     "output_type": "execute_result"
    }
   ],
   "source": [
    "M1 = np.zeros((3,4))\n",
    "M2 = np.ones((3,2))\n",
    "M3 = np.concatenate((M1, M2), axis=1)\n",
    "M3"
   ]
  },
  {
   "cell_type": "markdown",
   "id": "hundred-investment",
   "metadata": {},
   "source": [
    "## B. Accès aux éléments d'un tableau NumPy"
   ]
  },
  {
   "cell_type": "markdown",
   "id": "bizarre-justice",
   "metadata": {},
   "source": [
    "Comme pour les listes Python, on accède aux éléments d'un tableau NumPy :\n",
    "- par les indices (ex. `t[0]`, `t[-1]`, `t[1, 2]`, etc.) \n",
    "- par un slice (ex. `t[1:4]`, `t[:3]`, `t[2:4, 1:6]`, etc.)\n",
    "\n",
    "Soit la matrice $M$ suivante :"
   ]
  },
  {
   "cell_type": "code",
   "execution_count": 25,
   "id": "norman-seattle",
   "metadata": {},
   "outputs": [
    {
     "data": {
      "text/plain": [
       "array([[ 0,  1,  2,  3,  4],\n",
       "       [ 5,  6,  7,  8,  9],\n",
       "       [10, 11, 12, 13, 14],\n",
       "       [15, 16, 17, 18, 19]])"
      ]
     },
     "execution_count": 25,
     "metadata": {},
     "output_type": "execute_result"
    }
   ],
   "source": [
    "M = np.arange(20).reshape((4,5))\n",
    "M"
   ]
  },
  {
   "cell_type": "markdown",
   "id": "471f8883",
   "metadata": {},
   "source": [
    "Comment accéder :\n",
    "- à la valeur (2) située en 1ère ligne, 3ème colonne?\n",
    "- à la 2ème ligne de $M$?\n",
    "- à la 1ère colonne de $M$?\n",
    "- aux 2 premières lignes de $M$?\n",
    "- au bloc constitué des deux lignes centrales et 3 colonnes centrales dans $M$?\n",
    "- aux deux dernières colonnes de $M$?"
   ]
  },
  {
   "cell_type": "code",
   "execution_count": 28,
   "id": "f2c3ce15",
   "metadata": {},
   "outputs": [
    {
     "name": "stdout",
     "output_type": "stream",
     "text": [
      "2\n",
      "[5 6 7 8 9]\n",
      "[ 0  5 10 15]\n",
      "[[0 1 2 3 4]\n",
      " [5 6 7 8 9]]\n",
      "[[ 6  7  8]\n",
      " [11 12 13]]\n",
      "[[ 3  4]\n",
      " [ 8  9]\n",
      " [13 14]\n",
      " [18 19]]\n"
     ]
    }
   ],
   "source": [
    "print(M[0,2])\n",
    "print(M[1])\n",
    "print(M[:,0])\n",
    "print(M[:2])\n",
    "print(M[1:3, 1:4])\n",
    "print(M[:, -2:])"
   ]
  },
  {
   "cell_type": "markdown",
   "id": "radio-accreditation",
   "metadata": {},
   "source": [
    "**<font color='red'>ATTENTION</font>** : l'indexation et le slicing renvoient une *vue* du tableau d'origine. Modifier les valeurs d'une vue modifie également les valeurs du tableau d'origine (pas de recopie).\n",
    "\n",
    "Exemple :"
   ]
  },
  {
   "cell_type": "code",
   "execution_count": 29,
   "id": "employed-yugoslavia",
   "metadata": {
    "scrolled": true
   },
   "outputs": [
    {
     "name": "stdout",
     "output_type": "stream",
     "text": [
      "S1: [12.   17.   20.   15.    9.75 13.  ]\n",
      "BUT1: [[12.   17.   20.   15.    9.75 13.  ]\n",
      " [10.   12.   10.   13.   11.2  14.  ]]\n"
     ]
    }
   ],
   "source": [
    "notes_BUT1 = np.array([[12, 17, 8.5, 15, 9.75, 13],\n",
    "                       [10, 12, 10., 13, 11.2, 14]])\n",
    "notes_S1 = notes_BUT1[0, :]   # notes_S1 est une vue de notes_BUT1\n",
    "notes_S1[2] = 20              # on modifie une valeur dans la vue\n",
    "print(\"S1:\", notes_S1)\n",
    "print(\"BUT1:\", notes_BUT1)    # la valeur est mofifiée dans le tableau dorigine"
   ]
  },
  {
   "cell_type": "markdown",
   "id": "exceptional-isolation",
   "metadata": {},
   "source": [
    "Lorsque l'on souhaite extraire des éléments en vue d'un traitement indépendant du tableau d'origine, on force la recopie dans un nouveau tableau avec la méthode `copy()`.\n",
    "\n",
    "Exemple :"
   ]
  },
  {
   "cell_type": "code",
   "execution_count": 30,
   "id": "western-affair",
   "metadata": {},
   "outputs": [
    {
     "name": "stdout",
     "output_type": "stream",
     "text": [
      "S1: [12.   17.   20.   15.    9.75 13.  ]\n",
      "BUT1: [[12.   17.    8.5  15.    9.75 13.  ]\n",
      " [10.   12.   10.   13.   11.2  14.  ]]\n"
     ]
    }
   ],
   "source": [
    "notes_BUT1 = np.array([[12, 17, 8.5, 15, 9.75, 13],\n",
    "                       [10, 12, 10., 13, 11.2, 14]])\n",
    "notes_S1 = notes_BUT1[0, :].copy()   # notes_S1 est la copie d'une partie de notes_BUT1\n",
    "notes_S1[2] = 20                     # on modifie une valeur dans cette copie\n",
    "print(\"S1:\", notes_S1)\n",
    "print(\"BUT1:\", notes_BUT1)           # la valeur n'est pas mofifiée dans le tableau dorigine"
   ]
  },
  {
   "cell_type": "markdown",
   "id": "honey-oasis",
   "metadata": {},
   "source": [
    "NumPy facilite la sélection d'un sous-ensemble d'élements à partir de conditions. Pour cela on utilise l'indexation par des booléens.\n",
    "\n",
    "Exemple :"
   ]
  },
  {
   "cell_type": "code",
   "execution_count": 31,
   "id": "searching-somalia",
   "metadata": {},
   "outputs": [
    {
     "name": "stdout",
     "output_type": "stream",
     "text": [
      "[ 1  2  3  4  5  6  7  8  9 10 11]\n",
      "[False False False False False  True  True  True  True  True  True]\n",
      "[ 6  7  8  9 10 11]\n"
     ]
    }
   ],
   "source": [
    "t = np.arange(1,12)\n",
    "selection = (t>5)   # on construit un vecteur de booléens définissant la sélection (masque)\n",
    "res = t[selection]  # on filtre les éléments correspondant à la sélection\n",
    "print(t)\n",
    "print(selection)\n",
    "print(res)"
   ]
  },
  {
   "cell_type": "markdown",
   "id": "executed-thread",
   "metadata": {},
   "source": [
    "L'utilisation d'opérateurs booléens (`&`, `|`, `==`, `!=`) facilite la sélection d'éléments sur la base de conditions plus complexes\n",
    "\n",
    "Exemple :"
   ]
  },
  {
   "cell_type": "code",
   "execution_count": 32,
   "id": "posted-opera",
   "metadata": {},
   "outputs": [
    {
     "name": "stdout",
     "output_type": "stream",
     "text": [
      "[1 2 3 4]\n",
      "[2 4 6 8]\n",
      "[1 2 4 5 7 8]\n",
      "[3 4 5]\n"
     ]
    }
   ],
   "source": [
    "t = np.array([[1, 2, 3], [4, 5, 6], [7, 8, 9]])\n",
    "print(t[t < 5])         # renvoie le vecteur des éléments de t plus petits que 5\n",
    "print(t[t%2==0])        # renvoie le vecteur des éléments pairs de t\n",
    "print(t[t%3!=0])        # renvoie le vecteur des éléments de t qui ne sont pas divisibles par 3\n",
    "print(t[(t>2) & (t<6)]) # renvoie le vecteur des éléments de t dans l'intervalle ]2,6["
   ]
  },
  {
   "cell_type": "markdown",
   "id": "brown-provider",
   "metadata": {},
   "source": [
    "### Exercice 3 : les années bissextiles\n",
    "\n",
    "Une année est bissextile si elle est divisible par 4 mais pas par 100 ou si elle est divisible par 400 (*ex. 1900 n'était pas bissextile mais 2000 l'était*).\n",
    "\n",
    "Combien y-a-t'il eu d'années bissextiles depuis l'an 0?"
   ]
  },
  {
   "cell_type": "code",
   "execution_count": 36,
   "id": "boxed-response",
   "metadata": {},
   "outputs": [
    {
     "name": "stdout",
     "output_type": "stream",
     "text": [
      "491\n"
     ]
    }
   ],
   "source": [
    "a = np.arange(2024)\n",
    "selection = (a%4==0) & (a%100!=0) | (a%400==0)\n",
    "res = a[selection]\n",
    "print(res.size)"
   ]
  },
  {
   "cell_type": "markdown",
   "id": "937a8be5",
   "metadata": {},
   "source": [
    "### Exercice 4 : simulation de notes\n",
    "\n",
    "On souhaite constuire une simulation des moyennes aux 6 compétences d'un semestre du BUT pour 5 étudiants. Les moyennes sont générées à partir de distributions normales ${\\cal N}(10,7)$.\n",
    "Faire en sorte que toutes les notes supérieures à 20 (resp. inférieures à 0) soient modifiées en 20 (resp. 0)."
   ]
  },
  {
   "cell_type": "code",
   "execution_count": 53,
   "id": "38c44954",
   "metadata": {},
   "outputs": [
    {
     "name": "stdout",
     "output_type": "stream",
     "text": [
      "[[ 8.88187725 13.3992758  19.73004866 16.92361582  3.61728991 14.48755166]\n",
      " [11.77951024  6.27195608 19.17258715  8.08093547 15.95484514  5.49624317]\n",
      " [16.39035284  9.35315882 12.74283975  6.46340012  0.          8.68231424]\n",
      " [16.69761034 19.46770542  0.         10.5593827   3.27261568  0.90480448]\n",
      " [ 5.20093716  2.89465739 20.          4.58944342  0.          8.94915133]]\n"
     ]
    }
   ],
   "source": [
    "notes = 7 * np.random.randn(5, 6) + 10\n",
    "notes[notes > 20] = 20\n",
    "notes[notes < 0] = 0\n",
    "print(notes)"
   ]
  },
  {
   "cell_type": "markdown",
   "id": "00de5706",
   "metadata": {},
   "source": [
    "### Exercice 5 : image et tableau NumPy\n",
    "\n",
    "Une image peut être chargée dans un tableau NumPy où chaque valeur du tableau contient l'intensité d'un pixel (entier entre 0 et 255) :\n",
    "- une image en noir et blanc de 500 x 1000 pixels sera stockée dans une matrice de *shape* (500, 1000) où chaque valeur correspond au niveau de gris d'un pixel (0 = pixel noir, 255 = pixel blanc)\n",
    "\n",
    "- une image en couleur de 500 x 1000 pixels sera stockée dans un tenseur de *shape* (500, 1000, 3) composé de 3 matrices (500, 1000) chacune définissant l'intensité des pixels selon une couleur (<font color='red'>R*ed*</font>, <font color='green'>G*reen*</font>, <font color='blue'>B*lue*</font>).\n",
    "\n",
    "Le code suivant permet de charger un tableau NumPy contenant les niveaux de gris des pixels d'une image puis de l'afficher :\n"
   ]
  },
  {
   "cell_type": "code",
   "execution_count": 54,
   "id": "16cc2cb5",
   "metadata": {},
   "outputs": [
    {
     "data": {
      "image/png": "[encoded data removed]",
      "text/plain": [
       "<Figure size 432x288 with 1 Axes>"
      ]
     },
     "metadata": {
      "needs_background": "light"
     },
     "output_type": "display_data"
    }
   ],
   "source": [
    "image = np.load('images/logo.npy')\n",
    "plt.imshow(image, cmap=plt.cm.gray)\n",
    "plt.show()"
   ]
  },
  {
   "cell_type": "markdown",
   "id": "c390e101",
   "metadata": {},
   "source": [
    "Votre travail consiste à modifier cette image de sorte à :\n",
    "1. zoomer sur le logo (supprimer le cadre extérieur blanc)\n",
    "2. faire ressortir (en noir) la partie \"informatique\"\n",
    "3. remettre le logo dans le bon sens"
   ]
  },
  {
   "cell_type": "code",
   "execution_count": 74,
   "id": "4eced7e8",
   "metadata": {},
   "outputs": [
    {
     "data": {
      "image/png": "[encoded data removed]",
      "text/plain": [
       "<Figure size 432x288 with 1 Axes>"
      ]
     },
     "metadata": {
      "needs_background": "light"
     },
     "output_type": "display_data"
    }
   ],
   "source": [
    "image = np.load('images/logo.npy')\n",
    "image = image[190:940, 265:1550]\n",
    "image = image[::-1, ::-1]\n",
    "image[(image > 100) & (image < 200)] = 0\n",
    "plt.imshow(image, cmap=plt.cm.gray)\n",
    "plt.axis('off')\n",
    "plt.show()"
   ]
  }
 ],
 "metadata": {
  "kernelspec": {
   "display_name": "Python 3",
   "language": "python",
   "name": "python3"
  },
  "language_info": {
   "codemirror_mode": {
    "name": "ipython",
    "version": 3
   },
   "file_extension": ".py",
   "mimetype": "text/x-python",
   "name": "python",
   "nbconvert_exporter": "python",
   "pygments_lexer": "ipython3",
   "version": "3.10.2"
  },
  "vscode": {
   "interpreter": {
    "hash": "aee8b7b246df8f9039afb4144a1f6fd8d2ca17a180786b69acc140d282b71a49"
   }
  }
 },
 "nbformat": 4,
 "nbformat_minor": 5
}
