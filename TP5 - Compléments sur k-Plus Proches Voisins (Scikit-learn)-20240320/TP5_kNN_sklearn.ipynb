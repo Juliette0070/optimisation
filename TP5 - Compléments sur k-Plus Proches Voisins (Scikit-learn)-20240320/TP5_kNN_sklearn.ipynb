{
 "cells": [
  {
   "attachments": {},
   "cell_type": "markdown",
   "id": "0e89b5c8",
   "metadata": {},
   "source": [
    "# Les k-Plus Proches Voisins : en pratique"
   ]
  },
  {
   "attachments": {},
   "cell_type": "markdown",
   "id": "6b339cb7",
   "metadata": {},
   "source": [
    "Dans le TP4 nous avons implémenté quelques méthodes de base en Machine Learning (Apprentissage Automatique) :\n",
    "- découpage train/test d'un dataset\n",
    "- normalisation\n",
    "- classification par k-PPV (méthode de base et variante pondérée)\n",
    "- évaluation d'un classifieur\n",
    "\n",
    "Le fait d'en écrire le code a permis d'en maîtriser le fonctionnement. Cependant, à l'avenir vous devrez utiliser des librairies qui proposent ces méthodes déjà implémentées."
   ]
  },
  {
   "attachments": {},
   "cell_type": "markdown",
   "id": "55d7ce11",
   "metadata": {},
   "source": [
    "> [Scikit-learn](https://scikit-learn.org/) est une bibliothèque libre Python destinée à l'apprentissage automatique.\n",
    ">\n",
    "> Nous y retrouverons notamment :\n",
    "> - la méthode `train_test_split()` pour découper un dataset en deux sous-ensembles d'entraînement et de test\n",
    "> - les méthodes `MinMaxScaler()` et `StandardScaler()` pour normaliser le dataset\n",
    "> - la méthode `KNeighborsClassifier()` pour prédire par k-PPV\n",
    ">\n"
   ]
  },
  {
   "attachments": {},
   "cell_type": "markdown",
   "id": "388e831c",
   "metadata": {},
   "source": [
    "Vous commencerez par installer la bibliothèque sur votre machine : `pip install scikit-learn`"
   ]
  },
  {
   "attachments": {},
   "cell_type": "markdown",
   "id": "876db04d",
   "metadata": {},
   "source": [
    "---"
   ]
  },
  {
   "attachments": {},
   "cell_type": "markdown",
   "id": "18ab4e58",
   "metadata": {},
   "source": [
    "### Exercice 1 : prise en main de Scikit-learn"
   ]
  },
  {
   "attachments": {},
   "cell_type": "markdown",
   "id": "9ebfda61",
   "metadata": {},
   "source": [
    "1. Comme dans le TP4, chargez les données `zoo.csv` dans un Dataframe puis en extraire deux tableaux NumPy `X` (matrice 100x16) et `y` (vecteur des 100 labels de classe)"
   ]
  },
  {
   "cell_type": "code",
   "execution_count": 2,
   "id": "cc3e2ffc",
   "metadata": {},
   "outputs": [],
   "source": []
  },
  {
   "attachments": {},
   "cell_type": "markdown",
   "id": "95f2ce95",
   "metadata": {},
   "source": [
    "2. Procédez au découpage du dataset (`X` et `y`) en deux sous-ensembles de même taille (`X_train`, `X_test`, `y_train`, `y_test`) en utilisant la méthode `train_test_split()` de Scikit-learn (consultez la documentation). Puis vérifiez l'équilibre des classes entre les deux sous-ensembles."
   ]
  },
  {
   "cell_type": "code",
   "execution_count": 12,
   "id": "322e3ca6",
   "metadata": {},
   "outputs": [
    {
     "name": "stdout",
     "output_type": "stream",
     "text": [
      "(array([1, 2, 3, 4, 5, 6, 7]), array([21,  9,  3,  4,  1,  6,  6]))\n",
      "(array([1, 2, 3, 4, 5, 6, 7]), array([20, 11,  2,  9,  2,  2,  4]))\n"
     ]
    }
   ],
   "source": [
    "from sklearn.model_selection import train_test_split"
   ]
  },
  {
   "attachments": {},
   "cell_type": "markdown",
   "id": "cc10fc65",
   "metadata": {},
   "source": [
    "3. Normalisez les données en utilisant au choix l'une des méthodes suivantes : `MinMaxScaler()` ou `StandardScaler()` (consultez la doc)"
   ]
  },
  {
   "cell_type": "code",
   "execution_count": 15,
   "id": "986c9a01",
   "metadata": {},
   "outputs": [],
   "source": [
    "# normalisation min/max z = (x-min)/(max-min)\n",
    "from sklearn.preprocessing import MinMaxScaler"
   ]
  },
  {
   "cell_type": "code",
   "execution_count": 34,
   "id": "908a3769",
   "metadata": {},
   "outputs": [],
   "source": [
    "# normalisation centrée réduite z = (x-u)/s avec u la moyenne et s l'écart type\n",
    "from sklearn.preprocessing import StandardScaler"
   ]
  },
  {
   "attachments": {},
   "cell_type": "markdown",
   "id": "1dfa9e4a",
   "metadata": {},
   "source": [
    "4. Utilisez la classe `KNeighborsClassifier` de Scikit-learn pour prédire les classes de chaque données de l'ensemble `X_test` par la méthode k-PPV (non-pondérée) avec $k=2$ (consultez la documentation)"
   ]
  },
  {
   "cell_type": "code",
   "execution_count": 37,
   "id": "26a53a10",
   "metadata": {},
   "outputs": [],
   "source": [
    "from sklearn.neighbors import KNeighborsClassifier"
   ]
  },
  {
   "attachments": {},
   "cell_type": "markdown",
   "id": "b2387478",
   "metadata": {},
   "source": [
    "5. Evaluez ce classifieur en calculant le taux d'erreurs"
   ]
  },
  {
   "cell_type": "code",
   "execution_count": 32,
   "id": "d60f8d39",
   "metadata": {},
   "outputs": [],
   "source": []
  },
  {
   "attachments": {},
   "cell_type": "markdown",
   "id": "d8042941",
   "metadata": {},
   "source": [
    "6. Modifiez les paramètres du classifieur (question 4) pour tester (et évaluer) différentes méthodes de prédication :\n",
    "- différentes valeurs pour $k$\n",
    "- avec ou sans normalisation des données\n",
    "- variante pondérée de k-PPV\n",
    "- etc."
   ]
  },
  {
   "attachments": {},
   "cell_type": "markdown",
   "id": "612be116",
   "metadata": {},
   "source": [
    "---"
   ]
  },
  {
   "attachments": {},
   "cell_type": "markdown",
   "id": "8ce1cc98",
   "metadata": {},
   "source": [
    "### Exercice 2 : pour vous entraîner... et aller plus loin"
   ]
  },
  {
   "attachments": {},
   "cell_type": "markdown",
   "id": "587e0aa5",
   "metadata": {},
   "source": [
    "Vous trouverez deux nouveaux datasets dans le repertoire `donnees` :\n",
    "- le dataset `iris` : contenant les descriptions de fleurs (iris) selon 4 descripteurs numériques. La tâche de prédiction porte sur le type d'Iris (3 catégories).\n",
    "\n",
    "- le dataset `card_transdata` : contenant les descriptions de transactions par cartes bancaires selont 7 descripteurs numériques ou booléens. La tâche de prédiction consiste à détecter les fraudes (2 catégories).\n",
    "\n",
    "Votre travail consiste, pour chacune des deux tâches de prédiction ci-dessus, à proposer un classifieur de type k-PPV le plus efficace possible. "
   ]
  }
 ],
 "metadata": {
  "kernelspec": {
   "display_name": "Python 3",
   "language": "python",
   "name": "python3"
  },
  "language_info": {
   "codemirror_mode": {
    "name": "ipython",
    "version": 3
   },
   "file_extension": ".py",
   "mimetype": "text/x-python",
   "name": "python",
   "nbconvert_exporter": "python",
   "pygments_lexer": "ipython3",
   "version": "3.9.13"
  },
  "vscode": {
   "interpreter": {
    "hash": "aee8b7b246df8f9039afb4144a1f6fd8d2ca17a180786b69acc140d282b71a49"
   }
  }
 },
 "nbformat": 4,
 "nbformat_minor": 5
}
