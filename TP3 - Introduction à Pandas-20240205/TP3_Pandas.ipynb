{
 "cells": [
  {
   "attachments": {},
   "cell_type": "markdown",
   "id": "0e89b5c8",
   "metadata": {},
   "source": [
    "# Introduction à la librairie Pandas"
   ]
  },
  {
   "attachments": {},
   "cell_type": "markdown",
   "id": "b959a29f",
   "metadata": {},
   "source": [
    "## A. Charger, importer, observer un tableau de données"
   ]
  },
  {
   "attachments": {},
   "cell_type": "markdown",
   "id": "06479ed5",
   "metadata": {},
   "source": [
    "[Pandas](https://pandas.pydata.org/docs/) est une librairie incontournable pour le traitement de tableaux de données en Python. Elle s'appuie principalement sur une nouvelle structure de données : le **<font color='red'>Dataframe</font>**!\n",
    "\n",
    "Un Dataframe est un tableau :\n",
    "- à *deux dimensions*,\n",
    "- dont chaque ligne contient la description d'un *individu*\n",
    "- dont chaque colonne correspond à un *descripteur* (on parlera aussi d'*attribut* ou *variable*)\n",
    "- dont le type des données peut être différent d'une colonne à une autre (même type pour un même descripteur), **<font color='red'>$\\Rightarrow$ différent d'un tableau NumPy</font>**\n",
    "- possédant un index pour chaque axe (ligne et colonne)\n",
    "\n",
    "On commencera par importer la librairie Pandas avec l'alias `pd` par convention : "
   ]
  },
  {
   "cell_type": "code",
   "execution_count": 1,
   "id": "e05c87a7",
   "metadata": {},
   "outputs": [
    {
     "name": "stderr",
     "output_type": "stream",
     "text": [
      "/tmp/ipykernel_47233/4080736814.py:1: DeprecationWarning: \n",
      "Pyarrow will become a required dependency of pandas in the next major release of pandas (pandas 3.0),\n",
      "(to allow more performant data types, such as the Arrow string type, and better interoperability with other libraries)\n",
      "but was not found to be installed on your system.\n",
      "If this would cause problems for you,\n",
      "please provide us feedback at https://github.com/pandas-dev/pandas/issues/54466\n",
      "        \n",
      "  import pandas as pd\n"
     ]
    }
   ],
   "source": [
    "import pandas as pd"
   ]
  },
  {
   "attachments": {},
   "cell_type": "markdown",
   "id": "730e3504",
   "metadata": {},
   "source": [
    "NB. Il vous faudra peut-être au préalable installer la librairie sur votre machine : `pip install Pandas`"
   ]
  },
  {
   "attachments": {},
   "cell_type": "markdown",
   "id": "f5dbfdb3",
   "metadata": {},
   "source": [
    "Fini l'écriture de fonctions pour lire un fichier tablulaire (type .csv), Pandas définit des constructeurs de Dataframe directement à partir de tels fichiers : `pd.read_csv(`*nom_fichier*`)`, `pd.read_table(`*nom_fichier*`)`, `pd.read_excel(`*nom_fichier*`)`, etc. A vous de modifier éventuellement le paramétrage par défaut afin de vous conformer à la structure du fichier."
   ]
  },
  {
   "cell_type": "code",
   "execution_count": 3,
   "id": "290c651f",
   "metadata": {},
   "outputs": [],
   "source": [
    "df = pd.read_csv('donnees/sommeil.csv')  # paramétrage par défaut"
   ]
  },
  {
   "attachments": {},
   "cell_type": "markdown",
   "id": "b1829245",
   "metadata": {},
   "source": [
    "Quelques attributs utiles pour vérifier la *structure* de notre Dataframe `df`:\n",
    "\n",
    "- `df.shape`: la forme du tableau (nb. lignes, nb. colonnes)\n",
    "- `df.dtypes`: les types de données stockées dans chaque colonne du tableau\n",
    "- `df.index`: l'index utilisé pour les lignes du tableau (par défaut les entiers 0, 1, 2, ...)\n",
    "- `df.columns`: le nom (index) des colonnes du tableau (par défaut les en-têtes du fichier initial)\n",
    "\n",
    "Affichez les (valeurs des) attributs de notre Dataframe `df`:\n"
   ]
  },
  {
   "cell_type": "code",
   "execution_count": 5,
   "id": "099154ae",
   "metadata": {},
   "outputs": [
    {
     "name": "stdout",
     "output_type": "stream",
     "text": [
      "(62, 11)\n",
      "Species            object\n",
      "Body.Weight       float64\n",
      "Brain.Weight      float64\n",
      "Non.Dreaming      float64\n",
      "Dreaming          float64\n",
      "Sleep             float64\n",
      "Lifespan          float64\n",
      "Gestation         float64\n",
      "Predation           int64\n",
      "Sleep.exposure      int64\n",
      "Endangered          int64\n",
      "dtype: object\n",
      "RangeIndex(start=0, stop=62, step=1)\n",
      "Index(['Species', 'Body.Weight', 'Brain.Weight', 'Non.Dreaming', 'Dreaming',\n",
      "       'Sleep', 'Lifespan', 'Gestation', 'Predation', 'Sleep.exposure',\n",
      "       'Endangered'],\n",
      "      dtype='object')\n"
     ]
    }
   ],
   "source": [
    "print(df.shape)\n",
    "print(df.dtypes)\n",
    "print(df.index)\n",
    "print(df.columns)"
   ]
  },
  {
   "attachments": {},
   "cell_type": "markdown",
   "id": "af8fcb29",
   "metadata": {},
   "source": [
    "Puis quelques méthodes bien utiles également pour commencer à vérifier le *contenu* de notre Dataframe `df`:\n",
    "\n",
    "- `df.head(`*[nb]*`)` : renvoie une vue des `nb` __premières__ lignes du Dataframe (`nb`=5 par défaut)\n",
    "- `df.tail(`*[nb]*`)` : renvoie une vue des `nb` __dernières__ lignes du Dataframe (`nb`=5 par défaut)\n",
    "- `df.describe()` : renvoie un nouveau Dataframe contenant les statistiques de base sur chaque descripteur du tableau :\n",
    "    - `count`: nombre de valeurs (parcequ'il peut y avoir des valeurs manquantes `NaN`)\n",
    "    - `mean`: moyenne des valeurs\n",
    "    - `std` : *standard deviation* (écart type)\n",
    "    - `min`, `max` ainsi que les quartiles\n",
    "\n",
    "Vérifiez le contenu de notre Dataframe `df` à l'aide de ces méthodes:"
   ]
  },
  {
   "cell_type": "code",
   "execution_count": 8,
   "id": "53e5f2d3",
   "metadata": {},
   "outputs": [
    {
     "name": "stdout",
     "output_type": "stream",
     "text": [
      "                     Species  Body.Weight  Brain.Weight  Non.Dreaming  \\\n",
      "0           African elephant      6654.00        5712.0           NaN   \n",
      "1  African giant pouched rat         1.00           6.6           6.3   \n",
      "2                 Arctic Fox         3.39          44.5           NaN   \n",
      "\n",
      "   Dreaming  Sleep  Lifespan  Gestation  Predation  Sleep.exposure  Endangered  \n",
      "0       NaN    3.3      38.6      645.0          3               5           3  \n",
      "1       2.0    8.3       4.5       42.0          3               1           3  \n",
      "2       NaN   12.5      14.0       60.0          1               1           1  \n",
      "                  Species  Body.Weight  Brain.Weight  Non.Dreaming  Dreaming  \\\n",
      "59                 Vervet         4.19          58.0           9.7       0.6   \n",
      "60          Water opossum         3.50           3.9          12.8       6.6   \n",
      "61  Yellow-bellied marmot         4.05          17.0           NaN       NaN   \n",
      "\n",
      "    Sleep  Lifespan  Gestation  Predation  Sleep.exposure  Endangered  \n",
      "59   10.3      24.0      210.0          4               3           4  \n",
      "60   19.4       3.0       14.0          2               1           1  \n",
      "61    NaN      13.0       38.0          3               1           1  \n"
     ]
    },
    {
     "data": {
      "text/html": [
       "<div>\n",
       "<style scoped>\n",
       "    .dataframe tbody tr th:only-of-type {\n",
       "        vertical-align: middle;\n",
       "    }\n",
       "\n",
       "    .dataframe tbody tr th {\n",
       "        vertical-align: top;\n",
       "    }\n",
       "\n",
       "    .dataframe thead th {\n",
       "        text-align: right;\n",
       "    }\n",
       "</style>\n",
       "<table border=\"1\" class=\"dataframe\">\n",
       "  <thead>\n",
       "    <tr style=\"text-align: right;\">\n",
       "      <th></th>\n",
       "      <th>Body.Weight</th>\n",
       "      <th>Brain.Weight</th>\n",
       "      <th>Non.Dreaming</th>\n",
       "      <th>Dreaming</th>\n",
       "      <th>Sleep</th>\n",
       "      <th>Lifespan</th>\n",
       "      <th>Gestation</th>\n",
       "      <th>Predation</th>\n",
       "      <th>Sleep.exposure</th>\n",
       "      <th>Endangered</th>\n",
       "    </tr>\n",
       "  </thead>\n",
       "  <tbody>\n",
       "    <tr>\n",
       "      <th>count</th>\n",
       "      <td>62.000000</td>\n",
       "      <td>62.000000</td>\n",
       "      <td>48.000000</td>\n",
       "      <td>50.000000</td>\n",
       "      <td>58.000000</td>\n",
       "      <td>58.000000</td>\n",
       "      <td>58.000000</td>\n",
       "      <td>62.000000</td>\n",
       "      <td>62.000000</td>\n",
       "      <td>62.000000</td>\n",
       "    </tr>\n",
       "    <tr>\n",
       "      <th>mean</th>\n",
       "      <td>198.790323</td>\n",
       "      <td>283.134194</td>\n",
       "      <td>8.672917</td>\n",
       "      <td>1.972000</td>\n",
       "      <td>10.532759</td>\n",
       "      <td>19.877586</td>\n",
       "      <td>142.353448</td>\n",
       "      <td>2.870968</td>\n",
       "      <td>2.419355</td>\n",
       "      <td>2.612903</td>\n",
       "    </tr>\n",
       "    <tr>\n",
       "      <th>std</th>\n",
       "      <td>899.157935</td>\n",
       "      <td>930.278942</td>\n",
       "      <td>3.666452</td>\n",
       "      <td>1.442651</td>\n",
       "      <td>4.606760</td>\n",
       "      <td>18.206255</td>\n",
       "      <td>146.805039</td>\n",
       "      <td>1.476414</td>\n",
       "      <td>1.604792</td>\n",
       "      <td>1.441252</td>\n",
       "    </tr>\n",
       "    <tr>\n",
       "      <th>min</th>\n",
       "      <td>0.010000</td>\n",
       "      <td>0.140000</td>\n",
       "      <td>2.100000</td>\n",
       "      <td>0.000000</td>\n",
       "      <td>2.600000</td>\n",
       "      <td>2.000000</td>\n",
       "      <td>12.000000</td>\n",
       "      <td>1.000000</td>\n",
       "      <td>1.000000</td>\n",
       "      <td>1.000000</td>\n",
       "    </tr>\n",
       "    <tr>\n",
       "      <th>25%</th>\n",
       "      <td>0.600000</td>\n",
       "      <td>4.250000</td>\n",
       "      <td>6.250000</td>\n",
       "      <td>0.900000</td>\n",
       "      <td>8.050000</td>\n",
       "      <td>6.625000</td>\n",
       "      <td>35.750000</td>\n",
       "      <td>2.000000</td>\n",
       "      <td>1.000000</td>\n",
       "      <td>1.000000</td>\n",
       "    </tr>\n",
       "    <tr>\n",
       "      <th>50%</th>\n",
       "      <td>3.345000</td>\n",
       "      <td>17.250000</td>\n",
       "      <td>8.350000</td>\n",
       "      <td>1.800000</td>\n",
       "      <td>10.450000</td>\n",
       "      <td>15.100000</td>\n",
       "      <td>79.000000</td>\n",
       "      <td>3.000000</td>\n",
       "      <td>2.000000</td>\n",
       "      <td>2.000000</td>\n",
       "    </tr>\n",
       "    <tr>\n",
       "      <th>75%</th>\n",
       "      <td>48.202500</td>\n",
       "      <td>166.000000</td>\n",
       "      <td>11.000000</td>\n",
       "      <td>2.550000</td>\n",
       "      <td>13.200000</td>\n",
       "      <td>27.750000</td>\n",
       "      <td>207.500000</td>\n",
       "      <td>4.000000</td>\n",
       "      <td>4.000000</td>\n",
       "      <td>4.000000</td>\n",
       "    </tr>\n",
       "    <tr>\n",
       "      <th>max</th>\n",
       "      <td>6654.000000</td>\n",
       "      <td>5712.000000</td>\n",
       "      <td>17.900000</td>\n",
       "      <td>6.600000</td>\n",
       "      <td>19.900000</td>\n",
       "      <td>100.000000</td>\n",
       "      <td>645.000000</td>\n",
       "      <td>5.000000</td>\n",
       "      <td>5.000000</td>\n",
       "      <td>5.000000</td>\n",
       "    </tr>\n",
       "  </tbody>\n",
       "</table>\n",
       "</div>"
      ],
      "text/plain": [
       "       Body.Weight  Brain.Weight  Non.Dreaming   Dreaming      Sleep  \\\n",
       "count    62.000000     62.000000     48.000000  50.000000  58.000000   \n",
       "mean    198.790323    283.134194      8.672917   1.972000  10.532759   \n",
       "std     899.157935    930.278942      3.666452   1.442651   4.606760   \n",
       "min       0.010000      0.140000      2.100000   0.000000   2.600000   \n",
       "25%       0.600000      4.250000      6.250000   0.900000   8.050000   \n",
       "50%       3.345000     17.250000      8.350000   1.800000  10.450000   \n",
       "75%      48.202500    166.000000     11.000000   2.550000  13.200000   \n",
       "max    6654.000000   5712.000000     17.900000   6.600000  19.900000   \n",
       "\n",
       "         Lifespan   Gestation  Predation  Sleep.exposure  Endangered  \n",
       "count   58.000000   58.000000  62.000000       62.000000   62.000000  \n",
       "mean    19.877586  142.353448   2.870968        2.419355    2.612903  \n",
       "std     18.206255  146.805039   1.476414        1.604792    1.441252  \n",
       "min      2.000000   12.000000   1.000000        1.000000    1.000000  \n",
       "25%      6.625000   35.750000   2.000000        1.000000    1.000000  \n",
       "50%     15.100000   79.000000   3.000000        2.000000    2.000000  \n",
       "75%     27.750000  207.500000   4.000000        4.000000    4.000000  \n",
       "max    100.000000  645.000000   5.000000        5.000000    5.000000  "
      ]
     },
     "execution_count": 8,
     "metadata": {},
     "output_type": "execute_result"
    }
   ],
   "source": [
    "print(df.head(3))\n",
    "print(df.tail(3))\n",
    "df.describe()"
   ]
  },
  {
   "attachments": {},
   "cell_type": "markdown",
   "id": "b89eda9f",
   "metadata": {},
   "source": [
    "---"
   ]
  },
  {
   "attachments": {},
   "cell_type": "markdown",
   "id": "27f42968",
   "metadata": {},
   "source": [
    "## B. Pandas et NumPy : c'est quoi le rapport?"
   ]
  },
  {
   "attachments": {},
   "cell_type": "markdown",
   "id": "c53610df",
   "metadata": {},
   "source": [
    "Répétons-le, <font color='red'>les Dataframe et les tableaux NumPy sont deux structures de données différentes</font> :\n",
    "\n",
    "|  Tableaux NumPy  |    Dataframe    |\n",
    "| :---------------:|:---------------:|\n",
    "| 1 à n dimensions |   2 dimensions  |\n",
    "| données toutes de même type  | données hétérogènes (par colonne) |\n",
    "| indexation par des entiers uniquement | indexation libre  |\n",
    "\n",
    "C'est la raison pour laquelle nous ne pouvons pas accéder aux éléments d'un Dataframe comme nous le faisons pour un tableau NumPy : `df[0, 0]` renvoie une erreur!\n",
    "\n",
    "Pour faire simple, Pandas définit une structure de données *series* qui est un vecteur NumPy auquel on ajoute un index (en complément de l'indexation naturelle par des entiers). Une *series* correspond à une colonne du Dataframe. Un Dataframe peut alors être vu comme un \"dictionnaire\" de *series* où :\n",
    "- les clés sont les noms des colonnes\n",
    "- les valeurs sont les *series*\n",
    "- toutes les *series* ont le même index\n",
    "\n",
    "<img src=\"images/sdd_Dataframe.jpg\" alt=\"Structure de données Dataframe\" height=\"350\" style=\"display: block; margin: 0 auto\"/>\n",
    "\n",
    "On utilisera alors les syntaxes suivantes :\n",
    "- `df['nom col']` pour récupérer toute la colonne (*series*) de nom `'nom col'`\n",
    "- `df[`<font color='red'>**[**</font>`'nom col1', ..., 'nom coln'`<font color='red'>**]**</font>`]` pour récupérer une vue du Dataframe contenant plusieurs colonnes\n",
    "- `df['nom col'][0:10]` pour récupérer les 10 premières valeurs de cette colonne\n",
    "- `df['new col'] = ...` pour ajouter une nouvelle colonne au Dataframe (ajout d'une nouvelle clé dans le \"dictionnaire\")\n",
    "- `df = df.set_index(keys)` ou `df.set_index(keys, inplace=True)` pour définir (ou remplacer) l'indexation des lignes du Dataframe"
   ]
  },
  {
   "attachments": {},
   "cell_type": "markdown",
   "id": "553c9a8c",
   "metadata": {},
   "source": [
    "### Exercice 1 : sommeil léger"
   ]
  },
  {
   "attachments": {},
   "cell_type": "markdown",
   "id": "3458ad1e",
   "metadata": {},
   "source": [
    "1. Créer une variable `noms` composée noms des 62 mamifères du Dataframe `df`. Quel est le type de cette variable?"
   ]
  },
  {
   "cell_type": "code",
   "execution_count": 12,
   "id": "8ccf1d01",
   "metadata": {},
   "outputs": [
    {
     "name": "stdout",
     "output_type": "stream",
     "text": [
      "0              African elephant\n",
      "1     African giant pouched rat\n",
      "2                    Arctic Fox\n",
      "3        Arctic ground squirrel\n",
      "4                Asian elephant\n",
      "                ...            \n",
      "57                   Tree hyrax\n",
      "58                   Tree shrew\n",
      "59                       Vervet\n",
      "60                Water opossum\n",
      "61        Yellow-bellied marmot\n",
      "Name: Species, Length: 62, dtype: object\n",
      "<class 'pandas.core.series.Series'>\n"
     ]
    }
   ],
   "source": [
    "noms = df[\"Species\"]\n",
    "print(noms)\n",
    "print(type(noms))"
   ]
  },
  {
   "attachments": {},
   "cell_type": "markdown",
   "id": "6102b667",
   "metadata": {},
   "source": [
    "2. Stocker dans `subpart` la projection du Dataframe `Df` sur les descripteurs : nom d'espèces (**Species**), poids (**Body.Weight**) et espérance de vie (**Lifespan**). Quel est le type de `subpart`?"
   ]
  },
  {
   "cell_type": "code",
   "execution_count": 13,
   "id": "d8da1f8e",
   "metadata": {},
   "outputs": [
    {
     "name": "stdout",
     "output_type": "stream",
     "text": [
      "                      Species  Body.Weight  Lifespan\n",
      "0            African elephant      6654.00      38.6\n",
      "1   African giant pouched rat         1.00       4.5\n",
      "2                  Arctic Fox         3.39      14.0\n",
      "3      Arctic ground squirrel         0.92       NaN\n",
      "4              Asian elephant      2547.00      69.0\n",
      "..                        ...          ...       ...\n",
      "57                 Tree hyrax         2.00       7.5\n",
      "58                 Tree shrew         0.10       2.3\n",
      "59                     Vervet         4.19      24.0\n",
      "60              Water opossum         3.50       3.0\n",
      "61      Yellow-bellied marmot         4.05      13.0\n",
      "\n",
      "[62 rows x 3 columns]\n",
      "<class 'pandas.core.frame.DataFrame'>\n"
     ]
    }
   ],
   "source": [
    "subpart = df[[\"Species\", \"Body.Weight\", \"Lifespan\"]]\n",
    "print(subpart)\n",
    "print(type(subpart))"
   ]
  },
  {
   "attachments": {},
   "cell_type": "markdown",
   "id": "30fdc932",
   "metadata": {},
   "source": [
    "3. Calculer le poids moyen et le poids median des animaux du Dataframe `df`. "
   ]
  },
  {
   "cell_type": "code",
   "execution_count": 14,
   "id": "5b056c82",
   "metadata": {},
   "outputs": [
    {
     "name": "stdout",
     "output_type": "stream",
     "text": [
      "198.79032258064518\n",
      "3.3449999999999998\n"
     ]
    }
   ],
   "source": [
    "print(df[\"Body.Weight\"].mean())\n",
    "print(df[\"Body.Weight\"].median())"
   ]
  },
  {
   "attachments": {},
   "cell_type": "markdown",
   "id": "5854ec6a",
   "metadata": {},
   "source": [
    "Nous allons creuser un peu pour découvrir les raisons de cette divergence moyenne vs. médiane..."
   ]
  },
  {
   "attachments": {},
   "cell_type": "markdown",
   "id": "23983902",
   "metadata": {},
   "source": [
    "4. Utiliser matplotlib (intégrée à Pandas) pour afficher la distribution des poids des animaux sous forme d'un histogramme [`df.plot.hist()`](https://pandas.pydata.org/docs/reference/api/pandas.DataFrame.plot.hist.html)"
   ]
  },
  {
   "cell_type": "code",
   "execution_count": 16,
   "id": "4c643225",
   "metadata": {},
   "outputs": [
    {
     "data": {
      "text/plain": [
       "<AxesSubplot:ylabel='Frequency'>"
      ]
     },
     "execution_count": 16,
     "metadata": {},
     "output_type": "execute_result"
    },
    {
     "data": {
      "image/png": "[encoded data removed]",
      "text/plain": [
       "<Figure size 432x288 with 1 Axes>"
      ]
     },
     "metadata": {
      "needs_background": "light"
     },
     "output_type": "display_data"
    }
   ],
   "source": [
    "df[\"Body.Weight\"].plot.hist()"
   ]
  },
  {
   "attachments": {},
   "cell_type": "markdown",
   "id": "0c8b0b35",
   "metadata": {},
   "source": [
    "5. Quels sont les (deux?) animaux dont le poids semble significativement supérieur aux autres?"
   ]
  },
  {
   "cell_type": "code",
   "execution_count": 20,
   "id": "13553ade",
   "metadata": {},
   "outputs": [
    {
     "data": {
      "text/html": [
       "<div>\n",
       "<style scoped>\n",
       "    .dataframe tbody tr th:only-of-type {\n",
       "        vertical-align: middle;\n",
       "    }\n",
       "\n",
       "    .dataframe tbody tr th {\n",
       "        vertical-align: top;\n",
       "    }\n",
       "\n",
       "    .dataframe thead th {\n",
       "        text-align: right;\n",
       "    }\n",
       "</style>\n",
       "<table border=\"1\" class=\"dataframe\">\n",
       "  <thead>\n",
       "    <tr style=\"text-align: right;\">\n",
       "      <th></th>\n",
       "      <th>Species</th>\n",
       "      <th>Body.Weight</th>\n",
       "    </tr>\n",
       "  </thead>\n",
       "  <tbody>\n",
       "    <tr>\n",
       "      <th>0</th>\n",
       "      <td>African elephant</td>\n",
       "      <td>6654.0</td>\n",
       "    </tr>\n",
       "    <tr>\n",
       "      <th>4</th>\n",
       "      <td>Asian elephant</td>\n",
       "      <td>2547.0</td>\n",
       "    </tr>\n",
       "  </tbody>\n",
       "</table>\n",
       "</div>"
      ],
      "text/plain": [
       "            Species  Body.Weight\n",
       "0  African elephant       6654.0\n",
       "4    Asian elephant       2547.0"
      ]
     },
     "execution_count": 20,
     "metadata": {},
     "output_type": "execute_result"
    }
   ],
   "source": [
    "df[['Species', 'Body.Weight']][df['Body.Weight'] > 1000]"
   ]
  },
  {
   "attachments": {},
   "cell_type": "markdown",
   "id": "a9d3b9e8",
   "metadata": {},
   "source": [
    "6. Utiliser les noms d'animaux pour indexer le Dataframe `df` puis afficher le diagramme en battons [`df.plot.bar(...)`](https://pandas.pydata.org/docs/reference/api/pandas.DataFrame.plot.bar.html) des poids des animaux"
   ]
  },
  {
   "cell_type": "code",
   "execution_count": 21,
   "id": "e8aa0332",
   "metadata": {},
   "outputs": [
    {
     "data": {
      "text/plain": [
       "<AxesSubplot:xlabel='Species'>"
      ]
     },
     "execution_count": 21,
     "metadata": {},
     "output_type": "execute_result"
    },
    {
     "data": {
      "image/png": "[encoded data removed]",
      "text/plain": [
       "<Figure size 432x288 with 1 Axes>"
      ]
     },
     "metadata": {
      "needs_background": "light"
     },
     "output_type": "display_data"
    }
   ],
   "source": [
    "df = df.set_index(noms)\n",
    "df.set_index(noms, inplace=True)\n",
    "df['Body.Weight'].plot.bar()"
   ]
  },
  {
   "attachments": {},
   "cell_type": "markdown",
   "id": "0dacdc6b",
   "metadata": {},
   "source": [
    "7. Utiliser [`df.plot.scatter()`](https://pandas.pydata.org/docs/reference/api/pandas.DataFrame.plot.scatter.html) pour imaginer un graphique susceptible de répondre à ces questions :\n",
    "    - existe-t'il une correlation entre le temps de sommeil paradoxal (**Dreaming**) et le temps de sommeil total (**Sleep**)?\n",
    "    - les animaux les plus exposés à la prédation durant leur sommeil (**Sleep.exposure**) sont-ils ceux qui dorment le moins? "
   ]
  },
  {
   "cell_type": "code",
   "execution_count": 34,
   "id": "b84922f6",
   "metadata": {},
   "outputs": [
    {
     "data": {
      "text/plain": [
       "<AxesSubplot:xlabel='Sleep', ylabel='Dreaming'>"
      ]
     },
     "execution_count": 34,
     "metadata": {},
     "output_type": "execute_result"
    },
    {
     "data": {
      "image/png": "[encoded data removed]",
      "text/plain": [
       "<Figure size 432x288 with 2 Axes>"
      ]
     },
     "metadata": {
      "needs_background": "light"
     },
     "output_type": "display_data"
    }
   ],
   "source": [
    "df.plot.scatter(x='Sleep', y='Dreaming', c='Sleep.exposure')"
   ]
  },
  {
   "attachments": {},
   "cell_type": "markdown",
   "id": "10e6e23d",
   "metadata": {},
   "source": [
    "---"
   ]
  },
  {
   "attachments": {},
   "cell_type": "markdown",
   "id": "17122543",
   "metadata": {},
   "source": [
    "## C. Quelques stats simples... mais ciblées!"
   ]
  },
  {
   "attachments": {},
   "cell_type": "markdown",
   "id": "09b73a65",
   "metadata": {},
   "source": [
    "La colonne `Predation` décrit chaque animal selon 5 niveaux d'exposition à la prédation (1 = plus faible exposition et 5 = plus forte exposition). Imaginons que l'on cherche à savoir combien d'animaux sont à un niveau maximal (5) d'exposition à la prédation.\n",
    "\n",
    "Quelle instruction écririez-vous pour obtenir ce résultat? (si, vous savez faire!...)"
   ]
  },
  {
   "cell_type": "code",
   "execution_count": 43,
   "id": "007bb412",
   "metadata": {},
   "outputs": [
    {
     "data": {
      "text/plain": [
       "14"
      ]
     },
     "execution_count": 43,
     "metadata": {},
     "output_type": "execute_result"
    }
   ],
   "source": [
    "sum(df['Predation'] == 5)\n",
    "df[df['Predation'] == 5].shape[0]"
   ]
  },
  {
   "attachments": {},
   "cell_type": "markdown",
   "id": "5a789ec6",
   "metadata": {},
   "source": [
    "Imaginons que l'on cherche à connaître la durée moyenne de sommeil paradoxal (**Dreaming**) pour ce groupe d'animaux en particulier.\n",
    "Allez-y... "
   ]
  },
  {
   "cell_type": "code",
   "execution_count": 39,
   "id": "c4aaa4fc",
   "metadata": {},
   "outputs": [
    {
     "data": {
      "text/plain": [
       "1.0818181818181818"
      ]
     },
     "execution_count": 39,
     "metadata": {},
     "output_type": "execute_result"
    }
   ],
   "source": [
    "df[\"Dreaming\"][df[\"Predation\"] == 5].mean()"
   ]
  },
  {
   "attachments": {},
   "cell_type": "markdown",
   "id": "17267ea7",
   "metadata": {},
   "source": [
    "Imaginons (toujours!), que l'on cherche à savoir si le degré d'exposition à la prédation d'une espèce influence sa durée de sommeil paradoxal (**Dreaming**). Nous alors devoir refaire les calculs précédents pour chacun des cinq niveaux de prédation &#x1F624;"
   ]
  },
  {
   "attachments": {},
   "cell_type": "markdown",
   "id": "27a220b6",
   "metadata": {},
   "source": [
    "\n",
    "\n",
    "Voici une nouvelle méthode très utile en analyse des données :\n",
    "- `df.value_counts(subset)` qui retourne une *Series* contenant le nombre d'observations de chaque ligne unique dans le Dataframe restreint au `subset` de colonnes\n",
    "\n",
    "Par exemple : l'instruction `df.value_counts('Predation')` construit alors une *Series* de taille 5 contenant pour chaque niveau d'exposition, le nombre d'animaux concernés."
   ]
  },
  {
   "cell_type": "code",
   "execution_count": 45,
   "id": "d614ce7b",
   "metadata": {},
   "outputs": [
    {
     "name": "stdout",
     "output_type": "stream",
     "text": [
      "Predation\n",
      "2    15\n",
      "1    14\n",
      "5    14\n",
      "3    12\n",
      "4     7\n",
      "Name: count, dtype: int64\n"
     ]
    }
   ],
   "source": [
    "res = df.value_counts('Predation')\n",
    "print(res)"
   ]
  },
  {
   "attachments": {},
   "cell_type": "markdown",
   "id": "a111ec01",
   "metadata": {},
   "source": [
    "De même, la colonne `Sleep.exposure` contient cette fois l'indice d'exposition *durant le sommeil*. L'instruction `df.value_counts(['Predation', 'Sleep.exposure'])` construit alors une *Series* de taille au plus 25 (5x5) contenant pour chaque combinaison observée, le nombre d'animaux concernés.  "
   ]
  },
  {
   "cell_type": "code",
   "execution_count": 46,
   "id": "5136d046",
   "metadata": {},
   "outputs": [
    {
     "name": "stdout",
     "output_type": "stream",
     "text": [
      "Predation  Sleep.exposure\n",
      "1          1                 10\n",
      "5          5                  9\n",
      "2          1                  7\n",
      "           2                  7\n",
      "3          1                  7\n",
      "           5                  3\n",
      "4          4                  3\n",
      "1          2                  2\n",
      "5          2                  2\n",
      "4          1                  2\n",
      "3          2                  2\n",
      "1          4                  1\n",
      "4          3                  1\n",
      "           5                  1\n",
      "5          1                  1\n",
      "2          3                  1\n",
      "5          3                  1\n",
      "           4                  1\n",
      "1          3                  1\n",
      "Name: count, dtype: int64\n"
     ]
    },
    {
     "data": {
      "text/plain": [
       "<AxesSubplot:xlabel='Predation,Sleep.exposure'>"
      ]
     },
     "execution_count": 46,
     "metadata": {},
     "output_type": "execute_result"
    },
    {
     "data": {
      "image/png": "[encoded data removed]",
      "text/plain": [
       "<Figure size 432x288 with 1 Axes>"
      ]
     },
     "metadata": {
      "needs_background": "light"
     },
     "output_type": "display_data"
    }
   ],
   "source": [
    "res = df.value_counts(['Predation', 'Sleep.exposure'])\n",
    "print(res)\n",
    "res.plot.bar()"
   ]
  },
  {
   "attachments": {},
   "cell_type": "markdown",
   "id": "85e985f1",
   "metadata": {},
   "source": [
    "> étudiez l'index de la *series* retournée par `.value_counts()` lorsqu'il y a plusieurs descripteurs... vous remarquerez que l'index d'une *Series* (et donc d'un *Dataframe*) peut être un *tuple* (index multiple)\n",
    "\n",
    "On remarquera que les deux combinaisons les plus fréquentes correspondent aux animaux :\n",
    "- soit très peu exposés : en général (1) et durant leur sommeil (1) $\\rightarrow$ 10 individus\n",
    "- soit très exposés : en général (5) et durant leur sommeil (5) $\\rightarrow$ 9 individus\n",
    "\n",
    "\n",
    "`value_counts(subset)` permet donc de constituer des *groupes* d'individus et de compter la taille de chacun des groupes. La méthode `groupby()` permet d'aller un peu plus loin en appliquant des routines statistiques sur ces *groupes* d'individus.\n",
    "\n",
    "Ainsi l'instruction `df.groupby('Predation').mean()` renvoie un nouveau Dataframe de 5 lignes, indexé par les 5 valeurs de l'attribut `Predation`. Chaque ligne décrit alors un *groupe* d'individus selon les mêmes descripteurs qu'initialement. La méthode `mean()` utilisée ici définit la valeur qui sera calculée pour décrire le groupe selon chaque descripteur.\n",
    "\n",
    "Revenons alors à notre question initiale : le degré d'exposition à la prédation d'une espèce influence-t'il sa durée de sommeil paradoxal (**Dreaming**)?"
   ]
  },
  {
   "cell_type": "code",
   "execution_count": null,
   "id": "aaf04a3f",
   "metadata": {},
   "outputs": [],
   "source": [
    "\n"
   ]
  },
  {
   "attachments": {},
   "cell_type": "markdown",
   "id": "82ba51c6",
   "metadata": {},
   "source": [
    "---"
   ]
  },
  {
   "attachments": {},
   "cell_type": "markdown",
   "id": "2d4cf41e",
   "metadata": {},
   "source": [
    "## D. Des requêtes avancées"
   ]
  },
  {
   "attachments": {},
   "cell_type": "markdown",
   "id": "874c3e28",
   "metadata": {},
   "source": [
    "### Exercice 2 : de gros dormeurs qui ne devraient peut-être pas..."
   ]
  },
  {
   "attachments": {},
   "cell_type": "markdown",
   "id": "42b9e3e0",
   "metadata": {},
   "source": [
    "1. Commencez par restreindre votre Dataframe aux descripteurs suivants :\n",
    "- `Sleep` : durée de sommeil quotidien\n",
    "- `Predation` : indice d'exposition à la prédation (en général)\n",
    "- `Sleep.exposure` : indice d'exposition à la prédation durant le sommeil\n",
    "- `Endangered` : indice d'extinction (espèce en voie de disparition)"
   ]
  },
  {
   "cell_type": "code",
   "execution_count": 47,
   "id": "cf98aeb5",
   "metadata": {},
   "outputs": [],
   "source": [
    "df2 = df[['Sleep', 'Predation', 'Sleep.exposure', 'Endangered']]"
   ]
  },
  {
   "attachments": {},
   "cell_type": "markdown",
   "id": "19a93908",
   "metadata": {},
   "source": [
    "2. Dans ce Dataframe, il y a 4 espèces dont la durée de sommeil n'est pas donnée (valeurs manquantes). Utilisez la méthode [`.isna()`](https://pandas.pydata.org/docs/reference/api/pandas.DataFrame.isna.html?highlight=isna#pandas.DataFrame.isna) pour les identifier puis la méthode [`.dropna(`*axis*`)`](https://pandas.pydata.org/docs/reference/api/pandas.DataFrame.dropna.html?highlight=dropna#pandas.DataFrame.dropna) pour les supprimer"
   ]
  },
  {
   "cell_type": "code",
   "execution_count": 50,
   "id": "2c88c242",
   "metadata": {},
   "outputs": [],
   "source": [
    "df2[df2['Sleep'].isna()]\n",
    "df2 = df2.dropna(axis=0)\n",
    "df2[df2['Sleep'].isna()]\n",
    "df2.dropna(axis=0, inplace=True)"
   ]
  },
  {
   "attachments": {},
   "cell_type": "markdown",
   "id": "64b0e247",
   "metadata": {},
   "source": [
    "3. Affichez les animaux qui dorment plus de 10 heures par jour"
   ]
  },
  {
   "cell_type": "code",
   "execution_count": 49,
   "id": "5906953a",
   "metadata": {},
   "outputs": [
    {
     "data": {
      "text/html": [
       "<div>\n",
       "<style scoped>\n",
       "    .dataframe tbody tr th:only-of-type {\n",
       "        vertical-align: middle;\n",
       "    }\n",
       "\n",
       "    .dataframe tbody tr th {\n",
       "        vertical-align: top;\n",
       "    }\n",
       "\n",
       "    .dataframe thead th {\n",
       "        text-align: right;\n",
       "    }\n",
       "</style>\n",
       "<table border=\"1\" class=\"dataframe\">\n",
       "  <thead>\n",
       "    <tr style=\"text-align: right;\">\n",
       "      <th></th>\n",
       "      <th>Sleep</th>\n",
       "      <th>Predation</th>\n",
       "      <th>Sleep.exposure</th>\n",
       "      <th>Endangered</th>\n",
       "    </tr>\n",
       "    <tr>\n",
       "      <th>Species</th>\n",
       "      <th></th>\n",
       "      <th></th>\n",
       "      <th></th>\n",
       "      <th></th>\n",
       "    </tr>\n",
       "  </thead>\n",
       "  <tbody>\n",
       "    <tr>\n",
       "      <th>Arctic Fox</th>\n",
       "      <td>12.5</td>\n",
       "      <td>1</td>\n",
       "      <td>1</td>\n",
       "      <td>1</td>\n",
       "    </tr>\n",
       "    <tr>\n",
       "      <th>Arctic ground squirrel</th>\n",
       "      <td>16.5</td>\n",
       "      <td>5</td>\n",
       "      <td>2</td>\n",
       "      <td>3</td>\n",
       "    </tr>\n",
       "    <tr>\n",
       "      <th>Big brown bat</th>\n",
       "      <td>19.7</td>\n",
       "      <td>1</td>\n",
       "      <td>1</td>\n",
       "      <td>1</td>\n",
       "    </tr>\n",
       "    <tr>\n",
       "      <th>Cat</th>\n",
       "      <td>14.5</td>\n",
       "      <td>1</td>\n",
       "      <td>2</td>\n",
       "      <td>1</td>\n",
       "    </tr>\n",
       "    <tr>\n",
       "      <th>Chinchilla</th>\n",
       "      <td>12.5</td>\n",
       "      <td>5</td>\n",
       "      <td>4</td>\n",
       "      <td>4</td>\n",
       "    </tr>\n",
       "    <tr>\n",
       "      <th>Desert hedgehog</th>\n",
       "      <td>10.3</td>\n",
       "      <td>2</td>\n",
       "      <td>1</td>\n",
       "      <td>2</td>\n",
       "    </tr>\n",
       "    <tr>\n",
       "      <th>European hedgehog</th>\n",
       "      <td>10.7</td>\n",
       "      <td>2</td>\n",
       "      <td>2</td>\n",
       "      <td>2</td>\n",
       "    </tr>\n",
       "    <tr>\n",
       "      <th>Galago</th>\n",
       "      <td>10.7</td>\n",
       "      <td>2</td>\n",
       "      <td>2</td>\n",
       "      <td>2</td>\n",
       "    </tr>\n",
       "    <tr>\n",
       "      <th>Giant armadillo</th>\n",
       "      <td>18.1</td>\n",
       "      <td>1</td>\n",
       "      <td>1</td>\n",
       "      <td>1</td>\n",
       "    </tr>\n",
       "    <tr>\n",
       "      <th>Golden hamster</th>\n",
       "      <td>14.4</td>\n",
       "      <td>3</td>\n",
       "      <td>1</td>\n",
       "      <td>2</td>\n",
       "    </tr>\n",
       "    <tr>\n",
       "      <th>Gorilla</th>\n",
       "      <td>12.0</td>\n",
       "      <td>1</td>\n",
       "      <td>4</td>\n",
       "      <td>1</td>\n",
       "    </tr>\n",
       "    <tr>\n",
       "      <th>Gray wolf</th>\n",
       "      <td>13.0</td>\n",
       "      <td>1</td>\n",
       "      <td>1</td>\n",
       "      <td>1</td>\n",
       "    </tr>\n",
       "    <tr>\n",
       "      <th>Ground squirrel</th>\n",
       "      <td>13.8</td>\n",
       "      <td>5</td>\n",
       "      <td>1</td>\n",
       "      <td>3</td>\n",
       "    </tr>\n",
       "    <tr>\n",
       "      <th>Jaguar</th>\n",
       "      <td>10.8</td>\n",
       "      <td>1</td>\n",
       "      <td>1</td>\n",
       "      <td>1</td>\n",
       "    </tr>\n",
       "    <tr>\n",
       "      <th>Little brown bat</th>\n",
       "      <td>19.9</td>\n",
       "      <td>1</td>\n",
       "      <td>1</td>\n",
       "      <td>1</td>\n",
       "    </tr>\n",
       "    <tr>\n",
       "      <th>Mole rat</th>\n",
       "      <td>10.6</td>\n",
       "      <td>2</td>\n",
       "      <td>1</td>\n",
       "      <td>1</td>\n",
       "    </tr>\n",
       "    <tr>\n",
       "      <th>Mountain beaver</th>\n",
       "      <td>11.2</td>\n",
       "      <td>3</td>\n",
       "      <td>1</td>\n",
       "      <td>3</td>\n",
       "    </tr>\n",
       "    <tr>\n",
       "      <th>Mouse</th>\n",
       "      <td>13.2</td>\n",
       "      <td>4</td>\n",
       "      <td>1</td>\n",
       "      <td>3</td>\n",
       "    </tr>\n",
       "    <tr>\n",
       "      <th>Musk shrew</th>\n",
       "      <td>12.8</td>\n",
       "      <td>4</td>\n",
       "      <td>1</td>\n",
       "      <td>3</td>\n",
       "    </tr>\n",
       "    <tr>\n",
       "      <th>N. American opossum</th>\n",
       "      <td>19.4</td>\n",
       "      <td>2</td>\n",
       "      <td>1</td>\n",
       "      <td>1</td>\n",
       "    </tr>\n",
       "    <tr>\n",
       "      <th>Nine-banded armadillo</th>\n",
       "      <td>17.4</td>\n",
       "      <td>2</td>\n",
       "      <td>1</td>\n",
       "      <td>1</td>\n",
       "    </tr>\n",
       "    <tr>\n",
       "      <th>Owl monkey</th>\n",
       "      <td>17.0</td>\n",
       "      <td>2</td>\n",
       "      <td>2</td>\n",
       "      <td>2</td>\n",
       "    </tr>\n",
       "    <tr>\n",
       "      <th>Patas monkey</th>\n",
       "      <td>10.9</td>\n",
       "      <td>4</td>\n",
       "      <td>4</td>\n",
       "      <td>4</td>\n",
       "    </tr>\n",
       "    <tr>\n",
       "      <th>Phalanger</th>\n",
       "      <td>13.7</td>\n",
       "      <td>2</td>\n",
       "      <td>1</td>\n",
       "      <td>2</td>\n",
       "    </tr>\n",
       "    <tr>\n",
       "      <th>Raccoon</th>\n",
       "      <td>12.5</td>\n",
       "      <td>2</td>\n",
       "      <td>2</td>\n",
       "      <td>2</td>\n",
       "    </tr>\n",
       "    <tr>\n",
       "      <th>Rat</th>\n",
       "      <td>13.2</td>\n",
       "      <td>3</td>\n",
       "      <td>1</td>\n",
       "      <td>3</td>\n",
       "    </tr>\n",
       "    <tr>\n",
       "      <th>Slow loris</th>\n",
       "      <td>11.0</td>\n",
       "      <td>2</td>\n",
       "      <td>2</td>\n",
       "      <td>2</td>\n",
       "    </tr>\n",
       "    <tr>\n",
       "      <th>Star nosed mole</th>\n",
       "      <td>10.3</td>\n",
       "      <td>3</td>\n",
       "      <td>1</td>\n",
       "      <td>2</td>\n",
       "    </tr>\n",
       "    <tr>\n",
       "      <th>Tenrec</th>\n",
       "      <td>13.3</td>\n",
       "      <td>2</td>\n",
       "      <td>1</td>\n",
       "      <td>2</td>\n",
       "    </tr>\n",
       "    <tr>\n",
       "      <th>Tree shrew</th>\n",
       "      <td>15.8</td>\n",
       "      <td>3</td>\n",
       "      <td>2</td>\n",
       "      <td>2</td>\n",
       "    </tr>\n",
       "    <tr>\n",
       "      <th>Vervet</th>\n",
       "      <td>10.3</td>\n",
       "      <td>4</td>\n",
       "      <td>3</td>\n",
       "      <td>4</td>\n",
       "    </tr>\n",
       "    <tr>\n",
       "      <th>Water opossum</th>\n",
       "      <td>19.4</td>\n",
       "      <td>2</td>\n",
       "      <td>1</td>\n",
       "      <td>1</td>\n",
       "    </tr>\n",
       "  </tbody>\n",
       "</table>\n",
       "</div>"
      ],
      "text/plain": [
       "                        Sleep  Predation  Sleep.exposure  Endangered\n",
       "Species                                                             \n",
       "Arctic Fox               12.5          1               1           1\n",
       "Arctic ground squirrel   16.5          5               2           3\n",
       "Big brown bat            19.7          1               1           1\n",
       "Cat                      14.5          1               2           1\n",
       "Chinchilla               12.5          5               4           4\n",
       "Desert hedgehog          10.3          2               1           2\n",
       "European hedgehog        10.7          2               2           2\n",
       "Galago                   10.7          2               2           2\n",
       "Giant armadillo          18.1          1               1           1\n",
       "Golden hamster           14.4          3               1           2\n",
       "Gorilla                  12.0          1               4           1\n",
       "Gray wolf                13.0          1               1           1\n",
       "Ground squirrel          13.8          5               1           3\n",
       "Jaguar                   10.8          1               1           1\n",
       "Little brown bat         19.9          1               1           1\n",
       "Mole rat                 10.6          2               1           1\n",
       "Mountain beaver          11.2          3               1           3\n",
       "Mouse                    13.2          4               1           3\n",
       "Musk shrew               12.8          4               1           3\n",
       "N. American opossum      19.4          2               1           1\n",
       "Nine-banded armadillo    17.4          2               1           1\n",
       "Owl monkey               17.0          2               2           2\n",
       "Patas monkey             10.9          4               4           4\n",
       "Phalanger                13.7          2               1           2\n",
       "Raccoon                  12.5          2               2           2\n",
       "Rat                      13.2          3               1           3\n",
       "Slow loris               11.0          2               2           2\n",
       "Star nosed mole          10.3          3               1           2\n",
       "Tenrec                   13.3          2               1           2\n",
       "Tree shrew               15.8          3               2           2\n",
       "Vervet                   10.3          4               3           4\n",
       "Water opossum            19.4          2               1           1"
      ]
     },
     "execution_count": 49,
     "metadata": {},
     "output_type": "execute_result"
    }
   ],
   "source": [
    "df2[df2['Sleep']>10]"
   ]
  },
  {
   "attachments": {},
   "cell_type": "markdown",
   "id": "551bab62",
   "metadata": {},
   "source": [
    "4. Affichez les \"gros dormeurs\" c'est-à-dire les animaux qui dorment plus que l'Homme (`Man`)"
   ]
  },
  {
   "cell_type": "code",
   "execution_count": 52,
   "id": "260883f5",
   "metadata": {},
   "outputs": [
    {
     "data": {
      "text/html": [
       "<div>\n",
       "<style scoped>\n",
       "    .dataframe tbody tr th:only-of-type {\n",
       "        vertical-align: middle;\n",
       "    }\n",
       "\n",
       "    .dataframe tbody tr th {\n",
       "        vertical-align: top;\n",
       "    }\n",
       "\n",
       "    .dataframe thead th {\n",
       "        text-align: right;\n",
       "    }\n",
       "</style>\n",
       "<table border=\"1\" class=\"dataframe\">\n",
       "  <thead>\n",
       "    <tr style=\"text-align: right;\">\n",
       "      <th></th>\n",
       "      <th>Sleep</th>\n",
       "      <th>Predation</th>\n",
       "      <th>Sleep.exposure</th>\n",
       "      <th>Endangered</th>\n",
       "    </tr>\n",
       "    <tr>\n",
       "      <th>Species</th>\n",
       "      <th></th>\n",
       "      <th></th>\n",
       "      <th></th>\n",
       "      <th></th>\n",
       "    </tr>\n",
       "  </thead>\n",
       "  <tbody>\n",
       "    <tr>\n",
       "      <th>African giant pouched rat</th>\n",
       "      <td>8.3</td>\n",
       "      <td>3</td>\n",
       "      <td>1</td>\n",
       "      <td>3</td>\n",
       "    </tr>\n",
       "    <tr>\n",
       "      <th>Arctic Fox</th>\n",
       "      <td>12.5</td>\n",
       "      <td>1</td>\n",
       "      <td>1</td>\n",
       "      <td>1</td>\n",
       "    </tr>\n",
       "    <tr>\n",
       "      <th>Arctic ground squirrel</th>\n",
       "      <td>16.5</td>\n",
       "      <td>5</td>\n",
       "      <td>2</td>\n",
       "      <td>3</td>\n",
       "    </tr>\n",
       "    <tr>\n",
       "      <th>Baboon</th>\n",
       "      <td>9.8</td>\n",
       "      <td>4</td>\n",
       "      <td>4</td>\n",
       "      <td>4</td>\n",
       "    </tr>\n",
       "    <tr>\n",
       "      <th>Big brown bat</th>\n",
       "      <td>19.7</td>\n",
       "      <td>1</td>\n",
       "      <td>1</td>\n",
       "      <td>1</td>\n",
       "    </tr>\n",
       "    <tr>\n",
       "      <th>Cat</th>\n",
       "      <td>14.5</td>\n",
       "      <td>1</td>\n",
       "      <td>2</td>\n",
       "      <td>1</td>\n",
       "    </tr>\n",
       "    <tr>\n",
       "      <th>Chimpanzee</th>\n",
       "      <td>9.7</td>\n",
       "      <td>1</td>\n",
       "      <td>1</td>\n",
       "      <td>1</td>\n",
       "    </tr>\n",
       "    <tr>\n",
       "      <th>Chinchilla</th>\n",
       "      <td>12.5</td>\n",
       "      <td>5</td>\n",
       "      <td>4</td>\n",
       "      <td>4</td>\n",
       "    </tr>\n",
       "    <tr>\n",
       "      <th>Desert hedgehog</th>\n",
       "      <td>10.3</td>\n",
       "      <td>2</td>\n",
       "      <td>1</td>\n",
       "      <td>2</td>\n",
       "    </tr>\n",
       "    <tr>\n",
       "      <th>Eastern American mole</th>\n",
       "      <td>8.4</td>\n",
       "      <td>1</td>\n",
       "      <td>1</td>\n",
       "      <td>1</td>\n",
       "    </tr>\n",
       "    <tr>\n",
       "      <th>Echidna</th>\n",
       "      <td>8.6</td>\n",
       "      <td>2</td>\n",
       "      <td>2</td>\n",
       "      <td>2</td>\n",
       "    </tr>\n",
       "    <tr>\n",
       "      <th>European hedgehog</th>\n",
       "      <td>10.7</td>\n",
       "      <td>2</td>\n",
       "      <td>2</td>\n",
       "      <td>2</td>\n",
       "    </tr>\n",
       "    <tr>\n",
       "      <th>Galago</th>\n",
       "      <td>10.7</td>\n",
       "      <td>2</td>\n",
       "      <td>2</td>\n",
       "      <td>2</td>\n",
       "    </tr>\n",
       "    <tr>\n",
       "      <th>Giant armadillo</th>\n",
       "      <td>18.1</td>\n",
       "      <td>1</td>\n",
       "      <td>1</td>\n",
       "      <td>1</td>\n",
       "    </tr>\n",
       "    <tr>\n",
       "      <th>Golden hamster</th>\n",
       "      <td>14.4</td>\n",
       "      <td>3</td>\n",
       "      <td>1</td>\n",
       "      <td>2</td>\n",
       "    </tr>\n",
       "    <tr>\n",
       "      <th>Gorilla</th>\n",
       "      <td>12.0</td>\n",
       "      <td>1</td>\n",
       "      <td>4</td>\n",
       "      <td>1</td>\n",
       "    </tr>\n",
       "    <tr>\n",
       "      <th>Gray wolf</th>\n",
       "      <td>13.0</td>\n",
       "      <td>1</td>\n",
       "      <td>1</td>\n",
       "      <td>1</td>\n",
       "    </tr>\n",
       "    <tr>\n",
       "      <th>Ground squirrel</th>\n",
       "      <td>13.8</td>\n",
       "      <td>5</td>\n",
       "      <td>1</td>\n",
       "      <td>3</td>\n",
       "    </tr>\n",
       "    <tr>\n",
       "      <th>Guinea pig</th>\n",
       "      <td>8.2</td>\n",
       "      <td>5</td>\n",
       "      <td>3</td>\n",
       "      <td>4</td>\n",
       "    </tr>\n",
       "    <tr>\n",
       "      <th>Jaguar</th>\n",
       "      <td>10.8</td>\n",
       "      <td>1</td>\n",
       "      <td>1</td>\n",
       "      <td>1</td>\n",
       "    </tr>\n",
       "    <tr>\n",
       "      <th>Lesser short-tailed shrew</th>\n",
       "      <td>9.1</td>\n",
       "      <td>5</td>\n",
       "      <td>2</td>\n",
       "      <td>4</td>\n",
       "    </tr>\n",
       "    <tr>\n",
       "      <th>Little brown bat</th>\n",
       "      <td>19.9</td>\n",
       "      <td>1</td>\n",
       "      <td>1</td>\n",
       "      <td>1</td>\n",
       "    </tr>\n",
       "    <tr>\n",
       "      <th>Mole rat</th>\n",
       "      <td>10.6</td>\n",
       "      <td>2</td>\n",
       "      <td>1</td>\n",
       "      <td>1</td>\n",
       "    </tr>\n",
       "    <tr>\n",
       "      <th>Mountain beaver</th>\n",
       "      <td>11.2</td>\n",
       "      <td>3</td>\n",
       "      <td>1</td>\n",
       "      <td>3</td>\n",
       "    </tr>\n",
       "    <tr>\n",
       "      <th>Mouse</th>\n",
       "      <td>13.2</td>\n",
       "      <td>4</td>\n",
       "      <td>1</td>\n",
       "      <td>3</td>\n",
       "    </tr>\n",
       "    <tr>\n",
       "      <th>Musk shrew</th>\n",
       "      <td>12.8</td>\n",
       "      <td>4</td>\n",
       "      <td>1</td>\n",
       "      <td>3</td>\n",
       "    </tr>\n",
       "    <tr>\n",
       "      <th>N. American opossum</th>\n",
       "      <td>19.4</td>\n",
       "      <td>2</td>\n",
       "      <td>1</td>\n",
       "      <td>1</td>\n",
       "    </tr>\n",
       "    <tr>\n",
       "      <th>Nine-banded armadillo</th>\n",
       "      <td>17.4</td>\n",
       "      <td>2</td>\n",
       "      <td>1</td>\n",
       "      <td>1</td>\n",
       "    </tr>\n",
       "    <tr>\n",
       "      <th>Owl monkey</th>\n",
       "      <td>17.0</td>\n",
       "      <td>2</td>\n",
       "      <td>2</td>\n",
       "      <td>2</td>\n",
       "    </tr>\n",
       "    <tr>\n",
       "      <th>Patas monkey</th>\n",
       "      <td>10.9</td>\n",
       "      <td>4</td>\n",
       "      <td>4</td>\n",
       "      <td>4</td>\n",
       "    </tr>\n",
       "    <tr>\n",
       "      <th>Phalanger</th>\n",
       "      <td>13.7</td>\n",
       "      <td>2</td>\n",
       "      <td>1</td>\n",
       "      <td>2</td>\n",
       "    </tr>\n",
       "    <tr>\n",
       "      <th>Pig</th>\n",
       "      <td>8.4</td>\n",
       "      <td>4</td>\n",
       "      <td>4</td>\n",
       "      <td>4</td>\n",
       "    </tr>\n",
       "    <tr>\n",
       "      <th>Rabbit</th>\n",
       "      <td>8.4</td>\n",
       "      <td>5</td>\n",
       "      <td>5</td>\n",
       "      <td>5</td>\n",
       "    </tr>\n",
       "    <tr>\n",
       "      <th>Raccoon</th>\n",
       "      <td>12.5</td>\n",
       "      <td>2</td>\n",
       "      <td>2</td>\n",
       "      <td>2</td>\n",
       "    </tr>\n",
       "    <tr>\n",
       "      <th>Rat</th>\n",
       "      <td>13.2</td>\n",
       "      <td>3</td>\n",
       "      <td>1</td>\n",
       "      <td>3</td>\n",
       "    </tr>\n",
       "    <tr>\n",
       "      <th>Red fox</th>\n",
       "      <td>9.8</td>\n",
       "      <td>1</td>\n",
       "      <td>1</td>\n",
       "      <td>1</td>\n",
       "    </tr>\n",
       "    <tr>\n",
       "      <th>Rhesus monkey</th>\n",
       "      <td>9.6</td>\n",
       "      <td>2</td>\n",
       "      <td>3</td>\n",
       "      <td>2</td>\n",
       "    </tr>\n",
       "    <tr>\n",
       "      <th>Slow loris</th>\n",
       "      <td>11.0</td>\n",
       "      <td>2</td>\n",
       "      <td>2</td>\n",
       "      <td>2</td>\n",
       "    </tr>\n",
       "    <tr>\n",
       "      <th>Star nosed mole</th>\n",
       "      <td>10.3</td>\n",
       "      <td>3</td>\n",
       "      <td>1</td>\n",
       "      <td>2</td>\n",
       "    </tr>\n",
       "    <tr>\n",
       "      <th>Tenrec</th>\n",
       "      <td>13.3</td>\n",
       "      <td>2</td>\n",
       "      <td>1</td>\n",
       "      <td>2</td>\n",
       "    </tr>\n",
       "    <tr>\n",
       "      <th>Tree shrew</th>\n",
       "      <td>15.8</td>\n",
       "      <td>3</td>\n",
       "      <td>2</td>\n",
       "      <td>2</td>\n",
       "    </tr>\n",
       "    <tr>\n",
       "      <th>Vervet</th>\n",
       "      <td>10.3</td>\n",
       "      <td>4</td>\n",
       "      <td>3</td>\n",
       "      <td>4</td>\n",
       "    </tr>\n",
       "    <tr>\n",
       "      <th>Water opossum</th>\n",
       "      <td>19.4</td>\n",
       "      <td>2</td>\n",
       "      <td>1</td>\n",
       "      <td>1</td>\n",
       "    </tr>\n",
       "  </tbody>\n",
       "</table>\n",
       "</div>"
      ],
      "text/plain": [
       "                           Sleep  Predation  Sleep.exposure  Endangered\n",
       "Species                                                                \n",
       "African giant pouched rat    8.3          3               1           3\n",
       "Arctic Fox                  12.5          1               1           1\n",
       "Arctic ground squirrel      16.5          5               2           3\n",
       "Baboon                       9.8          4               4           4\n",
       "Big brown bat               19.7          1               1           1\n",
       "Cat                         14.5          1               2           1\n",
       "Chimpanzee                   9.7          1               1           1\n",
       "Chinchilla                  12.5          5               4           4\n",
       "Desert hedgehog             10.3          2               1           2\n",
       "Eastern American mole        8.4          1               1           1\n",
       "Echidna                      8.6          2               2           2\n",
       "European hedgehog           10.7          2               2           2\n",
       "Galago                      10.7          2               2           2\n",
       "Giant armadillo             18.1          1               1           1\n",
       "Golden hamster              14.4          3               1           2\n",
       "Gorilla                     12.0          1               4           1\n",
       "Gray wolf                   13.0          1               1           1\n",
       "Ground squirrel             13.8          5               1           3\n",
       "Guinea pig                   8.2          5               3           4\n",
       "Jaguar                      10.8          1               1           1\n",
       "Lesser short-tailed shrew    9.1          5               2           4\n",
       "Little brown bat            19.9          1               1           1\n",
       "Mole rat                    10.6          2               1           1\n",
       "Mountain beaver             11.2          3               1           3\n",
       "Mouse                       13.2          4               1           3\n",
       "Musk shrew                  12.8          4               1           3\n",
       "N. American opossum         19.4          2               1           1\n",
       "Nine-banded armadillo       17.4          2               1           1\n",
       "Owl monkey                  17.0          2               2           2\n",
       "Patas monkey                10.9          4               4           4\n",
       "Phalanger                   13.7          2               1           2\n",
       "Pig                          8.4          4               4           4\n",
       "Rabbit                       8.4          5               5           5\n",
       "Raccoon                     12.5          2               2           2\n",
       "Rat                         13.2          3               1           3\n",
       "Red fox                      9.8          1               1           1\n",
       "Rhesus monkey                9.6          2               3           2\n",
       "Slow loris                  11.0          2               2           2\n",
       "Star nosed mole             10.3          3               1           2\n",
       "Tenrec                      13.3          2               1           2\n",
       "Tree shrew                  15.8          3               2           2\n",
       "Vervet                      10.3          4               3           4\n",
       "Water opossum               19.4          2               1           1"
      ]
     },
     "execution_count": 52,
     "metadata": {},
     "output_type": "execute_result"
    }
   ],
   "source": [
    "df2[df2['Sleep']>df2['Sleep'][\"Man\"]]"
   ]
  },
  {
   "attachments": {},
   "cell_type": "markdown",
   "id": "445cb238",
   "metadata": {},
   "source": [
    "5. Affichez le nombre de \"gros dormeurs\" pour chaque niveau d'exposition à la prédation (**Predation**)"
   ]
  },
  {
   "cell_type": "code",
   "execution_count": 53,
   "id": "22594901",
   "metadata": {},
   "outputs": [
    {
     "data": {
      "text/html": [
       "<div>\n",
       "<style scoped>\n",
       "    .dataframe tbody tr th:only-of-type {\n",
       "        vertical-align: middle;\n",
       "    }\n",
       "\n",
       "    .dataframe tbody tr th {\n",
       "        vertical-align: top;\n",
       "    }\n",
       "\n",
       "    .dataframe thead th {\n",
       "        text-align: right;\n",
       "    }\n",
       "</style>\n",
       "<table border=\"1\" class=\"dataframe\">\n",
       "  <thead>\n",
       "    <tr style=\"text-align: right;\">\n",
       "      <th></th>\n",
       "      <th>Sleep</th>\n",
       "      <th>Sleep.exposure</th>\n",
       "      <th>Endangered</th>\n",
       "    </tr>\n",
       "    <tr>\n",
       "      <th>Predation</th>\n",
       "      <th></th>\n",
       "      <th></th>\n",
       "      <th></th>\n",
       "    </tr>\n",
       "  </thead>\n",
       "  <tbody>\n",
       "    <tr>\n",
       "      <th>1</th>\n",
       "      <td>11</td>\n",
       "      <td>11</td>\n",
       "      <td>11</td>\n",
       "    </tr>\n",
       "    <tr>\n",
       "      <th>2</th>\n",
       "      <td>14</td>\n",
       "      <td>14</td>\n",
       "      <td>14</td>\n",
       "    </tr>\n",
       "    <tr>\n",
       "      <th>3</th>\n",
       "      <td>6</td>\n",
       "      <td>6</td>\n",
       "      <td>6</td>\n",
       "    </tr>\n",
       "    <tr>\n",
       "      <th>4</th>\n",
       "      <td>6</td>\n",
       "      <td>6</td>\n",
       "      <td>6</td>\n",
       "    </tr>\n",
       "    <tr>\n",
       "      <th>5</th>\n",
       "      <td>6</td>\n",
       "      <td>6</td>\n",
       "      <td>6</td>\n",
       "    </tr>\n",
       "  </tbody>\n",
       "</table>\n",
       "</div>"
      ],
      "text/plain": [
       "           Sleep  Sleep.exposure  Endangered\n",
       "Predation                                   \n",
       "1             11              11          11\n",
       "2             14              14          14\n",
       "3              6               6           6\n",
       "4              6               6           6\n",
       "5              6               6           6"
      ]
     },
     "execution_count": 53,
     "metadata": {},
     "output_type": "execute_result"
    }
   ],
   "source": [
    "df2[df2['Sleep']>df2['Sleep'][\"Man\"]].groupby('Predation').count()"
   ]
  },
  {
   "attachments": {},
   "cell_type": "markdown",
   "id": "150ae075",
   "metadata": {},
   "source": [
    "6. Affichez le nombre de \"gros dormeurs\" en voie de disparition (**Endangered**>3) pour chaque niveau d'exposition à la prédation (**Predation**)"
   ]
  },
  {
   "cell_type": "code",
   "execution_count": 57,
   "id": "b83dae56",
   "metadata": {},
   "outputs": [
    {
     "data": {
      "text/plain": [
       "Predation\n",
       "4    4\n",
       "5    4\n",
       "Name: Sleep, dtype: int64"
      ]
     },
     "execution_count": 57,
     "metadata": {},
     "output_type": "execute_result"
    }
   ],
   "source": [
    "df2[(df2['Sleep']>df2['Sleep'][\"Man\"])&(df2['Endangered']>3)].groupby('Predation').count()['Sleep']"
   ]
  },
  {
   "attachments": {},
   "cell_type": "markdown",
   "id": "f9051cca",
   "metadata": {},
   "source": [
    "7. Affichez le nombre de \"gros dormeurs\" en voie de disparition (**Endangered**>3) pour chaque combinaison de niveau d'exposition à la prédation en général et durant le sommeil (**Predation** et **Sleep.exposure**)"
   ]
  },
  {
   "cell_type": "code",
   "execution_count": 58,
   "id": "b83dae56",
   "metadata": {},
   "outputs": [
    {
     "data": {
      "text/plain": [
       "Predation  Sleep.exposure\n",
       "4          3                 1\n",
       "           4                 3\n",
       "5          2                 1\n",
       "           3                 1\n",
       "           4                 1\n",
       "           5                 1\n",
       "Name: Endangered, dtype: int64"
      ]
     },
     "execution_count": 58,
     "metadata": {},
     "output_type": "execute_result"
    }
   ],
   "source": [
    "df2[(df2['Sleep']>df2['Sleep'][\"Man\"])&(df2['Endangered']>3)].groupby(['Predation', 'Sleep.exposure'])['Endangered'].count()"
   ]
  },
  {
   "attachments": {},
   "cell_type": "markdown",
   "id": "9db3867f",
   "metadata": {},
   "source": [
    "8. D'après cette analyse, identifiez le(s) gros dormeur(s) qui ne devraient pas l'être? Et ceux qui ont tout intérêt à l'être?"
   ]
  },
  {
   "cell_type": "code",
   "execution_count": 60,
   "id": "80e6ea28",
   "metadata": {},
   "outputs": [
    {
     "name": "stdout",
     "output_type": "stream",
     "text": [
      "Species\n",
      "African elephant             False\n",
      "African giant pouched rat    False\n",
      "Arctic Fox                   False\n",
      "Arctic ground squirrel       False\n",
      "Asian elephant               False\n",
      "Baboon                       False\n",
      "Big brown bat                False\n",
      "Brazilian tapir              False\n",
      "Cat                          False\n",
      "Chimpanzee                   False\n",
      "Chinchilla                    True\n",
      "Cow                          False\n",
      "Desert hedgehog              False\n",
      "Donkey                       False\n",
      "Eastern American mole        False\n",
      "Echidna                      False\n",
      "European hedgehog            False\n",
      "Galago                       False\n",
      "Genet                        False\n",
      "Giant armadillo              False\n",
      "Goat                         False\n",
      "Golden hamster               False\n",
      "Gorilla                      False\n",
      "Gray seal                    False\n",
      "Gray wolf                    False\n",
      "Ground squirrel              False\n",
      "Guinea pig                    True\n",
      "Horse                        False\n",
      "Jaguar                       False\n",
      "Lesser short-tailed shrew     True\n",
      "Little brown bat             False\n",
      "Man                          False\n",
      "Mole rat                     False\n",
      "Mountain beaver              False\n",
      "Mouse                        False\n",
      "Musk shrew                   False\n",
      "N. American opossum          False\n",
      "Nine-banded armadillo        False\n",
      "Owl monkey                   False\n",
      "Patas monkey                 False\n",
      "Phalanger                    False\n",
      "Pig                          False\n",
      "Rabbit                        True\n",
      "Raccoon                      False\n",
      "Rat                          False\n",
      "Red fox                      False\n",
      "Rhesus monkey                False\n",
      "Rock hyrax (Hetero           False\n",
      "Rock hyrax (Procavia hab)    False\n",
      "Roe deer                     False\n",
      "Sheep                        False\n",
      "Slow loris                   False\n",
      "Star nosed mole              False\n",
      "Tenrec                       False\n",
      "Tree hyrax                   False\n",
      "Tree shrew                   False\n",
      "Vervet                       False\n",
      "Water opossum                False\n",
      "dtype: bool\n",
      "Species\n",
      "African elephant             False\n",
      "African giant pouched rat    False\n",
      "Arctic Fox                   False\n",
      "Arctic ground squirrel       False\n",
      "Asian elephant               False\n",
      "Baboon                       False\n",
      "Big brown bat                False\n",
      "Brazilian tapir              False\n",
      "Cat                          False\n",
      "Chimpanzee                   False\n",
      "Chinchilla                    True\n",
      "Cow                          False\n",
      "Desert hedgehog              False\n",
      "Donkey                       False\n",
      "Eastern American mole        False\n",
      "Echidna                      False\n",
      "European hedgehog            False\n",
      "Galago                       False\n",
      "Genet                        False\n",
      "Giant armadillo              False\n",
      "Goat                         False\n",
      "Golden hamster               False\n",
      "Gorilla                      False\n",
      "Gray seal                    False\n",
      "Gray wolf                    False\n",
      "Ground squirrel              False\n",
      "Guinea pig                    True\n",
      "Horse                        False\n",
      "Jaguar                       False\n",
      "Lesser short-tailed shrew     True\n",
      "Little brown bat             False\n",
      "Man                          False\n",
      "Mole rat                     False\n",
      "Mountain beaver              False\n",
      "Mouse                        False\n",
      "Musk shrew                   False\n",
      "N. American opossum          False\n",
      "Nine-banded armadillo        False\n",
      "Owl monkey                   False\n",
      "Patas monkey                 False\n",
      "Phalanger                    False\n",
      "Pig                          False\n",
      "Rabbit                        True\n",
      "Raccoon                      False\n",
      "Rat                          False\n",
      "Red fox                      False\n",
      "Rhesus monkey                False\n",
      "Rock hyrax (Hetero           False\n",
      "Rock hyrax (Procavia hab)    False\n",
      "Roe deer                     False\n",
      "Sheep                        False\n",
      "Slow loris                   False\n",
      "Star nosed mole              False\n",
      "Tenrec                       False\n",
      "Tree hyrax                   False\n",
      "Tree shrew                   False\n",
      "Vervet                       False\n",
      "Water opossum                False\n",
      "dtype: bool\n"
     ]
    }
   ],
   "source": [
    "print((df2['Sleep']>df2['Sleep']['Man'])&(df2['Endangered']>3)&(df2['Predation']==5)&(df2['Sleep.exposure']==5).index)\n",
    "print((df2['Sleep']>df2['Sleep']['Man'])&(df2['Endangered']>3)&(df2['Predation']==5)&(df2['Sleep.exposure']==2).index)"
   ]
  },
  {
   "attachments": {},
   "cell_type": "markdown",
   "id": "1f899488",
   "metadata": {},
   "source": [
    "---"
   ]
  },
  {
   "attachments": {},
   "cell_type": "markdown",
   "id": "cf21fa98",
   "metadata": {},
   "source": [
    "## E. Deux méthodes bien utiles : .iloc() et .loc()"
   ]
  },
  {
   "attachments": {},
   "cell_type": "markdown",
   "id": "7ad7a992",
   "metadata": {},
   "source": [
    "Au risque de se répéter, un Dataframe n'est pas un tableau NumPy! De fait, dans un Dataframe il n'est pas possible d'utiliser la double indexation `df[num. lignes, num. colonnes]` comme nous avons appris à le faire pour un tableau NumPy, bien qu'il serait parfois pratique de pouvoir le faire...\n",
    "\n",
    "La méthode `.iloc()` a été prévue pour cela. Ainsi il sera possible de sléctionner une vue d'un Dataframe `df` à partir des indices entiers des lignes et des colonnes par l'instruction `df.iloc[num. lignes, num. colonnes]`.\n",
    "\n",
    "De même, la méthode `.loc()`permet de sélectionner une vue d'un Dataframe `df` à partir des noms des lignes et des noms des colonnes par l'instruction `df.loc[noms lignes, noms colonnes]`."
   ]
  },
  {
   "attachments": {},
   "cell_type": "markdown",
   "id": "beb21d38",
   "metadata": {},
   "source": [
    "Par exemple, l'instruction `df.iloc[0, 0]` renvoie la valeur du premier individu sur le premier descripteur :"
   ]
  },
  {
   "cell_type": "code",
   "execution_count": 61,
   "id": "580b415a",
   "metadata": {},
   "outputs": [
    {
     "data": {
      "text/plain": [
       "'African elephant'"
      ]
     },
     "execution_count": 61,
     "metadata": {},
     "output_type": "execute_result"
    }
   ],
   "source": [
    "df.iloc[0, 0]"
   ]
  },
  {
   "attachments": {},
   "cell_type": "markdown",
   "id": "b244a713",
   "metadata": {},
   "source": [
    "L'instruction `df.iloc[:10, -3:]` renvoie les valeurs des 10 premiers individus sur les 3 derniers descripteurs :"
   ]
  },
  {
   "cell_type": "code",
   "execution_count": 62,
   "id": "9631d20b",
   "metadata": {},
   "outputs": [
    {
     "data": {
      "text/html": [
       "<div>\n",
       "<style scoped>\n",
       "    .dataframe tbody tr th:only-of-type {\n",
       "        vertical-align: middle;\n",
       "    }\n",
       "\n",
       "    .dataframe tbody tr th {\n",
       "        vertical-align: top;\n",
       "    }\n",
       "\n",
       "    .dataframe thead th {\n",
       "        text-align: right;\n",
       "    }\n",
       "</style>\n",
       "<table border=\"1\" class=\"dataframe\">\n",
       "  <thead>\n",
       "    <tr style=\"text-align: right;\">\n",
       "      <th></th>\n",
       "      <th>Predation</th>\n",
       "      <th>Sleep.exposure</th>\n",
       "      <th>Endangered</th>\n",
       "    </tr>\n",
       "    <tr>\n",
       "      <th>Species</th>\n",
       "      <th></th>\n",
       "      <th></th>\n",
       "      <th></th>\n",
       "    </tr>\n",
       "  </thead>\n",
       "  <tbody>\n",
       "    <tr>\n",
       "      <th>African elephant</th>\n",
       "      <td>3</td>\n",
       "      <td>5</td>\n",
       "      <td>3</td>\n",
       "    </tr>\n",
       "    <tr>\n",
       "      <th>African giant pouched rat</th>\n",
       "      <td>3</td>\n",
       "      <td>1</td>\n",
       "      <td>3</td>\n",
       "    </tr>\n",
       "    <tr>\n",
       "      <th>Arctic Fox</th>\n",
       "      <td>1</td>\n",
       "      <td>1</td>\n",
       "      <td>1</td>\n",
       "    </tr>\n",
       "    <tr>\n",
       "      <th>Arctic ground squirrel</th>\n",
       "      <td>5</td>\n",
       "      <td>2</td>\n",
       "      <td>3</td>\n",
       "    </tr>\n",
       "    <tr>\n",
       "      <th>Asian elephant</th>\n",
       "      <td>3</td>\n",
       "      <td>5</td>\n",
       "      <td>4</td>\n",
       "    </tr>\n",
       "    <tr>\n",
       "      <th>Baboon</th>\n",
       "      <td>4</td>\n",
       "      <td>4</td>\n",
       "      <td>4</td>\n",
       "    </tr>\n",
       "    <tr>\n",
       "      <th>Big brown bat</th>\n",
       "      <td>1</td>\n",
       "      <td>1</td>\n",
       "      <td>1</td>\n",
       "    </tr>\n",
       "    <tr>\n",
       "      <th>Brazilian tapir</th>\n",
       "      <td>4</td>\n",
       "      <td>5</td>\n",
       "      <td>4</td>\n",
       "    </tr>\n",
       "    <tr>\n",
       "      <th>Cat</th>\n",
       "      <td>1</td>\n",
       "      <td>2</td>\n",
       "      <td>1</td>\n",
       "    </tr>\n",
       "    <tr>\n",
       "      <th>Chimpanzee</th>\n",
       "      <td>1</td>\n",
       "      <td>1</td>\n",
       "      <td>1</td>\n",
       "    </tr>\n",
       "  </tbody>\n",
       "</table>\n",
       "</div>"
      ],
      "text/plain": [
       "                           Predation  Sleep.exposure  Endangered\n",
       "Species                                                         \n",
       "African elephant                   3               5           3\n",
       "African giant pouched rat          3               1           3\n",
       "Arctic Fox                         1               1           1\n",
       "Arctic ground squirrel             5               2           3\n",
       "Asian elephant                     3               5           4\n",
       "Baboon                             4               4           4\n",
       "Big brown bat                      1               1           1\n",
       "Brazilian tapir                    4               5           4\n",
       "Cat                                1               2           1\n",
       "Chimpanzee                         1               1           1"
      ]
     },
     "execution_count": 62,
     "metadata": {},
     "output_type": "execute_result"
    }
   ],
   "source": [
    "df.iloc[:10, -3:]"
   ]
  },
  {
   "attachments": {},
   "cell_type": "markdown",
   "id": "b244a713",
   "metadata": {},
   "source": [
    "L'instruction `df.loc['Man', 'Brain.Weight']` renvoie le poids moyen en grammes du cerveau (**Brain.Weight**) de l'Homme (**Man**):"
   ]
  },
  {
   "cell_type": "code",
   "execution_count": 63,
   "id": "ff6ecdb6",
   "metadata": {},
   "outputs": [
    {
     "data": {
      "text/plain": [
       "1320.0"
      ]
     },
     "execution_count": 63,
     "metadata": {},
     "output_type": "execute_result"
    }
   ],
   "source": [
    "df.loc['Man', 'Brain.Weight']"
   ]
  },
  {
   "attachments": {},
   "cell_type": "markdown",
   "id": "b244a713",
   "metadata": {},
   "source": [
    "L'instruction `df.loc[['Man', 'Horse'], ['Brain.Weight', 'Body.Weight']]` renvoie le poids moyen du cerveau (**Brain.Weight**) et du corps (**Body.Weight**) de l'Homme (**Man**) et du cheval (**Horse**):"
   ]
  },
  {
   "cell_type": "code",
   "execution_count": 64,
   "id": "227de894",
   "metadata": {},
   "outputs": [
    {
     "data": {
      "text/html": [
       "<div>\n",
       "<style scoped>\n",
       "    .dataframe tbody tr th:only-of-type {\n",
       "        vertical-align: middle;\n",
       "    }\n",
       "\n",
       "    .dataframe tbody tr th {\n",
       "        vertical-align: top;\n",
       "    }\n",
       "\n",
       "    .dataframe thead th {\n",
       "        text-align: right;\n",
       "    }\n",
       "</style>\n",
       "<table border=\"1\" class=\"dataframe\">\n",
       "  <thead>\n",
       "    <tr style=\"text-align: right;\">\n",
       "      <th></th>\n",
       "      <th>Brain.Weight</th>\n",
       "      <th>Body.Weight</th>\n",
       "    </tr>\n",
       "    <tr>\n",
       "      <th>Species</th>\n",
       "      <th></th>\n",
       "      <th></th>\n",
       "    </tr>\n",
       "  </thead>\n",
       "  <tbody>\n",
       "    <tr>\n",
       "      <th>Man</th>\n",
       "      <td>1320.0</td>\n",
       "      <td>62.0</td>\n",
       "    </tr>\n",
       "    <tr>\n",
       "      <th>Horse</th>\n",
       "      <td>655.0</td>\n",
       "      <td>521.0</td>\n",
       "    </tr>\n",
       "  </tbody>\n",
       "</table>\n",
       "</div>"
      ],
      "text/plain": [
       "         Brain.Weight  Body.Weight\n",
       "Species                           \n",
       "Man            1320.0         62.0\n",
       "Horse           655.0        521.0"
      ]
     },
     "execution_count": 64,
     "metadata": {},
     "output_type": "execute_result"
    }
   ],
   "source": [
    "df.loc[['Man', 'Horse'], ['Brain.Weight', 'Body.Weight']]"
   ]
  },
  {
   "attachments": {},
   "cell_type": "markdown",
   "id": "366f7f8d",
   "metadata": {},
   "source": [
    "---"
   ]
  },
  {
   "attachments": {},
   "cell_type": "markdown",
   "id": "26e4e525",
   "metadata": {},
   "source": [
    "## F. Exercice d'exploration"
   ]
  },
  {
   "attachments": {},
   "cell_type": "markdown",
   "id": "ba615fda",
   "metadata": {},
   "source": [
    "> \n",
    "> Nous allons analyser un nouveau tableau de données répertoriant des informations sur plusieurs centaines de passagers du Titanic dont :\n",
    "> - leur identité, sexe, âge\n",
    "> - leur classe sur le bateau (1ère classe $\\rightarrow$ 3ème classe)\n",
    "> - le fait qu'ils aient ou non survécu au naufrage\n",
    "> - ..."
   ]
  },
  {
   "attachments": {},
   "cell_type": "markdown",
   "id": "e6e60bc9",
   "metadata": {},
   "source": [
    "1. Chargez le jeu de données *titanic.csv* et utilisez quelques commandes de base afin de connaître le nombre d'individus, le nombre et la nature des descripteurs, les statistiques de base ainsi que les éventuelles données manquantes"
   ]
  },
  {
   "cell_type": "code",
   "execution_count": 75,
   "id": "6642ee9e",
   "metadata": {},
   "outputs": [
    {
     "data": {
      "text/html": [
       "<div>\n",
       "<style scoped>\n",
       "    .dataframe tbody tr th:only-of-type {\n",
       "        vertical-align: middle;\n",
       "    }\n",
       "\n",
       "    .dataframe tbody tr th {\n",
       "        vertical-align: top;\n",
       "    }\n",
       "\n",
       "    .dataframe thead th {\n",
       "        text-align: right;\n",
       "    }\n",
       "</style>\n",
       "<table border=\"1\" class=\"dataframe\">\n",
       "  <thead>\n",
       "    <tr style=\"text-align: right;\">\n",
       "      <th></th>\n",
       "      <th>PassengerId</th>\n",
       "      <th>Survived</th>\n",
       "      <th>Pclass</th>\n",
       "      <th>Name</th>\n",
       "      <th>Sex</th>\n",
       "      <th>Age</th>\n",
       "      <th>SibSp</th>\n",
       "      <th>Parch</th>\n",
       "      <th>Ticket</th>\n",
       "      <th>Fare</th>\n",
       "      <th>Cabin</th>\n",
       "      <th>Embarked</th>\n",
       "    </tr>\n",
       "  </thead>\n",
       "  <tbody>\n",
       "    <tr>\n",
       "      <th>0</th>\n",
       "      <td>1</td>\n",
       "      <td>0</td>\n",
       "      <td>3</td>\n",
       "      <td>Braund, Mr. Owen Harris</td>\n",
       "      <td>male</td>\n",
       "      <td>22.0</td>\n",
       "      <td>1</td>\n",
       "      <td>0</td>\n",
       "      <td>A/5 21171</td>\n",
       "      <td>7.2500</td>\n",
       "      <td>NaN</td>\n",
       "      <td>S</td>\n",
       "    </tr>\n",
       "    <tr>\n",
       "      <th>1</th>\n",
       "      <td>2</td>\n",
       "      <td>1</td>\n",
       "      <td>1</td>\n",
       "      <td>Cumings, Mrs. John Bradley (Florence Briggs Th...</td>\n",
       "      <td>female</td>\n",
       "      <td>38.0</td>\n",
       "      <td>1</td>\n",
       "      <td>0</td>\n",
       "      <td>PC 17599</td>\n",
       "      <td>71.2833</td>\n",
       "      <td>C85</td>\n",
       "      <td>C</td>\n",
       "    </tr>\n",
       "    <tr>\n",
       "      <th>2</th>\n",
       "      <td>3</td>\n",
       "      <td>1</td>\n",
       "      <td>3</td>\n",
       "      <td>Heikkinen, Miss. Laina</td>\n",
       "      <td>female</td>\n",
       "      <td>26.0</td>\n",
       "      <td>0</td>\n",
       "      <td>0</td>\n",
       "      <td>STON/O2. 3101282</td>\n",
       "      <td>7.9250</td>\n",
       "      <td>NaN</td>\n",
       "      <td>S</td>\n",
       "    </tr>\n",
       "    <tr>\n",
       "      <th>3</th>\n",
       "      <td>4</td>\n",
       "      <td>1</td>\n",
       "      <td>1</td>\n",
       "      <td>Futrelle, Mrs. Jacques Heath (Lily May Peel)</td>\n",
       "      <td>female</td>\n",
       "      <td>35.0</td>\n",
       "      <td>1</td>\n",
       "      <td>0</td>\n",
       "      <td>113803</td>\n",
       "      <td>53.1000</td>\n",
       "      <td>C123</td>\n",
       "      <td>S</td>\n",
       "    </tr>\n",
       "    <tr>\n",
       "      <th>4</th>\n",
       "      <td>5</td>\n",
       "      <td>0</td>\n",
       "      <td>3</td>\n",
       "      <td>Allen, Mr. William Henry</td>\n",
       "      <td>male</td>\n",
       "      <td>35.0</td>\n",
       "      <td>0</td>\n",
       "      <td>0</td>\n",
       "      <td>373450</td>\n",
       "      <td>8.0500</td>\n",
       "      <td>NaN</td>\n",
       "      <td>S</td>\n",
       "    </tr>\n",
       "  </tbody>\n",
       "</table>\n",
       "</div>"
      ],
      "text/plain": [
       "   PassengerId  Survived  Pclass  \\\n",
       "0            1         0       3   \n",
       "1            2         1       1   \n",
       "2            3         1       3   \n",
       "3            4         1       1   \n",
       "4            5         0       3   \n",
       "\n",
       "                                                Name     Sex   Age  SibSp  \\\n",
       "0                            Braund, Mr. Owen Harris    male  22.0      1   \n",
       "1  Cumings, Mrs. John Bradley (Florence Briggs Th...  female  38.0      1   \n",
       "2                             Heikkinen, Miss. Laina  female  26.0      0   \n",
       "3       Futrelle, Mrs. Jacques Heath (Lily May Peel)  female  35.0      1   \n",
       "4                           Allen, Mr. William Henry    male  35.0      0   \n",
       "\n",
       "   Parch            Ticket     Fare Cabin Embarked  \n",
       "0      0         A/5 21171   7.2500   NaN        S  \n",
       "1      0          PC 17599  71.2833   C85        C  \n",
       "2      0  STON/O2. 3101282   7.9250   NaN        S  \n",
       "3      0            113803  53.1000  C123        S  \n",
       "4      0            373450   8.0500   NaN        S  "
      ]
     },
     "execution_count": 75,
     "metadata": {},
     "output_type": "execute_result"
    }
   ],
   "source": [
    "data = pd.read_csv('donnees/titanic.csv', delimiter=';')\n",
    "data.head()"
   ]
  },
  {
   "attachments": {},
   "cell_type": "markdown",
   "id": "fa4716d3",
   "metadata": {},
   "source": [
    "2. On ne s'intéressera qu'aux descripteurs suivants : `Pclass`, `Sex`, `Age` et `Survival`. Modifiez le Dataframe en conséquence puis supprimez les individus pour lesquels des données sont manquantes"
   ]
  },
  {
   "cell_type": "code",
   "execution_count": 76,
   "id": "0cb053df",
   "metadata": {},
   "outputs": [],
   "source": [
    "data = data[[\"Pclass\", \"Sex\", \"Age\", \"Survived\"]]"
   ]
  },
  {
   "attachments": {},
   "cell_type": "markdown",
   "id": "0950f3aa",
   "metadata": {},
   "source": [
    "3. Combien y-a-t'il eu de survivants parmi les passagers restants? Quel est le taux de survie?"
   ]
  },
  {
   "cell_type": "code",
   "execution_count": 77,
   "id": "6d341a54",
   "metadata": {},
   "outputs": [
    {
     "name": "stdout",
     "output_type": "stream",
     "text": [
      "342\n",
      "0.38\n"
     ]
    }
   ],
   "source": [
    "import numpy as np\n",
    "print(sum(data['Survived'] == 1))\n",
    "print(np.round(data['Survived'].mean(), 2))"
   ]
  },
  {
   "attachments": {},
   "cell_type": "markdown",
   "id": "7235aca9",
   "metadata": {},
   "source": [
    "4. Les enfants ont ils été sauvés en priorité? Est-ce que la formule *les femmes et les enfants d'abord* semble avoir été repectée?"
   ]
  },
  {
   "cell_type": "code",
   "execution_count": 79,
   "id": "1360166b",
   "metadata": {},
   "outputs": [
    {
     "name": "stderr",
     "output_type": "stream",
     "text": [
      "/tmp/ipykernel_47233/517738990.py:2: FutureWarning: The 'axis' keyword in DataFrame.groupby is deprecated and will be removed in a future version.\n",
      "  data.groupby(data['Age']>18, 'Sex'=='female')['Survived'].mean()\n"
     ]
    },
    {
     "data": {
      "text/plain": [
       "Age\n",
       "False    0.386076\n",
       "True     0.382609\n",
       "Name: Survived, dtype: float64"
      ]
     },
     "execution_count": 79,
     "metadata": {},
     "output_type": "execute_result"
    }
   ],
   "source": [
    "data.groupby(data['Age']<18)[\"Survived\"].mean()\n",
    "data.groupby(data['Age']>18, 'Sex'=='female')['Survived'].mean()"
   ]
  },
  {
   "attachments": {},
   "cell_type": "markdown",
   "id": "7fcf7e12",
   "metadata": {},
   "source": [
    "5. Une hiérarchie de classe a-t'elle joué durant le sauvetage?"
   ]
  },
  {
   "cell_type": "code",
   "execution_count": null,
   "id": "a4ee3b5f",
   "metadata": {},
   "outputs": [],
   "source": []
  }
 ],
 "metadata": {
  "kernelspec": {
   "display_name": "Python 3",
   "language": "python",
   "name": "python3"
  },
  "language_info": {
   "codemirror_mode": {
    "name": "ipython",
    "version": 3
   },
   "file_extension": ".py",
   "mimetype": "text/x-python",
   "name": "python",
   "nbconvert_exporter": "python",
   "pygments_lexer": "ipython3",
   "version": "3.10.12"
  },
  "vscode": {
   "interpreter": {
    "hash": "aee8b7b246df8f9039afb4144a1f6fd8d2ca17a180786b69acc140d282b71a49"
   }
  }
 },
 "nbformat": 4,
 "nbformat_minor": 5
}
