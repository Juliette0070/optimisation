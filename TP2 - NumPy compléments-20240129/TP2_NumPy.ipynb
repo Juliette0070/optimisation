{
 "cells": [
  {
   "attachments": {},
   "cell_type": "markdown",
   "id": "organizational-termination",
   "metadata": {},
   "source": [
    "# Opérations mathématiques sur les tableaux NumPy"
   ]
  },
  {
   "attachments": {},
   "cell_type": "markdown",
   "id": "750bd6b5",
   "metadata": {},
   "source": [
    "## A. Compléments sur les tableaux NumPy"
   ]
  },
  {
   "attachments": {},
   "cell_type": "markdown",
   "id": "03cb81f2",
   "metadata": {},
   "source": [
    "Voici quelques méthodes bien utiles dans la manipulation de tableaux NumPy.\n",
    "\n",
    "Soit $M$ une matrice NumPy de *shape* `(n, m)`:\n",
    "\n",
    "- `M.ravel()` **retourne** (sans modifier `M`) le tableau \"aplati\" (vecteur) de *shape* `(n+m, 1)` (ou plus simplement `(n+m,)`)\n",
    "\n",
    "\n",
    "- `M.sum([axis])` **retourne** le scalaire ou tableau contenant la/les somme(s) des éléments [selon l'axe `axis`]:\n",
    "    \n",
    "    - `M.sum()` pour faire la somme de tous les élémnts de $M$ (scalaire)\n",
    "\n",
    "    - `M.sum(axis=0)` pour faire la somme des colonnes (vecteur de *shape* `(m,)`)\n",
    "    \n",
    "    - `M.sum(axis=1)` pour faire la somme des lignes (vecteur de *shape* `(n,)`)\n",
    "\n",
    "- `M.prod([axis])` **retourne** le scalaire ou tableau contenant le(s) produit(s) des éléments [selon l'axe `axis`]\n",
    "\n",
    "- `M.mean([axis])` **retourne** le scalaire ou tableau contenant la/les moyenne(s) des éléments [selon l'axe `axis`]\n",
    "\n",
    "- `M.min([axis])` **retourne** le scalaire ou tableau contenant le(s) minimum(s) des éléments [selon l'axe `axis`] (idem pour `M.max([axis])`)\n",
    "\n",
    "- `M.argmin([axis])` **retourne** le scalaire ou tableau contenant le/les indice(s) du (premier) minimum des éléments [selon l'axe `axis`] (idem pour `M.argmax([axis])`)\n",
    "\n",
    "- `M.sort(axis=-1)`**retourne** le tableau $M$ trié selon l'axe `axis` (par défaut selon la dernière dimension) :\n",
    "\n",
    "    - `M.sort()` (ou `M.sort(axis=1)` ou `M.sort(axis=-1)`) pour trier les éléments de chaque ligne\n",
    "    \n",
    "    - `M.sort(axis=0)` pour trier les éléments de chaque colonne\n",
    "\n",
    "- `M.argsort(axis=-1)`**retourne** le tableau (même *shape* que $M$) des indices des éléments triés selon l'axe `axis` (par défaut selon la dernière dimension)\n"
   ]
  },
  {
   "attachments": {},
   "cell_type": "markdown",
   "id": "7ab0161c",
   "metadata": {},
   "source": [
    "Commencez par tester chacune de ces méthodes sur une matrice $M$ `(3, 4)` composée d'entiers tirés aléatoirement dans $\\{0,9\\}$ :"
   ]
  },
  {
   "cell_type": "code",
   "execution_count": 52,
   "id": "94899263",
   "metadata": {},
   "outputs": [
    {
     "name": "stdout",
     "output_type": "stream",
     "text": [
      "[[0 6 1 5]\n",
      " [7 3 2 0]\n",
      " [9 2 1 1]]\n"
     ]
    }
   ],
   "source": [
    "import numpy as np\n",
    "M = np.random.randint(0,10, (3,4))\n",
    "print(M)"
   ]
  },
  {
   "attachments": {},
   "cell_type": "markdown",
   "id": "c593efa8",
   "metadata": {},
   "source": [
    "### Exercice 1 : encore des notes...\n",
    "\n",
    "Soit `N` un tableau `(10, 6)` composé des notes simulées de 10 étudiants à chacune des 6 compétences du BUT Informatique pour le semestre 3."
   ]
  },
  {
   "cell_type": "code",
   "execution_count": 53,
   "id": "2258e18d",
   "metadata": {},
   "outputs": [],
   "source": [
    "N = np.array([[13.3, 16., 13.4, 3.4, 8.6, 8.9],\n",
    " [13.4, 15.4, 18.2, 18.9, 16.6, 10.2],\n",
    " [4.2, 14.2, 1.8, 7.3, 18., 6.6],\n",
    " [9.5, 11.9, 1., 14., 14.3, 9.7],\n",
    " [13.9, 13.9, 12.,  3.5, 7.2, 6.8],\n",
    " [2.5, 16.2, 10.9, 0.3, 4.3, 14.],\n",
    " [8.7, 7.6, 4.2, 11.5, 5.4, 2.4],\n",
    " [9.1, 10.8, 14.2, 8.1, 6.5, 7.2],\n",
    " [13.7, 9.1, 14.2, 7.8, 16.5, 9.],\n",
    " [12.3, 17., 9.9, 8.5, 11.4, 4.8]])"
   ]
  },
  {
   "attachments": {},
   "cell_type": "markdown",
   "id": "1586703a",
   "metadata": {},
   "source": [
    "\n",
    "Pour chaque question ci-après, proposez une (séquence d') instruction(s) permettant d'y répondre."
   ]
  },
  {
   "attachments": {},
   "cell_type": "markdown",
   "id": "c3976a84",
   "metadata": {},
   "source": [
    "1. Quelle est la moyenne générale de chaque étudiant?"
   ]
  },
  {
   "cell_type": "code",
   "execution_count": 54,
   "id": "8bd0822f",
   "metadata": {},
   "outputs": [
    {
     "data": {
      "text/plain": [
       "array([10.06, 13.21,  9.98,  8.33, 10.88,  7.96])"
      ]
     },
     "execution_count": 54,
     "metadata": {},
     "output_type": "execute_result"
    }
   ],
   "source": [
    "N.mean(axis=0, dtype=np.float64)"
   ]
  },
  {
   "attachments": {},
   "cell_type": "markdown",
   "id": "60dcba58",
   "metadata": {},
   "source": [
    "2. Quelle est la moyenne du meilleur étudiant?"
   ]
  },
  {
   "cell_type": "code",
   "execution_count": 55,
   "id": "38b603d3",
   "metadata": {},
   "outputs": [
    {
     "data": {
      "text/plain": [
       "15.450000000000001"
      ]
     },
     "execution_count": 55,
     "metadata": {},
     "output_type": "execute_result"
    }
   ],
   "source": [
    "N.mean(axis=1).max()"
   ]
  },
  {
   "attachments": {},
   "cell_type": "markdown",
   "id": "4a72b352",
   "metadata": {},
   "source": [
    "3. Quel est le numéro du meilleur étudiant?"
   ]
  },
  {
   "cell_type": "code",
   "execution_count": 56,
   "id": "ae488d57",
   "metadata": {},
   "outputs": [
    {
     "data": {
      "text/plain": [
       "1"
      ]
     },
     "execution_count": 56,
     "metadata": {},
     "output_type": "execute_result"
    }
   ],
   "source": [
    "N.mean(axis=1).argmax()"
   ]
  },
  {
   "attachments": {},
   "cell_type": "markdown",
   "id": "c8173b38",
   "metadata": {},
   "source": [
    "4. Quel est le classement des étudiants?"
   ]
  },
  {
   "cell_type": "code",
   "execution_count": 57,
   "id": "3f0b24d3",
   "metadata": {},
   "outputs": [
    {
     "data": {
      "text/plain": [
       "array([1, 8, 9, 0, 3, 4, 7, 2, 5, 6], dtype=int64)"
      ]
     },
     "execution_count": 57,
     "metadata": {},
     "output_type": "execute_result"
    }
   ],
   "source": [
    "N.mean(axis=1).argsort()[::-1]"
   ]
  },
  {
   "attachments": {},
   "cell_type": "markdown",
   "id": "66b2334d",
   "metadata": {},
   "source": [
    "Voici la liste des noms des compétences :"
   ]
  },
  {
   "cell_type": "code",
   "execution_count": 58,
   "id": "46bc778c",
   "metadata": {},
   "outputs": [],
   "source": [
    "competences = np.array([\"Réaliser un développement d'application\",\n",
    "               \"Optimiser des applications informatiques\",\n",
    "               \"Administrer des systèmes informatiques communicants complexes\",\n",
    "               \"Gérer des données de l'information\",\n",
    "               \"Conduire un projet\",\n",
    "               \"Travailler dans une équipe informatique\"])"
   ]
  },
  {
   "attachments": {},
   "cell_type": "markdown",
   "id": "fcc1133f",
   "metadata": {},
   "source": [
    "5. Quelle est (le nom de) la compétence la moins bien réussie?"
   ]
  },
  {
   "cell_type": "code",
   "execution_count": 59,
   "id": "2bfe3c11",
   "metadata": {},
   "outputs": [
    {
     "data": {
      "text/plain": [
       "'Travailler dans une équipe informatique'"
      ]
     },
     "execution_count": 59,
     "metadata": {},
     "output_type": "execute_result"
    }
   ],
   "source": [
    "competences[N.mean(axis=0).argmin()]"
   ]
  },
  {
   "attachments": {},
   "cell_type": "markdown",
   "id": "4df5d57d",
   "metadata": {},
   "source": [
    "6. Affichez les (noms des) compétences par ordre de réussite décroissante?"
   ]
  },
  {
   "cell_type": "code",
   "execution_count": 60,
   "id": "e95fb4a9",
   "metadata": {},
   "outputs": [
    {
     "data": {
      "text/plain": [
       "array(['Optimiser des applications informatiques', 'Conduire un projet',\n",
       "       \"Réaliser un développement d'application\",\n",
       "       'Administrer des systèmes informatiques communicants complexes',\n",
       "       \"Gérer des données de l'information\",\n",
       "       'Travailler dans une équipe informatique'], dtype='<U61')"
      ]
     },
     "execution_count": 60,
     "metadata": {},
     "output_type": "execute_result"
    }
   ],
   "source": [
    "competences[N.mean(axis=0).argsort()[::-1]]"
   ]
  },
  {
   "attachments": {},
   "cell_type": "markdown",
   "id": "3c794a93",
   "metadata": {},
   "source": [
    "7. Quels sont les numéros des étudiants ayant validé toutes les compétences au semestre? (moyenne>10)\n",
    "\n",
    "NB. la fonction [`numpy.where(`*condition*`)`](https://numpy.org/doc/stable/reference/generated/numpy.where.html#numpy.where) vous sera utile pour cette question."
   ]
  },
  {
   "cell_type": "code",
   "execution_count": 61,
   "id": "335e6cb7",
   "metadata": {},
   "outputs": [
    {
     "data": {
      "text/plain": [
       "(array([1], dtype=int64),)"
      ]
     },
     "execution_count": 61,
     "metadata": {},
     "output_type": "execute_result"
    }
   ],
   "source": [
    "np.where((N>10).sum(axis=1)==6)"
   ]
  },
  {
   "attachments": {},
   "cell_type": "markdown",
   "id": "b7350a14",
   "metadata": {},
   "source": [
    "Au delà des méthodes propres aux objets `ndarray`, NumPy offre une multitude de [routines mathématiques](https://numpy.org/doc/stable/reference/routines.math.html).\n",
    "\n",
    "Par exemple, pour appliquer la fonction exponentielle sur chaque élément d'une matrice $M$ on écrira `np.exp(M)` (et non `M.exp()` car `exp()` n'est pas une méthode définie sur les objets `ndarray`).\n",
    "\n",
    "Entraînez-vous à utiliser ces routines sur votre tableau de notes."
   ]
  },
  {
   "cell_type": "code",
   "execution_count": 62,
   "id": "344dfcb0",
   "metadata": {},
   "outputs": [
    {
     "data": {
      "text/plain": [
       "array([[5.97195614e+05, 8.88611052e+06, 6.60003225e+05, 2.99641000e+01,\n",
       "        5.43165959e+03, 7.33197354e+03],\n",
       "       [6.60003225e+05, 4.87680085e+06, 8.01972674e+07, 1.61497464e+08,\n",
       "        1.61915490e+07, 2.69031861e+04],\n",
       "       [6.66863310e+01, 1.46886419e+06, 6.04964746e+00, 1.48029993e+03,\n",
       "        6.56599691e+07, 7.35095189e+02],\n",
       "       [1.33597268e+04, 1.47266625e+05, 2.71828183e+00, 1.20260428e+06,\n",
       "        1.62334599e+06, 1.63176072e+04],\n",
       "       [1.08816136e+06, 1.08816136e+06, 1.62754791e+05, 3.31154520e+01,\n",
       "        1.33943076e+03, 8.97847292e+02],\n",
       "       [1.21824940e+01, 1.08535199e+07, 5.41763638e+04, 1.34985881e+00,\n",
       "        7.36997937e+01, 1.20260428e+06],\n",
       "       [6.00291222e+03, 1.99819590e+03, 6.66863310e+01, 9.87157710e+04,\n",
       "        2.21406416e+02, 1.10231764e+01],\n",
       "       [8.95529270e+03, 4.90208011e+04, 1.46886419e+06, 3.29446808e+03,\n",
       "        6.65141633e+02, 1.33943076e+03],\n",
       "       [8.90911166e+05, 8.95529270e+03, 1.46886419e+06, 2.44060198e+03,\n",
       "        1.46507194e+07, 8.10308393e+03],\n",
       "       [2.19695989e+05, 2.41549528e+07, 1.99303704e+04, 4.91476884e+03,\n",
       "        8.93217234e+04, 1.21510418e+02]])"
      ]
     },
     "execution_count": 62,
     "metadata": {},
     "output_type": "execute_result"
    }
   ],
   "source": [
    "np.exp(N)"
   ]
  },
  {
   "attachments": {},
   "cell_type": "markdown",
   "id": "b28faeb0",
   "metadata": {},
   "source": [
    "---"
   ]
  },
  {
   "attachments": {},
   "cell_type": "markdown",
   "id": "2a78085c",
   "metadata": {},
   "source": [
    "## B. NumPy : Vectorisation et Broadcasting"
   ]
  },
  {
   "attachments": {},
   "cell_type": "markdown",
   "id": "74573b22",
   "metadata": {},
   "source": [
    "La **<font color='red'>Vectorisation</font>** est un principe de calcul essentiel proposé par la librairie NumPy. Il vous permet de réaliser une opération sur chaque élément d'un tableau NumPy sans écrire de boucle Python. La vectorisation présente un double avantage :\n",
    "\n",
    "- une **<font color='red'>simplification</font>** considérable de votre code\n",
    "\n",
    "- une **<font color='red'>efficacité</font>** remarquable (code C optimisé)\n",
    "\n",
    "Pour vous faire découvrir l'intérêt de la vectorisation, commencez par écrire (avec des boucles) une fonction Python qui somme terme à terme deux matrices de mêmes tailles : "
   ]
  },
  {
   "cell_type": "code",
   "execution_count": 63,
   "id": "76c0cc9c",
   "metadata": {},
   "outputs": [],
   "source": [
    "def somme(M1, M2):\n",
    "    M3 = np.zeros(M1.shape)\n",
    "    for i in range(M1.shape[0]):\n",
    "        for j in range(M1.shape[1]):\n",
    "            M3[i,j] += M1[i,j] + M2[i,j]\n",
    "    return M3"
   ]
  },
  {
   "attachments": {},
   "cell_type": "markdown",
   "id": "160a85b0",
   "metadata": {},
   "source": [
    "A l'aide du code ci-après, mesurez le temps d'exécution de votre fonction `somme(M1, M2)` sur des matrices aléatoires de tailles $(10,000 \\times 10,000)$"
   ]
  },
  {
   "cell_type": "code",
   "execution_count": 72,
   "id": "506b4a82",
   "metadata": {},
   "outputs": [
    {
     "name": "stdout",
     "output_type": "stream",
     "text": [
      "[[0.60887111 1.24122246 0.84480945 ... 1.34701355 0.5046668  0.70654248]\n",
      " [1.04361267 0.60206578 0.9364016  ... 0.95472426 0.70078352 1.09362217]\n",
      " [1.27123829 0.87704839 0.73861051 ... 1.36691083 1.15962225 0.91575639]\n",
      " ...\n",
      " [1.06998321 1.32763707 0.6465772  ... 1.52707716 0.94462657 1.09858201]\n",
      " [1.46401748 0.71532658 1.44402047 ... 0.98243692 1.69570355 0.88649677]\n",
      " [0.64487201 0.75172176 1.28306124 ... 0.65114314 1.46074562 1.67573398]]\n",
      "Temps d'exécution somme(M1, M2) : 49.9812228679657\n",
      "[[0.60887111 1.24122246 0.84480945 ... 1.34701355 0.5046668  0.70654248]\n",
      " [1.04361267 0.60206578 0.9364016  ... 0.95472426 0.70078352 1.09362217]\n",
      " [1.27123829 0.87704839 0.73861051 ... 1.36691083 1.15962225 0.91575639]\n",
      " ...\n",
      " [1.06998321 1.32763707 0.6465772  ... 1.52707716 0.94462657 1.09858201]\n",
      " [1.46401748 0.71532658 1.44402047 ... 0.98243692 1.69570355 0.88649677]\n",
      " [0.64487201 0.75172176 1.28306124 ... 0.65114314 1.46074562 1.67573398]]\n",
      "Temps d'exécution M1 + M2 : 0.4557616710662842\n"
     ]
    }
   ],
   "source": [
    "import time\n",
    "import numpy as np\n",
    "M1 = np.random.rand(10000, 10000)\n",
    "M2 = np.random.rand(10000, 10000)\n",
    "\n",
    "debut = time.time()\n",
    "print(somme(M1, M2))\n",
    "fin = time.time()\n",
    "print(\"Temps d'exécution somme(M1, M2) :\", fin-debut)\n",
    "\n",
    "debut = time.time()\n",
    "print(M1+M2)\n",
    "fin = time.time()\n",
    "print(\"Temps d'exécution M1 + M2 :\", fin-debut)"
   ]
  },
  {
   "attachments": {},
   "cell_type": "markdown",
   "id": "3409cbc1",
   "metadata": {},
   "source": [
    "Remplacez l'appel `somme(M1, M2)` par l'opération NumPy `M1 + M2` et comparez. Alors...??? Simple et efficace!\n",
    "\n"
   ]
  },
  {
   "attachments": {},
   "cell_type": "markdown",
   "id": "2832bb17",
   "metadata": {},
   "source": [
    "Le principe de vectorisation vous permet donc d'additionner, soustraitre, multiplier, etc. deux tableaux NumPy **de mêmes tailles** en réalisant l'opération terme à terme :\n",
    "\n",
    "- sur des vecteurs <img src=\"images/vectorisation_vecteurs.jpg\" alt=\"Somme terme à terme de 2 vecteurs\" height=\"150\" style=\"display: block; margin: 0 auto\"/>\n",
    "\n",
    "- sur des matrices <img src=\"images/vectorisation_matrices.jpg\" alt=\"Somme terme à terme de 2 matrices\" height=\"150\" style=\"display: block; margin: 0 auto\"/>\n",
    "\n",
    "\n",
    "- sur des tenseurs <img src=\"images/vectorisation_tenseurs.jpg\" alt=\"Somme terme à terme de 2 tenseurs\" height=\"150\" style=\"display: block; margin: 0 auto\"/> "
   ]
  },
  {
   "attachments": {},
   "cell_type": "markdown",
   "id": "401576dc",
   "metadata": {},
   "source": [
    "### Exercice 2 : les années bissextiles... encore!\n",
    "\n",
    "En fait, vous avez (sans doutes) déjà utilisé le principe de vectorisation dans le TP précédent. Reprenez votre solution à l'exerice 3 du TP1 et identifiez les opérations mettant en oeuvre le principe de vectorisation."
   ]
  },
  {
   "attachments": {},
   "cell_type": "markdown",
   "id": "fad1c181",
   "metadata": {},
   "source": [
    "Remarquez enfin qu'il est également possible d'appliquer ce principe sur des tableaux (NumPy) qui cette fois ne sont pas toujours de mêmes tailles. Par exemple dans la construction de masques pour l'indexation booléenne :"
   ]
  },
  {
   "cell_type": "code",
   "execution_count": 73,
   "id": "c0c46f38",
   "metadata": {},
   "outputs": [
    {
     "name": "stdout",
     "output_type": "stream",
     "text": [
      "[8 4 6 5 1]\n"
     ]
    },
    {
     "data": {
      "text/plain": [
       "array([8, 6])"
      ]
     },
     "execution_count": 73,
     "metadata": {},
     "output_type": "execute_result"
    }
   ],
   "source": [
    "t = np.random.randint(0, 10, (5,))\n",
    "print(t)\n",
    "masque = t > 5\n",
    "t[masque]  # renvoie le sous-tableau des valeurs satisfaisant au masque"
   ]
  },
  {
   "attachments": {},
   "cell_type": "markdown",
   "id": "6ce4dcfe",
   "metadata": {},
   "source": [
    "Dans cet exemple, l'opération `t > 5` ressemble à de la vectorisation entre un tableau `t` de dimension $(5,)$ et un scalaire (simple valeur numérique). En effet, l'opération `> 5` est bien réalisée sur chaque élément du tableau `t`.\n",
    "\n",
    "C'est le principe de **<font color='red'>Broadcasting</font>** qui est utilisé ici pour réaliser une opération sur des tableaux NumPy de tailles différentes. Mais attention, pour qu'une telle opération puisse être réalisée, **<font color='red'>les tableaux doivent avoir des tailles COMPATIBLES!</font>**\n",
    "\n",
    "Essayons d'identifier ensemble ce que l'on entend par \"tailles compatibles\"..."
   ]
  },
  {
   "attachments": {},
   "cell_type": "markdown",
   "id": "b8c73062",
   "metadata": {},
   "source": [
    "### Exercice 3 : les dimensions compatibles pour le Broadcasting"
   ]
  },
  {
   "attachments": {},
   "cell_type": "markdown",
   "id": "a64ff442",
   "metadata": {},
   "source": [
    "Pour chaque opération ci-après, essayez de deviner d'abord si l'opération sera permise (tailles compatibles) puis le résultat de l'opération."
   ]
  },
  {
   "cell_type": "code",
   "execution_count": 74,
   "id": "1ccaeaed",
   "metadata": {},
   "outputs": [
    {
     "name": "stdout",
     "output_type": "stream",
     "text": [
      "A =\n",
      " [[0 1]\n",
      " [2 3]\n",
      " [4 5]]\n",
      "B =\n",
      " [[1 2]\n",
      " [3 4]\n",
      " [5 6]]\n",
      "A + B =\n",
      " [[ 1  3]\n",
      " [ 5  7]\n",
      " [ 9 11]]\n"
     ]
    }
   ],
   "source": [
    "A = np.arange(0, 6).reshape((3,2))\n",
    "B = np.arange(1, 7).reshape((3,2))\n",
    "print(\"A =\\n\", A)\n",
    "print(\"B =\\n\", B)\n",
    "print(\"A + B =\\n\", A + B)"
   ]
  },
  {
   "cell_type": "code",
   "execution_count": 75,
   "id": "8e70ecb9",
   "metadata": {},
   "outputs": [
    {
     "name": "stdout",
     "output_type": "stream",
     "text": [
      "A =\n",
      " [[0 1]\n",
      " [2 3]\n",
      " [4 5]]\n",
      "B =\n",
      " [[1 2 3]\n",
      " [4 5 6]]\n"
     ]
    },
    {
     "ename": "ValueError",
     "evalue": "operands could not be broadcast together with shapes (3,2) (2,3) ",
     "output_type": "error",
     "traceback": [
      "\u001b[1;31m---------------------------------------------------------------------------\u001b[0m",
      "\u001b[1;31mValueError\u001b[0m                                Traceback (most recent call last)",
      "Input \u001b[1;32mIn [75]\u001b[0m, in \u001b[0;36m<cell line: 5>\u001b[1;34m()\u001b[0m\n\u001b[0;32m      3\u001b[0m \u001b[38;5;28mprint\u001b[39m(\u001b[38;5;124m\"\u001b[39m\u001b[38;5;124mA =\u001b[39m\u001b[38;5;130;01m\\n\u001b[39;00m\u001b[38;5;124m\"\u001b[39m, A)\n\u001b[0;32m      4\u001b[0m \u001b[38;5;28mprint\u001b[39m(\u001b[38;5;124m\"\u001b[39m\u001b[38;5;124mB =\u001b[39m\u001b[38;5;130;01m\\n\u001b[39;00m\u001b[38;5;124m\"\u001b[39m, B)\n\u001b[1;32m----> 5\u001b[0m \u001b[38;5;28mprint\u001b[39m(\u001b[38;5;124m\"\u001b[39m\u001b[38;5;124mA + B =\u001b[39m\u001b[38;5;130;01m\\n\u001b[39;00m\u001b[38;5;124m\"\u001b[39m, \u001b[43mA\u001b[49m\u001b[43m \u001b[49m\u001b[38;5;241;43m+\u001b[39;49m\u001b[43m \u001b[49m\u001b[43mB\u001b[49m)\n",
      "\u001b[1;31mValueError\u001b[0m: operands could not be broadcast together with shapes (3,2) (2,3) "
     ]
    }
   ],
   "source": [
    "A = np.arange(0, 6).reshape((3,2))\n",
    "B = np.arange(1, 7).reshape((2,3))\n",
    "print(\"A =\\n\", A)\n",
    "print(\"B =\\n\", B)\n",
    "print(\"A + B =\\n\", A + B)"
   ]
  },
  {
   "cell_type": "code",
   "execution_count": 76,
   "id": "d23478ba",
   "metadata": {},
   "outputs": [
    {
     "name": "stdout",
     "output_type": "stream",
     "text": [
      "A =\n",
      " [[0 1]\n",
      " [2 3]\n",
      " [4 5]]\n",
      "B =\n",
      " [[1]]\n",
      "A + B =\n",
      " [[1 2]\n",
      " [3 4]\n",
      " [5 6]]\n"
     ]
    }
   ],
   "source": [
    "A = np.arange(0, 6).reshape((3,2))\n",
    "B = np.arange(1, 2).reshape((1,1))\n",
    "print(\"A =\\n\", A)\n",
    "print(\"B =\\n\", B)\n",
    "print(\"A + B =\\n\", A + B)"
   ]
  },
  {
   "cell_type": "code",
   "execution_count": 77,
   "id": "576037d9",
   "metadata": {},
   "outputs": [
    {
     "name": "stdout",
     "output_type": "stream",
     "text": [
      "A =\n",
      " [[0 1]\n",
      " [2 3]\n",
      " [4 5]]\n",
      "B =\n",
      " [[1]\n",
      " [2]\n",
      " [3]]\n",
      "A + B =\n",
      " [[1 2]\n",
      " [4 5]\n",
      " [7 8]]\n"
     ]
    }
   ],
   "source": [
    "A = np.arange(0, 6).reshape((3,2))\n",
    "B = np.arange(1, 4).reshape((3,1))\n",
    "print(\"A =\\n\", A)\n",
    "print(\"B =\\n\", B)\n",
    "print(\"A + B =\\n\", A + B)"
   ]
  },
  {
   "cell_type": "code",
   "execution_count": 78,
   "id": "c9e8ce9a",
   "metadata": {},
   "outputs": [
    {
     "name": "stdout",
     "output_type": "stream",
     "text": [
      "A =\n",
      " [[0 1]\n",
      " [2 3]\n",
      " [4 5]]\n",
      "B =\n",
      " [[1]\n",
      " [2]]\n"
     ]
    },
    {
     "ename": "ValueError",
     "evalue": "operands could not be broadcast together with shapes (3,2) (2,1) ",
     "output_type": "error",
     "traceback": [
      "\u001b[1;31m---------------------------------------------------------------------------\u001b[0m",
      "\u001b[1;31mValueError\u001b[0m                                Traceback (most recent call last)",
      "Input \u001b[1;32mIn [78]\u001b[0m, in \u001b[0;36m<cell line: 5>\u001b[1;34m()\u001b[0m\n\u001b[0;32m      3\u001b[0m \u001b[38;5;28mprint\u001b[39m(\u001b[38;5;124m\"\u001b[39m\u001b[38;5;124mA =\u001b[39m\u001b[38;5;130;01m\\n\u001b[39;00m\u001b[38;5;124m\"\u001b[39m, A)\n\u001b[0;32m      4\u001b[0m \u001b[38;5;28mprint\u001b[39m(\u001b[38;5;124m\"\u001b[39m\u001b[38;5;124mB =\u001b[39m\u001b[38;5;130;01m\\n\u001b[39;00m\u001b[38;5;124m\"\u001b[39m, B)\n\u001b[1;32m----> 5\u001b[0m \u001b[38;5;28mprint\u001b[39m(\u001b[38;5;124m\"\u001b[39m\u001b[38;5;124mA + B =\u001b[39m\u001b[38;5;130;01m\\n\u001b[39;00m\u001b[38;5;124m\"\u001b[39m, \u001b[43mA\u001b[49m\u001b[43m \u001b[49m\u001b[38;5;241;43m+\u001b[39;49m\u001b[43m \u001b[49m\u001b[43mB\u001b[49m)\n",
      "\u001b[1;31mValueError\u001b[0m: operands could not be broadcast together with shapes (3,2) (2,1) "
     ]
    }
   ],
   "source": [
    "A = np.arange(0, 6).reshape((3,2))\n",
    "B = np.arange(1, 3).reshape((2,1))\n",
    "print(\"A =\\n\", A)\n",
    "print(\"B =\\n\", B)\n",
    "print(\"A + B =\\n\", A + B)"
   ]
  },
  {
   "cell_type": "code",
   "execution_count": 79,
   "id": "0eb84844",
   "metadata": {},
   "outputs": [
    {
     "name": "stdout",
     "output_type": "stream",
     "text": [
      "A =\n",
      " [[0 1]\n",
      " [2 3]\n",
      " [4 5]]\n",
      "B =\n",
      " [[1 2]]\n",
      "A + B =\n",
      " [[1 3]\n",
      " [3 5]\n",
      " [5 7]]\n"
     ]
    }
   ],
   "source": [
    "A = np.arange(0, 6).reshape((3,2))\n",
    "B = np.arange(1, 3).reshape((1,2))\n",
    "print(\"A =\\n\", A)\n",
    "print(\"B =\\n\", B)\n",
    "print(\"A + B =\\n\", A + B)"
   ]
  },
  {
   "cell_type": "code",
   "execution_count": 80,
   "id": "d6989269",
   "metadata": {},
   "outputs": [
    {
     "name": "stdout",
     "output_type": "stream",
     "text": [
      "A =\n",
      " [[0]\n",
      " [1]\n",
      " [2]]\n",
      "B =\n",
      " [[1 2]]\n",
      "A + B =\n",
      " [[1 2]\n",
      " [2 3]\n",
      " [3 4]]\n"
     ]
    }
   ],
   "source": [
    "A = np.arange(0, 3).reshape((3,1))\n",
    "B = np.arange(1, 3).reshape((1,2))\n",
    "print(\"A =\\n\", A)\n",
    "print(\"B =\\n\", B)\n",
    "print(\"A + B =\\n\", A + B)"
   ]
  },
  {
   "attachments": {},
   "cell_type": "markdown",
   "id": "6df3aed2",
   "metadata": {},
   "source": [
    "Deux matrices $A$ et $B$ ont des tailles compatibles pour le broadcasting si elles vérifient l'une des propriétés suivantes :\n",
    "\n",
    "- $A$ et $B$ sont de mêmes tailles (elles sont superposables, on parle alors de vectorisation)\n",
    "\n",
    "- $A$ et $B$ ont le même nombre de lignes et l'une des deux matrices n'a qu'une seule colonne\n",
    "\n",
    "- $A$ et $B$ ont le même nombre de colonnes et l'une des deux matrices n'a qu'une seule ligne\n",
    "\n",
    "- l'une des matrices n'a qu'une ligne et l'autre n'a qu'une colonne\n",
    "\n",
    "\n",
    "Généralisons : deux tableaux $A$ et $B$ $n$-dimensionnels sont compatibles pour le broadcasting si $$\\forall k \\in \\{1, n\\},~ dim_k(A)\\neq dim_k(B) \\Rightarrow min\\{dim_k(A), dim_k(B)\\}=1$$\n",
    "\n",
    "Autrement dit, pour chaque axe :\n",
    "\n",
    "- soit les deux tableaux ont la même taille\n",
    "\n",
    "- soit l'un des deux est de taille de 1"
   ]
  },
  {
   "attachments": {},
   "cell_type": "markdown",
   "id": "49138883",
   "metadata": {},
   "source": [
    "### Exercice 4 : l'occasion est trop belle\n",
    "\n",
    "Ecrire une fonction `compatibles(A, B)` indiquant si deux tableaux sont compatibles pour le broadcasting"
   ]
  },
  {
   "cell_type": "code",
   "execution_count": 89,
   "id": "091f2b64",
   "metadata": {},
   "outputs": [],
   "source": [
    "def compatibles(A, B):\n",
    "    shape_A = A.shape\n",
    "    shape_B = B.shape\n",
    "    if len(shape_A) != len(shape_B):\n",
    "        return False\n",
    "    for dim_A, dim_B in zip(shape_A, shape_B):\n",
    "        if dim_A != dim_B and dim_A != 1 and dim_B != 1:\n",
    "            return False\n",
    "    return True\n"
   ]
  },
  {
   "attachments": {},
   "cell_type": "markdown",
   "id": "01802187",
   "metadata": {},
   "source": [
    "Testez votre fonction :"
   ]
  },
  {
   "cell_type": "code",
   "execution_count": 90,
   "id": "6e3ca4ab",
   "metadata": {},
   "outputs": [],
   "source": [
    "assert compatibles(np.ones((3,2)), np.ones((3,2)))\n",
    "assert compatibles(np.ones((3,1)), np.ones((3,2)))\n",
    "assert compatibles(np.ones((3,2)), np.ones((1,2)))\n",
    "assert compatibles(np.ones((1,2)), np.ones((3,1)))\n",
    "assert not compatibles(np.ones((3,2,4)), np.ones((3,2)))\n",
    "assert not compatibles(np.ones((1,2,1)), np.ones((1,1)))\n",
    "assert not compatibles(np.ones((3,2)), np.ones((2,3)))"
   ]
  },
  {
   "attachments": {},
   "cell_type": "markdown",
   "id": "2832bb17",
   "metadata": {},
   "source": [
    "Lors d'une opération entre deux tableaux de `shape` différentes (mais compatibles), le broadcasting est le processus (automatique) qui va consister à étendre les dimensions d'un tableau (voire des deux tableaux) par recopie des valeurs, de sorte à les ramener à deux tableaux de même `shape` et ainsi pouvoir réaliser l'opération par vectorisation :\n",
    "\n",
    "- matrice + colonne <img src=\"images/Broadcasting1.jpg\" alt=\"Broadcasting : matrice + colonne\" height=\"200\" style=\"display: block; margin: 0 auto\"/>\n",
    "\n",
    "- matrice + ligne <img src=\"images/Broadcasting2.jpg\" alt=\"Broadcasting : matrice + ligne\" height=\"150\" style=\"display: block; margin: 0 auto\"/>\n",
    "\n",
    "\n",
    "- ligne + colonne <img src=\"images/Broadcasting3.jpg\" alt=\"Broadcasting : ligne + colonne\" height=\"200\" style=\"display: block; margin: 0 auto\"/>"
   ]
  },
  {
   "attachments": {},
   "cell_type": "markdown",
   "id": "722bba31",
   "metadata": {},
   "source": [
    "### Exercice 5 : reprise de notes\n",
    "\n",
    "Le tableau `Notes` ci-après correspond aux moyennes de 10 étudiants aux 15 ressources et SAE du semestre 4 du BUT Informatique.\n",
    "\n",
    "Le tableau `Coefs` quant à lui contient les coefficients de chaque ressource (12 premières lignes) ou SAE (3 dernières lignes) pour chaque compétence (`Coef[i,j]` contient le coefficient de la ressource `i` dans le calcul de la moyenne de la compétence `j`). "
   ]
  },
  {
   "cell_type": "code",
   "execution_count": 91,
   "id": "24a3f26b",
   "metadata": {},
   "outputs": [],
   "source": [
    "Notes = np.array([[11.5, 12.5, 11.2, 13.7,  8.3,  4.8,  9. ,  4.1, 11.3, 10.4, 11.5,\n",
    "        11.3,  0.7, 14.1, 13.6],\n",
    "       [12.6,  7.9, 14.2, 10.3,  7.5, 10.6,  8.6, 14.6, 13.5,  8.8, 13.3,\n",
    "        14.9, 14.1,  5.9,  9. ],\n",
    "       [ 9.5,  0.3,  7.4,  5.8, 11.7, 19.6,  6.3, 12.8, 12.1, 16.2,  7.8,\n",
    "         9.9,  6.7,  9.2, 10.4],\n",
    "       [ 8.9, 12.9,  7.3, 10.7, 13.7,  9.4, 12.9, 13.8, 14.6, 12. , 17.9,\n",
    "        11.4, 13.2,  9.2, 11.3],\n",
    "       [10.8,  9.5, 14.6,  9.1, 15.7,  1.9, 14.1, 12.4, 10.7, 16. , 12.2,\n",
    "         8.1,  8. , 14.1,  7. ],\n",
    "       [15.8, 10.3, 17.5,  9.4, 10. , 10.1, 11.9,  9.6,  7.3,  9.9, 11.4,\n",
    "         6.7, 13.5, 18.7,  8.3],\n",
    "       [ 9.3,  2.7,  3.3, 11.7, 16.3,  5.3, 10.6, 13.8,  4.8,  7.2,  8.4,\n",
    "         9.2,  6.7, 14. , 10.8],\n",
    "       [13.7, 12.3,  8.8,  7.6, 11.7, 12.2, 13.3, 11.8, 14. ,  6. , 11.3,\n",
    "         9.1,  9.4,  9.7,  7.1],\n",
    "       [13.7,  8.9,  8.5,  7.2,  9.2,  5.8, 11.9,  8.9,  7.2, 11.4,  9.3,\n",
    "         7.1,  3.4, 18.3, 12.3],\n",
    "       [ 2.4,  7.7, 15.6, 14.4,  8.1, 10.9,  8.8,  9.7,  5.4, 13.2, 14.1,\n",
    "        10.9,  5.4,  3. ,  7.4]])\n",
    "Coefs = np.array([[16,  0, 12,  0,  0,  4],\n",
    "       [ 8,  0,  0,  0, 10,  0],\n",
    "       [ 0,  0,  0, 18,  0,  0],\n",
    "       [ 0, 12,  0,  0,  0,  0],\n",
    "       [ 0,  4,  0,  0,  0, 13],\n",
    "       [ 0,  0,  0,  6,  0, 13],\n",
    "       [ 0,  0,  0,  0,  0, 10],\n",
    "       [ 0,  0, 28,  0,  0,  0],\n",
    "       [ 0,  4,  0,  0, 22,  0],\n",
    "       [ 8,  4,  0,  8,  4,  0],\n",
    "       [ 8,  4,  0,  8,  4,  0],\n",
    "       [ 0, 12,  0,  0,  0,  0],\n",
    "       [15, 15, 15, 15, 15, 15],\n",
    "       [40, 40, 40, 40, 40, 40],\n",
    "       [ 5,  5,  5,  5,  5,  5]])"
   ]
  },
  {
   "attachments": {},
   "cell_type": "markdown",
   "id": "1142aa1e",
   "metadata": {},
   "source": [
    "1. Vérifiez que pour chaque compétence du semestre 4 : les ressources ont un poids de 40% et les SAE ont un poids de 60%."
   ]
  },
  {
   "cell_type": "code",
   "execution_count": 93,
   "id": "ba41131d",
   "metadata": {},
   "outputs": [
    {
     "name": "stdout",
     "output_type": "stream",
     "text": [
      "[100 100 100 100 100 100]\n",
      "[40 40 40 40 40 40]\n",
      "[60 60 60 60 60 60]\n"
     ]
    }
   ],
   "source": [
    "print(Coefs.sum(axis=0))\n",
    "print(Coefs[:12,:].sum(axis=0))\n",
    "print(Coefs[12:,:].sum(axis=0))"
   ]
  },
  {
   "attachments": {},
   "cell_type": "markdown",
   "id": "6cb1213d",
   "metadata": {},
   "source": [
    "\n",
    "2. Calculez la moyenne du 1er étudiant à la 1ère compétence "
   ]
  },
  {
   "cell_type": "code",
   "execution_count": 92,
   "id": "2f3cc1ca",
   "metadata": {},
   "outputs": [
    {
     "data": {
      "text/plain": [
       "11.017000000000001"
      ]
     },
     "execution_count": 92,
     "metadata": {},
     "output_type": "execute_result"
    }
   ],
   "source": [
    "sum(Notes[0,:]*Coefs[:,0])/sum(Coefs[:,0])\n",
    "np.average(Notes[0,:], weights=Coefs[:,0])"
   ]
  },
  {
   "attachments": {},
   "cell_type": "markdown",
   "id": "b3ac7edf",
   "metadata": {},
   "source": [
    "3. Calculez la moyenne de chaque étudiant à la 1ère compétence"
   ]
  },
  {
   "cell_type": "code",
   "execution_count": 96,
   "id": "e263982e",
   "metadata": {},
   "outputs": [
    {
     "ename": "ValueError",
     "evalue": "operands could not be broadcast together with shapes (10,15) (6,) ",
     "output_type": "error",
     "traceback": [
      "\u001b[1;31m---------------------------------------------------------------------------\u001b[0m",
      "\u001b[1;31mValueError\u001b[0m                                Traceback (most recent call last)",
      "Input \u001b[1;32mIn [96]\u001b[0m, in \u001b[0;36m<cell line: 1>\u001b[1;34m()\u001b[0m\n\u001b[1;32m----> 1\u001b[0m (\u001b[43mNotes\u001b[49m\u001b[38;5;241;43m*\u001b[39;49m\u001b[43mCoefs\u001b[49m\u001b[43m[\u001b[49m\u001b[38;5;241;43m0\u001b[39;49m\u001b[43m,\u001b[49m\u001b[43m:\u001b[49m\u001b[43m]\u001b[49m) \u001b[38;5;241m/\u001b[39m Coefs[\u001b[38;5;241m0\u001b[39m,:]\u001b[38;5;241m.\u001b[39msum(axis\u001b[38;5;241m=\u001b[39m\u001b[38;5;241m0\u001b[39m)\n\u001b[0;32m      2\u001b[0m np\u001b[38;5;241m.\u001b[39maverage(Notes, axis\u001b[38;5;241m=\u001b[39m\u001b[38;5;241m1\u001b[39m, weights\u001b[38;5;241m=\u001b[39mCoefs[:,\u001b[38;5;241m0\u001b[39m])\n",
      "\u001b[1;31mValueError\u001b[0m: operands could not be broadcast together with shapes (10,15) (6,) "
     ]
    }
   ],
   "source": [
    "(Notes*Coefs[0,:])/Coefs[0,:].sum(axis=0)\n",
    "np.average(Notes, axis=1, weights=Coefs[:,0])"
   ]
  },
  {
   "attachments": {},
   "cell_type": "markdown",
   "id": "9ddd8512",
   "metadata": {},
   "source": [
    "4. Calculez le tableau des moyennes de chaque étudiant à chaque compétence"
   ]
  },
  {
   "cell_type": "code",
   "execution_count": 100,
   "id": "3c90e834",
   "metadata": {},
   "outputs": [
    {
     "data": {
      "text/plain": [
       "array([10.3435    ,  9.60583333,  9.3955    , 11.12116667, 11.74333333,\n",
       "       14.3365    , 10.52133333, 10.1315    , 12.18166667,  6.213     ])"
      ]
     },
     "execution_count": 100,
     "metadata": {},
     "output_type": "execute_result"
    }
   ],
   "source": [
    "M = np.average(Notes, axis=1, weights=Coefs.sum(axis=1))\n",
    "M"
   ]
  },
  {
   "attachments": {},
   "cell_type": "markdown",
   "id": "a50613ef",
   "metadata": {},
   "source": [
    "5. Stockez le tableau des moyennes dans une variable `M` puis visualisez les résultats des 10 étudiants sur un graphique à l'aide des instructions ci-après."
   ]
  },
  {
   "cell_type": "code",
   "execution_count": 101,
   "id": "e851f37b",
   "metadata": {},
   "outputs": [
    {
     "ename": "IndexError",
     "evalue": "too many indices for array: array is 1-dimensional, but 2 were indexed",
     "output_type": "error",
     "traceback": [
      "\u001b[1;31m---------------------------------------------------------------------------\u001b[0m",
      "\u001b[1;31mIndexError\u001b[0m                                Traceback (most recent call last)",
      "Input \u001b[1;32mIn [101]\u001b[0m, in \u001b[0;36m<cell line: 3>\u001b[1;34m()\u001b[0m\n\u001b[0;32m      1\u001b[0m \u001b[38;5;28;01mimport\u001b[39;00m \u001b[38;5;21;01mmatplotlib\u001b[39;00m\u001b[38;5;21;01m.\u001b[39;00m\u001b[38;5;21;01mpyplot\u001b[39;00m \u001b[38;5;28;01mas\u001b[39;00m \u001b[38;5;21;01mplt\u001b[39;00m\n\u001b[0;32m      2\u001b[0m x \u001b[38;5;241m=\u001b[39m np\u001b[38;5;241m.\u001b[39marange(\u001b[38;5;241m1\u001b[39m,\u001b[38;5;241m7\u001b[39m)\n\u001b[1;32m----> 3\u001b[0m plt\u001b[38;5;241m.\u001b[39mplot(x, \u001b[43mM\u001b[49m\u001b[43m[\u001b[49m\u001b[43m:\u001b[49m\u001b[43m,\u001b[49m\u001b[43m:\u001b[49m\u001b[43m]\u001b[49m\u001b[38;5;241m.\u001b[39mT)\n\u001b[0;32m      4\u001b[0m plt\u001b[38;5;241m.\u001b[39maxis([\u001b[38;5;241m1\u001b[39m, \u001b[38;5;241m6\u001b[39m, \u001b[38;5;241m0\u001b[39m, \u001b[38;5;241m20\u001b[39m])\n\u001b[0;32m      5\u001b[0m plt\u001b[38;5;241m.\u001b[39mxlabel(\u001b[38;5;124m'\u001b[39m\u001b[38;5;124mCompétences du semestre 4\u001b[39m\u001b[38;5;124m'\u001b[39m)\n",
      "\u001b[1;31mIndexError\u001b[0m: too many indices for array: array is 1-dimensional, but 2 were indexed"
     ]
    }
   ],
   "source": [
    "import matplotlib.pyplot as plt\n",
    "x = np.arange(1,7)\n",
    "plt.plot(x, M[:,:].T)\n",
    "plt.axis([1, 6, 0, 20])\n",
    "plt.xlabel('Compétences du semestre 4')\n",
    "plt.ylabel('Moyennes')\n",
    "plt.legend(np.char.add(np.array(['Etu']), np.arange(10).astype(str)), loc='lower center', ncol=5)\n",
    "plt.show()"
   ]
  },
  {
   "attachments": {},
   "cell_type": "markdown",
   "id": "0ea72312",
   "metadata": {},
   "source": [
    "### Exercice 6 : Distances entre images"
   ]
  },
  {
   "attachments": {},
   "cell_type": "markdown",
   "id": "ce73dfad",
   "metadata": {},
   "source": [
    "On rappelle qu'une image peut être stockée sous la forme d'un tableau à trois dimensions (R, G, B) ou *tenseur*. Ainsi une manière naïve de comparer deux images (de mêmes tailles) consiste à calculer la distance $L_2$ entre les deux tenseurs associés par l'expression suivante $$L_2(I_1, I_2) = \\left(\\sum_x \\sum_y \\sum_z (I_1[x,y,z]-I_2[x,y,z])^2\\right)^{1/2}$$\n",
    "\n",
    "1. Ecrire une fonction `distance(...)` qui calcule et renvoie la distance $L_2$ entre deux images "
   ]
  },
  {
   "cell_type": "code",
   "execution_count": 102,
   "id": "6a452ac3",
   "metadata": {},
   "outputs": [],
   "source": [
    "def distance(image1, image2):\n",
    "    return np.sqrt(np.sum((image1-image2)**2))"
   ]
  },
  {
   "attachments": {},
   "cell_type": "markdown",
   "id": "1d61beb8",
   "metadata": {},
   "source": [
    "Vous trouverez dans le répertoire `images/DallE_Images/` un échantillon d'images générées par l'IA [DALL-E](https://openai.com/dall-e-2/) (Open AI).\n",
    "\n",
    "2. Quelles sont les deux images les plus proches selon la distance $L_2$? (les instructions ci-dessous vous aideront à importer une image dans un tableau NumPy)"
   ]
  },
  {
   "cell_type": "code",
   "execution_count": 104,
   "id": "5e1593d8",
   "metadata": {},
   "outputs": [
    {
     "name": "stdout",
     "output_type": "stream",
     "text": [
      "(1024, 1024, 3)\n"
     ]
    },
    {
     "data": {
      "image/png": "[encoded data removed]",
      "text/plain": [
       "<Figure size 432x288 with 1 Axes>"
      ]
     },
     "metadata": {
      "needs_background": "light"
     },
     "output_type": "display_data"
    }
   ],
   "source": [
    "from PIL import Image\n",
    "\n",
    "# import de l'image\n",
    "image = Image.open(\"images/DallE_Images/DALL·E 2023-01-22 15.53.09 - an oil painting by van gogh of a bird working on a laptop.png\")\n",
    "\n",
    "# représentation de l'image sous forme d'un tableau NumPy\n",
    "array = np.array(image, dtype=np.int32)\n",
    "print(array.shape)\n",
    "\n",
    "# visualisation de l'image (à partir du tableau)\n",
    "plt.imshow(array)\n",
    "plt.show()"
   ]
  },
  {
   "cell_type": "code",
   "execution_count": 111,
   "metadata": {},
   "outputs": [
    {
     "ename": "TypeError",
     "evalue": "'numpy.float64' object is not callable",
     "output_type": "error",
     "traceback": [
      "\u001b[1;31m---------------------------------------------------------------------------\u001b[0m",
      "\u001b[1;31mTypeError\u001b[0m                                 Traceback (most recent call last)",
      "Input \u001b[1;32mIn [111]\u001b[0m, in \u001b[0;36m<cell line: 12>\u001b[1;34m()\u001b[0m\n\u001b[0;32m      8\u001b[0m array2 \u001b[38;5;241m=\u001b[39m np\u001b[38;5;241m.\u001b[39marray(image2, dtype\u001b[38;5;241m=\u001b[39mnp\u001b[38;5;241m.\u001b[39mint32)\n\u001b[0;32m      9\u001b[0m array3 \u001b[38;5;241m=\u001b[39m np\u001b[38;5;241m.\u001b[39marray(image3, dtype\u001b[38;5;241m=\u001b[39mnp\u001b[38;5;241m.\u001b[39mint32)\n\u001b[0;32m     11\u001b[0m distances \u001b[38;5;241m=\u001b[39m [\n\u001b[1;32m---> 12\u001b[0m     (\u001b[43mdistance\u001b[49m\u001b[43m(\u001b[49m\u001b[43marray1\u001b[49m\u001b[43m,\u001b[49m\u001b[43m \u001b[49m\u001b[43marray2\u001b[49m\u001b[43m)\u001b[49m, \u001b[38;5;124m\"\u001b[39m\u001b[38;5;124mimage1 - image2\u001b[39m\u001b[38;5;124m\"\u001b[39m),\n\u001b[0;32m     13\u001b[0m     (distance(array1, array3), \u001b[38;5;124m\"\u001b[39m\u001b[38;5;124mimage1 - image3\u001b[39m\u001b[38;5;124m\"\u001b[39m),\n\u001b[0;32m     14\u001b[0m     (distance(array2, array3), \u001b[38;5;124m\"\u001b[39m\u001b[38;5;124mimage2 - image3\u001b[39m\u001b[38;5;124m\"\u001b[39m)\n\u001b[0;32m     15\u001b[0m ]\n\u001b[0;32m     17\u001b[0m \u001b[38;5;28;01mfor\u001b[39;00m distance, images \u001b[38;5;129;01min\u001b[39;00m distances:\n\u001b[0;32m     18\u001b[0m     \u001b[38;5;28mprint\u001b[39m(distance, images)\n",
      "\u001b[1;31mTypeError\u001b[0m: 'numpy.float64' object is not callable"
     ]
    }
   ],
   "source": [
    "\n",
    "# import de l'image\n",
    "image1 = Image.open(\"images/DallE_Images/DALL·E 2023-01-22 15.53.09 - an oil painting by van gogh of a bird working on a laptop.png\")\n",
    "image2 = Image.open(\"images/DallE_Images/DALL·E 2023-01-22 15.54.42 - an oil painting by van gogh of a whale working on a laptop.png\")\n",
    "image3 = Image.open(\"images/DallE_Images/DALL·E 2023-01-22 15.53.56 - an oil painting by van gogh of a snake working on a laptop.png\")\n",
    "\n",
    "# représentation de l'image sous forme d'un tableau NumPy\n",
    "array1 = np.array(image1, dtype=np.int32)\n",
    "array2 = np.array(image2, dtype=np.int32)\n",
    "array3 = np.array(image3, dtype=np.int32)\n",
    "\n",
    "distances = [\n",
    "    (distance(array1, array2), \"image1 - image2\"),\n",
    "    (distance(array1, array3), \"image1 - image3\"),\n",
    "    (distance(array2, array3), \"image2 - image3\")\n",
    "]\n",
    "\n",
    "for distance, images in distances:\n",
    "    print(distance, images)"
   ]
  },
  {
   "attachments": {},
   "cell_type": "markdown",
   "id": "3c730d9e",
   "metadata": {},
   "source": [
    "3. Définissez une nouvelle fonction pour le calcul de la distance mais cette fois sans vectorisation, sans broadcasting et sans utiliser les méthodes définies sur les tableaux NumPy (bref à l'ancienne avec des boucles!). Comparez le temps d'exécution..."
   ]
  },
  {
   "cell_type": "code",
   "execution_count": null,
   "id": "67badf53",
   "metadata": {},
   "outputs": [],
   "source": [
    "def distance2(image1, image2):\n",
    "    ..."
   ]
  },
  {
   "cell_type": "code",
   "execution_count": null,
   "id": "eec11d71",
   "metadata": {},
   "outputs": [],
   "source": []
  },
  {
   "attachments": {},
   "cell_type": "markdown",
   "id": "c6ffb40c",
   "metadata": {},
   "source": [
    "4. Générez de nouvelles images sur [DALL-E](https://openai.com/dall-e-2/) et amusez-vous à comparer les distances..."
   ]
  }
 ],
 "metadata": {
  "kernelspec": {
   "display_name": "Python 3",
   "language": "python",
   "name": "python3"
  },
  "language_info": {
   "codemirror_mode": {
    "name": "ipython",
    "version": 3
   },
   "file_extension": ".py",
   "mimetype": "text/x-python",
   "name": "python",
   "nbconvert_exporter": "python",
   "pygments_lexer": "ipython3",
   "version": "3.10.2"
  },
  "vscode": {
   "interpreter": {
    "hash": "aee8b7b246df8f9039afb4144a1f6fd8d2ca17a180786b69acc140d282b71a49"
   }
  }
 },
 "nbformat": 4,
 "nbformat_minor": 5
}
