{
 "cells": [
  {
   "attachments": {},
   "cell_type": "markdown",
   "id": "0e89b5c8",
   "metadata": {},
   "source": [
    "# Les k-Plus Proches Voisins : en pratique"
   ]
  },
  {
   "attachments": {},
   "cell_type": "markdown",
   "id": "6b339cb7",
   "metadata": {},
   "source": [
    "Dans le TP4 nous avons implémenté quelques méthodes de base en Machine Learning (Apprentissage Automatique) :\n",
    "- découpage train/test d'un dataset\n",
    "- normalisation\n",
    "- classification par k-PPV (méthode de base et variante pondérée)\n",
    "- évaluation d'un classifieur\n",
    "\n",
    "Le fait d'en écrire le code a permis d'en maîtriser le fonctionnement. Cependant, à l'avenir vous devrez utiliser des librairies qui proposent ces méthodes déjà implémentées."
   ]
  },
  {
   "attachments": {},
   "cell_type": "markdown",
   "id": "55d7ce11",
   "metadata": {},
   "source": [
    "> [Scikit-learn](https://scikit-learn.org/) est une bibliothèque libre Python destinée à l'apprentissage automatique.\n",
    ">\n",
    "> Nous y retrouverons notamment :\n",
    "> - la méthode `train_test_split()` pour découper un dataset en deux sous-ensembles d'entraînement et de test\n",
    "> - les méthodes `MinMaxScaler()` et `StandardScaler()` pour normaliser le dataset\n",
    "> - la méthode `KNeighborsClassifier()` pour prédire par k-PPV\n",
    ">\n"
   ]
  },
  {
   "attachments": {},
   "cell_type": "markdown",
   "id": "388e831c",
   "metadata": {},
   "source": [
    "Vous commencerez par installer la bibliothèque sur votre machine : `pip install scikit-learn`"
   ]
  },
  {
   "attachments": {},
   "cell_type": "markdown",
   "id": "876db04d",
   "metadata": {},
   "source": [
    "---"
   ]
  },
  {
   "attachments": {},
   "cell_type": "markdown",
   "id": "18ab4e58",
   "metadata": {},
   "source": [
    "### Exercice 1 : prise en main de Scikit-learn"
   ]
  },
  {
   "attachments": {},
   "cell_type": "markdown",
   "id": "9ebfda61",
   "metadata": {},
   "source": [
    "1. Comme dans le TP4, chargez les données `zoo.csv` dans un Dataframe puis en extraire deux tableaux NumPy `X` (matrice 100x16) et `y` (vecteur des 100 labels de classe)"
   ]
  },
  {
   "cell_type": "code",
   "execution_count": 35,
   "id": "cc3e2ffc",
   "metadata": {},
   "outputs": [
    {
     "name": "stdout",
     "output_type": "stream",
     "text": [
      "X: (100, 16)\n",
      "y: (100,)\n"
     ]
    }
   ],
   "source": [
    "import pandas as pd\n",
    "import numpy as np\n",
    "\n",
    "df = pd.read_csv('donnees/zoo.csv')\n",
    "\n",
    "X = df.iloc[:, 1:-1].values\n",
    "y = df.iloc[:, -1].values\n",
    "\n",
    "print(\"X:\", X.shape)\n",
    "print(\"y:\", y.shape)\n"
   ]
  },
  {
   "attachments": {},
   "cell_type": "markdown",
   "id": "95f2ce95",
   "metadata": {},
   "source": [
    "2. Procédez au découpage du dataset (`X` et `y`) en deux sous-ensembles de même taille (`X_train`, `X_test`, `y_train`, `y_test`) en utilisant la méthode `train_test_split()` de Scikit-learn (consultez la documentation). Puis vérifiez l'équilibre des classes entre les deux sous-ensembles."
   ]
  },
  {
   "cell_type": "code",
   "execution_count": 36,
   "id": "322e3ca6",
   "metadata": {},
   "outputs": [
    {
     "name": "stdout",
     "output_type": "stream",
     "text": [
      "X_train: (80, 16)\n",
      "X_test: (20, 16)\n",
      "y_train: (80,)\n",
      "y_test: (20,)\n"
     ]
    }
   ],
   "source": [
    "from sklearn.model_selection import train_test_split\n",
    "\n",
    "X_train, X_test, y_train, y_test = train_test_split(X, y, test_size=0.2, random_state=0)\n",
    "\n",
    "print(\"X_train:\", X_train.shape)\n",
    "print(\"X_test:\", X_test.shape)\n",
    "print(\"y_train:\", y_train.shape)\n",
    "print(\"y_test:\", y_test.shape)\n"
   ]
  },
  {
   "attachments": {},
   "cell_type": "markdown",
   "id": "cc10fc65",
   "metadata": {},
   "source": [
    "3. Normalisez les données en utilisant au choix l'une des méthodes suivantes : `MinMaxScaler()` ou `StandardScaler()` (consultez la doc)"
   ]
  },
  {
   "cell_type": "code",
   "execution_count": 37,
   "id": "986c9a01",
   "metadata": {},
   "outputs": [
    {
     "name": "stdout",
     "output_type": "stream",
     "text": [
      "Valeur minimale dans X_train: 0.0\n",
      "Valeur maximale dans X_train: 1.0\n",
      "Valeur minimale dans X_test: -8.337502084375522e-05\n",
      "Valeurmaximale dans X_test: 1.0\n"
     ]
    }
   ],
   "source": [
    "# normalisation min/max z = (x-min)/(max-min)\n",
    "from sklearn.preprocessing import MinMaxScaler\n",
    "\n",
    "scaler = MinMaxScaler()\n",
    "X_train = scaler.fit_transform(X_train)\n",
    "X_test = scaler.transform(X_test)\n",
    "\n",
    "print(\"Valeur minimale dans X_train:\", X_train.min())\n",
    "print(\"Valeur maximale dans X_train:\", X_train.max())\n",
    "print(\"Valeur minimale dans X_test:\", X_test.min())\n",
    "print(\"Valeurmaximale dans X_test:\", X_test.max())"
   ]
  },
  {
   "cell_type": "code",
   "execution_count": 38,
   "id": "908a3769",
   "metadata": {},
   "outputs": [
    {
     "name": "stdout",
     "output_type": "stream",
     "text": [
      "Moyenne de X_train: 2.7755575615628915e-18\n",
      "Ecart type de X_train: 1.0\n",
      "Moyenne de X_test: -0.005602415969814189\n",
      "Ecart type de X_test: 1.004307236979329\n"
     ]
    }
   ],
   "source": [
    "# normalisation centrée réduite z = (x-u)/s avec u la moyenne et s l'écart type\n",
    "from sklearn.preprocessing import StandardScaler\n",
    "\n",
    "scaler = StandardScaler()\n",
    "X_train = scaler.fit_transform(X_train)\n",
    "X_test = scaler.transform(X_test)\n",
    "\n",
    "print(\"Moyenne de X_train:\", X_train.mean())\n",
    "print(\"Ecart type de X_train:\", X_train.std())\n",
    "print(\"Moyenne de X_test:\", X_test.mean())\n",
    "print(\"Ecart type de X_test:\", X_test.std())"
   ]
  },
  {
   "attachments": {},
   "cell_type": "markdown",
   "id": "1dfa9e4a",
   "metadata": {},
   "source": [
    "4. Utilisez la classe `KNeighborsClassifier` de Scikit-learn pour prédire les classes de chaque données de l'ensemble `X_test` par la méthode k-PPV (non-pondérée) avec $k=2$ (consultez la documentation)"
   ]
  },
  {
   "cell_type": "code",
   "execution_count": 39,
   "id": "26a53a10",
   "metadata": {},
   "outputs": [
    {
     "name": "stdout",
     "output_type": "stream",
     "text": [
      "Précision: 1.0\n"
     ]
    }
   ],
   "source": [
    "from sklearn.neighbors import KNeighborsClassifier\n",
    "\n",
    "knn = KNeighborsClassifier(n_neighbors=3)\n",
    "\n",
    "knn.fit(X_train, y_train)\n",
    "\n",
    "y_pred = knn.predict(X_test)\n",
    "\n",
    "print(\"Précision:\", np.mean(y_pred == y_test))"
   ]
  },
  {
   "attachments": {},
   "cell_type": "markdown",
   "id": "b2387478",
   "metadata": {},
   "source": [
    "5. Evaluez ce classifieur en calculant le taux d'erreurs"
   ]
  },
  {
   "cell_type": "code",
   "execution_count": 42,
   "id": "d60f8d39",
   "metadata": {},
   "outputs": [
    {
     "name": "stdout",
     "output_type": "stream",
     "text": [
      "Error rate: 0.0\n"
     ]
    }
   ],
   "source": [
    "from sklearn.metrics import accuracy_score\n",
    "\n",
    "error_rate = 1 - accuracy_score(y_test, y_pred)\n",
    "print(\"Taux d'erreur:\", error_rate)\n"
   ]
  },
  {
   "attachments": {},
   "cell_type": "markdown",
   "id": "d8042941",
   "metadata": {},
   "source": [
    "6. Modifiez les paramètres du classifieur (question 4) pour tester (et évaluer) différentes méthodes de prédication :\n",
    "- différentes valeurs pour $k$\n",
    "- avec ou sans normalisation des données\n",
    "- variante pondérée de k-PPV\n",
    "- etc."
   ]
  },
  {
   "attachments": {},
   "cell_type": "markdown",
   "id": "612be116",
   "metadata": {},
   "source": [
    "---"
   ]
  },
  {
   "attachments": {},
   "cell_type": "markdown",
   "id": "8ce1cc98",
   "metadata": {},
   "source": [
    "### Exercice 2 : pour vous entraîner... et aller plus loin"
   ]
  },
  {
   "attachments": {},
   "cell_type": "markdown",
   "id": "587e0aa5",
   "metadata": {},
   "source": [
    "Vous trouverez deux nouveaux datasets dans le repertoire `donnees` :\n",
    "- le dataset `iris` : contenant les descriptions de fleurs (iris) selon 4 descripteurs numériques. La tâche de prédiction porte sur le type d'Iris (3 catégories).\n",
    "\n",
    "- le dataset `card_transdata` : contenant les descriptions de transactions par cartes bancaires selont 7 descripteurs numériques ou booléens. La tâche de prédiction consiste à détecter les fraudes (2 catégories).\n",
    "\n",
    "Votre travail consiste, pour chacune des deux tâches de prédiction ci-dessus, à proposer un classifieur de type k-PPV le plus efficace possible. "
   ]
  }
 ],
 "metadata": {
  "kernelspec": {
   "display_name": "Python 3",
   "language": "python",
   "name": "python3"
  },
  "language_info": {
   "codemirror_mode": {
    "name": "ipython",
    "version": 3
   },
   "file_extension": ".py",
   "mimetype": "text/x-python",
   "name": "python",
   "nbconvert_exporter": "python",
   "pygments_lexer": "ipython3",
   "version": "3.10.2"
  },
  "vscode": {
   "interpreter": {
    "hash": "aee8b7b246df8f9039afb4144a1f6fd8d2ca17a180786b69acc140d282b71a49"
   }
  }
 },
 "nbformat": 4,
 "nbformat_minor": 5
}
