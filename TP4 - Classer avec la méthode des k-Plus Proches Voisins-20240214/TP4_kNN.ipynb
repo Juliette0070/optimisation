{
 "cells": [
  {
   "attachments": {},
   "cell_type": "markdown",
   "id": "0e89b5c8",
   "metadata": {},
   "source": [
    "# Classer avec la méthode des k-Plus Proches Voisins"
   ]
  },
  {
   "attachments": {},
   "cell_type": "markdown",
   "id": "0ef48153",
   "metadata": {},
   "source": [
    "Dans ce TP nous allons implémenter notre première Intelligence Artificielle à partir de la méthode des k-Plus Proches Voisins étudiée en TD. Nous allons implémenter, tester, évaluer et étudier cette méthode de classification sur un jeu de données réelles."
   ]
  },
  {
   "attachments": {},
   "cell_type": "markdown",
   "id": "654024ae",
   "metadata": {},
   "source": [
    "## A. Charger, explorer puis préparer le tableau de données"
   ]
  },
  {
   "attachments": {},
   "cell_type": "markdown",
   "id": "10531ce6",
   "metadata": {},
   "source": [
    "Commencez par importer dans un Dataframe `zoo` les données du fichier `zoo.csv`."
   ]
  },
  {
   "cell_type": "code",
   "execution_count": null,
   "id": "ff2955e4",
   "metadata": {},
   "outputs": [],
   "source": []
  },
  {
   "attachments": {},
   "cell_type": "markdown",
   "id": "da85323a",
   "metadata": {},
   "source": [
    "Explorez le dataset `zoo`: Combien d'individus? Combien de descripteurs? Quelle est la nature (type) des descripteurs? Y-a-t'il des valeurs manquantes?"
   ]
  },
  {
   "cell_type": "code",
   "execution_count": null,
   "id": "2063c96e",
   "metadata": {},
   "outputs": [],
   "source": []
  },
  {
   "attachments": {},
   "cell_type": "markdown",
   "id": "1106c329",
   "metadata": {},
   "source": [
    "Dans ce dataset, la dernière colonne `type` correspond à la catégorie de l'animal :\n",
    "|  Type  |    Catégorie    |\n",
    "| :---------:|---------|\n",
    "| 1 |Mammifères|\n",
    "| 2 |Oiseaux|\n",
    "| 3 |Reptiles|\n",
    "| 4 |Poissons|\n",
    "| 5 |Amphibiens|\n",
    "| 6 |Insectes|\n",
    "| 7 |Invertébrés|\n",
    "\n",
    "Notre IA devra prédire la catégorie d'un animal à partir de sa description (sans le `Name`). Il s'agit donc d'une tâche de prédiction à **7 classes**."
   ]
  },
  {
   "attachments": {},
   "cell_type": "markdown",
   "id": "bf7f141e",
   "metadata": {},
   "source": [
    "Observez la distribution des individus selon la variable de classe (`type`) et constatez le déséquilibre des classes. Cela aura-t'il une incidence sur la méthode de k-PPV?"
   ]
  },
  {
   "cell_type": "code",
   "execution_count": null,
   "id": "7f9a0e44",
   "metadata": {},
   "outputs": [],
   "source": [
    "import matplotlib.pyplot as plt\n",
    "labels, sizes = np.unique(zoo['type'], return_counts=True)\n",
    "plt.pie(sizes, labels=labels)\n",
    "plt.show()"
   ]
  },
  {
   "attachments": {},
   "cell_type": "markdown",
   "id": "3e79c8e8",
   "metadata": {},
   "source": [
    "A partir du dataframe `zoo`, vous allez construire deux tableaux Numpy :\n",
    "- `X` est la matrice (100x16) des descriptions des individus\n",
    "- `y` est le vecteur contenant les (100) catégories d'animaux "
   ]
  },
  {
   "cell_type": "code",
   "execution_count": null,
   "id": "7155e66a",
   "metadata": {},
   "outputs": [],
   "source": []
  },
  {
   "attachments": {},
   "cell_type": "markdown",
   "id": "c8169074",
   "metadata": {},
   "source": [
    "Nous allons à présent découper `X` et `y` en deux sous-ensembles :\n",
    "- `X_train` : qui contient des individus que la méthode k-PPV utilisera pour prédire\n",
    "- `X_test`  : qui contient des individus que nous utiliserons pour évaluer notre IA (et ainsi ajuster le paramètre k)\n",
    "- `y_train` : qui contient les labels des individus de `X_train`\n",
    "- `y_test`  : qui contient les labels des individus de `X_test`\n",
    "\n",
    "Ecrire une fonction (générique) `train_test_split(X, y, train_ratio)` qui réalise un tel découpage :"
   ]
  },
  {
   "cell_type": "code",
   "execution_count": null,
   "id": "0187d83a",
   "metadata": {},
   "outputs": [],
   "source": [
    "def train_test_split(X, y, train_ratio):\n",
    "    \"\"\"découpe un dataset X en deux ensembles d'entraînement (train) et de test ainsi que les labels associés\n",
    "\n",
    "    Args:\n",
    "        X (matrice Numpy): le dataset à découper\n",
    "        y (vecteur Numpy): le vecteur des labels à découper\n",
    "        train_ratio (float): entre 0.0 et 1.0 = proportion du dataset à inclure dans l'ensemble d'entraînement (train)\n",
    "\n",
    "    Returns:\n",
    "        X_train (matrice Numpy): le sous-ensemble d'entraînement\n",
    "        X_test (matrice Numpy):  le sous-ensemble de test\n",
    "        y_train (vecteur Numpy): les labels données d'entraînement\n",
    "        y_test (vecteur Numpy):  les labels données de test\n",
    "\n",
    "    \"\"\"\n",
    "    ..."
   ]
  },
  {
   "attachments": {},
   "cell_type": "markdown",
   "id": "834cfd92",
   "metadata": {},
   "source": [
    "Utilisez votre fonction pour découper notre dataset `X` en deux sous-ensembles de mêmes tailles.\n",
    "\n",
    "Vérifiez que les déséquilibres des classes sont globalement respectés (relancez le découpage si certaines classes sont absentes dans l'un des deux sous-ensembles)."
   ]
  },
  {
   "cell_type": "code",
   "execution_count": null,
   "id": "3d42b684",
   "metadata": {},
   "outputs": [],
   "source": []
  },
  {
   "attachments": {},
   "cell_type": "markdown",
   "id": "71997f89",
   "metadata": {},
   "source": [
    "---"
   ]
  },
  {
   "attachments": {},
   "cell_type": "markdown",
   "id": "9e305b1d",
   "metadata": {},
   "source": [
    "## B. Implémenter et évaluer la méthode k-PPV (non-pondérée)"
   ]
  },
  {
   "attachments": {},
   "cell_type": "markdown",
   "id": "66c18c2e",
   "metadata": {},
   "source": [
    "Définissez une fonction `predict_kNN(k, X, y, x_new)` qui prédit la classe d'une description `x_new` par la méthodes k-PPV non-pondérée utilisée sur les données `X` de ayant pour labels `y` avec la distance Euclidienne."
   ]
  },
  {
   "cell_type": "code",
   "execution_count": null,
   "id": "fcf443e8",
   "metadata": {},
   "outputs": [],
   "source": [
    "def predict_kNN(k, X, y, x_new):\n",
    "    \"\"\"implémente le classifieur du k-Plus Proches Voisins \n",
    "\n",
    "    Args:\n",
    "        k (int): nombre de voisins à utiliser pour prédire\n",
    "        X (matrice Numpy): le dataset des données d'entraînement\n",
    "        y (vecteur Numpy): le vecteur des labels des données d'entraînement\n",
    "        x_new (vecteur Numpy) : le vecteur de description d'une nouvelle donnée à classer\n",
    "\n",
    "    Returns:\n",
    "        y_new (label):  le label prédit\n",
    "\n",
    "    \"\"\"\n",
    "    ..."
   ]
  },
  {
   "attachments": {},
   "cell_type": "markdown",
   "id": "457fb490",
   "metadata": {},
   "source": [
    "Utilisez la fonction `predict_kNN` pour prédire la classe de l'individu situé à l'indice 23 dans `X_test` à partir des données d'entraînement (`X_train`, `y_train`). Affichez la classe prédite selon différentes valeurs de `k` et comparez avec la vraie classe de l'individu (`y_test[23]`). "
   ]
  },
  {
   "cell_type": "code",
   "execution_count": null,
   "id": "92876e7c",
   "metadata": {},
   "outputs": [],
   "source": []
  },
  {
   "attachments": {},
   "cell_type": "markdown",
   "id": "2e3838f7",
   "metadata": {},
   "source": [
    "Définissez une fonction `error_kNN(k, X_train, y_train, X_test, y_test)` qui renvoie le taux d'erreur de prédiction de la méthode k-PPV sur des données de test. "
   ]
  },
  {
   "cell_type": "code",
   "execution_count": null,
   "id": "708c13e3",
   "metadata": {},
   "outputs": [],
   "source": [
    "def error_kNN(k, X_train, y_train, X_test, y_test,):\n",
    "    \"\"\"calcule le taux d'erreur de prédiction par k-PPV sur les données de test \n",
    "\n",
    "    Args:\n",
    "        k (int): nombre de voisins à utiliser pour prédire\n",
    "        X_train (matrice Numpy): le dataset des données d'entraînement\n",
    "        y_train (vecteur Numpy): le vecteur des labels des données d'entraînement\n",
    "        X_test (vecteur Numpy) : le dataset des données de test\n",
    "        y_test (vecteur Numpy): le vecteur des labels des données de test\n",
    "\n",
    "\n",
    "    Returns:\n",
    "        error_rate (float):  le taux d'erreur de prédiciton (Nb. mauvaises prédictions / Nb. prédictions)\n",
    "\n",
    "    \"\"\"\n",
    "    ..."
   ]
  },
  {
   "attachments": {},
   "cell_type": "markdown",
   "id": "681e0848",
   "metadata": {},
   "source": [
    "Tracez la courbe du taux d'erreur en fonction du paramètre `k`. Quelle valeur choisirez-vous pour `k`? Est-ce que votre classifieur vous semble performant?"
   ]
  },
  {
   "cell_type": "code",
   "execution_count": null,
   "id": "4fcc8116",
   "metadata": {},
   "outputs": [],
   "source": []
  },
  {
   "attachments": {},
   "cell_type": "markdown",
   "id": "02e15347",
   "metadata": {},
   "source": [
    "Avant de conclure (trop vite!)... quel serait le taux d'erreur d'un classifieur k-PPV qui fonderait ses prédictions sur la taille des animaux uniquement (descripteur `size`)?"
   ]
  },
  {
   "cell_type": "code",
   "execution_count": null,
   "id": "cafdfe3d",
   "metadata": {},
   "outputs": [],
   "source": []
  },
  {
   "attachments": {},
   "cell_type": "markdown",
   "id": "ecbafa59",
   "metadata": {},
   "source": [
    "## C. Normaliser les données"
   ]
  },
  {
   "attachments": {},
   "cell_type": "markdown",
   "id": "a9d9d581",
   "metadata": {},
   "source": [
    "Vous avez constaté que tous les descriteurs n'ont pas la même influence dans le calcul des distances entre individus, du fait de l'amplitude des valeurs associée à chaque descripteurs.\n",
    "\n",
    "Pour faire en sorte que chaque descripteur ait la même influence dans le traitement du tableau de données, on procède à une **normalisation** des données. \n",
    "\n",
    "> Normaliser un ensemble $Z$ consiste à ramener toutes ses valeurs dans l'intervalle $[0,1]$ par l'opération : $$\\tilde{z}_{i}=\\frac{z_{i}-min_Z}{max_Z-min_Z}$$\n",
    ">"
   ]
  },
  {
   "attachments": {},
   "cell_type": "markdown",
   "id": "dc43420a",
   "metadata": {},
   "source": [
    "Complétez la classe `Normalizer` ci-dessous qui définit un **outil** de normalisation d'un jeu de données. La normalisation d'un jeu de données procédera en deux temps :\n",
    "- calcul des paramètres de la fonction de normalisation sur des données (méthode `.fit()`)\n",
    "- application de la fonction de normalisation sur des données (méthode `.transform()`)"
   ]
  },
  {
   "cell_type": "code",
   "execution_count": null,
   "id": "04d0a423",
   "metadata": {},
   "outputs": [],
   "source": [
    "class Normalizer:\n",
    "    \n",
    "    min = None\n",
    "    max = None\n",
    "    \n",
    "    def fit(self, X):\n",
    "        \"\"\"calcule les min et max de chaque colonne de X\"\"\"\n",
    "        ...\n",
    "    \n",
    "    def transform(self, X):\n",
    "        \"\"\"renvoie X normalisé\"\"\"\n",
    "        ...\n",
    "        "
   ]
  },
  {
   "attachments": {},
   "cell_type": "markdown",
   "id": "94e0bceb",
   "metadata": {},
   "source": [
    "Appliquez la normalisation sur l'ensemble des individus (100 descriptions) puis comparez l'erreur faite par la méthode des k-PPV avant et après normalisation. Concluez sur l'utilité de cette étape de normalisation."
   ]
  },
  {
   "cell_type": "code",
   "execution_count": null,
   "id": "65bcbbcc",
   "metadata": {},
   "outputs": [],
   "source": []
  },
  {
   "attachments": {},
   "cell_type": "markdown",
   "id": "44f2c3b9",
   "metadata": {},
   "source": [
    "## D. Implémenter et évaluer la méthode k-PPV pondérée"
   ]
  },
  {
   "attachments": {},
   "cell_type": "markdown",
   "id": "e102f2b6",
   "metadata": {},
   "source": [
    "Implémentez la variante pondérée de la méthode k-PPV dans une version généralisée de la fonction `predict_kNN(k, X, y, x_new, weights)`"
   ]
  },
  {
   "cell_type": "code",
   "execution_count": null,
   "id": "9dd119bd",
   "metadata": {},
   "outputs": [],
   "source": [
    "def predict_kNN(k, X, y, x_new, weights='uniform'):\n",
    "    \"\"\"implémente le classifieur du k-Plus Proches Voisins \n",
    "\n",
    "    Args:\n",
    "        k (int): nombre de voisins à utiliser pour prédire\n",
    "        X (matrice Numpy): le dataset des données d'entraînement\n",
    "        y (vecteur Numpy): le vecteur des labels des données d'entraînement\n",
    "        x_new (vecteur Numpy) : le vecteur de description d'une nouvelle donnée à classer\n",
    "        weights ('uniform', 'distance') : méthode de pondération utilisée pour la prédiction\n",
    "\n",
    "    Returns:\n",
    "        y_new (label):  le label prédit\n",
    "\n",
    "    \"\"\"\n",
    "    ..."
   ]
  },
  {
   "attachments": {},
   "cell_type": "markdown",
   "id": "e2d64239",
   "metadata": {},
   "source": [
    "Généralisez également la fonction d'évaluation `error_kNN(k, X_train, y_train, X_test, y_test, weights)` avec l'argument supplémentaire `weights`"
   ]
  },
  {
   "cell_type": "code",
   "execution_count": null,
   "id": "092161c6",
   "metadata": {},
   "outputs": [],
   "source": [
    "def error_kNN(k, X_train, y_train, X_test, y_test, weights='uniform'):\n",
    "    \"\"\"calcule le taux d'erreur de prédiction par k-PPV sur les données de test \n",
    "\n",
    "    Args:\n",
    "        k (int): nombre de voisins à utiliser pour prédire\n",
    "        X_train (matrice Numpy): le dataset des données d'entraînement\n",
    "        y_train (vecteur Numpy): le vecteur des labels des données d'entraînement\n",
    "        X_test (vecteur Numpy) : le dataset des données de test\n",
    "        y_test (vecteur Numpy): le vecteur des labels des données de test\n",
    "        weights ('uniform', 'distance') : méthode de pondération utilisée dans k-PPV\n",
    "\n",
    "\n",
    "    Returns:\n",
    "        error_rate (float):  le taux d'erreur de prédiciton (Nb. mauvaises prédictions / Nb. prédictions)\n",
    "\n",
    "    \"\"\"\n",
    "    ..."
   ]
  },
  {
   "attachments": {},
   "cell_type": "markdown",
   "id": "8d030161",
   "metadata": {},
   "source": [
    "Enfin, comparez l'erreur faite par chacune des deux versions de la méthode k-PPV (pondérée ou non)."
   ]
  },
  {
   "cell_type": "code",
   "execution_count": null,
   "id": "ea833347",
   "metadata": {},
   "outputs": [],
   "source": []
  }
 ],
 "metadata": {
  "kernelspec": {
   "display_name": "Python 3",
   "language": "python",
   "name": "python3"
  },
  "language_info": {
   "codemirror_mode": {
    "name": "ipython",
    "version": 3
   },
   "file_extension": ".py",
   "mimetype": "text/x-python",
   "name": "python",
   "nbconvert_exporter": "python",
   "pygments_lexer": "ipython3",
   "version": "3.9.13"
  },
  "vscode": {
   "interpreter": {
    "hash": "aee8b7b246df8f9039afb4144a1f6fd8d2ca17a180786b69acc140d282b71a49"
   }
  }
 },
 "nbformat": 4,
 "nbformat_minor": 5
}
